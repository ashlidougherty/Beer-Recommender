{
 "cells": [
  {
   "cell_type": "markdown",
   "id": "9a3368c0",
   "metadata": {},
   "source": [
    "![header](./images/beertaps.png)"
   ]
  },
  {
   "cell_type": "markdown",
   "id": "3ad19e95",
   "metadata": {},
   "source": [
    "# Beer-Recommendation System: Content Based Recommendations\n",
    "Author: Ashli Dougherty "
   ]
  },
  {
   "cell_type": "markdown",
   "id": "9722d6ea",
   "metadata": {},
   "source": [
    "# Overview"
   ]
  },
  {
   "cell_type": "markdown",
   "id": "7d4309a6",
   "metadata": {},
   "source": [
    "This project's goal is to build a recommendation system for the beer enthusiast. I am interested in creating both a content based and collaborative filtering recommendation system. \n",
    "- A content based system will make recommendations based on a beer's features. The content based system will allow any user to enter a beer/characteristic and in return they will be given the names of other beers they will (hopefully) enjoy drinking.  \n",
    "- The collaborative system will recommend items based on the ratings of other users. This system will compare beer drinker/reviewer profiles and then recommend items based on the similarity between these users. \n"
   ]
  },
  {
   "cell_type": "markdown",
   "id": "5769a6a5",
   "metadata": {},
   "source": [
    "# Business Understanding"
   ]
  },
  {
   "cell_type": "markdown",
   "id": "b15e79ca",
   "metadata": {},
   "source": [
    "As of December 2021, there are more than [9,000 breweries](https://vinepair.com/booze-news/us-record-number-breweries-2021/#:~:text=Even%20after%20the%20setbacks%20of,beer%20producers%20in%20the%20U.S.)in the US alone. Even though some taprooms were forced to shut their doors during the pandemic, the craft beer business is still going strong. The [Brewer’s Association](https://www.brewersassociation.org/statistics-and-data/national-beer-stats/) is expecting an increase in craft brewery volume share in the post-pandemic industry market, and reported that craft beer retail sales were over $26 billion dollars in 2021.    \n",
    "  \n",
    "Currently, there are mobile apps (like [Untapped](https://untappd.com/)) and websites (like [Beer Advocate](https://www.beeradvocate.com/)) that allow you to personally track and rate the beer you try, but consumers should know they can enjoy their next sip (or pint) with confidence. There are so many options on the market that choosing which beverage to buy next, what brewery to visit in person, or which booth to stand in line for at a festival can seem overwhelming. My goal is to provide a system for beer enthusiasts to try new beers that they are guaranteed to love. Cheers!"
   ]
  },
  {
   "cell_type": "markdown",
   "id": "0d3ad739",
   "metadata": {},
   "source": [
    "# Collaborative Filtering"
   ]
  },
  {
   "cell_type": "markdown",
   "id": "1db20242",
   "metadata": {},
   "source": [
    "display undertanding and overall approach"
   ]
  },
  {
   "cell_type": "markdown",
   "id": "24b2ccf6",
   "metadata": {},
   "source": [
    "# Imports & Functions"
   ]
  },
  {
   "cell_type": "markdown",
   "id": "312bfc42",
   "metadata": {},
   "source": [
    "Standard imports, **EXPLAIN SURPRISE**\n",
    "[Documentation here.](https://surprise.readthedocs.io/en/stable/index.html)"
   ]
  },
  {
   "cell_type": "code",
   "execution_count": 27,
   "id": "d97a7db3",
   "metadata": {},
   "outputs": [],
   "source": [
    "import pandas as pd\n",
    "import numpy as np\n",
    "import matplotlib.pyplot as plt\n",
    "%matplotlib inline\n",
    "import seaborn as sns\n",
    "\n",
    "import warnings\n",
    "warnings.filterwarnings(\"ignore\")\n",
    "\n",
    "from surprise import Dataset, Reader, accuracy\n",
    "from surprise.model_selection import cross_validate, train_test_split, GridSearchCV\n",
    "from surprise.prediction_algorithms import BaselineOnly, NormalPredictor"
   ]
  },
  {
   "cell_type": "code",
   "execution_count": 28,
   "id": "59be8e0a",
   "metadata": {},
   "outputs": [],
   "source": [
    "from surprise.prediction_algorithms import KNNBaseline, KNNBasic, KNNWithMeans, KNNWithZScore"
   ]
  },
  {
   "cell_type": "code",
   "execution_count": 29,
   "id": "63ac8ea8",
   "metadata": {},
   "outputs": [],
   "source": [
    "from surprise.prediction_algorithms import SVD, SVDpp, NMF"
   ]
  },
  {
   "cell_type": "markdown",
   "id": "4890f2e1",
   "metadata": {},
   "source": [
    "# Load Data\n",
    "Loading 'Reviews' CSV created from the [DataPrep Notebook](./DataPrep.ipynb). For use within the recommendation model the only columns that will be kept are **'review_overall', 'beer_id', and 'user_id'.**"
   ]
  },
  {
   "cell_type": "code",
   "execution_count": 30,
   "id": "9b76f36f",
   "metadata": {},
   "outputs": [
    {
     "data": {
      "text/html": [
       "<div>\n",
       "<style scoped>\n",
       "    .dataframe tbody tr th:only-of-type {\n",
       "        vertical-align: middle;\n",
       "    }\n",
       "\n",
       "    .dataframe tbody tr th {\n",
       "        vertical-align: top;\n",
       "    }\n",
       "\n",
       "    .dataframe thead th {\n",
       "        text-align: right;\n",
       "    }\n",
       "</style>\n",
       "<table border=\"1\" class=\"dataframe\">\n",
       "  <thead>\n",
       "    <tr style=\"text-align: right;\">\n",
       "      <th></th>\n",
       "      <th>brewery_id</th>\n",
       "      <th>brewery_name</th>\n",
       "      <th>review_overall</th>\n",
       "      <th>beer_style</th>\n",
       "      <th>beer_name</th>\n",
       "      <th>beer_abv</th>\n",
       "      <th>beer_id</th>\n",
       "      <th>user_id</th>\n",
       "    </tr>\n",
       "  </thead>\n",
       "  <tbody>\n",
       "    <tr>\n",
       "      <th>0</th>\n",
       "      <td>10325</td>\n",
       "      <td>Vecchio Birraio</td>\n",
       "      <td>1.5</td>\n",
       "      <td>Wheat Beer</td>\n",
       "      <td>Sausa Weizen</td>\n",
       "      <td>5.0</td>\n",
       "      <td>47986</td>\n",
       "      <td>13329</td>\n",
       "    </tr>\n",
       "    <tr>\n",
       "      <th>1</th>\n",
       "      <td>10325</td>\n",
       "      <td>Vecchio Birraio</td>\n",
       "      <td>3.0</td>\n",
       "      <td>Strong Ale</td>\n",
       "      <td>Red Moon</td>\n",
       "      <td>6.2</td>\n",
       "      <td>48213</td>\n",
       "      <td>13329</td>\n",
       "    </tr>\n",
       "    <tr>\n",
       "      <th>2</th>\n",
       "      <td>10325</td>\n",
       "      <td>Vecchio Birraio</td>\n",
       "      <td>3.0</td>\n",
       "      <td>Stout</td>\n",
       "      <td>Black Horse Black Beer</td>\n",
       "      <td>6.5</td>\n",
       "      <td>48215</td>\n",
       "      <td>13329</td>\n",
       "    </tr>\n",
       "    <tr>\n",
       "      <th>3</th>\n",
       "      <td>10325</td>\n",
       "      <td>Vecchio Birraio</td>\n",
       "      <td>3.0</td>\n",
       "      <td>Pale Lager</td>\n",
       "      <td>Sausa Pils</td>\n",
       "      <td>5.0</td>\n",
       "      <td>47969</td>\n",
       "      <td>13329</td>\n",
       "    </tr>\n",
       "    <tr>\n",
       "      <th>4</th>\n",
       "      <td>1075</td>\n",
       "      <td>Caldera Brewing Company</td>\n",
       "      <td>4.0</td>\n",
       "      <td>India Pale Ale</td>\n",
       "      <td>Cauldron DIPA</td>\n",
       "      <td>7.7</td>\n",
       "      <td>64883</td>\n",
       "      <td>10108</td>\n",
       "    </tr>\n",
       "  </tbody>\n",
       "</table>\n",
       "</div>"
      ],
      "text/plain": [
       "   brewery_id             brewery_name  review_overall      beer_style  \\\n",
       "0       10325          Vecchio Birraio             1.5      Wheat Beer   \n",
       "1       10325          Vecchio Birraio             3.0      Strong Ale   \n",
       "2       10325          Vecchio Birraio             3.0           Stout   \n",
       "3       10325          Vecchio Birraio             3.0      Pale Lager   \n",
       "4        1075  Caldera Brewing Company             4.0  India Pale Ale   \n",
       "\n",
       "                beer_name  beer_abv  beer_id  user_id  \n",
       "0            Sausa Weizen       5.0    47986    13329  \n",
       "1                Red Moon       6.2    48213    13329  \n",
       "2  Black Horse Black Beer       6.5    48215    13329  \n",
       "3              Sausa Pils       5.0    47969    13329  \n",
       "4           Cauldron DIPA       7.7    64883    10108  "
      ]
     },
     "execution_count": 30,
     "metadata": {},
     "output_type": "execute_result"
    }
   ],
   "source": [
    "df = pd.read_csv('../BeerData/reviews_cleaned.csv')\n",
    "df.drop(columns='Unnamed: 0', inplace=True)\n",
    "df.head()"
   ]
  },
  {
   "cell_type": "code",
   "execution_count": 31,
   "id": "f46fd27f",
   "metadata": {},
   "outputs": [
    {
     "data": {
      "text/plain": [
       "(1475492, 8)"
      ]
     },
     "execution_count": 31,
     "metadata": {},
     "output_type": "execute_result"
    }
   ],
   "source": [
    "#checking shape\n",
    "df.shape"
   ]
  },
  {
   "cell_type": "code",
   "execution_count": 32,
   "id": "e557ca26",
   "metadata": {},
   "outputs": [
    {
     "name": "stdout",
     "output_type": "stream",
     "text": [
      "<class 'pandas.core.frame.DataFrame'>\n",
      "RangeIndex: 1475492 entries, 0 to 1475491\n",
      "Data columns (total 8 columns):\n",
      " #   Column          Non-Null Count    Dtype  \n",
      "---  ------          --------------    -----  \n",
      " 0   brewery_id      1475492 non-null  int64  \n",
      " 1   brewery_name    1475492 non-null  object \n",
      " 2   review_overall  1475492 non-null  float64\n",
      " 3   beer_style      1475492 non-null  object \n",
      " 4   beer_name       1475492 non-null  object \n",
      " 5   beer_abv        1475492 non-null  float64\n",
      " 6   beer_id         1475492 non-null  int64  \n",
      " 7   user_id         1475492 non-null  int64  \n",
      "dtypes: float64(2), int64(3), object(3)\n",
      "memory usage: 90.1+ MB\n"
     ]
    }
   ],
   "source": [
    "#checking info\n",
    "df.info()"
   ]
  },
  {
   "cell_type": "markdown",
   "id": "691b760b",
   "metadata": {},
   "source": [
    "# Train Test Split\n",
    "need to use tts from surprise, have to read in df and use specific columns in specific order, set the ratings on a sclae from 1-5"
   ]
  },
  {
   "cell_type": "code",
   "execution_count": 33,
   "id": "f30f1e7e",
   "metadata": {},
   "outputs": [],
   "source": [
    "# instantiate a 'Reader' to read in the data so Surprise can use it\n",
    "# rating_scale will be bounded by 1 and 5\n",
    "reader = Reader(rating_scale=(1,5))"
   ]
  },
  {
   "cell_type": "code",
   "execution_count": 34,
   "id": "b4ddd498",
   "metadata": {},
   "outputs": [],
   "source": [
    "#loading relevant columns from dataframe\n",
    "data = Dataset.load_from_df(df[['user_id', 'beer_id', 'review_overall']], reader)"
   ]
  },
  {
   "cell_type": "code",
   "execution_count": 35,
   "id": "d31b192e",
   "metadata": {},
   "outputs": [],
   "source": [
    "# use surprise train test split \n",
    "trainset, testset = train_test_split(data, test_size=0.2, random_state=42)"
   ]
  },
  {
   "cell_type": "code",
   "execution_count": 36,
   "id": "0af74502",
   "metadata": {},
   "outputs": [
    {
     "name": "stdout",
     "output_type": "stream",
     "text": [
      "Number of users:  14548 \n",
      "\n",
      "Number of items:  45408\n"
     ]
    }
   ],
   "source": [
    "# examining number of users and items in train set\n",
    "print('Number of users: ', trainset.n_users, '\\n')\n",
    "print('Number of items: ', trainset.n_items)"
   ]
  },
  {
   "cell_type": "markdown",
   "id": "d0044b23",
   "metadata": {},
   "source": [
    "# Baseline Models\n"
   ]
  },
  {
   "cell_type": "markdown",
   "id": "49596f79",
   "metadata": {},
   "source": [
    "### Baseline Only"
   ]
  },
  {
   "cell_type": "code",
   "execution_count": 37,
   "id": "f960d2c2",
   "metadata": {},
   "outputs": [
    {
     "name": "stdout",
     "output_type": "stream",
     "text": [
      "Estimating biases using als...\n",
      "RMSE: 0.5962\n"
     ]
    }
   ],
   "source": [
    "#intantiate model \n",
    "baseline = BaselineOnly()\n",
    "\n",
    "#fit and get predictions \n",
    "predictions = baseline.fit(trainset).test(testset)\n",
    "\n",
    "#score baseline model\n",
    "baseline_score = accuracy.rmse(predictions)"
   ]
  },
  {
   "cell_type": "markdown",
   "id": "62059146",
   "metadata": {},
   "source": [
    "### Normal Predictor"
   ]
  },
  {
   "cell_type": "code",
   "execution_count": 38,
   "id": "4b678688",
   "metadata": {},
   "outputs": [
    {
     "name": "stdout",
     "output_type": "stream",
     "text": [
      "RMSE: 0.9840\n"
     ]
    }
   ],
   "source": [
    "#intantiate model \n",
    "normal = NormalPredictor()\n",
    "\n",
    "#fit and get predictions \n",
    "predictions2 = normal.fit(trainset).test(testset)\n",
    "\n",
    "#score baseline model\n",
    "normal_score = accuracy.rmse(predictions2)"
   ]
  },
  {
   "cell_type": "markdown",
   "id": "97403a92",
   "metadata": {},
   "source": [
    "> **Baseline evaluation**: BaselineOnly model was able to predict the score of the beer within approximately 0.6 points. This was ~0.4 better than the NormalPredictor model."
   ]
  },
  {
   "cell_type": "markdown",
   "id": "bb67aeb2",
   "metadata": {},
   "source": [
    "# Determining the Best Model\n",
    "**explain why i used these** Will be looking at the maxtrix factorizaton based models within surprise's library. I decided to use these algorithms as it was the type that was used for the famous \"Netflix Challenge\" that increased the accuracy of the company's recommendation sytstem by 10%. \n",
    "\n",
    "SVD based models include SVD, SVD++, and NMF. Each model will be run with default parameters and cross validated. After this a grid search will be ran to determine best hyperparamters and RMSE will be compared. \n",
    "Documentation for Surprise SVD algorithms can be found [here](https://surprise.readthedocs.io/en/stable/matrix_factorization.html#surprise.prediction_algorithms.matrix_factorization.SVD). \n",
    "\n",
    "Documentation was used to determine which parameters to use during grid searches. Gridsearches are set up the same as when using sklearn. A dictionary of parameters to tune are created and passed to GridSearchCV where best parameters and scores can be determined and evaluated."
   ]
  },
  {
   "cell_type": "markdown",
   "id": "b8b0aaa1",
   "metadata": {},
   "source": [
    "## SVD & Gridsearching"
   ]
  },
  {
   "cell_type": "code",
   "execution_count": 55,
   "id": "db92ddf4",
   "metadata": {},
   "outputs": [
    {
     "name": "stdout",
     "output_type": "stream",
     "text": [
      "Evaluating RMSE of algorithm SVD on 3 split(s).\n",
      "\n",
      "                  Fold 1  Fold 2  Fold 3  Mean    Std     \n",
      "RMSE (testset)    0.5990  0.6005  0.5999  0.5998  0.0006  \n",
      "Fit time          5.65    5.73    5.71    5.70    0.04    \n",
      "Test time         2.68    2.70    2.45    2.61    0.11    \n"
     ]
    }
   ],
   "source": [
    "#instantiate & cross validate\n",
    "svd = SVD(random_state=42)\n",
    "cv_results = cross_validate(svd, data, measures=['rmse'], cv=3, n_jobs=-1, verbose=True)"
   ]
  },
  {
   "cell_type": "code",
   "execution_count": 56,
   "id": "9571b8c8",
   "metadata": {
    "scrolled": true
   },
   "outputs": [
    {
     "name": "stdout",
     "output_type": "stream",
     "text": [
      "RMSE: 0.5966\n"
     ]
    }
   ],
   "source": [
    "# fit to train set and get predictions with test set\n",
    "predictions_svd = svd.fit(trainset).test(testset)\n",
    "\n",
    "# score svd model\n",
    "svd_results = accuracy.rmse(predictions_svd)"
   ]
  },
  {
   "cell_type": "markdown",
   "id": "f33c1b22",
   "metadata": {},
   "source": [
    "> RMSE for untuned SVD is slightly worse than baseline model. "
   ]
  },
  {
   "cell_type": "code",
   "execution_count": 45,
   "id": "8fbda38a",
   "metadata": {},
   "outputs": [],
   "source": [
    "# creating svd gridsearch parameters\n",
    "svd_params = {\n",
    "    'n_factors': [25, 50, 100],\n",
    "    'n_epochs': [10, 20, 40],\n",
    "    'lr_all': [.005, .05],\n",
    "    'reg_all':  [.02, .05], \n",
    "    'biased': [True, False]\n",
    "}"
   ]
  },
  {
   "cell_type": "markdown",
   "id": "81b34187",
   "metadata": {},
   "source": [
    "Parameters being tested in first grid search and their defaults: \n",
    "> n_factors: the number of factors, default is 100\n",
    ">\n",
    "> n_epochs: the number of iterations, default is 20\n",
    ">\n",
    "> lr_all: the learning rate for all parameters, default is 0.005\n",
    ">\n",
    "> reg_all: the regularization rate for all parameters, default is 0.02\n",
    ">\n",
    "> biased: whether to baselines(bias), default is True"
   ]
  },
  {
   "cell_type": "code",
   "execution_count": 46,
   "id": "a4d3505b",
   "metadata": {},
   "outputs": [
    {
     "name": "stderr",
     "output_type": "stream",
     "text": [
      "[Parallel(n_jobs=-1)]: Using backend LokyBackend with 8 concurrent workers.\n",
      "[Parallel(n_jobs=-1)]: Done   2 tasks      | elapsed:   15.9s\n",
      "[Parallel(n_jobs=-1)]: Done   9 tasks      | elapsed:   41.3s\n",
      "[Parallel(n_jobs=-1)]: Done  16 tasks      | elapsed:  1.3min\n",
      "[Parallel(n_jobs=-1)]: Done  25 tasks      | elapsed:  2.1min\n",
      "[Parallel(n_jobs=-1)]: Done  34 tasks      | elapsed:  3.0min\n",
      "[Parallel(n_jobs=-1)]: Done  45 tasks      | elapsed:  4.0min\n",
      "[Parallel(n_jobs=-1)]: Done  56 tasks      | elapsed:  5.4min\n",
      "[Parallel(n_jobs=-1)]: Done  69 tasks      | elapsed:  7.5min\n",
      "[Parallel(n_jobs=-1)]: Done  82 tasks      | elapsed:  8.6min\n",
      "[Parallel(n_jobs=-1)]: Done  97 tasks      | elapsed:  9.9min\n",
      "[Parallel(n_jobs=-1)]: Done 112 tasks      | elapsed: 11.9min\n",
      "[Parallel(n_jobs=-1)]: Done 129 tasks      | elapsed: 14.0min\n",
      "[Parallel(n_jobs=-1)]: Done 146 tasks      | elapsed: 16.8min\n",
      "[Parallel(n_jobs=-1)]: Done 165 tasks      | elapsed: 19.5min\n",
      "[Parallel(n_jobs=-1)]: Done 184 tasks      | elapsed: 22.3min\n",
      "[Parallel(n_jobs=-1)]: Done 216 out of 216 | elapsed: 26.9min finished\n"
     ]
    }
   ],
   "source": [
    "# instantiate and fit grid search on data\n",
    "svd_gs = GridSearchCV(SVD, param_grid=svd_params, \n",
    "                      cv=3, joblib_verbose=10, n_jobs=-1)\n",
    "svd_gs.fit(data)"
   ]
  },
  {
   "cell_type": "code",
   "execution_count": 48,
   "id": "8a293c99",
   "metadata": {},
   "outputs": [
    {
     "data": {
      "text/plain": [
       "{'n_factors': 100,\n",
       " 'n_epochs': 40,\n",
       " 'lr_all': 0.005,\n",
       " 'reg_all': 0.05,\n",
       " 'biased': True}"
      ]
     },
     "execution_count": 48,
     "metadata": {},
     "output_type": "execute_result"
    }
   ],
   "source": [
    "svd_gs.best_params['rmse']"
   ]
  },
  {
   "cell_type": "code",
   "execution_count": 53,
   "id": "34b5a865",
   "metadata": {},
   "outputs": [
    {
     "data": {
      "text/plain": [
       "0.5928585014360079"
      ]
     },
     "execution_count": 53,
     "metadata": {},
     "output_type": "execute_result"
    }
   ],
   "source": [
    "svd_gs.best_score['rmse']"
   ]
  },
  {
   "cell_type": "markdown",
   "id": "abe9b44e",
   "metadata": {},
   "source": [
    "### SVD Model with Best Parameters"
   ]
  },
  {
   "cell_type": "code",
   "execution_count": 52,
   "id": "3378c278",
   "metadata": {},
   "outputs": [
    {
     "name": "stdout",
     "output_type": "stream",
     "text": [
      "RMSE: 0.5905\n"
     ]
    }
   ],
   "source": [
    "# instantiating model using best parameters\n",
    "svd_gs_model = SVD(n_factors=100, n_epochs=40, lr_all=0.005, \n",
    "                   reg_all=0.05, biased=True, random_state=42)\n",
    "\n",
    "# fitting on train set and getting predictions from test \n",
    "svd_gs_predictions = svd_gs_model.fit(trainset).test(testset)\n",
    "\n",
    "# scoring tuned model\n",
    "svd_gs_model_score = accuracy.rmse(svd_gs_predictions)\n"
   ]
  },
  {
   "cell_type": "markdown",
   "id": "fad9c2ef",
   "metadata": {},
   "source": [
    "> Surprisingly the tuned SVD model scored just slightly better than the baseline model (RMSE: 0.5962). In order to see if there is a model with a lower RMSE I will continue onto the SVD++ model."
   ]
  },
  {
   "cell_type": "markdown",
   "id": "62c827c1",
   "metadata": {},
   "source": [
    "## SVD++ & Gridsearching"
   ]
  },
  {
   "cell_type": "code",
   "execution_count": 59,
   "id": "65c1ea19",
   "metadata": {},
   "outputs": [
    {
     "name": "stdout",
     "output_type": "stream",
     "text": [
      "Evaluating RMSE of algorithm SVDpp on 3 split(s).\n",
      "\n",
      "                  Fold 1  Fold 2  Fold 3  Mean    Std     \n",
      "RMSE (testset)    0.5932  0.5934  0.5938  0.5935  0.0003  \n",
      "Fit time          307.59  308.14  307.20  307.64  0.39    \n",
      "Test time         100.73  100.82  102.19  101.25  0.67    \n"
     ]
    }
   ],
   "source": [
    "#instantiate & cross validate\n",
    "svdpp = SVDpp(random_state=42)\n",
    "cv_results = cross_validate(svdpp, data, measures=['rmse'], cv=3, n_jobs=-1, verbose=True)"
   ]
  },
  {
   "cell_type": "code",
   "execution_count": 60,
   "id": "4e721ef5",
   "metadata": {},
   "outputs": [
    {
     "name": "stdout",
     "output_type": "stream",
     "text": [
      "RMSE: 0.5966\n"
     ]
    }
   ],
   "source": [
    "# fit to train set and get predictions with test set\n",
    "predictions_svdpp = svd.fit(trainset).test(testset)\n",
    "\n",
    "# score svd model\n",
    "svdpp_results = accuracy.rmse(predictions_svdpp)"
   ]
  },
  {
   "cell_type": "markdown",
   "id": "47c16b3f",
   "metadata": {},
   "source": [
    "> RMSE for untuned SVD++ model is 0.5966 which is the exact same score as the untuned SVD model."
   ]
  },
  {
   "cell_type": "code",
   "execution_count": 61,
   "id": "a5529e64",
   "metadata": {},
   "outputs": [],
   "source": [
    "# creating svd gridsearch parameters\n",
    "svdpp_params = {\n",
    "    'n_factors': [20, 50, 100],\n",
    "    'n_epochs': [10, 20, 40],\n",
    "    'lr_all': [0.025, .005, .007],\n",
    "    'reg_all': [.01, .02, .05]\n",
    "}"
   ]
  },
  {
   "cell_type": "markdown",
   "id": "c3d8411d",
   "metadata": {},
   "source": [
    "Parameters being tested in first grid search and their defaults: \n",
    "> n_factors: the number of factors, default is 20\n",
    ">\n",
    "> n_epochs: the number of iterations, default is 20\n",
    ">\n",
    "> lr_all: the learning rate for all parameters, default is 0.007\n",
    ">\n",
    "> reg_all: the regularization rate for all parameters, default is 0.02\n",
    ">"
   ]
  },
  {
   "cell_type": "code",
   "execution_count": null,
   "id": "2daf7d0d",
   "metadata": {},
   "outputs": [
    {
     "name": "stderr",
     "output_type": "stream",
     "text": [
      "[Parallel(n_jobs=-1)]: Using backend LokyBackend with 8 concurrent workers.\n",
      "[Parallel(n_jobs=-1)]: Done   2 tasks      | elapsed:  7.5min\n",
      "[Parallel(n_jobs=-1)]: Done   9 tasks      | elapsed: 15.7min\n",
      "[Parallel(n_jobs=-1)]: Done  16 tasks      | elapsed: 16.0min\n",
      "[Parallel(n_jobs=-1)]: Done  25 tasks      | elapsed: 35.1min\n",
      "[Parallel(n_jobs=-1)]: Done  34 tasks      | elapsed: 51.5min\n",
      "[Parallel(n_jobs=-1)]: Done  45 tasks      | elapsed: 72.1min\n",
      "[Parallel(n_jobs=-1)]: Done  56 tasks      | elapsed: 96.8min\n",
      "[Parallel(n_jobs=-1)]: Done  69 tasks      | elapsed: 138.1min\n",
      "[Parallel(n_jobs=-1)]: Done  82 tasks      | elapsed: 218.3min\n",
      "[Parallel(n_jobs=-1)]: Done  97 tasks      | elapsed: 339.7min\n",
      "[Parallel(n_jobs=-1)]: Done 112 tasks      | elapsed: 452.1min\n",
      "[Parallel(n_jobs=-1)]: Done 129 tasks      | elapsed: 583.7min\n",
      "[Parallel(n_jobs=-1)]: Done 146 tasks      | elapsed: 742.9min\n",
      "[Parallel(n_jobs=-1)]: Done 165 tasks      | elapsed: 981.5min\n",
      "[Parallel(n_jobs=-1)]: Done 184 tasks      | elapsed: 1040.5min\n",
      "[Parallel(n_jobs=-1)]: Done 205 tasks      | elapsed: 1170.1min\n",
      "[Parallel(n_jobs=-1)]: Done 226 tasks      | elapsed: 1470.8min\n"
     ]
    }
   ],
   "source": [
    "# instantiate and fit grid search on data\n",
    "svdpp_gs = GridSearchCV(SVDpp, param_grid=svdpp_params, \n",
    "                      cv=3, joblib_verbose=10, n_jobs=-1)\n",
    "svdpp_gs.fit(data)"
   ]
  },
  {
   "cell_type": "code",
   "execution_count": null,
   "id": "de6d452a",
   "metadata": {},
   "outputs": [],
   "source": [
    "svdpp_gs.best_params['rmse']"
   ]
  },
  {
   "cell_type": "code",
   "execution_count": null,
   "id": "5775b597",
   "metadata": {},
   "outputs": [],
   "source": [
    "svdpp_gs.best_score['rmse']"
   ]
  },
  {
   "cell_type": "markdown",
   "id": "20ba1d35",
   "metadata": {},
   "source": [
    "### SVD++ Model with Best Parameters"
   ]
  },
  {
   "cell_type": "code",
   "execution_count": null,
   "id": "b50b0f43",
   "metadata": {},
   "outputs": [],
   "source": []
  },
  {
   "cell_type": "code",
   "execution_count": null,
   "id": "7f342f8b",
   "metadata": {},
   "outputs": [],
   "source": []
  },
  {
   "cell_type": "code",
   "execution_count": null,
   "id": "86265427",
   "metadata": {},
   "outputs": [],
   "source": []
  },
  {
   "cell_type": "code",
   "execution_count": null,
   "id": "961072f5",
   "metadata": {},
   "outputs": [],
   "source": []
  },
  {
   "cell_type": "code",
   "execution_count": null,
   "id": "f1aa9932",
   "metadata": {},
   "outputs": [],
   "source": []
  }
 ],
 "metadata": {
  "kernelspec": {
   "display_name": "py39",
   "language": "python",
   "name": "py39"
  },
  "language_info": {
   "codemirror_mode": {
    "name": "ipython",
    "version": 3
   },
   "file_extension": ".py",
   "mimetype": "text/x-python",
   "name": "python",
   "nbconvert_exporter": "python",
   "pygments_lexer": "ipython3",
   "version": "3.9.13"
  }
 },
 "nbformat": 4,
 "nbformat_minor": 5
}
