{
 "cells": [
  {
   "cell_type": "markdown",
   "id": "9a3368c0",
   "metadata": {},
   "source": [
    "![header](./images/beertaps.png)"
   ]
  },
  {
   "cell_type": "markdown",
   "id": "3ad19e95",
   "metadata": {},
   "source": [
    "# Beer-Recommendation System: Content Based Recommendations\n",
    "Author: Ashli Dougherty "
   ]
  },
  {
   "cell_type": "markdown",
   "id": "9722d6ea",
   "metadata": {},
   "source": [
    "# Overview"
   ]
  },
  {
   "cell_type": "markdown",
   "id": "7d4309a6",
   "metadata": {},
   "source": [
    "This project's goal is to build a recommendation system for the beer enthusiast. I am interested in creating both a content based and collaborative filtering recommendation system. \n",
    "- A content based system will make recommendations based on a beer's features. The content based system will allow any user to enter a beer/characteristic and in return they will be given the names of other beers they will (hopefully) enjoy drinking.  \n",
    "- The collaborative system will recommend items based on the ratings of other users. This system will compare beer drinker/reviewer profiles and then recommend items based on the similarity between these users. \n"
   ]
  },
  {
   "cell_type": "markdown",
   "id": "5769a6a5",
   "metadata": {},
   "source": [
    "# Business Understanding"
   ]
  },
  {
   "cell_type": "markdown",
   "id": "b15e79ca",
   "metadata": {},
   "source": [
    "As of December 2021, there are more than [9,000 breweries](https://vinepair.com/booze-news/us-record-number-breweries-2021/#:~:text=Even%20after%20the%20setbacks%20of,beer%20producers%20in%20the%20U.S.)in the US alone. Even though some taprooms were forced to shut their doors during the pandemic, the craft beer business is still going strong. The [Brewer’s Association](https://www.brewersassociation.org/statistics-and-data/national-beer-stats/) is expecting an increase in craft brewery volume share in the post-pandemic industry market, and reported that craft beer retail sales were over $26 billion dollars in 2021.    \n",
    "  \n",
    "Currently, there are mobile apps (like [Untapped](https://untappd.com/)) and websites (like [Beer Advocate](https://www.beeradvocate.com/)) that allow you to personally track and rate the beer you try, but consumers should know they can enjoy their next sip (or pint) with confidence. There are so many options on the market that choosing which beverage to buy next, what brewery to visit in person, or which booth to stand in line for at a festival can seem overwhelming. My goal is to provide a system for beer enthusiasts to try new beers that they are guaranteed to love. Cheers!"
   ]
  },
  {
   "cell_type": "markdown",
   "id": "0d3ad739",
   "metadata": {},
   "source": [
    "# Collaborative Filtering"
   ]
  },
  {
   "cell_type": "markdown",
   "id": "1db20242",
   "metadata": {},
   "source": [
    "display undertanding and overall approach"
   ]
  },
  {
   "cell_type": "markdown",
   "id": "24b2ccf6",
   "metadata": {},
   "source": [
    "# Imports & Functions"
   ]
  },
  {
   "cell_type": "markdown",
   "id": "312bfc42",
   "metadata": {},
   "source": [
    "Standard imports, **EXPLAIN SURPRISE**\n",
    "[Documentation here.](https://surprise.readthedocs.io/en/stable/index.html)\n",
    "[Github here.](https://github.com/NicolasHug/Surprise)"
   ]
  },
  {
   "cell_type": "code",
   "execution_count": 74,
   "id": "d97a7db3",
   "metadata": {},
   "outputs": [],
   "source": [
    "import pandas as pd\n",
    "import numpy as np\n",
    "import matplotlib.pyplot as plt\n",
    "%matplotlib inline\n",
    "import seaborn as sns\n",
    "\n",
    "import warnings\n",
    "warnings.filterwarnings(\"ignore\")\n",
    "\n",
    "from surprise import Dataset, Reader, accuracy\n",
    "from surprise.model_selection import cross_validate, train_test_split, GridSearchCV\n",
    "from surprise.prediction_algorithms import BaselineOnly, NormalPredictor\n",
    "from surprise.prediction_algorithms import SVD, SVDpp, NMF"
   ]
  },
  {
   "cell_type": "markdown",
   "id": "4890f2e1",
   "metadata": {},
   "source": [
    "# Load Data\n",
    "Loading 'Reviews' CSV created from the [DataPrep Notebook](./DataPrep.ipynb). As stated in other notebook, because this a user to user recommendation system only reviews with 5 or more reviews were kept. "
   ]
  },
  {
   "cell_type": "code",
   "execution_count": 179,
   "id": "9b76f36f",
   "metadata": {},
   "outputs": [
    {
     "data": {
      "text/html": [
       "<div>\n",
       "<style scoped>\n",
       "    .dataframe tbody tr th:only-of-type {\n",
       "        vertical-align: middle;\n",
       "    }\n",
       "\n",
       "    .dataframe tbody tr th {\n",
       "        vertical-align: top;\n",
       "    }\n",
       "\n",
       "    .dataframe thead th {\n",
       "        text-align: right;\n",
       "    }\n",
       "</style>\n",
       "<table border=\"1\" class=\"dataframe\">\n",
       "  <thead>\n",
       "    <tr style=\"text-align: right;\">\n",
       "      <th></th>\n",
       "      <th>brewery_id</th>\n",
       "      <th>brewery_name</th>\n",
       "      <th>review_overall</th>\n",
       "      <th>beer_style</th>\n",
       "      <th>beer_name</th>\n",
       "      <th>beer_abv</th>\n",
       "      <th>beer_id</th>\n",
       "      <th>user_id</th>\n",
       "    </tr>\n",
       "  </thead>\n",
       "  <tbody>\n",
       "    <tr>\n",
       "      <th>0</th>\n",
       "      <td>10325</td>\n",
       "      <td>Vecchio Birraio</td>\n",
       "      <td>1.5</td>\n",
       "      <td>Wheat Beer</td>\n",
       "      <td>Sausa Weizen</td>\n",
       "      <td>Low</td>\n",
       "      <td>47986</td>\n",
       "      <td>13329</td>\n",
       "    </tr>\n",
       "    <tr>\n",
       "      <th>1</th>\n",
       "      <td>10325</td>\n",
       "      <td>Vecchio Birraio</td>\n",
       "      <td>3.0</td>\n",
       "      <td>Strong Ale</td>\n",
       "      <td>Red Moon</td>\n",
       "      <td>Medium</td>\n",
       "      <td>48213</td>\n",
       "      <td>13329</td>\n",
       "    </tr>\n",
       "    <tr>\n",
       "      <th>2</th>\n",
       "      <td>10325</td>\n",
       "      <td>Vecchio Birraio</td>\n",
       "      <td>3.0</td>\n",
       "      <td>Stout</td>\n",
       "      <td>Black Horse Black Beer</td>\n",
       "      <td>Medium</td>\n",
       "      <td>48215</td>\n",
       "      <td>13329</td>\n",
       "    </tr>\n",
       "    <tr>\n",
       "      <th>3</th>\n",
       "      <td>10325</td>\n",
       "      <td>Vecchio Birraio</td>\n",
       "      <td>3.0</td>\n",
       "      <td>Pale Lager</td>\n",
       "      <td>Sausa Pils</td>\n",
       "      <td>Low</td>\n",
       "      <td>47969</td>\n",
       "      <td>13329</td>\n",
       "    </tr>\n",
       "    <tr>\n",
       "      <th>4</th>\n",
       "      <td>1075</td>\n",
       "      <td>Caldera Brewing Company</td>\n",
       "      <td>4.0</td>\n",
       "      <td>India Pale Ale</td>\n",
       "      <td>Cauldron DIPA</td>\n",
       "      <td>Medium</td>\n",
       "      <td>64883</td>\n",
       "      <td>10108</td>\n",
       "    </tr>\n",
       "  </tbody>\n",
       "</table>\n",
       "</div>"
      ],
      "text/plain": [
       "   brewery_id             brewery_name  review_overall      beer_style  \\\n",
       "0       10325          Vecchio Birraio             1.5      Wheat Beer   \n",
       "1       10325          Vecchio Birraio             3.0      Strong Ale   \n",
       "2       10325          Vecchio Birraio             3.0           Stout   \n",
       "3       10325          Vecchio Birraio             3.0      Pale Lager   \n",
       "4        1075  Caldera Brewing Company             4.0  India Pale Ale   \n",
       "\n",
       "                beer_name beer_abv  beer_id  user_id  \n",
       "0            Sausa Weizen      Low    47986    13329  \n",
       "1                Red Moon   Medium    48213    13329  \n",
       "2  Black Horse Black Beer   Medium    48215    13329  \n",
       "3              Sausa Pils      Low    47969    13329  \n",
       "4           Cauldron DIPA   Medium    64883    10108  "
      ]
     },
     "execution_count": 179,
     "metadata": {},
     "output_type": "execute_result"
    }
   ],
   "source": [
    "df = pd.read_csv('../BeerData/reviews_cleaned.csv')\n",
    "df.drop(columns='Unnamed: 0', inplace=True)\n",
    "df.head()"
   ]
  },
  {
   "cell_type": "code",
   "execution_count": 180,
   "id": "f46fd27f",
   "metadata": {},
   "outputs": [
    {
     "data": {
      "text/plain": [
       "(1470272, 8)"
      ]
     },
     "execution_count": 180,
     "metadata": {},
     "output_type": "execute_result"
    }
   ],
   "source": [
    "#checking shape\n",
    "df.shape"
   ]
  },
  {
   "cell_type": "code",
   "execution_count": 181,
   "id": "e557ca26",
   "metadata": {},
   "outputs": [
    {
     "name": "stdout",
     "output_type": "stream",
     "text": [
      "<class 'pandas.core.frame.DataFrame'>\n",
      "RangeIndex: 1470272 entries, 0 to 1470271\n",
      "Data columns (total 8 columns):\n",
      " #   Column          Non-Null Count    Dtype  \n",
      "---  ------          --------------    -----  \n",
      " 0   brewery_id      1470272 non-null  int64  \n",
      " 1   brewery_name    1470272 non-null  object \n",
      " 2   review_overall  1470272 non-null  float64\n",
      " 3   beer_style      1470272 non-null  object \n",
      " 4   beer_name       1470272 non-null  object \n",
      " 5   beer_abv        1470272 non-null  object \n",
      " 6   beer_id         1470272 non-null  int64  \n",
      " 7   user_id         1470272 non-null  int64  \n",
      "dtypes: float64(1), int64(3), object(4)\n",
      "memory usage: 89.7+ MB\n"
     ]
    }
   ],
   "source": [
    "#checking info\n",
    "df.info()"
   ]
  },
  {
   "cell_type": "markdown",
   "id": "fac57ff0",
   "metadata": {},
   "source": [
    "# Train Test Split\n",
    "need to use tts from surprise, have to read in df and use specific columns in specific order, set the ratings on a sclae from 1-5"
   ]
  },
  {
   "cell_type": "code",
   "execution_count": 153,
   "id": "f30f1e7e",
   "metadata": {},
   "outputs": [],
   "source": [
    "# instantiate a 'Reader' to read in the data so Surprise can use it\n",
    "# rating_scale will be bounded by 1 and 5\n",
    "reader = Reader(rating_scale=(1,5))"
   ]
  },
  {
   "cell_type": "code",
   "execution_count": 154,
   "id": "ff03ed10",
   "metadata": {},
   "outputs": [],
   "source": [
    "#loading relevant columns from dataframe\n",
    "data = Dataset.load_from_df(df[['user_id', 'beer_id', 'review_overall']], reader)"
   ]
  },
  {
   "cell_type": "code",
   "execution_count": 155,
   "id": "cb7b4a29",
   "metadata": {},
   "outputs": [],
   "source": [
    "# use surprise train test split \n",
    "trainset, testset = train_test_split(data, test_size=0.2, random_state=42)"
   ]
  },
  {
   "cell_type": "code",
   "execution_count": 156,
   "id": "086fa458",
   "metadata": {},
   "outputs": [
    {
     "name": "stdout",
     "output_type": "stream",
     "text": [
      "Number of users:  14549 \n",
      "\n",
      "Number of items:  45452\n"
     ]
    }
   ],
   "source": [
    "# examining number of users and items in train set\n",
    "print('Number of users: ', trainset.n_users, '\\n')\n",
    "print('Number of items: ', trainset.n_items)"
   ]
  },
  {
   "cell_type": "markdown",
   "id": "d9d853b6",
   "metadata": {},
   "source": [
    "# Baseline Models\n"
   ]
  },
  {
   "cell_type": "markdown",
   "id": "18366e66",
   "metadata": {},
   "source": [
    "### Baseline Only"
   ]
  },
  {
   "cell_type": "code",
   "execution_count": 157,
   "id": "c1c957c4",
   "metadata": {},
   "outputs": [
    {
     "name": "stdout",
     "output_type": "stream",
     "text": [
      "Estimating biases using als...\n",
      "RMSE: 0.5961\n"
     ]
    }
   ],
   "source": [
    "#intantiate model \n",
    "baseline = BaselineOnly()\n",
    "\n",
    "#fit and get predictions \n",
    "predictions = baseline.fit(trainset).test(testset)\n",
    "\n",
    "#score baseline model\n",
    "baseline_score = accuracy.rmse(predictions)"
   ]
  },
  {
   "cell_type": "markdown",
   "id": "21a8fd33",
   "metadata": {},
   "source": [
    "### Normal Predictor"
   ]
  },
  {
   "cell_type": "code",
   "execution_count": 158,
   "id": "e65701e9",
   "metadata": {},
   "outputs": [
    {
     "name": "stdout",
     "output_type": "stream",
     "text": [
      "RMSE: 0.9826\n"
     ]
    }
   ],
   "source": [
    "#intantiate model \n",
    "normal = NormalPredictor()\n",
    "\n",
    "#fit and get predictions \n",
    "predictions2 = normal.fit(trainset).test(testset)\n",
    "\n",
    "#score baseline model\n",
    "normal_score = accuracy.rmse(predictions2)"
   ]
  },
  {
   "cell_type": "markdown",
   "id": "310e4fa2",
   "metadata": {},
   "source": [
    "> **Baseline evaluation**: BaselineOnly model was able to predict the score of the beer within approximately 0.6 points. This was ~0.4 better than the NormalPredictor model."
   ]
  },
  {
   "cell_type": "markdown",
   "id": "44f76189",
   "metadata": {},
   "source": [
    "# Determining the Best Model\n",
    "**explain why i used these** Will be looking at the maxtrix factorizaton based models within surprise's library. I decided to use these algorithms as it was the type that was used for the famous \"Netflix Challenge\" that increased the accuracy of the company's recommendation sytstem by 10%. \n",
    "\n",
    "SVD based models include SVD, SVD++, and NMF. Each model will be run with default parameters and cross validated. After this a grid search will be ran to determine best hyperparamters and RMSE will be compared. \n",
    "Documentation for Surprise SVD algorithms can be found [here](https://surprise.readthedocs.io/en/stable/matrix_factorization.html#surprise.prediction_algorithms.matrix_factorization.SVD). \n",
    "\n",
    "Documentation was used to determine which parameters to use during grid searches. Gridsearches are set up the same as when using sklearn. A dictionary of parameters to tune are created and passed to GridSearchCV where best parameters and scores can be determined and evaluated."
   ]
  },
  {
   "cell_type": "markdown",
   "id": "d2c5bd31",
   "metadata": {},
   "source": [
    "## SVD & Gridsearching"
   ]
  },
  {
   "cell_type": "code",
   "execution_count": 159,
   "id": "563adaba",
   "metadata": {},
   "outputs": [
    {
     "name": "stdout",
     "output_type": "stream",
     "text": [
      "Evaluating RMSE of algorithm SVD on 3 split(s).\n",
      "\n",
      "                  Fold 1  Fold 2  Fold 3  Mean    Std     \n",
      "RMSE (testset)    0.6006  0.5998  0.6009  0.6004  0.0004  \n",
      "Fit time          5.10    5.07    5.03    5.07    0.03    \n",
      "Test time         2.49    2.61    2.42    2.51    0.08    \n"
     ]
    }
   ],
   "source": [
    "#instantiate & cross validate\n",
    "svd = SVD(random_state=42)\n",
    "cv_results = cross_validate(svd, data, measures=['rmse'], cv=3, n_jobs=-1, verbose=True)"
   ]
  },
  {
   "cell_type": "code",
   "execution_count": 160,
   "id": "131e80ad",
   "metadata": {
    "scrolled": true
   },
   "outputs": [
    {
     "name": "stdout",
     "output_type": "stream",
     "text": [
      "RMSE: 0.5966\n"
     ]
    }
   ],
   "source": [
    "# fit to train set and get predictions with test set\n",
    "predictions_svd = svd.fit(trainset).test(testset)\n",
    "\n",
    "# score svd model\n",
    "svd_results = accuracy.rmse(predictions_svd)"
   ]
  },
  {
   "cell_type": "markdown",
   "id": "b300008d",
   "metadata": {},
   "source": [
    "> RMSE for untuned SVD is slightly worse than baseline model. "
   ]
  },
  {
   "cell_type": "code",
   "execution_count": 45,
   "id": "1121cbd4",
   "metadata": {},
   "outputs": [],
   "source": [
    "# creating svd gridsearch parameters\n",
    "svd_params = {\n",
    "    'n_factors': [25, 50, 100],\n",
    "    'n_epochs': [10, 20, 40],\n",
    "    'lr_all': [.005, .05],\n",
    "    'reg_all':  [.02, .05], \n",
    "    'biased': [True, False]\n",
    "}"
   ]
  },
  {
   "cell_type": "markdown",
   "id": "0d6bab29",
   "metadata": {},
   "source": [
    "Parameters being tested in grid search and their defaults: \n",
    "> n_factors: the number of factors, default is 100\n",
    ">\n",
    "> n_epochs: the number of iterations, default is 20\n",
    ">\n",
    "> lr_all: the learning rate for all parameters, default is 0.005\n",
    ">\n",
    "> reg_all: the regularization rate for all parameters, default is 0.02\n",
    ">\n",
    "> biased: whether to baselines(bias), default is True"
   ]
  },
  {
   "cell_type": "code",
   "execution_count": 46,
   "id": "817518b2",
   "metadata": {},
   "outputs": [
    {
     "name": "stderr",
     "output_type": "stream",
     "text": [
      "[Parallel(n_jobs=-1)]: Using backend LokyBackend with 8 concurrent workers.\n",
      "[Parallel(n_jobs=-1)]: Done   2 tasks      | elapsed:   15.9s\n",
      "[Parallel(n_jobs=-1)]: Done   9 tasks      | elapsed:   41.3s\n",
      "[Parallel(n_jobs=-1)]: Done  16 tasks      | elapsed:  1.3min\n",
      "[Parallel(n_jobs=-1)]: Done  25 tasks      | elapsed:  2.1min\n",
      "[Parallel(n_jobs=-1)]: Done  34 tasks      | elapsed:  3.0min\n",
      "[Parallel(n_jobs=-1)]: Done  45 tasks      | elapsed:  4.0min\n",
      "[Parallel(n_jobs=-1)]: Done  56 tasks      | elapsed:  5.4min\n",
      "[Parallel(n_jobs=-1)]: Done  69 tasks      | elapsed:  7.5min\n",
      "[Parallel(n_jobs=-1)]: Done  82 tasks      | elapsed:  8.6min\n",
      "[Parallel(n_jobs=-1)]: Done  97 tasks      | elapsed:  9.9min\n",
      "[Parallel(n_jobs=-1)]: Done 112 tasks      | elapsed: 11.9min\n",
      "[Parallel(n_jobs=-1)]: Done 129 tasks      | elapsed: 14.0min\n",
      "[Parallel(n_jobs=-1)]: Done 146 tasks      | elapsed: 16.8min\n",
      "[Parallel(n_jobs=-1)]: Done 165 tasks      | elapsed: 19.5min\n",
      "[Parallel(n_jobs=-1)]: Done 184 tasks      | elapsed: 22.3min\n",
      "[Parallel(n_jobs=-1)]: Done 216 out of 216 | elapsed: 26.9min finished\n"
     ]
    }
   ],
   "source": [
    "# instantiate and fit grid search on data\n",
    "svd_gs = GridSearchCV(SVD, param_grid=svd_params, \n",
    "                      cv=3, joblib_verbose=10, n_jobs=-1)\n",
    "svd_gs.fit(data)"
   ]
  },
  {
   "cell_type": "code",
   "execution_count": 48,
   "id": "fa92217d",
   "metadata": {},
   "outputs": [
    {
     "data": {
      "text/plain": [
       "{'n_factors': 100,\n",
       " 'n_epochs': 40,\n",
       " 'lr_all': 0.005,\n",
       " 'reg_all': 0.05,\n",
       " 'biased': True}"
      ]
     },
     "execution_count": 48,
     "metadata": {},
     "output_type": "execute_result"
    }
   ],
   "source": [
    "svd_gs.best_params['rmse']"
   ]
  },
  {
   "cell_type": "code",
   "execution_count": 53,
   "id": "e927b04d",
   "metadata": {},
   "outputs": [
    {
     "data": {
      "text/plain": [
       "0.5928585014360079"
      ]
     },
     "execution_count": 53,
     "metadata": {},
     "output_type": "execute_result"
    }
   ],
   "source": [
    "svd_gs.best_score['rmse']"
   ]
  },
  {
   "cell_type": "markdown",
   "id": "96bdd6bb",
   "metadata": {},
   "source": [
    "### SVD Model with Best Parameters"
   ]
  },
  {
   "cell_type": "code",
   "execution_count": 161,
   "id": "18869a5c",
   "metadata": {},
   "outputs": [
    {
     "name": "stdout",
     "output_type": "stream",
     "text": [
      "RMSE: 0.5906\n"
     ]
    }
   ],
   "source": [
    "# instantiating model using best parameters\n",
    "svd_gs_model = SVD(n_factors=100, n_epochs=40, lr_all=0.005, \n",
    "                   reg_all=0.05, biased=True, random_state=42)\n",
    "\n",
    "# fitting on train set and getting predictions from test \n",
    "svd_gs_predictions = svd_gs_model.fit(trainset).test(testset)\n",
    "\n",
    "# scoring tuned model\n",
    "svd_gs_model_score = accuracy.rmse(svd_gs_predictions)\n"
   ]
  },
  {
   "cell_type": "markdown",
   "id": "73abf5b1",
   "metadata": {},
   "source": [
    "> Surprisingly the tuned SVD model scored just slightly better than the baseline model (RMSE: 0.5962). In order to see if there is a model with a lower RMSE I will continue onto the SVD++ model."
   ]
  },
  {
   "cell_type": "markdown",
   "id": "b58a6ff5",
   "metadata": {},
   "source": [
    "## SVD++ & Gridsearching"
   ]
  },
  {
   "cell_type": "code",
   "execution_count": 162,
   "id": "f546a0e3",
   "metadata": {},
   "outputs": [
    {
     "name": "stdout",
     "output_type": "stream",
     "text": [
      "Evaluating RMSE of algorithm SVDpp on 3 split(s).\n",
      "\n",
      "                  Fold 1  Fold 2  Fold 3  Mean    Std     \n",
      "RMSE (testset)    0.5945  0.5939  0.5944  0.5943  0.0003  \n",
      "Fit time          282.28  282.57  282.19  282.35  0.16    \n",
      "Test time         100.61  97.24   97.78   98.55   1.48    \n"
     ]
    }
   ],
   "source": [
    "#instantiate & cross validate\n",
    "svdpp = SVDpp(random_state=42)\n",
    "cv_results = cross_validate(svdpp, data, measures=['rmse'], cv=3, n_jobs=-1, verbose=True)"
   ]
  },
  {
   "cell_type": "code",
   "execution_count": 163,
   "id": "e817fa0b",
   "metadata": {},
   "outputs": [
    {
     "name": "stdout",
     "output_type": "stream",
     "text": [
      "RMSE: 0.5966\n"
     ]
    }
   ],
   "source": [
    "# fit to train set and get predictions with test set\n",
    "predictions_svdpp = svd.fit(trainset).test(testset)\n",
    "\n",
    "# score svd++ model\n",
    "svdpp_results = accuracy.rmse(predictions_svdpp)"
   ]
  },
  {
   "cell_type": "markdown",
   "id": "a8b876e3",
   "metadata": {},
   "source": [
    "> RMSE for untuned SVD++ model is 0.5966 which is the exact same score as the untuned SVD model."
   ]
  },
  {
   "cell_type": "code",
   "execution_count": 61,
   "id": "4855cfa1",
   "metadata": {},
   "outputs": [],
   "source": [
    "# creating svd gridsearch parameters\n",
    "svdpp_params = {\n",
    "    'n_factors': [20, 50, 100],\n",
    "    'n_epochs': [10, 20, 40],\n",
    "    'lr_all': [0.025, .005, .007],\n",
    "    'reg_all': [.01, .02, .05]\n",
    "}"
   ]
  },
  {
   "cell_type": "markdown",
   "id": "e574c062",
   "metadata": {},
   "source": [
    "Parameters being tested in grid search and their defaults: \n",
    "> n_factors: the number of factors, default is 20\n",
    ">\n",
    "> n_epochs: the number of iterations, default is 20\n",
    ">\n",
    "> lr_all: the learning rate for all parameters, default is 0.007\n",
    ">\n",
    "> reg_all: the regularization rate for all parameters, default is 0.02\n",
    ">"
   ]
  },
  {
   "cell_type": "code",
   "execution_count": 62,
   "id": "5dd23453",
   "metadata": {
    "scrolled": true
   },
   "outputs": [
    {
     "name": "stderr",
     "output_type": "stream",
     "text": [
      "[Parallel(n_jobs=-1)]: Using backend LokyBackend with 8 concurrent workers.\n",
      "[Parallel(n_jobs=-1)]: Done   2 tasks      | elapsed:  7.5min\n",
      "[Parallel(n_jobs=-1)]: Done   9 tasks      | elapsed: 15.7min\n",
      "[Parallel(n_jobs=-1)]: Done  16 tasks      | elapsed: 16.0min\n",
      "[Parallel(n_jobs=-1)]: Done  25 tasks      | elapsed: 35.1min\n",
      "[Parallel(n_jobs=-1)]: Done  34 tasks      | elapsed: 51.5min\n",
      "[Parallel(n_jobs=-1)]: Done  45 tasks      | elapsed: 72.1min\n",
      "[Parallel(n_jobs=-1)]: Done  56 tasks      | elapsed: 96.8min\n",
      "[Parallel(n_jobs=-1)]: Done  69 tasks      | elapsed: 138.1min\n",
      "[Parallel(n_jobs=-1)]: Done  82 tasks      | elapsed: 218.3min\n",
      "[Parallel(n_jobs=-1)]: Done  97 tasks      | elapsed: 339.7min\n",
      "[Parallel(n_jobs=-1)]: Done 112 tasks      | elapsed: 452.1min\n",
      "[Parallel(n_jobs=-1)]: Done 129 tasks      | elapsed: 583.7min\n",
      "[Parallel(n_jobs=-1)]: Done 146 tasks      | elapsed: 742.9min\n",
      "[Parallel(n_jobs=-1)]: Done 165 tasks      | elapsed: 981.5min\n",
      "[Parallel(n_jobs=-1)]: Done 184 tasks      | elapsed: 1040.5min\n",
      "[Parallel(n_jobs=-1)]: Done 205 tasks      | elapsed: 1170.1min\n",
      "[Parallel(n_jobs=-1)]: Done 226 tasks      | elapsed: 1470.8min\n",
      "[Parallel(n_jobs=-1)]: Done 243 out of 243 | elapsed: 1623.1min finished\n"
     ]
    }
   ],
   "source": [
    "# instantiate and fit grid search on data\n",
    "svdpp_gs = GridSearchCV(SVDpp, param_grid=svdpp_params, \n",
    "                      cv=3, joblib_verbose=10, n_jobs=-1)\n",
    "svdpp_gs.fit(data)"
   ]
  },
  {
   "cell_type": "markdown",
   "id": "a756b3f8",
   "metadata": {},
   "source": [
    "> The grid search above takes a VERY long time to run. Due to this it is commented out and the best parameters and score are recorded below.  \n",
    "> The best parameters are {'n_factors': 20, 'n_epochs': 40, 'lr_all': 0.007, 'reg_all': 0.05}"
   ]
  },
  {
   "cell_type": "code",
   "execution_count": 63,
   "id": "19aab199",
   "metadata": {},
   "outputs": [
    {
     "data": {
      "text/plain": [
       "{'n_factors': 20, 'n_epochs': 40, 'lr_all': 0.007, 'reg_all': 0.05}"
      ]
     },
     "execution_count": 63,
     "metadata": {},
     "output_type": "execute_result"
    }
   ],
   "source": [
    "svdpp_gs.best_params['rmse']"
   ]
  },
  {
   "cell_type": "code",
   "execution_count": 64,
   "id": "e1713d58",
   "metadata": {},
   "outputs": [
    {
     "data": {
      "text/plain": [
       "0.5909992916367263"
      ]
     },
     "execution_count": 64,
     "metadata": {},
     "output_type": "execute_result"
    }
   ],
   "source": [
    "svdpp_gs.best_score['rmse']"
   ]
  },
  {
   "cell_type": "markdown",
   "id": "d5d510d9",
   "metadata": {},
   "source": [
    "### SVD++ Model with Best Parameters"
   ]
  },
  {
   "cell_type": "code",
   "execution_count": 164,
   "id": "8da0810c",
   "metadata": {},
   "outputs": [
    {
     "name": "stdout",
     "output_type": "stream",
     "text": [
      "RMSE: 0.5893\n"
     ]
    }
   ],
   "source": [
    "# instantiating model using best parameters\n",
    "svdpp_gs_model = SVDpp(n_factors=20, n_epochs=40, lr_all=0.007, \n",
    "                   reg_all=0.05, random_state=42)\n",
    "\n",
    "# fitting on train set and getting predictions from test \n",
    "svdpp_gs_predictions = svdpp_gs_model.fit(trainset).test(testset)\n",
    "\n",
    "# scoring tuned model\n",
    "svdpp_gs_model_score = accuracy.rmse(svdpp_gs_predictions)"
   ]
  },
  {
   "cell_type": "markdown",
   "id": "287b50e6",
   "metadata": {},
   "source": [
    "> RMSE of 0.58 is so far the best score."
   ]
  },
  {
   "cell_type": "markdown",
   "id": "9e07376d",
   "metadata": {},
   "source": [
    "## NMF & Gridsearching"
   ]
  },
  {
   "cell_type": "markdown",
   "id": "1ddf47bb",
   "metadata": {},
   "source": [
    "A collaborative filtering algorithm based on Non-negative Matrix Factorization."
   ]
  },
  {
   "cell_type": "code",
   "execution_count": 165,
   "id": "a885f4fc",
   "metadata": {},
   "outputs": [
    {
     "name": "stdout",
     "output_type": "stream",
     "text": [
      "Evaluating RMSE of algorithm NMF on 3 split(s).\n",
      "\n",
      "                  Fold 1  Fold 2  Fold 3  Mean    Std     \n",
      "RMSE (testset)    0.6198  0.6199  0.6195  0.6197  0.0002  \n",
      "Fit time          8.15    8.13    8.10    8.13    0.02    \n",
      "Test time         2.10    2.18    2.02    2.10    0.06    \n"
     ]
    }
   ],
   "source": [
    "#instantiate & cross validate\n",
    "nmf = NMF(random_state=42)\n",
    "cv_results = cross_validate(nmf, data, measures=['rmse'], cv=3, n_jobs=-1, verbose=True)"
   ]
  },
  {
   "cell_type": "code",
   "execution_count": 166,
   "id": "ebd5f747",
   "metadata": {},
   "outputs": [
    {
     "name": "stdout",
     "output_type": "stream",
     "text": [
      "RMSE: 0.6139\n"
     ]
    }
   ],
   "source": [
    "# fit to train set and get predictions with test set\n",
    "predictions_nmf = nmf.fit(trainset).test(testset)\n",
    "\n",
    "# score nmf model\n",
    "nmf_results = accuracy.rmse(predictions_nmf)"
   ]
  },
  {
   "cell_type": "markdown",
   "id": "6c4722f9",
   "metadata": {},
   "source": [
    "> So far this is the worst score. I will grid search to see if there is a better fit. "
   ]
  },
  {
   "cell_type": "code",
   "execution_count": 69,
   "id": "4d57c301",
   "metadata": {},
   "outputs": [],
   "source": [
    "# creating nmf gridsearch parameters\n",
    "nmf_params = {\n",
    "    'n_factors': [15, 30, 50],\n",
    "    'n_epochs': [25, 50, 100],\n",
    "    'biased': [True, False]\n",
    "}"
   ]
  },
  {
   "cell_type": "markdown",
   "id": "f59b7839",
   "metadata": {},
   "source": [
    "Parameters being tested in grid search and their defaults: \n",
    "> n_factors: the number of factors, default is 15\n",
    ">\n",
    "> n_epochs: the number of iterations, default is 50\n",
    ">\n",
    "> biased: whether to use bseline, default is False.\n",
    ">"
   ]
  },
  {
   "cell_type": "code",
   "execution_count": 70,
   "id": "a2f111b1",
   "metadata": {},
   "outputs": [
    {
     "name": "stderr",
     "output_type": "stream",
     "text": [
      "[Parallel(n_jobs=-1)]: Using backend LokyBackend with 8 concurrent workers.\n",
      "[Parallel(n_jobs=-1)]: Done   2 tasks      | elapsed:   33.4s\n",
      "[Parallel(n_jobs=-1)]: Done   9 tasks      | elapsed:  1.5min\n",
      "[Parallel(n_jobs=-1)]: Done  16 tasks      | elapsed:  2.7min\n",
      "[Parallel(n_jobs=-1)]: Done  25 tasks      | elapsed:  4.0min\n",
      "[Parallel(n_jobs=-1)]: Done  34 tasks      | elapsed:  5.6min\n",
      "[Parallel(n_jobs=-1)]: Done  45 out of  54 | elapsed:  8.1min remaining:  1.6min\n",
      "[Parallel(n_jobs=-1)]: Done  51 out of  54 | elapsed:  9.1min remaining:   32.0s\n",
      "[Parallel(n_jobs=-1)]: Done  54 out of  54 | elapsed:  9.2min finished\n"
     ]
    }
   ],
   "source": [
    "# instantiate and fit grid search on data\n",
    "nmf_gs = GridSearchCV(NMF, param_grid=nmf_params, \n",
    "                      cv=3, joblib_verbose=10, n_jobs=-1)\n",
    "nmf_gs.fit(data)"
   ]
  },
  {
   "cell_type": "code",
   "execution_count": 71,
   "id": "dbef8376",
   "metadata": {},
   "outputs": [
    {
     "data": {
      "text/plain": [
       "{'n_factors': 15, 'n_epochs': 50, 'biased': True}"
      ]
     },
     "execution_count": 71,
     "metadata": {},
     "output_type": "execute_result"
    }
   ],
   "source": [
    "nmf_gs.best_params['rmse']"
   ]
  },
  {
   "cell_type": "code",
   "execution_count": 77,
   "id": "f048c5b4",
   "metadata": {},
   "outputs": [
    {
     "data": {
      "text/plain": [
       "0.5959051294761678"
      ]
     },
     "execution_count": 77,
     "metadata": {},
     "output_type": "execute_result"
    }
   ],
   "source": [
    "nmf_gs.best_score['rmse']"
   ]
  },
  {
   "cell_type": "markdown",
   "id": "b3052dc9",
   "metadata": {},
   "source": [
    "### NMF Model with best Parameters"
   ]
  },
  {
   "cell_type": "code",
   "execution_count": 167,
   "id": "59430112",
   "metadata": {},
   "outputs": [
    {
     "name": "stdout",
     "output_type": "stream",
     "text": [
      "RMSE: 0.5946\n"
     ]
    }
   ],
   "source": [
    "# instantiating model using best parameters\n",
    "nmf_gs_model = NMF(n_factors=15, n_epochs=50, biased=True, random_state=42)\n",
    "\n",
    "# fitting on train set and getting predictions from test \n",
    "nmf_gs_predictions = nmf_gs_model.fit(trainset).test(testset)\n",
    "\n",
    "# scoring tuned model\n",
    "nmf_gs_model_score = accuracy.rmse(nmf_gs_predictions)"
   ]
  },
  {
   "cell_type": "markdown",
   "id": "2b49e53a",
   "metadata": {},
   "source": [
    "> The RMSE decreased from the untuned to tuned model, but this model still did not perform as well as the tuned SVD++ model."
   ]
  },
  {
   "cell_type": "markdown",
   "id": "c37c1a61",
   "metadata": {},
   "source": [
    "# Evaluation of Models"
   ]
  },
  {
   "cell_type": "markdown",
   "id": "6f39f6b4",
   "metadata": {},
   "source": [
    "The model with the highest error was the NormalPredict model with an RMSE of 0.9840. The Baseline model itself had an RMSE of 0.5962 and several tuned and untuned models actuall scored worse than the Baseline. These two were the numbers I used to compare to the other tuned and untuned models. Unfortunately the RMSE did not change much from the baseline model with the tuned **SVD++ model having the lowest RMSE of 0.5893**.\n",
    "\n",
    "Most beers are rated around a 4.0, so being off any rating by approximately 0.6 I think I can still confidently recommend beers to users that they will enjoy using almost any of these models. I will be using the SVD++ as it has the lowest error. "
   ]
  },
  {
   "cell_type": "code",
   "execution_count": 168,
   "id": "da8bc2ba",
   "metadata": {},
   "outputs": [],
   "source": [
    "#creating variables for visual comparison\n",
    "x = ['NMF', 'SVD', 'SVD++','Baseline', 'NFM_GS', 'SVD_GS','SVD++_GS']\n",
    "y = [nmf_results, svd_results, svdpp_results, baseline_score,\n",
    "     nmf_gs_model_score, svd_gs_model_score, svd_gs_model_score]"
   ]
  },
  {
   "cell_type": "code",
   "execution_count": 169,
   "id": "79c37d58",
   "metadata": {},
   "outputs": [
    {
     "data": {
      "image/png": "[encoded data removed]",
      "text/plain": [
       "<Figure size 640x480 with 1 Axes>"
      ]
     },
     "metadata": {},
     "output_type": "display_data"
    }
   ],
   "source": [
    "sns.barplot(x, y)\n",
    "plt.xticks(rotation=25)\n",
    "plt.ylim(0.5, 0.65)\n",
    "plt.ylabel('Root Mean Squared Error (RMSE)', weight='bold')\n",
    "plt.xlabel('All Tested Models', weight='bold')\n",
    "plt.title('Surprise Model Evaluation', weight='bold', size=14);"
   ]
  },
  {
   "cell_type": "markdown",
   "id": "48a19be8",
   "metadata": {},
   "source": [
    "## Distribution of Actual & Predicted Scores for Best Model"
   ]
  },
  {
   "cell_type": "code",
   "execution_count": 170,
   "id": "0dd65a15",
   "metadata": {},
   "outputs": [
    {
     "data": {
      "image/png": "[encoded data removed]",
      "text/plain": [
       "<Figure size 1400x400 with 2 Axes>"
      ]
     },
     "metadata": {},
     "output_type": "display_data"
    }
   ],
   "source": [
    "#create df for data extraction \n",
    "svdpp_pred_df = pd.DataFrame(svdpp_gs_predictions, columns=['user_id', 'item_id', 'actual_rating', 'predicted_rating', 'details'])\n",
    "svdpp_pred_df['predicted_rating'] = svdpp_pred_df['predicted_rating'].round()\n",
    "\n",
    "#create plot comparing distribution\n",
    "fig, (ax1, ax2) = plt.subplots(nrows=1, ncols=2, figsize=(14, 4))\n",
    "sns.countplot(x='actual_rating', data=svdpp_pred_df, ax=ax1)\n",
    "ax1.set_title('Distribution of Actual Ratings')\n",
    "ax1.set_xlabel('Actual Rating')\n",
    "ax1.set_ylabel('Number of Ratings')\n",
    "sns.countplot(x='predicted_rating', data=svdpp_pred_df, ax=ax2)\n",
    "ax2.set_title('Distribution of Predicted Ratings')\n",
    "ax2.set_xlabel('Predicted Rating')\n",
    "ax2.set_ylabel('Number of Ratings')\n",
    "plt.show();"
   ]
  },
  {
   "cell_type": "markdown",
   "id": "122ef336",
   "metadata": {},
   "source": [
    "> Predicted ratings are actually more spread out/nuanced but for visualization purposes had to be rounded. What stands out to me is that the predictions are likely not rate a beer 5 stars even though thre are thousands of 4.5 and 5.0 rated beers. "
   ]
  },
  {
   "cell_type": "markdown",
   "id": "05eac5e1",
   "metadata": {},
   "source": [
    "# Building Recommender "
   ]
  },
  {
   "cell_type": "markdown",
   "id": "f470fd94",
   "metadata": {},
   "source": [
    "Final model can be used to build a recommender that can return top n-recommendations based on a specific User ID. First, I will need to create a dataframe that contains meta data used for recommendation display. Then build a full training set that incorporates all data so that recommendations can be made using all data. "
   ]
  },
  {
   "cell_type": "code",
   "execution_count": null,
   "id": "44d87746",
   "metadata": {},
   "outputs": [],
   "source": [
    "# building full training set so recommendations can be made off full dataset\n",
    "trainset_full = data.build_full_trainset()\n",
    "svdpp_gs_model.fit(trainset_full)"
   ]
  },
  {
   "cell_type": "code",
   "execution_count": 183,
   "id": "f1a185bf",
   "metadata": {},
   "outputs": [
    {
     "data": {
      "text/html": [
       "<div>\n",
       "<style scoped>\n",
       "    .dataframe tbody tr th:only-of-type {\n",
       "        vertical-align: middle;\n",
       "    }\n",
       "\n",
       "    .dataframe tbody tr th {\n",
       "        vertical-align: top;\n",
       "    }\n",
       "\n",
       "    .dataframe thead th {\n",
       "        text-align: right;\n",
       "    }\n",
       "</style>\n",
       "<table border=\"1\" class=\"dataframe\">\n",
       "  <thead>\n",
       "    <tr style=\"text-align: right;\">\n",
       "      <th></th>\n",
       "      <th>brewery_id</th>\n",
       "      <th>brewery_name</th>\n",
       "      <th>review_overall</th>\n",
       "      <th>beer_style</th>\n",
       "      <th>beer_name</th>\n",
       "      <th>beer_abv</th>\n",
       "      <th>beer_id</th>\n",
       "      <th>user_id</th>\n",
       "    </tr>\n",
       "  </thead>\n",
       "  <tbody>\n",
       "    <tr>\n",
       "      <th>0</th>\n",
       "      <td>10325</td>\n",
       "      <td>Vecchio Birraio</td>\n",
       "      <td>1.5</td>\n",
       "      <td>Wheat Beer</td>\n",
       "      <td>Sausa Weizen</td>\n",
       "      <td>Low</td>\n",
       "      <td>47986</td>\n",
       "      <td>13329</td>\n",
       "    </tr>\n",
       "  </tbody>\n",
       "</table>\n",
       "</div>"
      ],
      "text/plain": [
       "   brewery_id     brewery_name  review_overall  beer_style     beer_name  \\\n",
       "0       10325  Vecchio Birraio             1.5  Wheat Beer  Sausa Weizen   \n",
       "\n",
       "  beer_abv  beer_id  user_id  \n",
       "0      Low    47986    13329  "
      ]
     },
     "execution_count": 183,
     "metadata": {},
     "output_type": "execute_result"
    }
   ],
   "source": [
    "df.head(1)"
   ]
  },
  {
   "cell_type": "code",
   "execution_count": 198,
   "id": "1e740c15",
   "metadata": {},
   "outputs": [
    {
     "data": {
      "text/html": [
       "<div>\n",
       "<style scoped>\n",
       "    .dataframe tbody tr th:only-of-type {\n",
       "        vertical-align: middle;\n",
       "    }\n",
       "\n",
       "    .dataframe tbody tr th {\n",
       "        vertical-align: top;\n",
       "    }\n",
       "\n",
       "    .dataframe thead th {\n",
       "        text-align: right;\n",
       "    }\n",
       "</style>\n",
       "<table border=\"1\" class=\"dataframe\">\n",
       "  <thead>\n",
       "    <tr style=\"text-align: right;\">\n",
       "      <th></th>\n",
       "      <th>beer_name</th>\n",
       "      <th>brewery_name</th>\n",
       "      <th>beer_style</th>\n",
       "      <th>beer_abv</th>\n",
       "    </tr>\n",
       "    <tr>\n",
       "      <th>beer_id</th>\n",
       "      <th></th>\n",
       "      <th></th>\n",
       "      <th></th>\n",
       "      <th></th>\n",
       "    </tr>\n",
       "  </thead>\n",
       "  <tbody>\n",
       "    <tr>\n",
       "      <th>47986</th>\n",
       "      <td>Sausa Weizen</td>\n",
       "      <td>Vecchio Birraio</td>\n",
       "      <td>Wheat Beer</td>\n",
       "      <td>Low</td>\n",
       "    </tr>\n",
       "  </tbody>\n",
       "</table>\n",
       "</div>"
      ],
      "text/plain": [
       "            beer_name     brewery_name  beer_style beer_abv\n",
       "beer_id                                                    \n",
       "47986    Sausa Weizen  Vecchio Birraio  Wheat Beer      Low"
      ]
     },
     "execution_count": 198,
     "metadata": {},
     "output_type": "execute_result"
    }
   ],
   "source": [
    "display_df = pd.DataFrame(df, columns=['beer_id','beer_name', 'brewery_name',\n",
    "                                       'beer_style', 'beer_abv'])\n",
    "display_df.set_index('beer_id', inplace=True)\n",
    "display_df.head(1)"
   ]
  },
  {
   "cell_type": "code",
   "execution_count": 200,
   "id": "51df6f2c",
   "metadata": {},
   "outputs": [
    {
     "data": {
      "text/html": [
       "<div>\n",
       "<style scoped>\n",
       "    .dataframe tbody tr th:only-of-type {\n",
       "        vertical-align: middle;\n",
       "    }\n",
       "\n",
       "    .dataframe tbody tr th {\n",
       "        vertical-align: top;\n",
       "    }\n",
       "\n",
       "    .dataframe thead th {\n",
       "        text-align: right;\n",
       "    }\n",
       "</style>\n",
       "<table border=\"1\" class=\"dataframe\">\n",
       "  <thead>\n",
       "    <tr style=\"text-align: right;\">\n",
       "      <th></th>\n",
       "      <th>Beer</th>\n",
       "      <th>Brewery</th>\n",
       "      <th>Style</th>\n",
       "      <th>ABV</th>\n",
       "    </tr>\n",
       "    <tr>\n",
       "      <th>beer_id</th>\n",
       "      <th></th>\n",
       "      <th></th>\n",
       "      <th></th>\n",
       "      <th></th>\n",
       "    </tr>\n",
       "  </thead>\n",
       "  <tbody>\n",
       "    <tr>\n",
       "      <th>47986</th>\n",
       "      <td>Sausa Weizen</td>\n",
       "      <td>Vecchio Birraio</td>\n",
       "      <td>Wheat Beer</td>\n",
       "      <td>Low</td>\n",
       "    </tr>\n",
       "    <tr>\n",
       "      <th>48213</th>\n",
       "      <td>Red Moon</td>\n",
       "      <td>Vecchio Birraio</td>\n",
       "      <td>Strong Ale</td>\n",
       "      <td>Medium</td>\n",
       "    </tr>\n",
       "    <tr>\n",
       "      <th>48215</th>\n",
       "      <td>Black Horse Black Beer</td>\n",
       "      <td>Vecchio Birraio</td>\n",
       "      <td>Stout</td>\n",
       "      <td>Medium</td>\n",
       "    </tr>\n",
       "    <tr>\n",
       "      <th>47969</th>\n",
       "      <td>Sausa Pils</td>\n",
       "      <td>Vecchio Birraio</td>\n",
       "      <td>Pale Lager</td>\n",
       "      <td>Low</td>\n",
       "    </tr>\n",
       "    <tr>\n",
       "      <th>64883</th>\n",
       "      <td>Cauldron DIPA</td>\n",
       "      <td>Caldera Brewing Company</td>\n",
       "      <td>India Pale Ale</td>\n",
       "      <td>Medium</td>\n",
       "    </tr>\n",
       "  </tbody>\n",
       "</table>\n",
       "</div>"
      ],
      "text/plain": [
       "                           Beer                  Brewery           Style  \\\n",
       "beer_id                                                                    \n",
       "47986              Sausa Weizen          Vecchio Birraio      Wheat Beer   \n",
       "48213                  Red Moon          Vecchio Birraio      Strong Ale   \n",
       "48215    Black Horse Black Beer          Vecchio Birraio           Stout   \n",
       "47969                Sausa Pils          Vecchio Birraio      Pale Lager   \n",
       "64883             Cauldron DIPA  Caldera Brewing Company  India Pale Ale   \n",
       "\n",
       "            ABV  \n",
       "beer_id          \n",
       "47986       Low  \n",
       "48213    Medium  \n",
       "48215    Medium  \n",
       "47969       Low  \n",
       "64883    Medium  "
      ]
     },
     "execution_count": 200,
     "metadata": {},
     "output_type": "execute_result"
    }
   ],
   "source": [
    "#cleaning column names for final display\n",
    "display_df.rename(columns={'beer_name': 'Beer',\n",
    "                           'brewery_name': 'Brewery',\n",
    "                          'beer_style': 'Style',\n",
    "                          'beer_abv': 'ABV'}, inplace=True)\n",
    "display_df.head()"
   ]
  },
  {
   "cell_type": "code",
   "execution_count": 206,
   "id": "f000e8ab",
   "metadata": {},
   "outputs": [
    {
     "data": {
      "text/html": [
       "<div>\n",
       "<style scoped>\n",
       "    .dataframe tbody tr th:only-of-type {\n",
       "        vertical-align: middle;\n",
       "    }\n",
       "\n",
       "    .dataframe tbody tr th {\n",
       "        vertical-align: top;\n",
       "    }\n",
       "\n",
       "    .dataframe thead th {\n",
       "        text-align: right;\n",
       "    }\n",
       "</style>\n",
       "<table border=\"1\" class=\"dataframe\">\n",
       "  <thead>\n",
       "    <tr style=\"text-align: right;\">\n",
       "      <th></th>\n",
       "      <th>beer_id</th>\n",
       "    </tr>\n",
       "    <tr>\n",
       "      <th>UserID</th>\n",
       "      <th></th>\n",
       "    </tr>\n",
       "  </thead>\n",
       "  <tbody>\n",
       "    <tr>\n",
       "      <th>13329</th>\n",
       "      <td>47986</td>\n",
       "    </tr>\n",
       "    <tr>\n",
       "      <th>13329</th>\n",
       "      <td>48213</td>\n",
       "    </tr>\n",
       "    <tr>\n",
       "      <th>13329</th>\n",
       "      <td>48215</td>\n",
       "    </tr>\n",
       "    <tr>\n",
       "      <th>13329</th>\n",
       "      <td>47969</td>\n",
       "    </tr>\n",
       "    <tr>\n",
       "      <th>10108</th>\n",
       "      <td>64883</td>\n",
       "    </tr>\n",
       "  </tbody>\n",
       "</table>\n",
       "</div>"
      ],
      "text/plain": [
       "        beer_id\n",
       "UserID         \n",
       "13329     47986\n",
       "13329     48213\n",
       "13329     48215\n",
       "13329     47969\n",
       "10108     64883"
      ]
     },
     "execution_count": 206,
     "metadata": {},
     "output_type": "execute_result"
    }
   ],
   "source": [
    "#creating rating data \n",
    "user_df = pd.DataFrame(df, columns=['user_id','beer_id'])\n",
    "user_df.rename(columns={'user_id': 'UserID'}, inplace=True)\n",
    "user_df.set_index('UserID', inplace=True)\n",
    "user_df.head()"
   ]
  },
  {
   "cell_type": "code",
   "execution_count": 210,
   "id": "5ba37c7b",
   "metadata": {},
   "outputs": [
    {
     "name": "stdout",
     "output_type": "stream",
     "text": [
      "UserID: 10108\n",
      "How many recommendations? 5\n"
     ]
    }
   ],
   "source": [
    "# user will need to input their id and how many recs they want\n",
    "# user = input('UserID: ')\n",
    "# n_recs = int(input('How many recommendations? '))"
   ]
  },
  {
   "cell_type": "code",
   "execution_count": 213,
   "id": "78f4cb86",
   "metadata": {},
   "outputs": [
    {
     "ename": "KeyError",
     "evalue": "'10108'",
     "output_type": "error",
     "traceback": [
      "\u001b[0;31m---------------------------------------------------------------------------\u001b[0m",
      "\u001b[0;31mKeyError\u001b[0m                                  Traceback (most recent call last)",
      "\u001b[0;32m/opt/homebrew/Caskroom/miniforge/base/envs/py39/lib/python3.9/site-packages/pandas/core/indexes/base.py\u001b[0m in \u001b[0;36mget_loc\u001b[0;34m(self, key, method, tolerance)\u001b[0m\n\u001b[1;32m   3628\u001b[0m             \u001b[0;32mtry\u001b[0m\u001b[0;34m:\u001b[0m\u001b[0;34m\u001b[0m\u001b[0;34m\u001b[0m\u001b[0m\n\u001b[0;32m-> 3629\u001b[0;31m                 \u001b[0;32mreturn\u001b[0m \u001b[0mself\u001b[0m\u001b[0;34m.\u001b[0m\u001b[0m_engine\u001b[0m\u001b[0;34m.\u001b[0m\u001b[0mget_loc\u001b[0m\u001b[0;34m(\u001b[0m\u001b[0mcasted_key\u001b[0m\u001b[0;34m)\u001b[0m\u001b[0;34m\u001b[0m\u001b[0;34m\u001b[0m\u001b[0m\n\u001b[0m\u001b[1;32m   3630\u001b[0m             \u001b[0;32mexcept\u001b[0m \u001b[0mKeyError\u001b[0m \u001b[0;32mas\u001b[0m \u001b[0merr\u001b[0m\u001b[0;34m:\u001b[0m\u001b[0;34m\u001b[0m\u001b[0;34m\u001b[0m\u001b[0m\n",
      "\u001b[0;32m/opt/homebrew/Caskroom/miniforge/base/envs/py39/lib/python3.9/site-packages/pandas/_libs/index.pyx\u001b[0m in \u001b[0;36mpandas._libs.index.IndexEngine.get_loc\u001b[0;34m()\u001b[0m\n",
      "\u001b[0;32m/opt/homebrew/Caskroom/miniforge/base/envs/py39/lib/python3.9/site-packages/pandas/_libs/index.pyx\u001b[0m in \u001b[0;36mpandas._libs.index.IndexEngine.get_loc\u001b[0;34m()\u001b[0m\n",
      "\u001b[0;32mpandas/_libs/index_class_helper.pxi\u001b[0m in \u001b[0;36mpandas._libs.index.Int64Engine._check_type\u001b[0;34m()\u001b[0m\n",
      "\u001b[0;31mKeyError\u001b[0m: '10108'",
      "\nThe above exception was the direct cause of the following exception:\n",
      "\u001b[0;31mKeyError\u001b[0m                                  Traceback (most recent call last)",
      "\u001b[0;32m/var/folders/75/zphbcbg1741c1vvlwtdrm1q80000gn/T/ipykernel_41084/25459317.py\u001b[0m in \u001b[0;36m<module>\u001b[0;34m\u001b[0m\n\u001b[1;32m      1\u001b[0m \u001b[0;31m# list of beers that reviews have already reviewed\u001b[0m\u001b[0;34m\u001b[0m\u001b[0;34m\u001b[0m\u001b[0m\n\u001b[0;32m----> 2\u001b[0;31m \u001b[0malready_drank\u001b[0m \u001b[0;34m=\u001b[0m \u001b[0mlist\u001b[0m\u001b[0;34m(\u001b[0m\u001b[0muser_df\u001b[0m\u001b[0;34m.\u001b[0m\u001b[0mloc\u001b[0m\u001b[0;34m[\u001b[0m\u001b[0muser\u001b[0m\u001b[0;34m,\u001b[0m \u001b[0;34m'beer_id'\u001b[0m\u001b[0;34m]\u001b[0m\u001b[0;34m)\u001b[0m\u001b[0;34m\u001b[0m\u001b[0;34m\u001b[0m\u001b[0m\n\u001b[0m",
      "\u001b[0;32m/opt/homebrew/Caskroom/miniforge/base/envs/py39/lib/python3.9/site-packages/pandas/core/indexing.py\u001b[0m in \u001b[0;36m__getitem__\u001b[0;34m(self, key)\u001b[0m\n\u001b[1;32m    959\u001b[0m             \u001b[0;32mif\u001b[0m \u001b[0mself\u001b[0m\u001b[0;34m.\u001b[0m\u001b[0m_is_scalar_access\u001b[0m\u001b[0;34m(\u001b[0m\u001b[0mkey\u001b[0m\u001b[0;34m)\u001b[0m\u001b[0;34m:\u001b[0m\u001b[0;34m\u001b[0m\u001b[0;34m\u001b[0m\u001b[0m\n\u001b[1;32m    960\u001b[0m                 \u001b[0;32mreturn\u001b[0m \u001b[0mself\u001b[0m\u001b[0;34m.\u001b[0m\u001b[0mobj\u001b[0m\u001b[0;34m.\u001b[0m\u001b[0m_get_value\u001b[0m\u001b[0;34m(\u001b[0m\u001b[0;34m*\u001b[0m\u001b[0mkey\u001b[0m\u001b[0;34m,\u001b[0m \u001b[0mtakeable\u001b[0m\u001b[0;34m=\u001b[0m\u001b[0mself\u001b[0m\u001b[0;34m.\u001b[0m\u001b[0m_takeable\u001b[0m\u001b[0;34m)\u001b[0m\u001b[0;34m\u001b[0m\u001b[0;34m\u001b[0m\u001b[0m\n\u001b[0;32m--> 961\u001b[0;31m             \u001b[0;32mreturn\u001b[0m \u001b[0mself\u001b[0m\u001b[0;34m.\u001b[0m\u001b[0m_getitem_tuple\u001b[0m\u001b[0;34m(\u001b[0m\u001b[0mkey\u001b[0m\u001b[0;34m)\u001b[0m\u001b[0;34m\u001b[0m\u001b[0;34m\u001b[0m\u001b[0m\n\u001b[0m\u001b[1;32m    962\u001b[0m         \u001b[0;32melse\u001b[0m\u001b[0;34m:\u001b[0m\u001b[0;34m\u001b[0m\u001b[0;34m\u001b[0m\u001b[0m\n\u001b[1;32m    963\u001b[0m             \u001b[0;31m# we by definition only have the 0th axis\u001b[0m\u001b[0;34m\u001b[0m\u001b[0;34m\u001b[0m\u001b[0m\n",
      "\u001b[0;32m/opt/homebrew/Caskroom/miniforge/base/envs/py39/lib/python3.9/site-packages/pandas/core/indexing.py\u001b[0m in \u001b[0;36m_getitem_tuple\u001b[0;34m(self, tup)\u001b[0m\n\u001b[1;32m   1138\u001b[0m         \u001b[0;32mwith\u001b[0m \u001b[0msuppress\u001b[0m\u001b[0;34m(\u001b[0m\u001b[0mIndexingError\u001b[0m\u001b[0;34m)\u001b[0m\u001b[0;34m:\u001b[0m\u001b[0;34m\u001b[0m\u001b[0;34m\u001b[0m\u001b[0m\n\u001b[1;32m   1139\u001b[0m             \u001b[0mtup\u001b[0m \u001b[0;34m=\u001b[0m \u001b[0mself\u001b[0m\u001b[0;34m.\u001b[0m\u001b[0m_expand_ellipsis\u001b[0m\u001b[0;34m(\u001b[0m\u001b[0mtup\u001b[0m\u001b[0;34m)\u001b[0m\u001b[0;34m\u001b[0m\u001b[0;34m\u001b[0m\u001b[0m\n\u001b[0;32m-> 1140\u001b[0;31m             \u001b[0;32mreturn\u001b[0m \u001b[0mself\u001b[0m\u001b[0;34m.\u001b[0m\u001b[0m_getitem_lowerdim\u001b[0m\u001b[0;34m(\u001b[0m\u001b[0mtup\u001b[0m\u001b[0;34m)\u001b[0m\u001b[0;34m\u001b[0m\u001b[0;34m\u001b[0m\u001b[0m\n\u001b[0m\u001b[1;32m   1141\u001b[0m \u001b[0;34m\u001b[0m\u001b[0m\n\u001b[1;32m   1142\u001b[0m         \u001b[0;31m# no multi-index, so validate all of the indexers\u001b[0m\u001b[0;34m\u001b[0m\u001b[0;34m\u001b[0m\u001b[0m\n",
      "\u001b[0;32m/opt/homebrew/Caskroom/miniforge/base/envs/py39/lib/python3.9/site-packages/pandas/core/indexing.py\u001b[0m in \u001b[0;36m_getitem_lowerdim\u001b[0;34m(self, tup)\u001b[0m\n\u001b[1;32m    865\u001b[0m                 \u001b[0;31m# We don't need to check for tuples here because those are\u001b[0m\u001b[0;34m\u001b[0m\u001b[0;34m\u001b[0m\u001b[0m\n\u001b[1;32m    866\u001b[0m                 \u001b[0;31m#  caught by the _is_nested_tuple_indexer check above.\u001b[0m\u001b[0;34m\u001b[0m\u001b[0;34m\u001b[0m\u001b[0m\n\u001b[0;32m--> 867\u001b[0;31m                 \u001b[0msection\u001b[0m \u001b[0;34m=\u001b[0m \u001b[0mself\u001b[0m\u001b[0;34m.\u001b[0m\u001b[0m_getitem_axis\u001b[0m\u001b[0;34m(\u001b[0m\u001b[0mkey\u001b[0m\u001b[0;34m,\u001b[0m \u001b[0maxis\u001b[0m\u001b[0;34m=\u001b[0m\u001b[0mi\u001b[0m\u001b[0;34m)\u001b[0m\u001b[0;34m\u001b[0m\u001b[0;34m\u001b[0m\u001b[0m\n\u001b[0m\u001b[1;32m    868\u001b[0m \u001b[0;34m\u001b[0m\u001b[0m\n\u001b[1;32m    869\u001b[0m                 \u001b[0;31m# We should never have a scalar section here, because\u001b[0m\u001b[0;34m\u001b[0m\u001b[0;34m\u001b[0m\u001b[0m\n",
      "\u001b[0;32m/opt/homebrew/Caskroom/miniforge/base/envs/py39/lib/python3.9/site-packages/pandas/core/indexing.py\u001b[0m in \u001b[0;36m_getitem_axis\u001b[0;34m(self, key, axis)\u001b[0m\n\u001b[1;32m   1203\u001b[0m         \u001b[0;31m# fall thru to straight lookup\u001b[0m\u001b[0;34m\u001b[0m\u001b[0;34m\u001b[0m\u001b[0m\n\u001b[1;32m   1204\u001b[0m         \u001b[0mself\u001b[0m\u001b[0;34m.\u001b[0m\u001b[0m_validate_key\u001b[0m\u001b[0;34m(\u001b[0m\u001b[0mkey\u001b[0m\u001b[0;34m,\u001b[0m \u001b[0maxis\u001b[0m\u001b[0;34m)\u001b[0m\u001b[0;34m\u001b[0m\u001b[0;34m\u001b[0m\u001b[0m\n\u001b[0;32m-> 1205\u001b[0;31m         \u001b[0;32mreturn\u001b[0m \u001b[0mself\u001b[0m\u001b[0;34m.\u001b[0m\u001b[0m_get_label\u001b[0m\u001b[0;34m(\u001b[0m\u001b[0mkey\u001b[0m\u001b[0;34m,\u001b[0m \u001b[0maxis\u001b[0m\u001b[0;34m=\u001b[0m\u001b[0maxis\u001b[0m\u001b[0;34m)\u001b[0m\u001b[0;34m\u001b[0m\u001b[0;34m\u001b[0m\u001b[0m\n\u001b[0m\u001b[1;32m   1206\u001b[0m \u001b[0;34m\u001b[0m\u001b[0m\n\u001b[1;32m   1207\u001b[0m     \u001b[0;32mdef\u001b[0m \u001b[0m_get_slice_axis\u001b[0m\u001b[0;34m(\u001b[0m\u001b[0mself\u001b[0m\u001b[0;34m,\u001b[0m \u001b[0mslice_obj\u001b[0m\u001b[0;34m:\u001b[0m \u001b[0mslice\u001b[0m\u001b[0;34m,\u001b[0m \u001b[0maxis\u001b[0m\u001b[0;34m:\u001b[0m \u001b[0mint\u001b[0m\u001b[0;34m)\u001b[0m\u001b[0;34m:\u001b[0m\u001b[0;34m\u001b[0m\u001b[0;34m\u001b[0m\u001b[0m\n",
      "\u001b[0;32m/opt/homebrew/Caskroom/miniforge/base/envs/py39/lib/python3.9/site-packages/pandas/core/indexing.py\u001b[0m in \u001b[0;36m_get_label\u001b[0;34m(self, label, axis)\u001b[0m\n\u001b[1;32m   1151\u001b[0m     \u001b[0;32mdef\u001b[0m \u001b[0m_get_label\u001b[0m\u001b[0;34m(\u001b[0m\u001b[0mself\u001b[0m\u001b[0;34m,\u001b[0m \u001b[0mlabel\u001b[0m\u001b[0;34m,\u001b[0m \u001b[0maxis\u001b[0m\u001b[0;34m:\u001b[0m \u001b[0mint\u001b[0m\u001b[0;34m)\u001b[0m\u001b[0;34m:\u001b[0m\u001b[0;34m\u001b[0m\u001b[0;34m\u001b[0m\u001b[0m\n\u001b[1;32m   1152\u001b[0m         \u001b[0;31m# GH#5667 this will fail if the label is not present in the axis.\u001b[0m\u001b[0;34m\u001b[0m\u001b[0;34m\u001b[0m\u001b[0m\n\u001b[0;32m-> 1153\u001b[0;31m         \u001b[0;32mreturn\u001b[0m \u001b[0mself\u001b[0m\u001b[0;34m.\u001b[0m\u001b[0mobj\u001b[0m\u001b[0;34m.\u001b[0m\u001b[0mxs\u001b[0m\u001b[0;34m(\u001b[0m\u001b[0mlabel\u001b[0m\u001b[0;34m,\u001b[0m \u001b[0maxis\u001b[0m\u001b[0;34m=\u001b[0m\u001b[0maxis\u001b[0m\u001b[0;34m)\u001b[0m\u001b[0;34m\u001b[0m\u001b[0;34m\u001b[0m\u001b[0m\n\u001b[0m\u001b[1;32m   1154\u001b[0m \u001b[0;34m\u001b[0m\u001b[0m\n\u001b[1;32m   1155\u001b[0m     \u001b[0;32mdef\u001b[0m \u001b[0m_handle_lowerdim_multi_index_axis0\u001b[0m\u001b[0;34m(\u001b[0m\u001b[0mself\u001b[0m\u001b[0;34m,\u001b[0m \u001b[0mtup\u001b[0m\u001b[0;34m:\u001b[0m \u001b[0mtuple\u001b[0m\u001b[0;34m)\u001b[0m\u001b[0;34m:\u001b[0m\u001b[0;34m\u001b[0m\u001b[0;34m\u001b[0m\u001b[0m\n",
      "\u001b[0;32m/opt/homebrew/Caskroom/miniforge/base/envs/py39/lib/python3.9/site-packages/pandas/core/generic.py\u001b[0m in \u001b[0;36mxs\u001b[0;34m(self, key, axis, level, drop_level)\u001b[0m\n\u001b[1;32m   3862\u001b[0m                     \u001b[0mnew_index\u001b[0m \u001b[0;34m=\u001b[0m \u001b[0mindex\u001b[0m\u001b[0;34m[\u001b[0m\u001b[0mloc\u001b[0m\u001b[0;34m]\u001b[0m\u001b[0;34m\u001b[0m\u001b[0;34m\u001b[0m\u001b[0m\n\u001b[1;32m   3863\u001b[0m         \u001b[0;32melse\u001b[0m\u001b[0;34m:\u001b[0m\u001b[0;34m\u001b[0m\u001b[0;34m\u001b[0m\u001b[0m\n\u001b[0;32m-> 3864\u001b[0;31m             \u001b[0mloc\u001b[0m \u001b[0;34m=\u001b[0m \u001b[0mindex\u001b[0m\u001b[0;34m.\u001b[0m\u001b[0mget_loc\u001b[0m\u001b[0;34m(\u001b[0m\u001b[0mkey\u001b[0m\u001b[0;34m)\u001b[0m\u001b[0;34m\u001b[0m\u001b[0;34m\u001b[0m\u001b[0m\n\u001b[0m\u001b[1;32m   3865\u001b[0m \u001b[0;34m\u001b[0m\u001b[0m\n\u001b[1;32m   3866\u001b[0m             \u001b[0;32mif\u001b[0m \u001b[0misinstance\u001b[0m\u001b[0;34m(\u001b[0m\u001b[0mloc\u001b[0m\u001b[0;34m,\u001b[0m \u001b[0mnp\u001b[0m\u001b[0;34m.\u001b[0m\u001b[0mndarray\u001b[0m\u001b[0;34m)\u001b[0m\u001b[0;34m:\u001b[0m\u001b[0;34m\u001b[0m\u001b[0;34m\u001b[0m\u001b[0m\n",
      "\u001b[0;32m/opt/homebrew/Caskroom/miniforge/base/envs/py39/lib/python3.9/site-packages/pandas/core/indexes/base.py\u001b[0m in \u001b[0;36mget_loc\u001b[0;34m(self, key, method, tolerance)\u001b[0m\n\u001b[1;32m   3629\u001b[0m                 \u001b[0;32mreturn\u001b[0m \u001b[0mself\u001b[0m\u001b[0;34m.\u001b[0m\u001b[0m_engine\u001b[0m\u001b[0;34m.\u001b[0m\u001b[0mget_loc\u001b[0m\u001b[0;34m(\u001b[0m\u001b[0mcasted_key\u001b[0m\u001b[0;34m)\u001b[0m\u001b[0;34m\u001b[0m\u001b[0;34m\u001b[0m\u001b[0m\n\u001b[1;32m   3630\u001b[0m             \u001b[0;32mexcept\u001b[0m \u001b[0mKeyError\u001b[0m \u001b[0;32mas\u001b[0m \u001b[0merr\u001b[0m\u001b[0;34m:\u001b[0m\u001b[0;34m\u001b[0m\u001b[0;34m\u001b[0m\u001b[0m\n\u001b[0;32m-> 3631\u001b[0;31m                 \u001b[0;32mraise\u001b[0m \u001b[0mKeyError\u001b[0m\u001b[0;34m(\u001b[0m\u001b[0mkey\u001b[0m\u001b[0;34m)\u001b[0m \u001b[0;32mfrom\u001b[0m \u001b[0merr\u001b[0m\u001b[0;34m\u001b[0m\u001b[0;34m\u001b[0m\u001b[0m\n\u001b[0m\u001b[1;32m   3632\u001b[0m             \u001b[0;32mexcept\u001b[0m \u001b[0mTypeError\u001b[0m\u001b[0;34m:\u001b[0m\u001b[0;34m\u001b[0m\u001b[0;34m\u001b[0m\u001b[0m\n\u001b[1;32m   3633\u001b[0m                 \u001b[0;31m# If we have a listlike key, _check_indexing_error will raise\u001b[0m\u001b[0;34m\u001b[0m\u001b[0;34m\u001b[0m\u001b[0m\n",
      "\u001b[0;31mKeyError\u001b[0m: '10108'"
     ]
    }
   ],
   "source": [
    "# list of beers that reviews have already reviewed\n",
    "already_drank = list(user_df.loc[user, 'beer_id'])"
   ]
  },
  {
   "cell_type": "code",
   "execution_count": null,
   "id": "a4c67b06",
   "metadata": {},
   "outputs": [],
   "source": []
  },
  {
   "cell_type": "code",
   "execution_count": null,
   "id": "ec2937ce",
   "metadata": {},
   "outputs": [],
   "source": []
  },
  {
   "cell_type": "code",
   "execution_count": null,
   "id": "6cbca3dd",
   "metadata": {},
   "outputs": [],
   "source": []
  },
  {
   "cell_type": "code",
   "execution_count": null,
   "id": "2cd43c1d",
   "metadata": {},
   "outputs": [],
   "source": []
  },
  {
   "cell_type": "code",
   "execution_count": null,
   "id": "677ff39d",
   "metadata": {},
   "outputs": [],
   "source": []
  },
  {
   "cell_type": "code",
   "execution_count": null,
   "id": "60692c18",
   "metadata": {},
   "outputs": [],
   "source": []
  }
 ],
 "metadata": {
  "kernelspec": {
   "display_name": "py39",
   "language": "python",
   "name": "py39"
  },
  "language_info": {
   "codemirror_mode": {
    "name": "ipython",
    "version": 3
   },
   "file_extension": ".py",
   "mimetype": "text/x-python",
   "name": "python",
   "nbconvert_exporter": "python",
   "pygments_lexer": "ipython3",
   "version": "3.9.13"
  }
 },
 "nbformat": 4,
 "nbformat_minor": 5
}
