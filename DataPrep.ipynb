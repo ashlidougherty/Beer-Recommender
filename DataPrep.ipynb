{
 "cells": [
  {
   "cell_type": "markdown",
   "id": "40a8cab4",
   "metadata": {},
   "source": [
    "![header](./images/beertaps.png)"
   ]
  },
  {
   "cell_type": "markdown",
   "id": "62f79c9f",
   "metadata": {},
   "source": [
    "# Beer-Recommendation System: Data Prep\n",
    "Author: Ashli Dougherty "
   ]
  },
  {
   "cell_type": "markdown",
   "id": "57cb7923",
   "metadata": {},
   "source": [
    "# Overview"
   ]
  },
  {
   "cell_type": "markdown",
   "id": "74d54e9d",
   "metadata": {},
   "source": [
    "This project's goal is to build a recommendation system for the beer enthusiast. I am interested in creating both a content based and collaborative filtering recommendation system. \n",
    "- A content based system will make recommendations based on a beer's features. The content based system will allow any user to enter a beer/characteristic and in return they will be given the names of other beers they will (hopefully) enjoy drinking.  \n",
    "- The collaborative system will recommend items based on the ratings of other users. This system will compare beer drinker/reviewer profiles and then recommend items based on the similarity between these users. "
   ]
  },
  {
   "cell_type": "markdown",
   "id": "a2e9309e",
   "metadata": {},
   "source": [
    "***"
   ]
  },
  {
   "cell_type": "markdown",
   "id": "8337d58d",
   "metadata": {},
   "source": [
    "# Business Understanding  **FINISH THIS**"
   ]
  },
  {
   "cell_type": "markdown",
   "id": "f32a1af1",
   "metadata": {},
   "source": [
    "As of December of 2021 there are more than [9,000 breweries](https://vinepair.com/booze-news/us-record-number-breweries-2021/#:~:text=Even%20after%20the%20setbacks%20of,beer%20producers%20in%20the%20U.S.) in the US alone. There are so many options on the market that choosing which beverage to buy next, what brewery to visit in person, or which booth to stand in line for at a festival can seem overwhelming. The craft beer business is still booming even after the pandemic and customers should know they can enjoy their next sip (or pint) with confidence. My target audience could be any of the hundred of thousands of people that enjoy beer and trying new breweries! The domain knowledge I am relying on is personal as I myself am a sometimes indecisive) beer enthusiast who has tried over 1,000 beers and visited approximately 100 breweries."
   ]
  },
  {
   "cell_type": "markdown",
   "id": "9be52f06",
   "metadata": {},
   "source": [
    "***"
   ]
  },
  {
   "cell_type": "markdown",
   "id": "33e87187",
   "metadata": {},
   "source": [
    "# Data Understanding "
   ]
  },
  {
   "cell_type": "markdown",
   "id": "734e8dae",
   "metadata": {},
   "source": [
    ">There are two datasets being utilized for this project. \n",
    "\n",
    "### Tasting Profiles\n",
    "The [first dataset](https://www.kaggle.com/datasets/stephenpolozoff/top-beer-information?select=beer_data_set.csv) contains data scraped from the website [BeerAdvocate.com](https://www.beeradvocate.com/). It is a CSV file that contains 5,558 beers in total across 112 styles. Other data represented in the table includes: the brewery the beer was produced, a description of the beer, and the overall rating of the beer. As there is no unique user review data, this dataset would be best for a content based recommendation system. \n",
    "\n",
    "### Beer Reviews \n",
    "The [second dataset](https://www.kaggle.com/datasets/rdoume/beerreviews) is also scraped from [BeerAdvocate.com](https://www.beeradvocate.com/). It is a CSV file that contains approximately 1.6 million reviews of beers from their website. There are a total of 33,388 unique reviewers and 56,857 unique beers that have been reviewed. There are no descriptions of the beers, just names, brewery, style, and ratings on a scale of 1 - 5. Because this data set has both unique users and beer IDs it lends itself to be a collaborative filtering system.   \n",
    "\n",
    "Due to the large size of these datasets I downloaded them locally and saved to an external repository outside of github."
   ]
  },
  {
   "cell_type": "markdown",
   "id": "1b7c4820",
   "metadata": {},
   "source": [
    "***"
   ]
  },
  {
   "cell_type": "markdown",
   "id": "753e2388",
   "metadata": {},
   "source": [
    "# Data Preparation "
   ]
  },
  {
   "cell_type": "markdown",
   "id": "e0728d2e",
   "metadata": {},
   "source": [
    "## Imports\n",
    "\n",
    "Initial cleaning consited of using pandas methods and functions. Visualizations were made using the Seaborn library.  Warnings is imported to ignore the copy/slice warning when slicing a dataframe."
   ]
  },
  {
   "cell_type": "code",
   "execution_count": 33,
   "id": "b62b7282",
   "metadata": {},
   "outputs": [],
   "source": [
    "import pandas as pd\n",
    "import numpy as np\n",
    "import matplotlib.pyplot as plt\n",
    "%matplotlib inline\n",
    "import seaborn as sns\n",
    "import string\n",
    "import re\n",
    "import warnings\n",
    "warnings.filterwarnings(\"ignore\")"
   ]
  },
  {
   "cell_type": "markdown",
   "id": "e29c588d",
   "metadata": {},
   "source": [
    "## Load Data"
   ]
  },
  {
   "cell_type": "markdown",
   "id": "0d830379",
   "metadata": {},
   "source": [
    "## Tasting Profiles -- content based recs"
   ]
  },
  {
   "cell_type": "code",
   "execution_count": 34,
   "id": "994393a8",
   "metadata": {},
   "outputs": [],
   "source": [
    "df_tasting = pd.read_csv('../BeerData/tasting_profiles.csv')"
   ]
  },
  {
   "cell_type": "code",
   "execution_count": 35,
   "id": "f5d99cb9",
   "metadata": {},
   "outputs": [
    {
     "data": {
      "text/html": [
       "<div>\n",
       "<style scoped>\n",
       "    .dataframe tbody tr th:only-of-type {\n",
       "        vertical-align: middle;\n",
       "    }\n",
       "\n",
       "    .dataframe tbody tr th {\n",
       "        vertical-align: top;\n",
       "    }\n",
       "\n",
       "    .dataframe thead th {\n",
       "        text-align: right;\n",
       "    }\n",
       "</style>\n",
       "<table border=\"1\" class=\"dataframe\">\n",
       "  <thead>\n",
       "    <tr style=\"text-align: right;\">\n",
       "      <th></th>\n",
       "      <th>Name</th>\n",
       "      <th>key</th>\n",
       "      <th>Style</th>\n",
       "      <th>Style Key</th>\n",
       "      <th>Brewery</th>\n",
       "      <th>Description</th>\n",
       "      <th>ABV</th>\n",
       "      <th>Ave Rating</th>\n",
       "      <th>Min IBU</th>\n",
       "      <th>Max IBU</th>\n",
       "      <th>...</th>\n",
       "      <th>Body</th>\n",
       "      <th>Alcohol</th>\n",
       "      <th>Bitter</th>\n",
       "      <th>Sweet</th>\n",
       "      <th>Sour</th>\n",
       "      <th>Salty</th>\n",
       "      <th>Fruits</th>\n",
       "      <th>Hoppy</th>\n",
       "      <th>Spices</th>\n",
       "      <th>Malty</th>\n",
       "    </tr>\n",
       "  </thead>\n",
       "  <tbody>\n",
       "    <tr>\n",
       "      <th>0</th>\n",
       "      <td>Amber</td>\n",
       "      <td>251</td>\n",
       "      <td>Altbier</td>\n",
       "      <td>8</td>\n",
       "      <td>Alaskan Brewing Co.</td>\n",
       "      <td>Notes:Richly malty and long on the palate, wit...</td>\n",
       "      <td>5.3</td>\n",
       "      <td>3.65</td>\n",
       "      <td>25</td>\n",
       "      <td>50</td>\n",
       "      <td>...</td>\n",
       "      <td>32</td>\n",
       "      <td>9</td>\n",
       "      <td>47</td>\n",
       "      <td>74</td>\n",
       "      <td>33</td>\n",
       "      <td>0</td>\n",
       "      <td>33</td>\n",
       "      <td>57</td>\n",
       "      <td>8</td>\n",
       "      <td>111</td>\n",
       "    </tr>\n",
       "    <tr>\n",
       "      <th>1</th>\n",
       "      <td>Double Bag</td>\n",
       "      <td>252</td>\n",
       "      <td>Altbier</td>\n",
       "      <td>8</td>\n",
       "      <td>Long Trail Brewing Co.</td>\n",
       "      <td>Notes:This malty, full-bodied double alt is al...</td>\n",
       "      <td>7.2</td>\n",
       "      <td>3.90</td>\n",
       "      <td>25</td>\n",
       "      <td>50</td>\n",
       "      <td>...</td>\n",
       "      <td>57</td>\n",
       "      <td>18</td>\n",
       "      <td>33</td>\n",
       "      <td>55</td>\n",
       "      <td>16</td>\n",
       "      <td>0</td>\n",
       "      <td>24</td>\n",
       "      <td>35</td>\n",
       "      <td>12</td>\n",
       "      <td>84</td>\n",
       "    </tr>\n",
       "    <tr>\n",
       "      <th>2</th>\n",
       "      <td>Long Trail Ale</td>\n",
       "      <td>253</td>\n",
       "      <td>Altbier</td>\n",
       "      <td>8</td>\n",
       "      <td>Long Trail Brewing Co.</td>\n",
       "      <td>Notes:Long Trail Ale is a full-bodied amber al...</td>\n",
       "      <td>5.0</td>\n",
       "      <td>3.58</td>\n",
       "      <td>25</td>\n",
       "      <td>50</td>\n",
       "      <td>...</td>\n",
       "      <td>37</td>\n",
       "      <td>6</td>\n",
       "      <td>42</td>\n",
       "      <td>43</td>\n",
       "      <td>11</td>\n",
       "      <td>0</td>\n",
       "      <td>10</td>\n",
       "      <td>54</td>\n",
       "      <td>4</td>\n",
       "      <td>62</td>\n",
       "    </tr>\n",
       "    <tr>\n",
       "      <th>3</th>\n",
       "      <td>Doppelsticke</td>\n",
       "      <td>254</td>\n",
       "      <td>Altbier</td>\n",
       "      <td>8</td>\n",
       "      <td>Uerige Obergärige Hausbrauerei</td>\n",
       "      <td>Notes:</td>\n",
       "      <td>8.5</td>\n",
       "      <td>4.15</td>\n",
       "      <td>25</td>\n",
       "      <td>50</td>\n",
       "      <td>...</td>\n",
       "      <td>55</td>\n",
       "      <td>31</td>\n",
       "      <td>47</td>\n",
       "      <td>101</td>\n",
       "      <td>18</td>\n",
       "      <td>1</td>\n",
       "      <td>49</td>\n",
       "      <td>40</td>\n",
       "      <td>16</td>\n",
       "      <td>119</td>\n",
       "    </tr>\n",
       "    <tr>\n",
       "      <th>4</th>\n",
       "      <td>Scurry</td>\n",
       "      <td>255</td>\n",
       "      <td>Altbier</td>\n",
       "      <td>8</td>\n",
       "      <td>Off Color Brewing</td>\n",
       "      <td>Notes:Just cause it's dark and German doesn't ...</td>\n",
       "      <td>5.3</td>\n",
       "      <td>3.67</td>\n",
       "      <td>25</td>\n",
       "      <td>50</td>\n",
       "      <td>...</td>\n",
       "      <td>69</td>\n",
       "      <td>10</td>\n",
       "      <td>63</td>\n",
       "      <td>120</td>\n",
       "      <td>14</td>\n",
       "      <td>0</td>\n",
       "      <td>19</td>\n",
       "      <td>36</td>\n",
       "      <td>15</td>\n",
       "      <td>218</td>\n",
       "    </tr>\n",
       "  </tbody>\n",
       "</table>\n",
       "<p>5 rows × 21 columns</p>\n",
       "</div>"
      ],
      "text/plain": [
       "             Name  key    Style  Style Key                         Brewery  \\\n",
       "0           Amber  251  Altbier          8             Alaskan Brewing Co.   \n",
       "1      Double Bag  252  Altbier          8          Long Trail Brewing Co.   \n",
       "2  Long Trail Ale  253  Altbier          8          Long Trail Brewing Co.   \n",
       "3    Doppelsticke  254  Altbier          8  Uerige Obergärige Hausbrauerei   \n",
       "4          Scurry  255  Altbier          8               Off Color Brewing   \n",
       "\n",
       "                                         Description  ABV  Ave Rating  \\\n",
       "0  Notes:Richly malty and long on the palate, wit...  5.3        3.65   \n",
       "1  Notes:This malty, full-bodied double alt is al...  7.2        3.90   \n",
       "2  Notes:Long Trail Ale is a full-bodied amber al...  5.0        3.58   \n",
       "3                                             Notes:  8.5        4.15   \n",
       "4  Notes:Just cause it's dark and German doesn't ...  5.3        3.67   \n",
       "\n",
       "   Min IBU  Max IBU  ...  Body  Alcohol  Bitter  Sweet  Sour  Salty  Fruits  \\\n",
       "0       25       50  ...    32        9      47     74    33      0      33   \n",
       "1       25       50  ...    57       18      33     55    16      0      24   \n",
       "2       25       50  ...    37        6      42     43    11      0      10   \n",
       "3       25       50  ...    55       31      47    101    18      1      49   \n",
       "4       25       50  ...    69       10      63    120    14      0      19   \n",
       "\n",
       "   Hoppy  Spices  Malty  \n",
       "0     57       8    111  \n",
       "1     35      12     84  \n",
       "2     54       4     62  \n",
       "3     40      16    119  \n",
       "4     36      15    218  \n",
       "\n",
       "[5 rows x 21 columns]"
      ]
     },
     "execution_count": 35,
     "metadata": {},
     "output_type": "execute_result"
    }
   ],
   "source": [
    "df_tasting.head()"
   ]
  },
  {
   "cell_type": "code",
   "execution_count": 36,
   "id": "eaf75143",
   "metadata": {},
   "outputs": [
    {
     "data": {
      "text/plain": [
       "(5558, 21)"
      ]
     },
     "execution_count": 36,
     "metadata": {},
     "output_type": "execute_result"
    }
   ],
   "source": [
    "# check shape\n",
    "df_tasting.shape"
   ]
  },
  {
   "cell_type": "code",
   "execution_count": 37,
   "id": "68c96ca0",
   "metadata": {},
   "outputs": [
    {
     "name": "stdout",
     "output_type": "stream",
     "text": [
      "<class 'pandas.core.frame.DataFrame'>\n",
      "RangeIndex: 5558 entries, 0 to 5557\n",
      "Data columns (total 21 columns):\n",
      " #   Column       Non-Null Count  Dtype  \n",
      "---  ------       --------------  -----  \n",
      " 0   Name         5556 non-null   object \n",
      " 1   key          5558 non-null   int64  \n",
      " 2   Style        5558 non-null   object \n",
      " 3   Style Key    5558 non-null   int64  \n",
      " 4   Brewery      5558 non-null   object \n",
      " 5   Description  5558 non-null   object \n",
      " 6   ABV          5558 non-null   float64\n",
      " 7   Ave Rating   5558 non-null   float64\n",
      " 8   Min IBU      5558 non-null   int64  \n",
      " 9   Max IBU      5558 non-null   int64  \n",
      " 10  Astringency  5558 non-null   int64  \n",
      " 11  Body         5558 non-null   int64  \n",
      " 12  Alcohol      5558 non-null   int64  \n",
      " 13  Bitter       5558 non-null   int64  \n",
      " 14  Sweet        5558 non-null   int64  \n",
      " 15  Sour         5558 non-null   int64  \n",
      " 16  Salty        5558 non-null   int64  \n",
      " 17  Fruits       5558 non-null   int64  \n",
      " 18  Hoppy        5558 non-null   int64  \n",
      " 19  Spices       5558 non-null   int64  \n",
      " 20  Malty        5558 non-null   int64  \n",
      "dtypes: float64(2), int64(15), object(4)\n",
      "memory usage: 912.0+ KB\n"
     ]
    }
   ],
   "source": [
    "# checking types\n",
    "df_tasting.info()\n",
    "# all types look as expected"
   ]
  },
  {
   "cell_type": "code",
   "execution_count": 38,
   "id": "2157811b",
   "metadata": {},
   "outputs": [
    {
     "data": {
      "text/plain": [
       "Name           2\n",
       "key            0\n",
       "Style          0\n",
       "Style Key      0\n",
       "Brewery        0\n",
       "Description    0\n",
       "ABV            0\n",
       "Ave Rating     0\n",
       "Min IBU        0\n",
       "Max IBU        0\n",
       "Astringency    0\n",
       "Body           0\n",
       "Alcohol        0\n",
       "Bitter         0\n",
       "Sweet          0\n",
       "Sour           0\n",
       "Salty          0\n",
       "Fruits         0\n",
       "Hoppy          0\n",
       "Spices         0\n",
       "Malty          0\n",
       "dtype: int64"
      ]
     },
     "execution_count": 38,
     "metadata": {},
     "output_type": "execute_result"
    }
   ],
   "source": [
    "df_tasting.isna().sum()"
   ]
  },
  {
   "cell_type": "code",
   "execution_count": 39,
   "id": "53e2d0a6",
   "metadata": {},
   "outputs": [
    {
     "data": {
      "text/plain": [
       "0"
      ]
     },
     "execution_count": 39,
     "metadata": {},
     "output_type": "execute_result"
    }
   ],
   "source": [
    "df_tasting.duplicated().sum()"
   ]
  },
  {
   "cell_type": "markdown",
   "id": "c9e80661",
   "metadata": {},
   "source": [
    "> There are no duplicates and only 2 missing values. These missing values will be dropped as I need the identity of the beer in order to recommend it. "
   ]
  },
  {
   "cell_type": "code",
   "execution_count": 40,
   "id": "e8daac44",
   "metadata": {},
   "outputs": [],
   "source": [
    "df_tasting.dropna(inplace=True)"
   ]
  },
  {
   "cell_type": "code",
   "execution_count": 41,
   "id": "c6b41ab2",
   "metadata": {},
   "outputs": [
    {
     "data": {
      "text/plain": [
       "(5556, 21)"
      ]
     },
     "execution_count": 41,
     "metadata": {},
     "output_type": "execute_result"
    }
   ],
   "source": [
    "df_tasting.shape"
   ]
  },
  {
   "cell_type": "markdown",
   "id": "3a868b44",
   "metadata": {},
   "source": [
    "## Data Cleaning"
   ]
  },
  {
   "cell_type": "markdown",
   "id": "76734b04",
   "metadata": {},
   "source": [
    "### Cleaning 'Decription' Feature"
   ]
  },
  {
   "cell_type": "code",
   "execution_count": 42,
   "id": "084278c4",
   "metadata": {
    "scrolled": true
   },
   "outputs": [
    {
     "data": {
      "text/plain": [
       "0       Notes:Richly malty and long on the palate, wit...\n",
       "1       Notes:This malty, full-bodied double alt is al...\n",
       "2       Notes:Long Trail Ale is a full-bodied amber al...\n",
       "3                                                  Notes:\n",
       "4       Notes:Just cause it's dark and German doesn't ...\n",
       "                              ...                        \n",
       "5553                                               Notes:\n",
       "5554    Notes:This is the forty-fifth annual Our Speci...\n",
       "5555                                               Notes:\n",
       "5556    Notes:Chanukah Beer pours a rich crystal clear...\n",
       "5557    Notes:The essence of Christmas is captured in ...\n",
       "Name: Description, Length: 5556, dtype: object"
      ]
     },
     "execution_count": 42,
     "metadata": {},
     "output_type": "execute_result"
    }
   ],
   "source": [
    "df_tasting.Description"
   ]
  },
  {
   "cell_type": "markdown",
   "id": "8f791458",
   "metadata": {},
   "source": [
    "> From a first look at the table it appears that not all the beers actually have a description. Some entries are just 'Notes:' and therefore will not come up as null values even though they do not contain any useable information."
   ]
  },
  {
   "cell_type": "code",
   "execution_count": 43,
   "id": "2abdfa4f",
   "metadata": {},
   "outputs": [],
   "source": [
    "notes = df_tasting.Description == 'Notes:'"
   ]
  },
  {
   "cell_type": "code",
   "execution_count": 44,
   "id": "66850a73",
   "metadata": {},
   "outputs": [
    {
     "data": {
      "text/plain": [
       "2194"
      ]
     },
     "execution_count": 44,
     "metadata": {},
     "output_type": "execute_result"
    }
   ],
   "source": [
    "notes.sum()"
   ]
  },
  {
   "cell_type": "markdown",
   "id": "c28f851c",
   "metadata": {},
   "source": [
    "> 2,194 of 5,556 beers have no written description. There will still be over 3,300 unique beers in the data base, therefore, these rows will be dropped. "
   ]
  },
  {
   "cell_type": "code",
   "execution_count": 45,
   "id": "c2bab00c",
   "metadata": {},
   "outputs": [],
   "source": [
    "# removing Notes: from df, this will leave blank rows that will be dropped\n",
    "df_tasting.Description = df_tasting.Description.str.strip('Notes:')"
   ]
  },
  {
   "cell_type": "code",
   "execution_count": 46,
   "id": "1863bedd",
   "metadata": {},
   "outputs": [
    {
     "data": {
      "text/html": [
       "<div>\n",
       "<style scoped>\n",
       "    .dataframe tbody tr th:only-of-type {\n",
       "        vertical-align: middle;\n",
       "    }\n",
       "\n",
       "    .dataframe tbody tr th {\n",
       "        vertical-align: top;\n",
       "    }\n",
       "\n",
       "    .dataframe thead th {\n",
       "        text-align: right;\n",
       "    }\n",
       "</style>\n",
       "<table border=\"1\" class=\"dataframe\">\n",
       "  <thead>\n",
       "    <tr style=\"text-align: right;\">\n",
       "      <th></th>\n",
       "      <th>Name</th>\n",
       "      <th>key</th>\n",
       "      <th>Style</th>\n",
       "      <th>Style Key</th>\n",
       "      <th>Brewery</th>\n",
       "      <th>Description</th>\n",
       "      <th>ABV</th>\n",
       "      <th>Ave Rating</th>\n",
       "      <th>Min IBU</th>\n",
       "      <th>Max IBU</th>\n",
       "      <th>...</th>\n",
       "      <th>Body</th>\n",
       "      <th>Alcohol</th>\n",
       "      <th>Bitter</th>\n",
       "      <th>Sweet</th>\n",
       "      <th>Sour</th>\n",
       "      <th>Salty</th>\n",
       "      <th>Fruits</th>\n",
       "      <th>Hoppy</th>\n",
       "      <th>Spices</th>\n",
       "      <th>Malty</th>\n",
       "    </tr>\n",
       "  </thead>\n",
       "  <tbody>\n",
       "    <tr>\n",
       "      <th>0</th>\n",
       "      <td>Amber</td>\n",
       "      <td>251</td>\n",
       "      <td>Altbier</td>\n",
       "      <td>8</td>\n",
       "      <td>Alaskan Brewing Co.</td>\n",
       "      <td>Richly malty and long on the palate, with just...</td>\n",
       "      <td>5.3</td>\n",
       "      <td>3.65</td>\n",
       "      <td>25</td>\n",
       "      <td>50</td>\n",
       "      <td>...</td>\n",
       "      <td>32</td>\n",
       "      <td>9</td>\n",
       "      <td>47</td>\n",
       "      <td>74</td>\n",
       "      <td>33</td>\n",
       "      <td>0</td>\n",
       "      <td>33</td>\n",
       "      <td>57</td>\n",
       "      <td>8</td>\n",
       "      <td>111</td>\n",
       "    </tr>\n",
       "    <tr>\n",
       "      <th>1</th>\n",
       "      <td>Double Bag</td>\n",
       "      <td>252</td>\n",
       "      <td>Altbier</td>\n",
       "      <td>8</td>\n",
       "      <td>Long Trail Brewing Co.</td>\n",
       "      <td>This malty, full-bodied double alt is also kno...</td>\n",
       "      <td>7.2</td>\n",
       "      <td>3.90</td>\n",
       "      <td>25</td>\n",
       "      <td>50</td>\n",
       "      <td>...</td>\n",
       "      <td>57</td>\n",
       "      <td>18</td>\n",
       "      <td>33</td>\n",
       "      <td>55</td>\n",
       "      <td>16</td>\n",
       "      <td>0</td>\n",
       "      <td>24</td>\n",
       "      <td>35</td>\n",
       "      <td>12</td>\n",
       "      <td>84</td>\n",
       "    </tr>\n",
       "    <tr>\n",
       "      <th>2</th>\n",
       "      <td>Long Trail Ale</td>\n",
       "      <td>253</td>\n",
       "      <td>Altbier</td>\n",
       "      <td>8</td>\n",
       "      <td>Long Trail Brewing Co.</td>\n",
       "      <td>Long Trail Ale is a full-bodied amber ale mode...</td>\n",
       "      <td>5.0</td>\n",
       "      <td>3.58</td>\n",
       "      <td>25</td>\n",
       "      <td>50</td>\n",
       "      <td>...</td>\n",
       "      <td>37</td>\n",
       "      <td>6</td>\n",
       "      <td>42</td>\n",
       "      <td>43</td>\n",
       "      <td>11</td>\n",
       "      <td>0</td>\n",
       "      <td>10</td>\n",
       "      <td>54</td>\n",
       "      <td>4</td>\n",
       "      <td>62</td>\n",
       "    </tr>\n",
       "    <tr>\n",
       "      <th>3</th>\n",
       "      <td>Doppelsticke</td>\n",
       "      <td>254</td>\n",
       "      <td>Altbier</td>\n",
       "      <td>8</td>\n",
       "      <td>Uerige Obergärige Hausbrauerei</td>\n",
       "      <td></td>\n",
       "      <td>8.5</td>\n",
       "      <td>4.15</td>\n",
       "      <td>25</td>\n",
       "      <td>50</td>\n",
       "      <td>...</td>\n",
       "      <td>55</td>\n",
       "      <td>31</td>\n",
       "      <td>47</td>\n",
       "      <td>101</td>\n",
       "      <td>18</td>\n",
       "      <td>1</td>\n",
       "      <td>49</td>\n",
       "      <td>40</td>\n",
       "      <td>16</td>\n",
       "      <td>119</td>\n",
       "    </tr>\n",
       "    <tr>\n",
       "      <th>4</th>\n",
       "      <td>Scurry</td>\n",
       "      <td>255</td>\n",
       "      <td>Altbier</td>\n",
       "      <td>8</td>\n",
       "      <td>Off Color Brewing</td>\n",
       "      <td>Just cause it's dark and German doesn't mean i...</td>\n",
       "      <td>5.3</td>\n",
       "      <td>3.67</td>\n",
       "      <td>25</td>\n",
       "      <td>50</td>\n",
       "      <td>...</td>\n",
       "      <td>69</td>\n",
       "      <td>10</td>\n",
       "      <td>63</td>\n",
       "      <td>120</td>\n",
       "      <td>14</td>\n",
       "      <td>0</td>\n",
       "      <td>19</td>\n",
       "      <td>36</td>\n",
       "      <td>15</td>\n",
       "      <td>218</td>\n",
       "    </tr>\n",
       "  </tbody>\n",
       "</table>\n",
       "<p>5 rows × 21 columns</p>\n",
       "</div>"
      ],
      "text/plain": [
       "             Name  key    Style  Style Key                         Brewery  \\\n",
       "0           Amber  251  Altbier          8             Alaskan Brewing Co.   \n",
       "1      Double Bag  252  Altbier          8          Long Trail Brewing Co.   \n",
       "2  Long Trail Ale  253  Altbier          8          Long Trail Brewing Co.   \n",
       "3    Doppelsticke  254  Altbier          8  Uerige Obergärige Hausbrauerei   \n",
       "4          Scurry  255  Altbier          8               Off Color Brewing   \n",
       "\n",
       "                                         Description  ABV  Ave Rating  \\\n",
       "0  Richly malty and long on the palate, with just...  5.3        3.65   \n",
       "1  This malty, full-bodied double alt is also kno...  7.2        3.90   \n",
       "2  Long Trail Ale is a full-bodied amber ale mode...  5.0        3.58   \n",
       "3                                                     8.5        4.15   \n",
       "4  Just cause it's dark and German doesn't mean i...  5.3        3.67   \n",
       "\n",
       "   Min IBU  Max IBU  ...  Body  Alcohol  Bitter  Sweet  Sour  Salty  Fruits  \\\n",
       "0       25       50  ...    32        9      47     74    33      0      33   \n",
       "1       25       50  ...    57       18      33     55    16      0      24   \n",
       "2       25       50  ...    37        6      42     43    11      0      10   \n",
       "3       25       50  ...    55       31      47    101    18      1      49   \n",
       "4       25       50  ...    69       10      63    120    14      0      19   \n",
       "\n",
       "   Hoppy  Spices  Malty  \n",
       "0     57       8    111  \n",
       "1     35      12     84  \n",
       "2     54       4     62  \n",
       "3     40      16    119  \n",
       "4     36      15    218  \n",
       "\n",
       "[5 rows x 21 columns]"
      ]
     },
     "execution_count": 46,
     "metadata": {},
     "output_type": "execute_result"
    }
   ],
   "source": [
    "#checking dataframe\n",
    "df_tasting.head()"
   ]
  },
  {
   "cell_type": "code",
   "execution_count": 47,
   "id": "d403fd08",
   "metadata": {},
   "outputs": [],
   "source": [
    "#dropping empty rows\n",
    "df_tasting = df_tasting.loc[df_tasting['Description'] != \"\"]"
   ]
  },
  {
   "cell_type": "code",
   "execution_count": 48,
   "id": "43a52f71",
   "metadata": {},
   "outputs": [
    {
     "data": {
      "text/plain": [
       "(3362, 21)"
      ]
     },
     "execution_count": 48,
     "metadata": {},
     "output_type": "execute_result"
    }
   ],
   "source": [
    "df_tasting.shape"
   ]
  },
  {
   "cell_type": "code",
   "execution_count": 49,
   "id": "2ebdd15c",
   "metadata": {},
   "outputs": [],
   "source": [
    "#df_tasting.drop(columns='Description', inplace=True)"
   ]
  },
  {
   "attachments": {
    "brownale.png": {
     "image/png": "[encoded data removed]"
    }
   },
   "cell_type": "markdown",
   "id": "2522bd04",
   "metadata": {},
   "source": [
    "### Cleaning 'Style' Feature\n",
    "#### Binning Styles\n",
    "There were initially 112 different styles. In order to streamline recommendations and decrease feature complexity I will be combining similar styles together based on the [BeerAdvocate’s Style Guide](https://www.beeradvocate.com/beer/styles/). For example a category on the site is “Brown Ales” with the different variations listed below.![brownale.png](attachment:brownale.png)\n",
    "The idea is that if a person likes one type of brown ale (say an Altbier)  they are likely to enjoy another within this category. I created a style dictionary that I will map each 112 subcategories to their 17 main categories. Binning by name of **Style** will simplify this feature, but each unique subcategory will be preserved in the **Style Key** feature. "
   ]
  },
  {
   "cell_type": "code",
   "execution_count": 50,
   "id": "6d10743d",
   "metadata": {},
   "outputs": [
    {
     "data": {
      "text/plain": [
       "112"
      ]
     },
     "execution_count": 50,
     "metadata": {},
     "output_type": "execute_result"
    }
   ],
   "source": [
    "df_tasting['Style Key'].nunique()"
   ]
  },
  {
   "cell_type": "code",
   "execution_count": 51,
   "id": "04072f77",
   "metadata": {},
   "outputs": [
    {
     "data": {
      "text/plain": [
       "IPA - New England            50\n",
       "Stout - American Imperial    49\n",
       "Wild Ale                     48\n",
       "IPA - American               46\n",
       "Farmhouse Ale - Saison       45\n",
       "                             ..\n",
       "Farmhouse Ale - Sahti        10\n",
       "Lager - European Strong      10\n",
       "Happoshu                     10\n",
       "Rye Beer - Roggenbier         9\n",
       "Lambic - Faro                 3\n",
       "Name: Style, Length: 112, dtype: int64"
      ]
     },
     "execution_count": 51,
     "metadata": {},
     "output_type": "execute_result"
    }
   ],
   "source": [
    "df_tasting['Style'].value_counts()"
   ]
  },
  {
   "cell_type": "code",
   "execution_count": 52,
   "id": "4d7fc872",
   "metadata": {},
   "outputs": [],
   "source": [
    "def unique_list(list1):\n",
    "    '''\n",
    "    This function takes a list and creates a new list of unique values. \n",
    "    '''\n",
    "    unique_list = []\n",
    "    for x in list1: \n",
    "        if x not in unique_list: \n",
    "            unique_list.append(x)\n",
    "    for x in unique_list: \n",
    "        print(x)"
   ]
  },
  {
   "cell_type": "code",
   "execution_count": 53,
   "id": "b7fd15ae",
   "metadata": {},
   "outputs": [],
   "source": [
    "# creating a list all styles\n",
    "style_list = df_tasting['Style'].tolist()"
   ]
  },
  {
   "cell_type": "markdown",
   "id": "29992f80",
   "metadata": {},
   "source": [
    "Creating a list of styles to be used in unique_list function. Produced list will be used to create style_map. The cell below remains commented out to prevent the 112 item list from printing. The styles can be seen in the following style_map cell."
   ]
  },
  {
   "cell_type": "code",
   "execution_count": 54,
   "id": "6effc1a7",
   "metadata": {},
   "outputs": [],
   "source": [
    "# extracting list of styles to use as base for style map\n",
    "#unique_list(style_list)"
   ]
  },
  {
   "cell_type": "code",
   "execution_count": 55,
   "id": "d6a43a26",
   "metadata": {},
   "outputs": [],
   "source": [
    "style_map = {\n",
    "    'Altbier': 'Brown Ale',\n",
    "    'Barleywine - American': 'Strong Ale',\n",
    "    'Barleywine - English': 'Strong Ale',\n",
    "    'Bitter - English Extra Special / Strong Bitter (ESB)': 'Pale Ale',\n",
    "    'Bitter - English': 'Pale Ale',\n",
    "    'Bière de Champagne / Bière Brut': 'Hybrid Beer',\n",
    "    'Blonde Ale - American': 'Pale Ale',\n",
    "    'Blonde Ale - Belgian': 'Pale Ale',\n",
    "    'Bock - Doppelbock': 'Bock',\n",
    "    'Bock - Eisbock': 'Bock',\n",
    "    'Bock - Maibock': 'Bock',\n",
    "    'Bock - Traditional': 'Bock',\n",
    "    'Bock - Weizenbock': 'Bock',\n",
    "    'Braggot': 'Hybrid Beer',\n",
    "    'Brett Beer': 'Wild/Sour Beer',\n",
    "    'Brown Ale - American': 'Brown Ale',\n",
    "    'Brown Ale - Belgian Dark': 'Brown Ale',\n",
    "    'Brown Ale - English': 'Brown Ale',\n",
    "    'California Common / Steam Beer': 'Hybrid Beer',\n",
    "    'Chile Beer': 'Specialty Beer',\n",
    "    'Cream Ale': 'Hybrid Beer',\n",
    "    'Dubbel': 'Dark Ale',\n",
    "    'Farmhouse Ale - Bière de Garde': 'Pale Ale',\n",
    "    'Farmhouse Ale - Sahti': 'Specialty Beer',\n",
    "    'Farmhouse Ale - Saison': 'Pale Ale',\n",
    "    'Fruit and Field Beer': 'Specialty Beer',\n",
    "    'Gruit / Ancient Herbed Ale': 'Specialty Beer',\n",
    "    'Happoshu': 'Specialty Beer',\n",
    "    'Herb and Spice Beer': 'Specialty Beer',\n",
    "    'IPA - American': 'India Pale Ale',\n",
    "    'IPA - Belgian': 'India Pale Ale',\n",
    "    'IPA - Black / Cascadian Dark Ale': 'India Pale Ale',\n",
    "    'IPA - Brut': 'India Pale Ale',\n",
    "    'IPA - English': 'India Pale Ale',\n",
    "    'IPA - Imperial': 'India Pale Ale',\n",
    "    'IPA - New England': 'India Pale Ale',\n",
    "    'Kvass': 'Specialty Beer',\n",
    "    'Kölsch': 'Pale Ale',\n",
    "    'Lager - Adjunct': 'Pale Lager',\n",
    "    'Lager - American Amber / Red': 'Dark Lager',\n",
    "    'Lager - American': 'Pale Lager',\n",
    "    'Lager - European / Dortmunder Export': 'Pale Lager',\n",
    "    'Lager - European Dark': 'Dark Lager',\n",
    "    'Lager - European Pale': 'Pale Lager',\n",
    "    'Lager - European Strong': 'Pale Lager',\n",
    "    'Lager - Helles': 'Pale Lager',\n",
    "    'Lager - India Pale Lager (IPL)': 'Pale Lager',\n",
    "    'Lager - Japanese Rice': 'Specialty Beer',\n",
    "    'Lager - Kellerbier / Zwickelbier': 'Pale Lager',\n",
    "    'Lager - Light': 'Pale Lager',\n",
    "    'Lager - Malt Liquor': 'Pale Lager',\n",
    "    'Lager - Munich Dunkel': 'Dark Lager',\n",
    "    'Lager - Märzen / Oktoberfest': 'Dark Lager',\n",
    "    'Lager - Rauchbier': 'Dark Lager',\n",
    "    'Lager - Schwarzbier': 'Dark Lager',\n",
    "    'Lager - Vienna': 'Dark Lager',\n",
    "    'Lambic - Faro': 'Wild/Sour Beer',\n",
    "    'Lambic - Fruit': 'Wild/Sour Beer',\n",
    "    'Lambic - Gueuze': 'Wild/Sour Beer',\n",
    "    'Lambic - Traditional': 'Wild/Sour Beer',\n",
    "    'Low Alcohol Beer': 'Specialty Beer',\n",
    "    'Mild Ale - English Dark': 'Brown Ale',\n",
    "    'Mild Ale - English Pale': 'Pale Ale',\n",
    "    'Old Ale': 'Strong Ale',\n",
    "    'Pale Ale - American': 'Pale Ale',\n",
    "    'Pale Ale - Belgian': 'Pale Ale',\n",
    "    'Pale Ale - English': 'Pale Ale',\n",
    "    'Pilsner - Bohemian / Czech': 'Pale Lager',\n",
    "    'Pilsner - German': 'Pale Lager',\n",
    "    'Pilsner - Imperial': 'Pale Lager',\n",
    "    'Porter - American': 'Porter',\n",
    "    'Porter - Baltic': 'Porter',\n",
    "    'Porter - English': 'Porter',\n",
    "    'Porter - Imperial': 'Porter',\n",
    "    'Porter - Robust': 'Porter',\n",
    "    'Porter - Smoked': 'Porter',\n",
    "    'Pumpkin Beer': 'Specialty Beer',\n",
    "    'Quadrupel (Quad)': 'Strong Ale',\n",
    "    'Red Ale - American Amber / Red': 'Pale Ale',\n",
    "    'Red Ale - Imperial': 'Strong Ale',\n",
    "    'Red Ale - Irish': 'Pale Ale',\n",
    "    'Rye Beer - Roggenbier': 'Dark Ale',\n",
    "    'Rye Beer': 'Specialty Beer',\n",
    "    'Scotch Ale / Wee Heavy': 'Strong Ale',\n",
    "    'Scottish Ale': 'Dark Ale',\n",
    "    'Smoked Beer': 'Specialty Beer',\n",
    "    'Sour - Berliner Weisse': 'Wild/Sour Beer',\n",
    "    'Sour - Flanders Oud Bruin': 'Wild/Sour Beer',\n",
    "    'Sour - Flanders Red Ale': 'Wild/Sour Beer',\n",
    "    'Sour - Gose': 'Wild/Sour Beer',\n",
    "    'Stout - American Imperial': 'Stout',\n",
    "    'Stout - American': 'Stout',\n",
    "    'Stout - English': 'Stout',\n",
    "    'Stout - Foreign / Export': 'Stout',\n",
    "    'Stout - Irish Dry': 'Stout',\n",
    "    'Stout - Oatmeal': 'Stout',\n",
    "    'Stout - Russian Imperial': 'Stout',\n",
    "    'Stout - Sweet / Milk': 'Stout',\n",
    "    'Strong Ale - American': 'Strong Ale',\n",
    "    'Strong Ale - Belgian Dark': 'Strong Ale',\n",
    "    'Strong Ale - Belgian Pale': 'Strong Ale',\n",
    "    'Strong Ale - English': 'Strong Ale',\n",
    "    'Tripel': 'Strong Ale',\n",
    "    'Wheat Beer - American Dark': 'Wheat Beer',\n",
    "    'Wheat Beer - American Pale': 'Wheat Beer',\n",
    "    'Wheat Beer - Dunkelweizen': 'Wheat Beer',\n",
    "    'Wheat Beer - Hefeweizen': 'Wheat Beer',\n",
    "    'Wheat Beer - Kristallweizen': 'Wheat Beer',\n",
    "    'Wheat Beer - Wheatwine': 'Wheat Beer',\n",
    "    'Wheat Beer - Witbier': 'Wheat Beer',\n",
    "    'Wild Ale': 'Wild/Sour Beers',\n",
    "    'Winter Warmer': 'Dark Ale'\n",
    "}"
   ]
  },
  {
   "cell_type": "code",
   "execution_count": 56,
   "id": "fe03a451",
   "metadata": {},
   "outputs": [],
   "source": [
    "# applying style map\n",
    "df_tasting['Style'] = df_tasting['Style'].map(style_map)"
   ]
  },
  {
   "cell_type": "code",
   "execution_count": 57,
   "id": "c4f18551",
   "metadata": {},
   "outputs": [
    {
     "data": {
      "text/plain": [
       "0"
      ]
     },
     "execution_count": 57,
     "metadata": {},
     "output_type": "execute_result"
    }
   ],
   "source": [
    "# checking to see if any beers were missed in binning process\n",
    "df_tasting['Style'].isna().sum()"
   ]
  },
  {
   "cell_type": "code",
   "execution_count": 58,
   "id": "79b6a646",
   "metadata": {},
   "outputs": [
    {
     "data": {
      "text/plain": [
       "Pale Ale           403\n",
       "Strong Ale         356\n",
       "Pale Lager         341\n",
       "Specialty Beer     303\n",
       "Stout              289\n",
       "India Pale Ale     282\n",
       "Wild/Sour Beer     272\n",
       "Porter             213\n",
       "Dark Lager         203\n",
       "Wheat Beer         186\n",
       "Brown Ale          161\n",
       "Bock               115\n",
       "Dark Ale            97\n",
       "Hybrid Beer         93\n",
       "Wild/Sour Beers     48\n",
       "Name: Style, dtype: int64"
      ]
     },
     "execution_count": 58,
     "metadata": {},
     "output_type": "execute_result"
    }
   ],
   "source": [
    "# checking to see how many beers are in each new category \n",
    "df_tasting['Style'].value_counts()"
   ]
  },
  {
   "cell_type": "code",
   "execution_count": 59,
   "id": "2a49b66f",
   "metadata": {},
   "outputs": [
    {
     "data": {
      "text/html": [
       "<div>\n",
       "<style scoped>\n",
       "    .dataframe tbody tr th:only-of-type {\n",
       "        vertical-align: middle;\n",
       "    }\n",
       "\n",
       "    .dataframe tbody tr th {\n",
       "        vertical-align: top;\n",
       "    }\n",
       "\n",
       "    .dataframe thead th {\n",
       "        text-align: right;\n",
       "    }\n",
       "</style>\n",
       "<table border=\"1\" class=\"dataframe\">\n",
       "  <thead>\n",
       "    <tr style=\"text-align: right;\">\n",
       "      <th></th>\n",
       "      <th>Name</th>\n",
       "      <th>key</th>\n",
       "      <th>Style</th>\n",
       "      <th>Style Key</th>\n",
       "      <th>Brewery</th>\n",
       "      <th>Description</th>\n",
       "      <th>ABV</th>\n",
       "      <th>Ave Rating</th>\n",
       "      <th>Min IBU</th>\n",
       "      <th>Max IBU</th>\n",
       "      <th>...</th>\n",
       "      <th>Body</th>\n",
       "      <th>Alcohol</th>\n",
       "      <th>Bitter</th>\n",
       "      <th>Sweet</th>\n",
       "      <th>Sour</th>\n",
       "      <th>Salty</th>\n",
       "      <th>Fruits</th>\n",
       "      <th>Hoppy</th>\n",
       "      <th>Spices</th>\n",
       "      <th>Malty</th>\n",
       "    </tr>\n",
       "  </thead>\n",
       "  <tbody>\n",
       "    <tr>\n",
       "      <th>0</th>\n",
       "      <td>Amber</td>\n",
       "      <td>251</td>\n",
       "      <td>Brown Ale</td>\n",
       "      <td>8</td>\n",
       "      <td>Alaskan Brewing Co.</td>\n",
       "      <td>Richly malty and long on the palate, with just...</td>\n",
       "      <td>5.3</td>\n",
       "      <td>3.65</td>\n",
       "      <td>25</td>\n",
       "      <td>50</td>\n",
       "      <td>...</td>\n",
       "      <td>32</td>\n",
       "      <td>9</td>\n",
       "      <td>47</td>\n",
       "      <td>74</td>\n",
       "      <td>33</td>\n",
       "      <td>0</td>\n",
       "      <td>33</td>\n",
       "      <td>57</td>\n",
       "      <td>8</td>\n",
       "      <td>111</td>\n",
       "    </tr>\n",
       "    <tr>\n",
       "      <th>1</th>\n",
       "      <td>Double Bag</td>\n",
       "      <td>252</td>\n",
       "      <td>Brown Ale</td>\n",
       "      <td>8</td>\n",
       "      <td>Long Trail Brewing Co.</td>\n",
       "      <td>This malty, full-bodied double alt is also kno...</td>\n",
       "      <td>7.2</td>\n",
       "      <td>3.90</td>\n",
       "      <td>25</td>\n",
       "      <td>50</td>\n",
       "      <td>...</td>\n",
       "      <td>57</td>\n",
       "      <td>18</td>\n",
       "      <td>33</td>\n",
       "      <td>55</td>\n",
       "      <td>16</td>\n",
       "      <td>0</td>\n",
       "      <td>24</td>\n",
       "      <td>35</td>\n",
       "      <td>12</td>\n",
       "      <td>84</td>\n",
       "    </tr>\n",
       "    <tr>\n",
       "      <th>2</th>\n",
       "      <td>Long Trail Ale</td>\n",
       "      <td>253</td>\n",
       "      <td>Brown Ale</td>\n",
       "      <td>8</td>\n",
       "      <td>Long Trail Brewing Co.</td>\n",
       "      <td>Long Trail Ale is a full-bodied amber ale mode...</td>\n",
       "      <td>5.0</td>\n",
       "      <td>3.58</td>\n",
       "      <td>25</td>\n",
       "      <td>50</td>\n",
       "      <td>...</td>\n",
       "      <td>37</td>\n",
       "      <td>6</td>\n",
       "      <td>42</td>\n",
       "      <td>43</td>\n",
       "      <td>11</td>\n",
       "      <td>0</td>\n",
       "      <td>10</td>\n",
       "      <td>54</td>\n",
       "      <td>4</td>\n",
       "      <td>62</td>\n",
       "    </tr>\n",
       "    <tr>\n",
       "      <th>4</th>\n",
       "      <td>Scurry</td>\n",
       "      <td>255</td>\n",
       "      <td>Brown Ale</td>\n",
       "      <td>8</td>\n",
       "      <td>Off Color Brewing</td>\n",
       "      <td>Just cause it's dark and German doesn't mean i...</td>\n",
       "      <td>5.3</td>\n",
       "      <td>3.67</td>\n",
       "      <td>25</td>\n",
       "      <td>50</td>\n",
       "      <td>...</td>\n",
       "      <td>69</td>\n",
       "      <td>10</td>\n",
       "      <td>63</td>\n",
       "      <td>120</td>\n",
       "      <td>14</td>\n",
       "      <td>0</td>\n",
       "      <td>19</td>\n",
       "      <td>36</td>\n",
       "      <td>15</td>\n",
       "      <td>218</td>\n",
       "    </tr>\n",
       "    <tr>\n",
       "      <th>5</th>\n",
       "      <td>Sleigh'r Dark Doüble Alt Ale</td>\n",
       "      <td>256</td>\n",
       "      <td>Brown Ale</td>\n",
       "      <td>8</td>\n",
       "      <td>Ninkasi Brewing Company</td>\n",
       "      <td>Called 'Dark Double Alt' on the label.Seize th...</td>\n",
       "      <td>7.2</td>\n",
       "      <td>3.78</td>\n",
       "      <td>25</td>\n",
       "      <td>50</td>\n",
       "      <td>...</td>\n",
       "      <td>51</td>\n",
       "      <td>26</td>\n",
       "      <td>44</td>\n",
       "      <td>45</td>\n",
       "      <td>9</td>\n",
       "      <td>1</td>\n",
       "      <td>11</td>\n",
       "      <td>51</td>\n",
       "      <td>20</td>\n",
       "      <td>95</td>\n",
       "    </tr>\n",
       "  </tbody>\n",
       "</table>\n",
       "<p>5 rows × 21 columns</p>\n",
       "</div>"
      ],
      "text/plain": [
       "                           Name  key      Style  Style Key  \\\n",
       "0                         Amber  251  Brown Ale          8   \n",
       "1                    Double Bag  252  Brown Ale          8   \n",
       "2                Long Trail Ale  253  Brown Ale          8   \n",
       "4                        Scurry  255  Brown Ale          8   \n",
       "5  Sleigh'r Dark Doüble Alt Ale  256  Brown Ale          8   \n",
       "\n",
       "                   Brewery                                        Description  \\\n",
       "0      Alaskan Brewing Co.  Richly malty and long on the palate, with just...   \n",
       "1   Long Trail Brewing Co.  This malty, full-bodied double alt is also kno...   \n",
       "2   Long Trail Brewing Co.  Long Trail Ale is a full-bodied amber ale mode...   \n",
       "4        Off Color Brewing  Just cause it's dark and German doesn't mean i...   \n",
       "5  Ninkasi Brewing Company  Called 'Dark Double Alt' on the label.Seize th...   \n",
       "\n",
       "   ABV  Ave Rating  Min IBU  Max IBU  ...  Body  Alcohol  Bitter  Sweet  Sour  \\\n",
       "0  5.3        3.65       25       50  ...    32        9      47     74    33   \n",
       "1  7.2        3.90       25       50  ...    57       18      33     55    16   \n",
       "2  5.0        3.58       25       50  ...    37        6      42     43    11   \n",
       "4  5.3        3.67       25       50  ...    69       10      63    120    14   \n",
       "5  7.2        3.78       25       50  ...    51       26      44     45     9   \n",
       "\n",
       "   Salty  Fruits  Hoppy  Spices  Malty  \n",
       "0      0      33     57       8    111  \n",
       "1      0      24     35      12     84  \n",
       "2      0      10     54       4     62  \n",
       "4      0      19     36      15    218  \n",
       "5      1      11     51      20     95  \n",
       "\n",
       "[5 rows x 21 columns]"
      ]
     },
     "execution_count": 59,
     "metadata": {},
     "output_type": "execute_result"
    }
   ],
   "source": [
    "# inspecting new style column\n",
    "df_tasting.head()"
   ]
  },
  {
   "cell_type": "code",
   "execution_count": 60,
   "id": "c12c594d",
   "metadata": {},
   "outputs": [
    {
     "data": {
      "image/png": "[encoded data removed]",
      "text/plain": [
       "<Figure size 800x500 with 1 Axes>"
      ]
     },
     "metadata": {},
     "output_type": "display_data"
    }
   ],
   "source": [
    "plt.figure(figsize=(8,5))\n",
    "ax = sns.histplot(df_tasting['Style'], color = 'tab:blue', edgecolor='black')\n",
    "ax.set_xticklabels(ax.get_xticklabels(),rotation = 30, ha='right');"
   ]
  },
  {
   "cell_type": "markdown",
   "id": "7af4ce41",
   "metadata": {},
   "source": [
    "### Continued Column Cleaning"
   ]
  },
  {
   "cell_type": "code",
   "execution_count": 61,
   "id": "41af553e",
   "metadata": {},
   "outputs": [
    {
     "data": {
      "text/plain": [
       "Index(['Name', 'key', 'Style', 'Style Key', 'Brewery', 'Description', 'ABV',\n",
       "       'Ave Rating', 'Min IBU', 'Max IBU', 'Astringency', 'Body', 'Alcohol',\n",
       "       'Bitter', 'Sweet', 'Sour', 'Salty', 'Fruits', 'Hoppy', 'Spices',\n",
       "       'Malty'],\n",
       "      dtype='object')"
      ]
     },
     "execution_count": 61,
     "metadata": {},
     "output_type": "execute_result"
    }
   ],
   "source": [
    "df_tasting.columns"
   ]
  },
  {
   "cell_type": "markdown",
   "id": "b6374cd5",
   "metadata": {},
   "source": [
    "#### Cleaning 'key' column"
   ]
  },
  {
   "cell_type": "code",
   "execution_count": 62,
   "id": "45a17e6e",
   "metadata": {},
   "outputs": [
    {
     "data": {
      "text/plain": [
       "3362"
      ]
     },
     "execution_count": 62,
     "metadata": {},
     "output_type": "execute_result"
    }
   ],
   "source": [
    "df_tasting.key.nunique()"
   ]
  },
  {
   "cell_type": "code",
   "execution_count": 63,
   "id": "cc8c2218",
   "metadata": {
    "scrolled": false
   },
   "outputs": [],
   "source": [
    "#Each beer has a 'key' that is acting as an identification number, \n",
    "#therefore I am going to rename the column 'beerid'\n",
    "df_tasting.rename(columns={\"key\": \"beer_id\"}, inplace=True)"
   ]
  },
  {
   "cell_type": "code",
   "execution_count": 64,
   "id": "0142839e",
   "metadata": {},
   "outputs": [
    {
     "data": {
      "text/html": [
       "<div>\n",
       "<style scoped>\n",
       "    .dataframe tbody tr th:only-of-type {\n",
       "        vertical-align: middle;\n",
       "    }\n",
       "\n",
       "    .dataframe tbody tr th {\n",
       "        vertical-align: top;\n",
       "    }\n",
       "\n",
       "    .dataframe thead th {\n",
       "        text-align: right;\n",
       "    }\n",
       "</style>\n",
       "<table border=\"1\" class=\"dataframe\">\n",
       "  <thead>\n",
       "    <tr style=\"text-align: right;\">\n",
       "      <th></th>\n",
       "      <th>Name</th>\n",
       "      <th>beer_id</th>\n",
       "      <th>Style</th>\n",
       "      <th>Style Key</th>\n",
       "      <th>Brewery</th>\n",
       "      <th>Description</th>\n",
       "      <th>ABV</th>\n",
       "      <th>Ave Rating</th>\n",
       "      <th>Min IBU</th>\n",
       "      <th>Max IBU</th>\n",
       "      <th>...</th>\n",
       "      <th>Body</th>\n",
       "      <th>Alcohol</th>\n",
       "      <th>Bitter</th>\n",
       "      <th>Sweet</th>\n",
       "      <th>Sour</th>\n",
       "      <th>Salty</th>\n",
       "      <th>Fruits</th>\n",
       "      <th>Hoppy</th>\n",
       "      <th>Spices</th>\n",
       "      <th>Malty</th>\n",
       "    </tr>\n",
       "  </thead>\n",
       "  <tbody>\n",
       "    <tr>\n",
       "      <th>0</th>\n",
       "      <td>Amber</td>\n",
       "      <td>251</td>\n",
       "      <td>Brown Ale</td>\n",
       "      <td>8</td>\n",
       "      <td>Alaskan Brewing Co.</td>\n",
       "      <td>Richly malty and long on the palate, with just...</td>\n",
       "      <td>5.3</td>\n",
       "      <td>3.65</td>\n",
       "      <td>25</td>\n",
       "      <td>50</td>\n",
       "      <td>...</td>\n",
       "      <td>32</td>\n",
       "      <td>9</td>\n",
       "      <td>47</td>\n",
       "      <td>74</td>\n",
       "      <td>33</td>\n",
       "      <td>0</td>\n",
       "      <td>33</td>\n",
       "      <td>57</td>\n",
       "      <td>8</td>\n",
       "      <td>111</td>\n",
       "    </tr>\n",
       "  </tbody>\n",
       "</table>\n",
       "<p>1 rows × 21 columns</p>\n",
       "</div>"
      ],
      "text/plain": [
       "    Name  beer_id      Style  Style Key              Brewery  \\\n",
       "0  Amber      251  Brown Ale          8  Alaskan Brewing Co.   \n",
       "\n",
       "                                         Description  ABV  Ave Rating  \\\n",
       "0  Richly malty and long on the palate, with just...  5.3        3.65   \n",
       "\n",
       "   Min IBU  Max IBU  ...  Body  Alcohol  Bitter  Sweet  Sour  Salty  Fruits  \\\n",
       "0       25       50  ...    32        9      47     74    33      0      33   \n",
       "\n",
       "   Hoppy  Spices  Malty  \n",
       "0     57       8    111  \n",
       "\n",
       "[1 rows x 21 columns]"
      ]
     },
     "execution_count": 64,
     "metadata": {},
     "output_type": "execute_result"
    }
   ],
   "source": [
    "df_tasting.head(1)"
   ]
  },
  {
   "cell_type": "markdown",
   "id": "fe03d539",
   "metadata": {},
   "source": [
    "#### Cleaning 'ABV' Column"
   ]
  },
  {
   "cell_type": "code",
   "execution_count": 65,
   "id": "8c214b48",
   "metadata": {},
   "outputs": [
    {
     "data": {
      "text/plain": [
       "(184, 0.0, 28.0, 6.885038667459845)"
      ]
     },
     "execution_count": 65,
     "metadata": {},
     "output_type": "execute_result"
    }
   ],
   "source": [
    "# checking ABV column values\n",
    "df_tasting['ABV'].nunique(), df_tasting['ABV'].min(), df_tasting['ABV'].max(), df_tasting['ABV'].mean()"
   ]
  },
  {
   "cell_type": "code",
   "execution_count": 66,
   "id": "62e4434d",
   "metadata": {},
   "outputs": [
    {
     "data": {
      "text/plain": [
       "<AxesSubplot: xlabel='ABV', ylabel='Count'>"
      ]
     },
     "execution_count": 66,
     "metadata": {},
     "output_type": "execute_result"
    },
    {
     "data": {
      "image/png": "[encoded data removed]",
      "text/plain": [
       "<Figure size 640x480 with 1 Axes>"
      ]
     },
     "metadata": {},
     "output_type": "display_data"
    }
   ],
   "source": [
    "sns.histplot(df_tasting['ABV'])"
   ]
  },
  {
   "cell_type": "markdown",
   "id": "09ef33ed",
   "metadata": {},
   "source": [
    "> On first look it seems that there are some extreme outliers for AVB especially on the higher end. Based on the histogram there seems to be a dropoff after 15% ABV. These beers will be filtered out."
   ]
  },
  {
   "cell_type": "code",
   "execution_count": 67,
   "id": "d7b4b7e9",
   "metadata": {},
   "outputs": [],
   "source": [
    "df_tasting = df_tasting.loc[df_tasting['ABV'] <= 15]"
   ]
  },
  {
   "cell_type": "code",
   "execution_count": 68,
   "id": "609ab9b6",
   "metadata": {},
   "outputs": [
    {
     "data": {
      "text/plain": [
       "(3346, 21)"
      ]
     },
     "execution_count": 68,
     "metadata": {},
     "output_type": "execute_result"
    }
   ],
   "source": [
    "# checking to see if high abv beers are dropped\n",
    "df_tasting.shape\n",
    "# only lost 16 beers in filtering process"
   ]
  },
  {
   "cell_type": "code",
   "execution_count": 69,
   "id": "cebb0c1e",
   "metadata": {},
   "outputs": [
    {
     "data": {
      "text/plain": [
       "<AxesSubplot: xlabel='ABV', ylabel='Count'>"
      ]
     },
     "execution_count": 69,
     "metadata": {},
     "output_type": "execute_result"
    },
    {
     "data": {
      "image/png": "[encoded data removed]",
      "text/plain": [
       "<Figure size 640x480 with 1 Axes>"
      ]
     },
     "metadata": {},
     "output_type": "display_data"
    }
   ],
   "source": [
    "#inspecting new histogram of abv distribution\n",
    "sns.histplot(df_tasting['ABV'])"
   ]
  },
  {
   "cell_type": "markdown",
   "id": "0a5777bf",
   "metadata": {},
   "source": [
    "#### Checking Rating Column"
   ]
  },
  {
   "cell_type": "code",
   "execution_count": 70,
   "id": "8df0198f",
   "metadata": {},
   "outputs": [
    {
     "data": {
      "text/plain": [
       "count    3346.000000\n",
       "mean        3.855326\n",
       "std         0.404997\n",
       "min         1.530000\n",
       "25%         3.670000\n",
       "50%         3.890000\n",
       "75%         4.110000\n",
       "max         4.810000\n",
       "Name: Ave Rating, dtype: float64"
      ]
     },
     "execution_count": 70,
     "metadata": {},
     "output_type": "execute_result"
    }
   ],
   "source": [
    "# looks like all reviews are greater than 1 and less than 5\n",
    "df_tasting['Ave Rating'].describe()"
   ]
  },
  {
   "cell_type": "code",
   "execution_count": 71,
   "id": "328bbb88",
   "metadata": {},
   "outputs": [],
   "source": [
    "# changing column name to 'Avg Rating' as avg is standard abbreviation for average \n",
    "df_tasting.rename(columns={\"Ave Rating\": \"Avg Rating\"}, inplace=True)"
   ]
  },
  {
   "cell_type": "code",
   "execution_count": 72,
   "id": "45f890ae",
   "metadata": {},
   "outputs": [
    {
     "data": {
      "text/html": [
       "<div>\n",
       "<style scoped>\n",
       "    .dataframe tbody tr th:only-of-type {\n",
       "        vertical-align: middle;\n",
       "    }\n",
       "\n",
       "    .dataframe tbody tr th {\n",
       "        vertical-align: top;\n",
       "    }\n",
       "\n",
       "    .dataframe thead th {\n",
       "        text-align: right;\n",
       "    }\n",
       "</style>\n",
       "<table border=\"1\" class=\"dataframe\">\n",
       "  <thead>\n",
       "    <tr style=\"text-align: right;\">\n",
       "      <th></th>\n",
       "      <th>Name</th>\n",
       "      <th>beer_id</th>\n",
       "      <th>Style</th>\n",
       "      <th>Style Key</th>\n",
       "      <th>Brewery</th>\n",
       "      <th>Description</th>\n",
       "      <th>ABV</th>\n",
       "      <th>Avg Rating</th>\n",
       "      <th>Min IBU</th>\n",
       "      <th>Max IBU</th>\n",
       "      <th>...</th>\n",
       "      <th>Body</th>\n",
       "      <th>Alcohol</th>\n",
       "      <th>Bitter</th>\n",
       "      <th>Sweet</th>\n",
       "      <th>Sour</th>\n",
       "      <th>Salty</th>\n",
       "      <th>Fruits</th>\n",
       "      <th>Hoppy</th>\n",
       "      <th>Spices</th>\n",
       "      <th>Malty</th>\n",
       "    </tr>\n",
       "  </thead>\n",
       "  <tbody>\n",
       "    <tr>\n",
       "      <th>0</th>\n",
       "      <td>Amber</td>\n",
       "      <td>251</td>\n",
       "      <td>Brown Ale</td>\n",
       "      <td>8</td>\n",
       "      <td>Alaskan Brewing Co.</td>\n",
       "      <td>Richly malty and long on the palate, with just...</td>\n",
       "      <td>5.3</td>\n",
       "      <td>3.65</td>\n",
       "      <td>25</td>\n",
       "      <td>50</td>\n",
       "      <td>...</td>\n",
       "      <td>32</td>\n",
       "      <td>9</td>\n",
       "      <td>47</td>\n",
       "      <td>74</td>\n",
       "      <td>33</td>\n",
       "      <td>0</td>\n",
       "      <td>33</td>\n",
       "      <td>57</td>\n",
       "      <td>8</td>\n",
       "      <td>111</td>\n",
       "    </tr>\n",
       "  </tbody>\n",
       "</table>\n",
       "<p>1 rows × 21 columns</p>\n",
       "</div>"
      ],
      "text/plain": [
       "    Name  beer_id      Style  Style Key              Brewery  \\\n",
       "0  Amber      251  Brown Ale          8  Alaskan Brewing Co.   \n",
       "\n",
       "                                         Description  ABV  Avg Rating  \\\n",
       "0  Richly malty and long on the palate, with just...  5.3        3.65   \n",
       "\n",
       "   Min IBU  Max IBU  ...  Body  Alcohol  Bitter  Sweet  Sour  Salty  Fruits  \\\n",
       "0       25       50  ...    32        9      47     74    33      0      33   \n",
       "\n",
       "   Hoppy  Spices  Malty  \n",
       "0     57       8    111  \n",
       "\n",
       "[1 rows x 21 columns]"
      ]
     },
     "execution_count": 72,
     "metadata": {},
     "output_type": "execute_result"
    }
   ],
   "source": [
    "#checking columns\n",
    "df_tasting.head(1)"
   ]
  },
  {
   "cell_type": "markdown",
   "id": "e14905f2",
   "metadata": {},
   "source": [
    "### Creating Average IBU Feature\n",
    "Most general beer styles fall within a range for IBUs (International Bitterness Units). This measures the level of a beer’s bitterness (which comes from hops) on a scale from 0 to 100. The dataset has a min and max for each beer, but an average will be a better indicator of where it would fall within a specific group. After the Average IBU column was created I dropped the min and max columns.\n",
    "\n",
    "[Source](https://www.firestonebeer.com/what-really-is-ibu/)"
   ]
  },
  {
   "cell_type": "code",
   "execution_count": 73,
   "id": "8eb5093a",
   "metadata": {},
   "outputs": [],
   "source": [
    "# creating average column\n",
    "df_tasting['AvgIBU'] = ((df_tasting['Max IBU'] + df_tasting['Min IBU']) / 2)"
   ]
  },
  {
   "cell_type": "code",
   "execution_count": 74,
   "id": "0b04982e",
   "metadata": {
    "scrolled": false
   },
   "outputs": [
    {
     "data": {
      "text/html": [
       "<div>\n",
       "<style scoped>\n",
       "    .dataframe tbody tr th:only-of-type {\n",
       "        vertical-align: middle;\n",
       "    }\n",
       "\n",
       "    .dataframe tbody tr th {\n",
       "        vertical-align: top;\n",
       "    }\n",
       "\n",
       "    .dataframe thead th {\n",
       "        text-align: right;\n",
       "    }\n",
       "</style>\n",
       "<table border=\"1\" class=\"dataframe\">\n",
       "  <thead>\n",
       "    <tr style=\"text-align: right;\">\n",
       "      <th></th>\n",
       "      <th>Name</th>\n",
       "      <th>beer_id</th>\n",
       "      <th>Style</th>\n",
       "      <th>Style Key</th>\n",
       "      <th>Brewery</th>\n",
       "      <th>Description</th>\n",
       "      <th>ABV</th>\n",
       "      <th>Avg Rating</th>\n",
       "      <th>Min IBU</th>\n",
       "      <th>Max IBU</th>\n",
       "      <th>...</th>\n",
       "      <th>Alcohol</th>\n",
       "      <th>Bitter</th>\n",
       "      <th>Sweet</th>\n",
       "      <th>Sour</th>\n",
       "      <th>Salty</th>\n",
       "      <th>Fruits</th>\n",
       "      <th>Hoppy</th>\n",
       "      <th>Spices</th>\n",
       "      <th>Malty</th>\n",
       "      <th>AvgIBU</th>\n",
       "    </tr>\n",
       "  </thead>\n",
       "  <tbody>\n",
       "    <tr>\n",
       "      <th>0</th>\n",
       "      <td>Amber</td>\n",
       "      <td>251</td>\n",
       "      <td>Brown Ale</td>\n",
       "      <td>8</td>\n",
       "      <td>Alaskan Brewing Co.</td>\n",
       "      <td>Richly malty and long on the palate, with just...</td>\n",
       "      <td>5.3</td>\n",
       "      <td>3.65</td>\n",
       "      <td>25</td>\n",
       "      <td>50</td>\n",
       "      <td>...</td>\n",
       "      <td>9</td>\n",
       "      <td>47</td>\n",
       "      <td>74</td>\n",
       "      <td>33</td>\n",
       "      <td>0</td>\n",
       "      <td>33</td>\n",
       "      <td>57</td>\n",
       "      <td>8</td>\n",
       "      <td>111</td>\n",
       "      <td>37.5</td>\n",
       "    </tr>\n",
       "    <tr>\n",
       "      <th>1</th>\n",
       "      <td>Double Bag</td>\n",
       "      <td>252</td>\n",
       "      <td>Brown Ale</td>\n",
       "      <td>8</td>\n",
       "      <td>Long Trail Brewing Co.</td>\n",
       "      <td>This malty, full-bodied double alt is also kno...</td>\n",
       "      <td>7.2</td>\n",
       "      <td>3.90</td>\n",
       "      <td>25</td>\n",
       "      <td>50</td>\n",
       "      <td>...</td>\n",
       "      <td>18</td>\n",
       "      <td>33</td>\n",
       "      <td>55</td>\n",
       "      <td>16</td>\n",
       "      <td>0</td>\n",
       "      <td>24</td>\n",
       "      <td>35</td>\n",
       "      <td>12</td>\n",
       "      <td>84</td>\n",
       "      <td>37.5</td>\n",
       "    </tr>\n",
       "    <tr>\n",
       "      <th>2</th>\n",
       "      <td>Long Trail Ale</td>\n",
       "      <td>253</td>\n",
       "      <td>Brown Ale</td>\n",
       "      <td>8</td>\n",
       "      <td>Long Trail Brewing Co.</td>\n",
       "      <td>Long Trail Ale is a full-bodied amber ale mode...</td>\n",
       "      <td>5.0</td>\n",
       "      <td>3.58</td>\n",
       "      <td>25</td>\n",
       "      <td>50</td>\n",
       "      <td>...</td>\n",
       "      <td>6</td>\n",
       "      <td>42</td>\n",
       "      <td>43</td>\n",
       "      <td>11</td>\n",
       "      <td>0</td>\n",
       "      <td>10</td>\n",
       "      <td>54</td>\n",
       "      <td>4</td>\n",
       "      <td>62</td>\n",
       "      <td>37.5</td>\n",
       "    </tr>\n",
       "    <tr>\n",
       "      <th>4</th>\n",
       "      <td>Scurry</td>\n",
       "      <td>255</td>\n",
       "      <td>Brown Ale</td>\n",
       "      <td>8</td>\n",
       "      <td>Off Color Brewing</td>\n",
       "      <td>Just cause it's dark and German doesn't mean i...</td>\n",
       "      <td>5.3</td>\n",
       "      <td>3.67</td>\n",
       "      <td>25</td>\n",
       "      <td>50</td>\n",
       "      <td>...</td>\n",
       "      <td>10</td>\n",
       "      <td>63</td>\n",
       "      <td>120</td>\n",
       "      <td>14</td>\n",
       "      <td>0</td>\n",
       "      <td>19</td>\n",
       "      <td>36</td>\n",
       "      <td>15</td>\n",
       "      <td>218</td>\n",
       "      <td>37.5</td>\n",
       "    </tr>\n",
       "    <tr>\n",
       "      <th>5</th>\n",
       "      <td>Sleigh'r Dark Doüble Alt Ale</td>\n",
       "      <td>256</td>\n",
       "      <td>Brown Ale</td>\n",
       "      <td>8</td>\n",
       "      <td>Ninkasi Brewing Company</td>\n",
       "      <td>Called 'Dark Double Alt' on the label.Seize th...</td>\n",
       "      <td>7.2</td>\n",
       "      <td>3.78</td>\n",
       "      <td>25</td>\n",
       "      <td>50</td>\n",
       "      <td>...</td>\n",
       "      <td>26</td>\n",
       "      <td>44</td>\n",
       "      <td>45</td>\n",
       "      <td>9</td>\n",
       "      <td>1</td>\n",
       "      <td>11</td>\n",
       "      <td>51</td>\n",
       "      <td>20</td>\n",
       "      <td>95</td>\n",
       "      <td>37.5</td>\n",
       "    </tr>\n",
       "  </tbody>\n",
       "</table>\n",
       "<p>5 rows × 22 columns</p>\n",
       "</div>"
      ],
      "text/plain": [
       "                           Name  beer_id      Style  Style Key  \\\n",
       "0                         Amber      251  Brown Ale          8   \n",
       "1                    Double Bag      252  Brown Ale          8   \n",
       "2                Long Trail Ale      253  Brown Ale          8   \n",
       "4                        Scurry      255  Brown Ale          8   \n",
       "5  Sleigh'r Dark Doüble Alt Ale      256  Brown Ale          8   \n",
       "\n",
       "                   Brewery                                        Description  \\\n",
       "0      Alaskan Brewing Co.  Richly malty and long on the palate, with just...   \n",
       "1   Long Trail Brewing Co.  This malty, full-bodied double alt is also kno...   \n",
       "2   Long Trail Brewing Co.  Long Trail Ale is a full-bodied amber ale mode...   \n",
       "4        Off Color Brewing  Just cause it's dark and German doesn't mean i...   \n",
       "5  Ninkasi Brewing Company  Called 'Dark Double Alt' on the label.Seize th...   \n",
       "\n",
       "   ABV  Avg Rating  Min IBU  Max IBU  ...  Alcohol  Bitter  Sweet  Sour  \\\n",
       "0  5.3        3.65       25       50  ...        9      47     74    33   \n",
       "1  7.2        3.90       25       50  ...       18      33     55    16   \n",
       "2  5.0        3.58       25       50  ...        6      42     43    11   \n",
       "4  5.3        3.67       25       50  ...       10      63    120    14   \n",
       "5  7.2        3.78       25       50  ...       26      44     45     9   \n",
       "\n",
       "   Salty  Fruits  Hoppy  Spices  Malty  AvgIBU  \n",
       "0      0      33     57       8    111    37.5  \n",
       "1      0      24     35      12     84    37.5  \n",
       "2      0      10     54       4     62    37.5  \n",
       "4      0      19     36      15    218    37.5  \n",
       "5      1      11     51      20     95    37.5  \n",
       "\n",
       "[5 rows x 22 columns]"
      ]
     },
     "execution_count": 74,
     "metadata": {},
     "output_type": "execute_result"
    }
   ],
   "source": [
    "# checking for new column\n",
    "df_tasting.head()"
   ]
  },
  {
   "cell_type": "code",
   "execution_count": 75,
   "id": "7fc30da6",
   "metadata": {},
   "outputs": [],
   "source": [
    "# dropping min/max columns\n",
    "df_tasting.drop(columns=['Min IBU', 'Max IBU'], inplace=True)"
   ]
  },
  {
   "cell_type": "code",
   "execution_count": 76,
   "id": "4114817d",
   "metadata": {},
   "outputs": [
    {
     "data": {
      "text/html": [
       "<div>\n",
       "<style scoped>\n",
       "    .dataframe tbody tr th:only-of-type {\n",
       "        vertical-align: middle;\n",
       "    }\n",
       "\n",
       "    .dataframe tbody tr th {\n",
       "        vertical-align: top;\n",
       "    }\n",
       "\n",
       "    .dataframe thead th {\n",
       "        text-align: right;\n",
       "    }\n",
       "</style>\n",
       "<table border=\"1\" class=\"dataframe\">\n",
       "  <thead>\n",
       "    <tr style=\"text-align: right;\">\n",
       "      <th></th>\n",
       "      <th>Name</th>\n",
       "      <th>beer_id</th>\n",
       "      <th>Style</th>\n",
       "      <th>Style Key</th>\n",
       "      <th>Brewery</th>\n",
       "      <th>Description</th>\n",
       "      <th>ABV</th>\n",
       "      <th>Avg Rating</th>\n",
       "      <th>Astringency</th>\n",
       "      <th>Body</th>\n",
       "      <th>Alcohol</th>\n",
       "      <th>Bitter</th>\n",
       "      <th>Sweet</th>\n",
       "      <th>Sour</th>\n",
       "      <th>Salty</th>\n",
       "      <th>Fruits</th>\n",
       "      <th>Hoppy</th>\n",
       "      <th>Spices</th>\n",
       "      <th>Malty</th>\n",
       "      <th>AvgIBU</th>\n",
       "    </tr>\n",
       "  </thead>\n",
       "  <tbody>\n",
       "    <tr>\n",
       "      <th>0</th>\n",
       "      <td>Amber</td>\n",
       "      <td>251</td>\n",
       "      <td>Brown Ale</td>\n",
       "      <td>8</td>\n",
       "      <td>Alaskan Brewing Co.</td>\n",
       "      <td>Richly malty and long on the palate, with just...</td>\n",
       "      <td>5.3</td>\n",
       "      <td>3.65</td>\n",
       "      <td>13</td>\n",
       "      <td>32</td>\n",
       "      <td>9</td>\n",
       "      <td>47</td>\n",
       "      <td>74</td>\n",
       "      <td>33</td>\n",
       "      <td>0</td>\n",
       "      <td>33</td>\n",
       "      <td>57</td>\n",
       "      <td>8</td>\n",
       "      <td>111</td>\n",
       "      <td>37.5</td>\n",
       "    </tr>\n",
       "  </tbody>\n",
       "</table>\n",
       "</div>"
      ],
      "text/plain": [
       "    Name  beer_id      Style  Style Key              Brewery  \\\n",
       "0  Amber      251  Brown Ale          8  Alaskan Brewing Co.   \n",
       "\n",
       "                                         Description  ABV  Avg Rating  \\\n",
       "0  Richly malty and long on the palate, with just...  5.3        3.65   \n",
       "\n",
       "   Astringency  Body  Alcohol  Bitter  Sweet  Sour  Salty  Fruits  Hoppy  \\\n",
       "0           13    32        9      47     74    33      0      33     57   \n",
       "\n",
       "   Spices  Malty  AvgIBU  \n",
       "0       8    111    37.5  "
      ]
     },
     "execution_count": 76,
     "metadata": {},
     "output_type": "execute_result"
    }
   ],
   "source": [
    "#checking columns\n",
    "df_tasting.head(1)"
   ]
  },
  {
   "cell_type": "markdown",
   "id": "81c14d12",
   "metadata": {},
   "source": [
    "***"
   ]
  },
  {
   "cell_type": "markdown",
   "id": "07c2afd3",
   "metadata": {},
   "source": [
    "## Load Data"
   ]
  },
  {
   "cell_type": "markdown",
   "id": "4a89260a",
   "metadata": {},
   "source": [
    "## Beer Reviews -- collaborative recs"
   ]
  },
  {
   "cell_type": "code",
   "execution_count": 99,
   "id": "2ce04565",
   "metadata": {},
   "outputs": [],
   "source": [
    "df_reviews = pd.read_csv('../BeerData/beer_reviews.csv')"
   ]
  },
  {
   "cell_type": "code",
   "execution_count": 100,
   "id": "04b0e9da",
   "metadata": {},
   "outputs": [
    {
     "data": {
      "text/html": [
       "<div>\n",
       "<style scoped>\n",
       "    .dataframe tbody tr th:only-of-type {\n",
       "        vertical-align: middle;\n",
       "    }\n",
       "\n",
       "    .dataframe tbody tr th {\n",
       "        vertical-align: top;\n",
       "    }\n",
       "\n",
       "    .dataframe thead th {\n",
       "        text-align: right;\n",
       "    }\n",
       "</style>\n",
       "<table border=\"1\" class=\"dataframe\">\n",
       "  <thead>\n",
       "    <tr style=\"text-align: right;\">\n",
       "      <th></th>\n",
       "      <th>brewery_id</th>\n",
       "      <th>brewery_name</th>\n",
       "      <th>review_time</th>\n",
       "      <th>review_overall</th>\n",
       "      <th>review_aroma</th>\n",
       "      <th>review_appearance</th>\n",
       "      <th>review_profilename</th>\n",
       "      <th>beer_style</th>\n",
       "      <th>review_palate</th>\n",
       "      <th>review_taste</th>\n",
       "      <th>beer_name</th>\n",
       "      <th>beer_abv</th>\n",
       "      <th>beer_beerid</th>\n",
       "    </tr>\n",
       "  </thead>\n",
       "  <tbody>\n",
       "    <tr>\n",
       "      <th>0</th>\n",
       "      <td>10325</td>\n",
       "      <td>Vecchio Birraio</td>\n",
       "      <td>1234817823</td>\n",
       "      <td>1.5</td>\n",
       "      <td>2.0</td>\n",
       "      <td>2.5</td>\n",
       "      <td>stcules</td>\n",
       "      <td>Hefeweizen</td>\n",
       "      <td>1.5</td>\n",
       "      <td>1.5</td>\n",
       "      <td>Sausa Weizen</td>\n",
       "      <td>5.0</td>\n",
       "      <td>47986</td>\n",
       "    </tr>\n",
       "    <tr>\n",
       "      <th>1</th>\n",
       "      <td>10325</td>\n",
       "      <td>Vecchio Birraio</td>\n",
       "      <td>1235915097</td>\n",
       "      <td>3.0</td>\n",
       "      <td>2.5</td>\n",
       "      <td>3.0</td>\n",
       "      <td>stcules</td>\n",
       "      <td>English Strong Ale</td>\n",
       "      <td>3.0</td>\n",
       "      <td>3.0</td>\n",
       "      <td>Red Moon</td>\n",
       "      <td>6.2</td>\n",
       "      <td>48213</td>\n",
       "    </tr>\n",
       "    <tr>\n",
       "      <th>2</th>\n",
       "      <td>10325</td>\n",
       "      <td>Vecchio Birraio</td>\n",
       "      <td>1235916604</td>\n",
       "      <td>3.0</td>\n",
       "      <td>2.5</td>\n",
       "      <td>3.0</td>\n",
       "      <td>stcules</td>\n",
       "      <td>Foreign / Export Stout</td>\n",
       "      <td>3.0</td>\n",
       "      <td>3.0</td>\n",
       "      <td>Black Horse Black Beer</td>\n",
       "      <td>6.5</td>\n",
       "      <td>48215</td>\n",
       "    </tr>\n",
       "    <tr>\n",
       "      <th>3</th>\n",
       "      <td>10325</td>\n",
       "      <td>Vecchio Birraio</td>\n",
       "      <td>1234725145</td>\n",
       "      <td>3.0</td>\n",
       "      <td>3.0</td>\n",
       "      <td>3.5</td>\n",
       "      <td>stcules</td>\n",
       "      <td>German Pilsener</td>\n",
       "      <td>2.5</td>\n",
       "      <td>3.0</td>\n",
       "      <td>Sausa Pils</td>\n",
       "      <td>5.0</td>\n",
       "      <td>47969</td>\n",
       "    </tr>\n",
       "    <tr>\n",
       "      <th>4</th>\n",
       "      <td>1075</td>\n",
       "      <td>Caldera Brewing Company</td>\n",
       "      <td>1293735206</td>\n",
       "      <td>4.0</td>\n",
       "      <td>4.5</td>\n",
       "      <td>4.0</td>\n",
       "      <td>johnmichaelsen</td>\n",
       "      <td>American Double / Imperial IPA</td>\n",
       "      <td>4.0</td>\n",
       "      <td>4.5</td>\n",
       "      <td>Cauldron DIPA</td>\n",
       "      <td>7.7</td>\n",
       "      <td>64883</td>\n",
       "    </tr>\n",
       "  </tbody>\n",
       "</table>\n",
       "</div>"
      ],
      "text/plain": [
       "   brewery_id             brewery_name  review_time  review_overall  \\\n",
       "0       10325          Vecchio Birraio   1234817823             1.5   \n",
       "1       10325          Vecchio Birraio   1235915097             3.0   \n",
       "2       10325          Vecchio Birraio   1235916604             3.0   \n",
       "3       10325          Vecchio Birraio   1234725145             3.0   \n",
       "4        1075  Caldera Brewing Company   1293735206             4.0   \n",
       "\n",
       "   review_aroma  review_appearance review_profilename  \\\n",
       "0           2.0                2.5            stcules   \n",
       "1           2.5                3.0            stcules   \n",
       "2           2.5                3.0            stcules   \n",
       "3           3.0                3.5            stcules   \n",
       "4           4.5                4.0     johnmichaelsen   \n",
       "\n",
       "                       beer_style  review_palate  review_taste  \\\n",
       "0                      Hefeweizen            1.5           1.5   \n",
       "1              English Strong Ale            3.0           3.0   \n",
       "2          Foreign / Export Stout            3.0           3.0   \n",
       "3                 German Pilsener            2.5           3.0   \n",
       "4  American Double / Imperial IPA            4.0           4.5   \n",
       "\n",
       "                beer_name  beer_abv  beer_beerid  \n",
       "0            Sausa Weizen       5.0        47986  \n",
       "1                Red Moon       6.2        48213  \n",
       "2  Black Horse Black Beer       6.5        48215  \n",
       "3              Sausa Pils       5.0        47969  \n",
       "4           Cauldron DIPA       7.7        64883  "
      ]
     },
     "execution_count": 100,
     "metadata": {},
     "output_type": "execute_result"
    }
   ],
   "source": [
    "df_reviews.head()"
   ]
  },
  {
   "cell_type": "code",
   "execution_count": 101,
   "id": "45582a0a",
   "metadata": {},
   "outputs": [
    {
     "data": {
      "text/plain": [
       "(1586614, 13)"
      ]
     },
     "execution_count": 101,
     "metadata": {},
     "output_type": "execute_result"
    }
   ],
   "source": [
    "# checking shape\n",
    "df_reviews.shape"
   ]
  },
  {
   "cell_type": "code",
   "execution_count": 102,
   "id": "60beb094",
   "metadata": {},
   "outputs": [
    {
     "name": "stdout",
     "output_type": "stream",
     "text": [
      "<class 'pandas.core.frame.DataFrame'>\n",
      "RangeIndex: 1586614 entries, 0 to 1586613\n",
      "Data columns (total 13 columns):\n",
      " #   Column              Non-Null Count    Dtype  \n",
      "---  ------              --------------    -----  \n",
      " 0   brewery_id          1586614 non-null  int64  \n",
      " 1   brewery_name        1586599 non-null  object \n",
      " 2   review_time         1586614 non-null  int64  \n",
      " 3   review_overall      1586614 non-null  float64\n",
      " 4   review_aroma        1586614 non-null  float64\n",
      " 5   review_appearance   1586614 non-null  float64\n",
      " 6   review_profilename  1586266 non-null  object \n",
      " 7   beer_style          1586614 non-null  object \n",
      " 8   review_palate       1586614 non-null  float64\n",
      " 9   review_taste        1586614 non-null  float64\n",
      " 10  beer_name           1586614 non-null  object \n",
      " 11  beer_abv            1518829 non-null  float64\n",
      " 12  beer_beerid         1586614 non-null  int64  \n",
      "dtypes: float64(6), int64(3), object(4)\n",
      "memory usage: 157.4+ MB\n"
     ]
    }
   ],
   "source": [
    "# checking data types\n",
    "df_reviews.info()"
   ]
  },
  {
   "cell_type": "code",
   "execution_count": 103,
   "id": "41089170",
   "metadata": {},
   "outputs": [
    {
     "data": {
      "text/plain": [
       "brewery_id                0\n",
       "brewery_name             15\n",
       "review_time               0\n",
       "review_overall            0\n",
       "review_aroma              0\n",
       "review_appearance         0\n",
       "review_profilename      348\n",
       "beer_style                0\n",
       "review_palate             0\n",
       "review_taste              0\n",
       "beer_name                 0\n",
       "beer_abv              67785\n",
       "beer_beerid               0\n",
       "dtype: int64"
      ]
     },
     "execution_count": 103,
     "metadata": {},
     "output_type": "execute_result"
    }
   ],
   "source": [
    "# checking null values\n",
    "df_reviews.isna().sum()"
   ]
  },
  {
   "cell_type": "code",
   "execution_count": 104,
   "id": "762ac6ce",
   "metadata": {},
   "outputs": [],
   "source": [
    "# beer_abv has missing values, but only make up 4% of total data, these will be dropped\n",
    "df_reviews.dropna(inplace=True)"
   ]
  },
  {
   "cell_type": "code",
   "execution_count": 105,
   "id": "5b620260",
   "metadata": {},
   "outputs": [
    {
     "data": {
      "text/plain": [
       "brewery_id            0\n",
       "brewery_name          0\n",
       "review_time           0\n",
       "review_overall        0\n",
       "review_aroma          0\n",
       "review_appearance     0\n",
       "review_profilename    0\n",
       "beer_style            0\n",
       "review_palate         0\n",
       "review_taste          0\n",
       "beer_name             0\n",
       "beer_abv              0\n",
       "beer_beerid           0\n",
       "dtype: int64"
      ]
     },
     "execution_count": 105,
     "metadata": {},
     "output_type": "execute_result"
    }
   ],
   "source": [
    "# sanity check\n",
    "df_reviews.isna().sum()"
   ]
  },
  {
   "cell_type": "code",
   "execution_count": 106,
   "id": "76515599",
   "metadata": {},
   "outputs": [
    {
     "data": {
      "text/plain": [
       "0"
      ]
     },
     "execution_count": 106,
     "metadata": {},
     "output_type": "execute_result"
    }
   ],
   "source": [
    "# checking for duplicates\n",
    "df_reviews.duplicated().sum()"
   ]
  },
  {
   "cell_type": "code",
   "execution_count": 107,
   "id": "6567a196",
   "metadata": {},
   "outputs": [
    {
     "data": {
      "text/plain": [
       "Index(['brewery_id', 'brewery_name', 'review_time', 'review_overall',\n",
       "       'review_aroma', 'review_appearance', 'review_profilename', 'beer_style',\n",
       "       'review_palate', 'review_taste', 'beer_name', 'beer_abv',\n",
       "       'beer_beerid'],\n",
       "      dtype='object')"
      ]
     },
     "execution_count": 107,
     "metadata": {},
     "output_type": "execute_result"
    }
   ],
   "source": [
    "df_reviews.columns"
   ]
  },
  {
   "cell_type": "code",
   "execution_count": 108,
   "id": "4581d178",
   "metadata": {},
   "outputs": [],
   "source": [
    "# dropping unnecessary column -- review time\n",
    "df_reviews.drop(columns='review_time', inplace=True)"
   ]
  },
  {
   "cell_type": "code",
   "execution_count": 109,
   "id": "19496830",
   "metadata": {},
   "outputs": [
    {
     "data": {
      "text/html": [
       "<div>\n",
       "<style scoped>\n",
       "    .dataframe tbody tr th:only-of-type {\n",
       "        vertical-align: middle;\n",
       "    }\n",
       "\n",
       "    .dataframe tbody tr th {\n",
       "        vertical-align: top;\n",
       "    }\n",
       "\n",
       "    .dataframe thead th {\n",
       "        text-align: right;\n",
       "    }\n",
       "</style>\n",
       "<table border=\"1\" class=\"dataframe\">\n",
       "  <thead>\n",
       "    <tr style=\"text-align: right;\">\n",
       "      <th></th>\n",
       "      <th>brewery_id</th>\n",
       "      <th>brewery_name</th>\n",
       "      <th>review_overall</th>\n",
       "      <th>review_aroma</th>\n",
       "      <th>review_appearance</th>\n",
       "      <th>review_profilename</th>\n",
       "      <th>beer_style</th>\n",
       "      <th>review_palate</th>\n",
       "      <th>review_taste</th>\n",
       "      <th>beer_name</th>\n",
       "      <th>beer_abv</th>\n",
       "      <th>beer_beerid</th>\n",
       "    </tr>\n",
       "  </thead>\n",
       "  <tbody>\n",
       "    <tr>\n",
       "      <th>0</th>\n",
       "      <td>10325</td>\n",
       "      <td>Vecchio Birraio</td>\n",
       "      <td>1.5</td>\n",
       "      <td>2.0</td>\n",
       "      <td>2.5</td>\n",
       "      <td>stcules</td>\n",
       "      <td>Hefeweizen</td>\n",
       "      <td>1.5</td>\n",
       "      <td>1.5</td>\n",
       "      <td>Sausa Weizen</td>\n",
       "      <td>5.0</td>\n",
       "      <td>47986</td>\n",
       "    </tr>\n",
       "  </tbody>\n",
       "</table>\n",
       "</div>"
      ],
      "text/plain": [
       "   brewery_id     brewery_name  review_overall  review_aroma  \\\n",
       "0       10325  Vecchio Birraio             1.5           2.0   \n",
       "\n",
       "   review_appearance review_profilename  beer_style  review_palate  \\\n",
       "0                2.5            stcules  Hefeweizen            1.5   \n",
       "\n",
       "   review_taste     beer_name  beer_abv  beer_beerid  \n",
       "0           1.5  Sausa Weizen       5.0        47986  "
      ]
     },
     "execution_count": 109,
     "metadata": {},
     "output_type": "execute_result"
    }
   ],
   "source": [
    "df_reviews.head(1)"
   ]
  },
  {
   "cell_type": "markdown",
   "id": "57d0f7eb",
   "metadata": {},
   "source": [
    "## Data Cleaning "
   ]
  },
  {
   "cell_type": "markdown",
   "id": "b965a466",
   "metadata": {},
   "source": [
    "### Cleaning 'beer_abv' column\n",
    "Will drop all extremely high ABV beers just like in previous dataset. "
   ]
  },
  {
   "cell_type": "code",
   "execution_count": 110,
   "id": "5b9e4ec3",
   "metadata": {},
   "outputs": [
    {
     "data": {
      "text/plain": [
       "(0.01, 57.7, 7.042488188831184)"
      ]
     },
     "execution_count": 110,
     "metadata": {},
     "output_type": "execute_result"
    }
   ],
   "source": [
    "# checking min, max and mean ABV\n",
    "df_reviews.beer_abv.min(), df_reviews.beer_abv.max(), df_reviews.beer_abv.mean()"
   ]
  },
  {
   "cell_type": "code",
   "execution_count": 111,
   "id": "ce105f3d",
   "metadata": {},
   "outputs": [],
   "source": [
    "# dropping all beers over 15% ABV\n",
    "df_reviews = df_reviews.loc[df_reviews['beer_abv'] <= 15]"
   ]
  },
  {
   "cell_type": "code",
   "execution_count": 112,
   "id": "e8806492",
   "metadata": {},
   "outputs": [
    {
     "data": {
      "text/plain": [
       "(0.01, 15.0, 6.965625129723512)"
      ]
     },
     "execution_count": 112,
     "metadata": {},
     "output_type": "execute_result"
    }
   ],
   "source": [
    "# sanity check\n",
    "df_reviews.beer_abv.min(), df_reviews.beer_abv.max(), df_reviews.beer_abv.mean()"
   ]
  },
  {
   "cell_type": "markdown",
   "id": "9f0de84b",
   "metadata": {},
   "source": [
    "### Cleaning 'beer_style' column\n",
    "Will do the same binning method used with the first dataset as this dataset was also sourced from BeerAdvovate.com. The same beer styles will be applied to simplify the feature. "
   ]
  },
  {
   "cell_type": "code",
   "execution_count": 91,
   "id": "eeb016f7",
   "metadata": {
    "scrolled": true
   },
   "outputs": [
    {
     "data": {
      "text/plain": [
       "American IPA                        113144\n",
       "American Double / Imperial IPA       83265\n",
       "American Pale Ale (APA)              58072\n",
       "Russian Imperial Stout               53019\n",
       "American Double / Imperial Stout     46747\n",
       "                                     ...  \n",
       "English Pale Mild Ale                  648\n",
       "Faro                                   608\n",
       "Roggenbier                             395\n",
       "Happoshu                               237\n",
       "Kvass                                  229\n",
       "Name: beer_style, Length: 104, dtype: int64"
      ]
     },
     "execution_count": 91,
     "metadata": {},
     "output_type": "execute_result"
    }
   ],
   "source": [
    "df_reviews.beer_style.value_counts()"
   ]
  },
  {
   "cell_type": "code",
   "execution_count": 113,
   "id": "8aff69ae",
   "metadata": {},
   "outputs": [
    {
     "data": {
      "text/plain": [
       "104"
      ]
     },
     "execution_count": 113,
     "metadata": {},
     "output_type": "execute_result"
    }
   ],
   "source": [
    "#this dataset has 104 unique styles\n",
    "df_reviews.beer_style.nunique()"
   ]
  },
  {
   "cell_type": "code",
   "execution_count": 114,
   "id": "6aa21f32",
   "metadata": {},
   "outputs": [],
   "source": [
    "style_list2 = df_reviews['beer_style'].tolist()"
   ]
  },
  {
   "cell_type": "markdown",
   "id": "7919c467",
   "metadata": {},
   "source": [
    "Creating a list of styles to be used in unique_list function. Produced list will be used to create style_map2. The cell below remains commented out to prevent the 104 item list from printing. The styles can be seen in the following style_map2 cell."
   ]
  },
  {
   "cell_type": "code",
   "execution_count": 115,
   "id": "956747f6",
   "metadata": {},
   "outputs": [],
   "source": [
    "#unique_list(style_list2)"
   ]
  },
  {
   "cell_type": "code",
   "execution_count": 116,
   "id": "d63c3447",
   "metadata": {},
   "outputs": [],
   "source": [
    "style_map2 = {\n",
    "    'Hefeweizen': 'Wheat Beer',\n",
    "    'English Strong Ale': 'Strong Ale',\n",
    "    'Foreign / Export Stout': 'Stout',\n",
    "    'German Pilsener': 'Pale Lager',\n",
    "    'American Double / Imperial IPA': 'India Pale Ale',\n",
    "    'Herbed / Spiced Beer': 'Specialty Beer',\n",
    "    'Light Lager': 'Pale Lager',\n",
    "    'Oatmeal Stout': 'Stout',\n",
    "    'American Pale Lager': 'Pale Lager',\n",
    "    'Rauchbier': 'Dark Lager',\n",
    "    'American Pale Ale (APA)': 'Pale Ale',\n",
    "    'American Porter': 'Porter',\n",
    "    'Belgian Strong Dark Ale': 'Strong Ale',\n",
    "    'American IPA': 'India Pale Ale',\n",
    "    'Russian Imperial Stout': 'Stout',\n",
    "    'American Amber / Red Ale': 'Dark Lager',\n",
    "    'American Strong Ale': 'Strong Ale',\n",
    "    'Märzen / Oktoberfest': 'Dark Lager',\n",
    "    'American Adjunct Lager': 'Pale Lager',\n",
    "    'American Blonde Ale': 'Pale Ale',\n",
    "    'Euro Pale Lager': 'Pale Lager',\n",
    "    'English Brown Ale': 'Brown Ale',\n",
    "    'Fruit / Vegetable Beer': 'Specialty Beer',\n",
    "    'Belgian Pale Ale': 'Pale Ale',\n",
    "    'English Bitter': 'Pale Ale',\n",
    "    'English Porter': 'Porter',\n",
    "    'Irish Dry Stout': 'Stout',\n",
    "    'American Barleywine': 'Strong Ale',\n",
    "    'American Double / Imperial Stout': 'Stout',\n",
    "    'Doppelbock': 'Bock',\n",
    "    'American Stout': 'Stout',\n",
    "    'Maibock / Helles Bock': 'Bock',\n",
    "    'Dortmunder / Export Lager': 'Pale Lager',\n",
    "    'Euro Strong Lager': 'Pale Lager',\n",
    "    'Low Alcohol Beer': 'Specialty Beer',\n",
    "    'Extra Special / Strong Bitter (ESB)': 'Pale Ale',\n",
    "    'Bock': 'Bock',\n",
    "    'English India Pale Ale (IPA)': 'India Pale Ale',\n",
    "    'Altbier': 'Brown Ale',\n",
    "    'Kölsch': 'Pale Ale',\n",
    "    'Pumpkin Ale': 'Specialty Beer',\n",
    "    'Rye Beer': 'Specialty Beer',\n",
    "    'American Pale Wheat Ale': 'Wheat Beer',\n",
    "    'Milk / Sweet Stout': 'Stout',\n",
    "    'Schwarzbier': 'Dark Lager',\n",
    "    'Munich Dunkel Lager': 'Dark Lager' ,\n",
    "    'Vienna Lager': 'Dark Lager',\n",
    "    'American Amber / Red Lager': 'Dark Lager',\n",
    "    'Scottish Ale': 'Dark Ale',\n",
    "    'Witbier': 'Wheat Beer',\n",
    "    'American Black Ale': 'Specialty Beer',\n",
    "    'Saison / Farmhouse Ale': 'Pale Ale',\n",
    "    'English Barleywine': 'Specialty Beer',\n",
    "    'California Common / Steam Beer': 'Hybrid Beer',\n",
    "    'Euro Dark Lager': 'Dark Lager',\n",
    "    'Scotch Ale / Wee Heavy': 'Strong Ale',\n",
    "    'English Pale Ale': 'Pale Ale',\n",
    "    'Belgian Strong Pale Ale': 'Strong Ale',\n",
    "    'Tripel': 'Strong Ale',\n",
    "    'Flanders Oud Bruin': 'Wild/Sour Beer',\n",
    "    'American Brown Ale': 'Brown Ale',\n",
    "    'Smoked Beer': 'Specialty Beer',\n",
    "    'Dubbel': 'Dark Ale',\n",
    "    'Dunkelweizen': 'Wheat Beer',\n",
    "    'Keller Bier / Zwickel Bier': 'Pale Lager',\n",
    "    'Winter Warmer': 'Dark Ale',\n",
    "    'Bière de Garde': 'Pale Ale',\n",
    "    'Belgian Dark Ale': 'Brown Ale',\n",
    "    'Irish Red Ale': 'Pale Ale',\n",
    "    'Chile Beer': 'Specialty Beer',\n",
    "    'English Stout': 'Stout',\n",
    "    'Czech Pilsener': 'Pale Lager',\n",
    "    'Belgian IPA': 'India Pale Ale',\n",
    "    'Cream Ale': 'Hybrid Beer',\n",
    "    'Black & Tan': 'Hybrid Beer',\n",
    "    'English Dark Mild Ale': 'Pale Ale',\n",
    "    'American Wild Ale': 'Wild/Sour Beer',\n",
    "    'Weizenbock': 'Bock',\n",
    "    'American Double / Imperial Pilsner': 'Pale Lager',\n",
    "    'Scottish Gruit / Ancient Herbed Ale': 'Specialty Beer',\n",
    "    'Wheatwine': 'Strong Ale',\n",
    "    'American Dark Wheat Ale': 'Wheat Beer',\n",
    "    'American Malt Liquor': 'Pale Lager',\n",
    "    'Munich Helles Lager': 'Pale Lager',\n",
    "    'Kristalweizen': 'Wheat Beer',\n",
    "    'English Pale Mild Ale': 'Pale Ale',\n",
    "    'Baltic Porter': 'Porter',\n",
    "    'Old Ale': 'Strong Ale',\n",
    "    'Quadrupel (Quad)': 'Strong Ale',\n",
    "    'Braggot': 'Hybrid Beer',\n",
    "    'Lambic - Fruit': 'Wild/Sour Beer',\n",
    "    'Lambic - Unblended': 'Wild/Sour Beer',\n",
    "    'Eisbock': 'Bock',\n",
    "    'Flanders Red Ale': 'Wild/Sour Beer',\n",
    "    'Berliner Weissbier': 'Wild/Sour Beer',\n",
    "    'Kvass': 'Specialty Beer',\n",
    "    'Roggenbier': 'Dark Ale',\n",
    "    'Faro': 'Wild/Sour Beer',\n",
    "    'Gueuze': 'Wild/Sour Beer',\n",
    "    'Gose': 'Wild/Sour Beer',\n",
    "    'Japanese Rice Lager': 'Specialty Beer',\n",
    "    'Happoshu': 'Specialty Beer',\n",
    "    'Sahti': 'Specialty Beer',\n",
    "    'Bière de Champagne / Bière Brut': 'Hybrid Beer'\n",
    "}"
   ]
  },
  {
   "cell_type": "markdown",
   "id": "8c2903b2",
   "metadata": {},
   "source": [
    "> Initial thoughts is that there are are a lot more wild/sour beers in this data set than the first which can really change what will be recommended to a user. "
   ]
  },
  {
   "cell_type": "code",
   "execution_count": 117,
   "id": "4f4ade51",
   "metadata": {},
   "outputs": [],
   "source": [
    "# applying style map\n",
    "df_reviews['beer_style'] = df_reviews['beer_style'].map(style_map2)"
   ]
  },
  {
   "cell_type": "code",
   "execution_count": 118,
   "id": "80105d5a",
   "metadata": {},
   "outputs": [
    {
     "data": {
      "text/plain": [
       "0"
      ]
     },
     "execution_count": 118,
     "metadata": {},
     "output_type": "execute_result"
    }
   ],
   "source": [
    "#checking to see if any beers were missed\n",
    "df_reviews['beer_style'].isna().sum()"
   ]
  },
  {
   "cell_type": "code",
   "execution_count": 119,
   "id": "39fc0780",
   "metadata": {},
   "outputs": [
    {
     "data": {
      "text/plain": [
       "India Pale Ale    223985\n",
       "Strong Ale        210297\n",
       "Pale Ale          190232\n",
       "Stout             172509\n",
       "Pale Lager        127130\n",
       "Dark Lager        105155\n",
       "Specialty Beer    101583\n",
       "Wheat Beer         87513\n",
       "Porter             69027\n",
       "Brown Ale          55622\n",
       "Bock               53898\n",
       "Wild/Sour Beer     49963\n",
       "Dark Ale           48323\n",
       "Hybrid Beer        12778\n",
       "Name: beer_style, dtype: int64"
      ]
     },
     "execution_count": 119,
     "metadata": {},
     "output_type": "execute_result"
    }
   ],
   "source": [
    "df_reviews['beer_style'].value_counts()"
   ]
  },
  {
   "cell_type": "code",
   "execution_count": 120,
   "id": "f5aa967f",
   "metadata": {},
   "outputs": [
    {
     "data": {
      "text/plain": [
       "747"
      ]
     },
     "execution_count": 120,
     "metadata": {},
     "output_type": "execute_result"
    }
   ],
   "source": [
    "#checking for duplicates\n",
    "df_reviews.duplicated().sum()"
   ]
  },
  {
   "cell_type": "code",
   "execution_count": 121,
   "id": "6cf5627b",
   "metadata": {},
   "outputs": [],
   "source": [
    "#dropping duplicates\n",
    "df_reviews.drop_duplicates(inplace=True)"
   ]
  },
  {
   "cell_type": "code",
   "execution_count": 122,
   "id": "a0e57c3b",
   "metadata": {},
   "outputs": [
    {
     "data": {
      "text/plain": [
       "0"
      ]
     },
     "execution_count": 122,
     "metadata": {},
     "output_type": "execute_result"
    }
   ],
   "source": [
    "#checking for duplicates\n",
    "df_reviews.duplicated().sum()"
   ]
  },
  {
   "cell_type": "code",
   "execution_count": 123,
   "id": "e993e757",
   "metadata": {},
   "outputs": [
    {
     "data": {
      "image/png": "[encoded data removed]",
      "text/plain": [
       "<Figure size 800x500 with 1 Axes>"
      ]
     },
     "metadata": {},
     "output_type": "display_data"
    }
   ],
   "source": [
    "plt.figure(figsize=(8,5))\n",
    "ax = sns.histplot(df_reviews['beer_style'], color = 'tab:blue', edgecolor='black')\n",
    "ax.set_xticklabels(ax.get_xticklabels(),rotation = 30, ha='right');"
   ]
  },
  {
   "cell_type": "markdown",
   "id": "f0e03109",
   "metadata": {},
   "source": [
    "### Inspecting Review Counts Per Beer"
   ]
  },
  {
   "cell_type": "code",
   "execution_count": 124,
   "id": "a9566a49",
   "metadata": {},
   "outputs": [],
   "source": [
    "# simplifying name of column by removing extra 'beer'\n",
    "df_reviews.rename(columns={\"beer_beerid\": \"beer_id\"}, inplace=True)"
   ]
  },
  {
   "cell_type": "code",
   "execution_count": 125,
   "id": "b0c85295",
   "metadata": {},
   "outputs": [
    {
     "data": {
      "text/plain": [
       "2093     3281\n",
       "412      3110\n",
       "1904     2992\n",
       "1093     2722\n",
       "4083     2700\n",
       "         ... \n",
       "39352       1\n",
       "25735       1\n",
       "22659       1\n",
       "61437       1\n",
       "47986       1\n",
       "Name: beer_id, Length: 48877, dtype: int64"
      ]
     },
     "execution_count": 125,
     "metadata": {},
     "output_type": "execute_result"
    }
   ],
   "source": [
    "#dataset has over 48,000 unique beers\n",
    "df_reviews.beer_id.value_counts()"
   ]
  },
  {
   "cell_type": "code",
   "execution_count": 126,
   "id": "be7ff99f",
   "metadata": {},
   "outputs": [],
   "source": [
    "beer_lessthan5 = df_reviews.groupby('beer_id')['review_overall'].count() < 5"
   ]
  },
  {
   "cell_type": "code",
   "execution_count": 127,
   "id": "41b766fb",
   "metadata": {},
   "outputs": [
    {
     "data": {
      "text/plain": [
       "29744"
      ]
     },
     "execution_count": 127,
     "metadata": {},
     "output_type": "execute_result"
    }
   ],
   "source": [
    "beer_lessthan5.sum()"
   ]
  },
  {
   "cell_type": "code",
   "execution_count": 128,
   "id": "8873e900",
   "metadata": {},
   "outputs": [],
   "source": [
    "beer_1review = df_reviews.groupby('beer_id')['review_overall'].count() == 1"
   ]
  },
  {
   "cell_type": "code",
   "execution_count": 129,
   "id": "ae50a219",
   "metadata": {},
   "outputs": [
    {
     "data": {
      "text/plain": [
       "15602"
      ]
     },
     "execution_count": 129,
     "metadata": {},
     "output_type": "execute_result"
    }
   ],
   "source": [
    "beer_1review.sum()"
   ]
  },
  {
   "cell_type": "markdown",
   "id": "97a49503",
   "metadata": {},
   "source": [
    "> 60% of the beers have less than 5 reviews and 32% of the beers have only 1 review. Upon seeing this I decided to leave all beers to preserve the data. As this dataset is being utilized for collaborative filtering, limiting based on number of reviews by reviewer might be better approach. The point of the recommender is to also suggest new and different beers to people so I will be keeping them in set for now."
   ]
  },
  {
   "cell_type": "markdown",
   "id": "17aadf7b",
   "metadata": {},
   "source": [
    "### Cleaning Reviewer Column\n",
    "Next, I dropped any reviewers that have left only 1 review and then assigned an ID number as a 'user_id' for any remaining reviewers. "
   ]
  },
  {
   "cell_type": "code",
   "execution_count": 130,
   "id": "dd01ea6a",
   "metadata": {},
   "outputs": [
    {
     "data": {
      "text/plain": [
       "32767"
      ]
     },
     "execution_count": 130,
     "metadata": {},
     "output_type": "execute_result"
    }
   ],
   "source": [
    "# checking to see how many reviewers remain\n",
    "df_reviews['review_profilename'].nunique()"
   ]
  },
  {
   "cell_type": "code",
   "execution_count": 131,
   "id": "eb91e25e",
   "metadata": {},
   "outputs": [
    {
     "data": {
      "text/plain": [
       "northyorksammy    5312\n",
       "mikesgroove       4257\n",
       "BuckeyeNation     4240\n",
       "Thorpe429         3244\n",
       "brentk56          3165\n",
       "                  ... \n",
       "tbailey32            1\n",
       "OSURoss              1\n",
       "JTM65                1\n",
       "Jagermeisterr        1\n",
       "Deek88               1\n",
       "Name: review_profilename, Length: 32767, dtype: int64"
      ]
     },
     "execution_count": 131,
     "metadata": {},
     "output_type": "execute_result"
    }
   ],
   "source": [
    "# some reviewers have thousands of reviews while others have 1\n",
    "df_reviews['review_profilename'].value_counts()"
   ]
  },
  {
   "cell_type": "code",
   "execution_count": 132,
   "id": "0faeb6f5",
   "metadata": {},
   "outputs": [],
   "source": [
    "greater_than4 = df_reviews.groupby('review_profilename').count() > 4"
   ]
  },
  {
   "cell_type": "code",
   "execution_count": 133,
   "id": "e7f97a81",
   "metadata": {},
   "outputs": [
    {
     "data": {
      "text/plain": [
       "32767"
      ]
     },
     "execution_count": 133,
     "metadata": {},
     "output_type": "execute_result"
    }
   ],
   "source": [
    "len(greater_than4)"
   ]
  },
  {
   "cell_type": "code",
   "execution_count": 134,
   "id": "3edaee56",
   "metadata": {},
   "outputs": [],
   "source": [
    "# filtering to keep only those with at least 5 reviews\n",
    "df_reviews = df_reviews[df_reviews['review_profilename'].map(df_reviews['review_profilename'].value_counts()) > 4]"
   ]
  },
  {
   "cell_type": "code",
   "execution_count": 135,
   "id": "7efbb358",
   "metadata": {},
   "outputs": [
    {
     "data": {
      "text/plain": [
       "northyorksammy     5312\n",
       "mikesgroove        4257\n",
       "BuckeyeNation      4240\n",
       "Thorpe429          3244\n",
       "brentk56           3165\n",
       "                   ... \n",
       "TheCommonwealth       5\n",
       "eclipsehts            5\n",
       "NotBlonde             5\n",
       "pmcgill10             5\n",
       "jman42                5\n",
       "Name: review_profilename, Length: 14550, dtype: int64"
      ]
     },
     "execution_count": 135,
     "metadata": {},
     "output_type": "execute_result"
    }
   ],
   "source": [
    "# checking \n",
    "df_reviews['review_profilename'].value_counts()"
   ]
  },
  {
   "cell_type": "code",
   "execution_count": 136,
   "id": "58f245a9",
   "metadata": {},
   "outputs": [
    {
     "data": {
      "text/plain": [
       "(1475492, 12)"
      ]
     },
     "execution_count": 136,
     "metadata": {},
     "output_type": "execute_result"
    }
   ],
   "source": [
    "df_reviews.shape"
   ]
  },
  {
   "cell_type": "code",
   "execution_count": 137,
   "id": "6bb39b22",
   "metadata": {},
   "outputs": [
    {
     "data": {
      "text/html": [
       "<div>\n",
       "<style scoped>\n",
       "    .dataframe tbody tr th:only-of-type {\n",
       "        vertical-align: middle;\n",
       "    }\n",
       "\n",
       "    .dataframe tbody tr th {\n",
       "        vertical-align: top;\n",
       "    }\n",
       "\n",
       "    .dataframe thead th {\n",
       "        text-align: right;\n",
       "    }\n",
       "</style>\n",
       "<table border=\"1\" class=\"dataframe\">\n",
       "  <thead>\n",
       "    <tr style=\"text-align: right;\">\n",
       "      <th></th>\n",
       "      <th>brewery_id</th>\n",
       "      <th>brewery_name</th>\n",
       "      <th>review_overall</th>\n",
       "      <th>review_aroma</th>\n",
       "      <th>review_appearance</th>\n",
       "      <th>review_profilename</th>\n",
       "      <th>beer_style</th>\n",
       "      <th>review_palate</th>\n",
       "      <th>review_taste</th>\n",
       "      <th>beer_name</th>\n",
       "      <th>beer_abv</th>\n",
       "      <th>beer_id</th>\n",
       "    </tr>\n",
       "  </thead>\n",
       "  <tbody>\n",
       "    <tr>\n",
       "      <th>0</th>\n",
       "      <td>10325</td>\n",
       "      <td>Vecchio Birraio</td>\n",
       "      <td>1.5</td>\n",
       "      <td>2.0</td>\n",
       "      <td>2.5</td>\n",
       "      <td>stcules</td>\n",
       "      <td>Wheat Beer</td>\n",
       "      <td>1.5</td>\n",
       "      <td>1.5</td>\n",
       "      <td>Sausa Weizen</td>\n",
       "      <td>5.0</td>\n",
       "      <td>47986</td>\n",
       "    </tr>\n",
       "  </tbody>\n",
       "</table>\n",
       "</div>"
      ],
      "text/plain": [
       "   brewery_id     brewery_name  review_overall  review_aroma  \\\n",
       "0       10325  Vecchio Birraio             1.5           2.0   \n",
       "\n",
       "   review_appearance review_profilename  beer_style  review_palate  \\\n",
       "0                2.5            stcules  Wheat Beer            1.5   \n",
       "\n",
       "   review_taste     beer_name  beer_abv  beer_id  \n",
       "0           1.5  Sausa Weizen       5.0    47986  "
      ]
     },
     "execution_count": 137,
     "metadata": {},
     "output_type": "execute_result"
    }
   ],
   "source": [
    "df_reviews.head(1)"
   ]
  },
  {
   "cell_type": "code",
   "execution_count": 138,
   "id": "3f577e89",
   "metadata": {},
   "outputs": [],
   "source": [
    "# assigning each reviewer their own ID number as alias\n",
    "df_reviews = df_reviews.assign(user_id=df_reviews.groupby(['review_profilename']).ngroup())"
   ]
  },
  {
   "cell_type": "markdown",
   "id": "9989c267",
   "metadata": {},
   "source": [
    "> [Source](#https://stackoverflow.com/questions/45685254/how-to-efficiently-assign-unique-id-to-individuals-with-multiple-entries-based-o) for code above"
   ]
  },
  {
   "cell_type": "code",
   "execution_count": 143,
   "id": "7f63594e",
   "metadata": {},
   "outputs": [
    {
     "data": {
      "text/html": [
       "<div>\n",
       "<style scoped>\n",
       "    .dataframe tbody tr th:only-of-type {\n",
       "        vertical-align: middle;\n",
       "    }\n",
       "\n",
       "    .dataframe tbody tr th {\n",
       "        vertical-align: top;\n",
       "    }\n",
       "\n",
       "    .dataframe thead th {\n",
       "        text-align: right;\n",
       "    }\n",
       "</style>\n",
       "<table border=\"1\" class=\"dataframe\">\n",
       "  <thead>\n",
       "    <tr style=\"text-align: right;\">\n",
       "      <th></th>\n",
       "      <th>brewery_id</th>\n",
       "      <th>brewery_name</th>\n",
       "      <th>review_overall</th>\n",
       "      <th>review_aroma</th>\n",
       "      <th>review_appearance</th>\n",
       "      <th>review_profilename</th>\n",
       "      <th>beer_style</th>\n",
       "      <th>review_palate</th>\n",
       "      <th>review_taste</th>\n",
       "      <th>beer_name</th>\n",
       "      <th>beer_abv</th>\n",
       "      <th>beer_id</th>\n",
       "      <th>user_id</th>\n",
       "    </tr>\n",
       "  </thead>\n",
       "  <tbody>\n",
       "    <tr>\n",
       "      <th>0</th>\n",
       "      <td>10325</td>\n",
       "      <td>Vecchio Birraio</td>\n",
       "      <td>1.5</td>\n",
       "      <td>2.0</td>\n",
       "      <td>2.5</td>\n",
       "      <td>stcules</td>\n",
       "      <td>Wheat Beer</td>\n",
       "      <td>1.5</td>\n",
       "      <td>1.5</td>\n",
       "      <td>Sausa Weizen</td>\n",
       "      <td>5.0</td>\n",
       "      <td>47986</td>\n",
       "      <td>13329</td>\n",
       "    </tr>\n",
       "    <tr>\n",
       "      <th>1</th>\n",
       "      <td>10325</td>\n",
       "      <td>Vecchio Birraio</td>\n",
       "      <td>3.0</td>\n",
       "      <td>2.5</td>\n",
       "      <td>3.0</td>\n",
       "      <td>stcules</td>\n",
       "      <td>Strong Ale</td>\n",
       "      <td>3.0</td>\n",
       "      <td>3.0</td>\n",
       "      <td>Red Moon</td>\n",
       "      <td>6.2</td>\n",
       "      <td>48213</td>\n",
       "      <td>13329</td>\n",
       "    </tr>\n",
       "    <tr>\n",
       "      <th>2</th>\n",
       "      <td>10325</td>\n",
       "      <td>Vecchio Birraio</td>\n",
       "      <td>3.0</td>\n",
       "      <td>2.5</td>\n",
       "      <td>3.0</td>\n",
       "      <td>stcules</td>\n",
       "      <td>Stout</td>\n",
       "      <td>3.0</td>\n",
       "      <td>3.0</td>\n",
       "      <td>Black Horse Black Beer</td>\n",
       "      <td>6.5</td>\n",
       "      <td>48215</td>\n",
       "      <td>13329</td>\n",
       "    </tr>\n",
       "    <tr>\n",
       "      <th>3</th>\n",
       "      <td>10325</td>\n",
       "      <td>Vecchio Birraio</td>\n",
       "      <td>3.0</td>\n",
       "      <td>3.0</td>\n",
       "      <td>3.5</td>\n",
       "      <td>stcules</td>\n",
       "      <td>Pale Lager</td>\n",
       "      <td>2.5</td>\n",
       "      <td>3.0</td>\n",
       "      <td>Sausa Pils</td>\n",
       "      <td>5.0</td>\n",
       "      <td>47969</td>\n",
       "      <td>13329</td>\n",
       "    </tr>\n",
       "    <tr>\n",
       "      <th>4</th>\n",
       "      <td>1075</td>\n",
       "      <td>Caldera Brewing Company</td>\n",
       "      <td>4.0</td>\n",
       "      <td>4.5</td>\n",
       "      <td>4.0</td>\n",
       "      <td>johnmichaelsen</td>\n",
       "      <td>India Pale Ale</td>\n",
       "      <td>4.0</td>\n",
       "      <td>4.5</td>\n",
       "      <td>Cauldron DIPA</td>\n",
       "      <td>7.7</td>\n",
       "      <td>64883</td>\n",
       "      <td>10108</td>\n",
       "    </tr>\n",
       "  </tbody>\n",
       "</table>\n",
       "</div>"
      ],
      "text/plain": [
       "   brewery_id             brewery_name  review_overall  review_aroma  \\\n",
       "0       10325          Vecchio Birraio             1.5           2.0   \n",
       "1       10325          Vecchio Birraio             3.0           2.5   \n",
       "2       10325          Vecchio Birraio             3.0           2.5   \n",
       "3       10325          Vecchio Birraio             3.0           3.0   \n",
       "4        1075  Caldera Brewing Company             4.0           4.5   \n",
       "\n",
       "   review_appearance review_profilename      beer_style  review_palate  \\\n",
       "0                2.5            stcules      Wheat Beer            1.5   \n",
       "1                3.0            stcules      Strong Ale            3.0   \n",
       "2                3.0            stcules           Stout            3.0   \n",
       "3                3.5            stcules      Pale Lager            2.5   \n",
       "4                4.0     johnmichaelsen  India Pale Ale            4.0   \n",
       "\n",
       "   review_taste               beer_name  beer_abv  beer_id  user_id  \n",
       "0           1.5            Sausa Weizen       5.0    47986    13329  \n",
       "1           3.0                Red Moon       6.2    48213    13329  \n",
       "2           3.0  Black Horse Black Beer       6.5    48215    13329  \n",
       "3           3.0              Sausa Pils       5.0    47969    13329  \n",
       "4           4.5           Cauldron DIPA       7.7    64883    10108  "
      ]
     },
     "execution_count": 143,
     "metadata": {},
     "output_type": "execute_result"
    }
   ],
   "source": [
    "#checking new user_id column\n",
    "df_reviews.head()"
   ]
  },
  {
   "cell_type": "code",
   "execution_count": 144,
   "id": "7d80f2d6",
   "metadata": {},
   "outputs": [],
   "source": [
    "# now that each user has an ID we can drop profile name\n",
    "df_reviews.drop(columns='review_profilename', inplace=True)"
   ]
  },
  {
   "cell_type": "code",
   "execution_count": 145,
   "id": "c52e9544",
   "metadata": {},
   "outputs": [
    {
     "data": {
      "text/html": [
       "<div>\n",
       "<style scoped>\n",
       "    .dataframe tbody tr th:only-of-type {\n",
       "        vertical-align: middle;\n",
       "    }\n",
       "\n",
       "    .dataframe tbody tr th {\n",
       "        vertical-align: top;\n",
       "    }\n",
       "\n",
       "    .dataframe thead th {\n",
       "        text-align: right;\n",
       "    }\n",
       "</style>\n",
       "<table border=\"1\" class=\"dataframe\">\n",
       "  <thead>\n",
       "    <tr style=\"text-align: right;\">\n",
       "      <th></th>\n",
       "      <th>brewery_id</th>\n",
       "      <th>brewery_name</th>\n",
       "      <th>review_overall</th>\n",
       "      <th>review_aroma</th>\n",
       "      <th>review_appearance</th>\n",
       "      <th>beer_style</th>\n",
       "      <th>review_palate</th>\n",
       "      <th>review_taste</th>\n",
       "      <th>beer_name</th>\n",
       "      <th>beer_abv</th>\n",
       "      <th>beer_id</th>\n",
       "      <th>user_id</th>\n",
       "    </tr>\n",
       "  </thead>\n",
       "  <tbody>\n",
       "    <tr>\n",
       "      <th>0</th>\n",
       "      <td>10325</td>\n",
       "      <td>Vecchio Birraio</td>\n",
       "      <td>1.5</td>\n",
       "      <td>2.0</td>\n",
       "      <td>2.5</td>\n",
       "      <td>Wheat Beer</td>\n",
       "      <td>1.5</td>\n",
       "      <td>1.5</td>\n",
       "      <td>Sausa Weizen</td>\n",
       "      <td>5.0</td>\n",
       "      <td>47986</td>\n",
       "      <td>13329</td>\n",
       "    </tr>\n",
       "  </tbody>\n",
       "</table>\n",
       "</div>"
      ],
      "text/plain": [
       "   brewery_id     brewery_name  review_overall  review_aroma  \\\n",
       "0       10325  Vecchio Birraio             1.5           2.0   \n",
       "\n",
       "   review_appearance  beer_style  review_palate  review_taste     beer_name  \\\n",
       "0                2.5  Wheat Beer            1.5           1.5  Sausa Weizen   \n",
       "\n",
       "   beer_abv  beer_id  user_id  \n",
       "0       5.0    47986    13329  "
      ]
     },
     "execution_count": 145,
     "metadata": {},
     "output_type": "execute_result"
    }
   ],
   "source": [
    "# checking data frame\n",
    "df_reviews.head(1)"
   ]
  },
  {
   "cell_type": "code",
   "execution_count": 147,
   "id": "2ba565df",
   "metadata": {},
   "outputs": [],
   "source": [
    "# since recommendations will be based on overall user rating, extra rating columns will be dropped.\n",
    "df_reviews.drop(columns = ['review_aroma', 'review_appearance', 'review_palate', 'review_taste'], inplace = True)"
   ]
  },
  {
   "cell_type": "code",
   "execution_count": 149,
   "id": "9627420e",
   "metadata": {},
   "outputs": [
    {
     "data": {
      "text/html": [
       "<div>\n",
       "<style scoped>\n",
       "    .dataframe tbody tr th:only-of-type {\n",
       "        vertical-align: middle;\n",
       "    }\n",
       "\n",
       "    .dataframe tbody tr th {\n",
       "        vertical-align: top;\n",
       "    }\n",
       "\n",
       "    .dataframe thead th {\n",
       "        text-align: right;\n",
       "    }\n",
       "</style>\n",
       "<table border=\"1\" class=\"dataframe\">\n",
       "  <thead>\n",
       "    <tr style=\"text-align: right;\">\n",
       "      <th></th>\n",
       "      <th>brewery_id</th>\n",
       "      <th>brewery_name</th>\n",
       "      <th>review_overall</th>\n",
       "      <th>beer_style</th>\n",
       "      <th>beer_name</th>\n",
       "      <th>beer_abv</th>\n",
       "      <th>beer_id</th>\n",
       "      <th>user_id</th>\n",
       "    </tr>\n",
       "  </thead>\n",
       "  <tbody>\n",
       "    <tr>\n",
       "      <th>0</th>\n",
       "      <td>10325</td>\n",
       "      <td>Vecchio Birraio</td>\n",
       "      <td>1.5</td>\n",
       "      <td>Wheat Beer</td>\n",
       "      <td>Sausa Weizen</td>\n",
       "      <td>5.0</td>\n",
       "      <td>47986</td>\n",
       "      <td>13329</td>\n",
       "    </tr>\n",
       "  </tbody>\n",
       "</table>\n",
       "</div>"
      ],
      "text/plain": [
       "   brewery_id     brewery_name  review_overall  beer_style     beer_name  \\\n",
       "0       10325  Vecchio Birraio             1.5  Wheat Beer  Sausa Weizen   \n",
       "\n",
       "   beer_abv  beer_id  user_id  \n",
       "0       5.0    47986    13329  "
      ]
     },
     "execution_count": 149,
     "metadata": {},
     "output_type": "execute_result"
    }
   ],
   "source": [
    "#checking df \n",
    "df_reviews.head(1)"
   ]
  },
  {
   "cell_type": "markdown",
   "id": "241132a5",
   "metadata": {},
   "source": [
    "***"
   ]
  },
  {
   "cell_type": "markdown",
   "id": "dd0d8179",
   "metadata": {},
   "source": [
    "## Sending Cleaned Data to CSV"
   ]
  },
  {
   "cell_type": "markdown",
   "id": "a219608b",
   "metadata": {},
   "source": [
    "For use in other notebooks the cleaned dataframes are saved to separate CSV files. Due to file size these files are saved and accessed locally and were not pushed to github."
   ]
  },
  {
   "cell_type": "markdown",
   "id": "a1e17795",
   "metadata": {},
   "source": [
    "#### Cleaned Reviews (collab)"
   ]
  },
  {
   "cell_type": "code",
   "execution_count": null,
   "id": "d459c8ce",
   "metadata": {},
   "outputs": [],
   "source": [
    "df_reviews.to_csv('../BeerData/reviews_cleaned.csv')"
   ]
  },
  {
   "cell_type": "markdown",
   "id": "7885283a",
   "metadata": {},
   "source": [
    "#### Cleaned Tasting (content)"
   ]
  },
  {
   "cell_type": "code",
   "execution_count": null,
   "id": "390dc69e",
   "metadata": {},
   "outputs": [],
   "source": [
    "df_tasting.to_csv('../BeerData/tasting_cleaned.csv')"
   ]
  },
  {
   "cell_type": "markdown",
   "id": "2726b71e",
   "metadata": {},
   "source": [
    "> These notebooks were used to "
   ]
  }
 ],
 "metadata": {
  "kernelspec": {
   "display_name": "Python 3 (ipykernel)",
   "language": "python",
   "name": "python3"
  },
  "language_info": {
   "codemirror_mode": {
    "name": "ipython",
    "version": 3
   },
   "file_extension": ".py",
   "mimetype": "text/x-python",
   "name": "python",
   "nbconvert_exporter": "python",
   "pygments_lexer": "ipython3",
   "version": "3.10.6"
  }
 },
 "nbformat": 4,
 "nbformat_minor": 5
}
