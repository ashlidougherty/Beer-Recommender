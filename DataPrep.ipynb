{
 "cells": [
  {
   "cell_type": "markdown",
   "id": "5fa1c47b",
   "metadata": {},
   "source": [
    "# Beer-Recommendation System: Data Prep\n",
    "Author: Ashli Dougherty "
   ]
  },
  {
   "cell_type": "markdown",
   "id": "046a4296",
   "metadata": {},
   "source": [
    "# Overview"
   ]
  },
  {
   "cell_type": "markdown",
   "id": "3e91e24c",
   "metadata": {},
   "source": [
    "This project's goal is to build a recommendation system for the beer enthusiast. I am interested in creating both a content based and collaborative filtering recommendation system. \n",
    "- A content based system will make recommendations based on a beer's features. The content based system will allow any user to enter a beer/characteristic and in return they will be given the names of other beers they will (hopefully) enjoy drinking.  \n",
    "- The collaborative system will recommend items based on the ratings of other users. This system will compare beer drinker/reviewer profiles and then recommend items based on the similarity between these users. \n"
   ]
  },
  {
   "cell_type": "markdown",
   "id": "e195e545",
   "metadata": {},
   "source": [
    "***"
   ]
  },
  {
   "cell_type": "markdown",
   "id": "a065827a",
   "metadata": {},
   "source": [
    "# Business Understanding "
   ]
  },
  {
   "cell_type": "markdown",
   "id": "1b1e7e42",
   "metadata": {},
   "source": [
    "As of December of 2021 there are more than [9,000 breweries](https://vinepair.com/booze-news/us-record-number-breweries-2021/#:~:text=Even%20after%20the%20setbacks%20of,beer%20producers%20in%20the%20U.S.) in the US alone. There are so many options on the market that choosing which beverage to buy next, what brewery to visit in person, or which booth to stand in line for at a festival can seem overwhelming. The craft beer business is still booming even after the pandemic and customers should know they can enjoy their next sip (or pint) with confidence. My target audience could be any of the hundred of thousands of people that enjoy beer and trying new breweries! The domain knowledge I am relying on is personal as I myself am a sometimes indecisive) beer enthusiast who has tried over 1,000 beers and visited approximately 100 breweries."
   ]
  },
  {
   "cell_type": "markdown",
   "id": "72944d0c",
   "metadata": {},
   "source": [
    "***"
   ]
  },
  {
   "cell_type": "markdown",
   "id": "8bec0c9a",
   "metadata": {},
   "source": [
    "# Data Understanding "
   ]
  },
  {
   "cell_type": "markdown",
   "id": "8653e123",
   "metadata": {},
   "source": [
    ">There are two datasets being utilized for this project. \n",
    "\n",
    "### Tasting Profiles\n",
    "The [first dataset](https://www.kaggle.com/datasets/stephenpolozoff/top-beer-information?select=beer_data_set.csv) contains data scraped from the website [BeerAdvocate.com](https://www.beeradvocate.com/). It is a CSV file that contains 5,558 beers in total across 112 styles. Other data represented in the table includes: the brewery the beer was produced, a description of the beer, and the overall rating of the beer. As there is no unique user review data, this dataset would be best for a content based recommendation system. \n",
    "\n",
    "### Beer Reviews \n",
    "The [second dataset](https://www.kaggle.com/datasets/rdoume/beerreviews) is also scraped from [BeerAdvocate.com](https://www.beeradvocate.com/). It is a CSV file that contains approximately 1.6 million reviews of beers from their website. There are a total of 33,388 unique reviewers and 56,857 unique beers that have been reviewed. There are no descriptions of the beers, just names, brewery, style, and ratings on a scale of 1 - 5. Because this data set has both unique users and beer IDs it lends itself to be a collaborative filtering system.   \n",
    "\n",
    "Due to the large size of these datasets I downloaded them locally and saved to an external repository outside of github."
   ]
  },
  {
   "cell_type": "markdown",
   "id": "b6e6b05b",
   "metadata": {},
   "source": [
    "***"
   ]
  },
  {
   "cell_type": "markdown",
   "id": "59ce1f14",
   "metadata": {},
   "source": [
    "# Data Preparation "
   ]
  },
  {
   "cell_type": "markdown",
   "id": "50d3912b",
   "metadata": {},
   "source": [
    "## Imports\n",
    "\n",
    "Initial cleaning consited of using pandas methods and functions. Visualizations were made using the Seaborn library. "
   ]
  },
  {
   "cell_type": "code",
   "execution_count": 131,
   "id": "4555cc98",
   "metadata": {},
   "outputs": [],
   "source": [
    "import pandas as pd\n",
    "import numpy as np\n",
    "import matplotlib.pyplot as plt\n",
    "%matplotlib inline\n",
    "import seaborn as sns\n",
    "import string\n",
    "import re\n",
    "import warnings\n",
    "warnings.filterwarnings(\"ignore\")"
   ]
  },
  {
   "cell_type": "markdown",
   "id": "fd86d2b2",
   "metadata": {},
   "source": [
    "## Load Data"
   ]
  },
  {
   "cell_type": "markdown",
   "id": "fd474b77",
   "metadata": {},
   "source": [
    "## Tasting Profiles -- content based recs"
   ]
  },
  {
   "cell_type": "code",
   "execution_count": 132,
   "id": "1cbdf727",
   "metadata": {},
   "outputs": [],
   "source": [
    "df_tasting = pd.read_csv('../BeerData/tasting_profiles.csv')"
   ]
  },
  {
   "cell_type": "code",
   "execution_count": 133,
   "id": "88359366",
   "metadata": {},
   "outputs": [
    {
     "data": {
      "text/html": [
       "<div>\n",
       "<style scoped>\n",
       "    .dataframe tbody tr th:only-of-type {\n",
       "        vertical-align: middle;\n",
       "    }\n",
       "\n",
       "    .dataframe tbody tr th {\n",
       "        vertical-align: top;\n",
       "    }\n",
       "\n",
       "    .dataframe thead th {\n",
       "        text-align: right;\n",
       "    }\n",
       "</style>\n",
       "<table border=\"1\" class=\"dataframe\">\n",
       "  <thead>\n",
       "    <tr style=\"text-align: right;\">\n",
       "      <th></th>\n",
       "      <th>Name</th>\n",
       "      <th>key</th>\n",
       "      <th>Style</th>\n",
       "      <th>Style Key</th>\n",
       "      <th>Brewery</th>\n",
       "      <th>Description</th>\n",
       "      <th>ABV</th>\n",
       "      <th>Ave Rating</th>\n",
       "      <th>Min IBU</th>\n",
       "      <th>Max IBU</th>\n",
       "      <th>...</th>\n",
       "      <th>Body</th>\n",
       "      <th>Alcohol</th>\n",
       "      <th>Bitter</th>\n",
       "      <th>Sweet</th>\n",
       "      <th>Sour</th>\n",
       "      <th>Salty</th>\n",
       "      <th>Fruits</th>\n",
       "      <th>Hoppy</th>\n",
       "      <th>Spices</th>\n",
       "      <th>Malty</th>\n",
       "    </tr>\n",
       "  </thead>\n",
       "  <tbody>\n",
       "    <tr>\n",
       "      <th>0</th>\n",
       "      <td>Amber</td>\n",
       "      <td>251</td>\n",
       "      <td>Altbier</td>\n",
       "      <td>8</td>\n",
       "      <td>Alaskan Brewing Co.</td>\n",
       "      <td>Notes:Richly malty and long on the palate, wit...</td>\n",
       "      <td>5.3</td>\n",
       "      <td>3.65</td>\n",
       "      <td>25</td>\n",
       "      <td>50</td>\n",
       "      <td>...</td>\n",
       "      <td>32</td>\n",
       "      <td>9</td>\n",
       "      <td>47</td>\n",
       "      <td>74</td>\n",
       "      <td>33</td>\n",
       "      <td>0</td>\n",
       "      <td>33</td>\n",
       "      <td>57</td>\n",
       "      <td>8</td>\n",
       "      <td>111</td>\n",
       "    </tr>\n",
       "    <tr>\n",
       "      <th>1</th>\n",
       "      <td>Double Bag</td>\n",
       "      <td>252</td>\n",
       "      <td>Altbier</td>\n",
       "      <td>8</td>\n",
       "      <td>Long Trail Brewing Co.</td>\n",
       "      <td>Notes:This malty, full-bodied double alt is al...</td>\n",
       "      <td>7.2</td>\n",
       "      <td>3.90</td>\n",
       "      <td>25</td>\n",
       "      <td>50</td>\n",
       "      <td>...</td>\n",
       "      <td>57</td>\n",
       "      <td>18</td>\n",
       "      <td>33</td>\n",
       "      <td>55</td>\n",
       "      <td>16</td>\n",
       "      <td>0</td>\n",
       "      <td>24</td>\n",
       "      <td>35</td>\n",
       "      <td>12</td>\n",
       "      <td>84</td>\n",
       "    </tr>\n",
       "    <tr>\n",
       "      <th>2</th>\n",
       "      <td>Long Trail Ale</td>\n",
       "      <td>253</td>\n",
       "      <td>Altbier</td>\n",
       "      <td>8</td>\n",
       "      <td>Long Trail Brewing Co.</td>\n",
       "      <td>Notes:Long Trail Ale is a full-bodied amber al...</td>\n",
       "      <td>5.0</td>\n",
       "      <td>3.58</td>\n",
       "      <td>25</td>\n",
       "      <td>50</td>\n",
       "      <td>...</td>\n",
       "      <td>37</td>\n",
       "      <td>6</td>\n",
       "      <td>42</td>\n",
       "      <td>43</td>\n",
       "      <td>11</td>\n",
       "      <td>0</td>\n",
       "      <td>10</td>\n",
       "      <td>54</td>\n",
       "      <td>4</td>\n",
       "      <td>62</td>\n",
       "    </tr>\n",
       "    <tr>\n",
       "      <th>3</th>\n",
       "      <td>Doppelsticke</td>\n",
       "      <td>254</td>\n",
       "      <td>Altbier</td>\n",
       "      <td>8</td>\n",
       "      <td>Uerige Obergärige Hausbrauerei</td>\n",
       "      <td>Notes:</td>\n",
       "      <td>8.5</td>\n",
       "      <td>4.15</td>\n",
       "      <td>25</td>\n",
       "      <td>50</td>\n",
       "      <td>...</td>\n",
       "      <td>55</td>\n",
       "      <td>31</td>\n",
       "      <td>47</td>\n",
       "      <td>101</td>\n",
       "      <td>18</td>\n",
       "      <td>1</td>\n",
       "      <td>49</td>\n",
       "      <td>40</td>\n",
       "      <td>16</td>\n",
       "      <td>119</td>\n",
       "    </tr>\n",
       "    <tr>\n",
       "      <th>4</th>\n",
       "      <td>Scurry</td>\n",
       "      <td>255</td>\n",
       "      <td>Altbier</td>\n",
       "      <td>8</td>\n",
       "      <td>Off Color Brewing</td>\n",
       "      <td>Notes:Just cause it's dark and German doesn't ...</td>\n",
       "      <td>5.3</td>\n",
       "      <td>3.67</td>\n",
       "      <td>25</td>\n",
       "      <td>50</td>\n",
       "      <td>...</td>\n",
       "      <td>69</td>\n",
       "      <td>10</td>\n",
       "      <td>63</td>\n",
       "      <td>120</td>\n",
       "      <td>14</td>\n",
       "      <td>0</td>\n",
       "      <td>19</td>\n",
       "      <td>36</td>\n",
       "      <td>15</td>\n",
       "      <td>218</td>\n",
       "    </tr>\n",
       "  </tbody>\n",
       "</table>\n",
       "<p>5 rows × 21 columns</p>\n",
       "</div>"
      ],
      "text/plain": [
       "             Name  key    Style  Style Key                         Brewery  \\\n",
       "0           Amber  251  Altbier          8             Alaskan Brewing Co.   \n",
       "1      Double Bag  252  Altbier          8          Long Trail Brewing Co.   \n",
       "2  Long Trail Ale  253  Altbier          8          Long Trail Brewing Co.   \n",
       "3    Doppelsticke  254  Altbier          8  Uerige Obergärige Hausbrauerei   \n",
       "4          Scurry  255  Altbier          8               Off Color Brewing   \n",
       "\n",
       "                                         Description  ABV  Ave Rating  \\\n",
       "0  Notes:Richly malty and long on the palate, wit...  5.3        3.65   \n",
       "1  Notes:This malty, full-bodied double alt is al...  7.2        3.90   \n",
       "2  Notes:Long Trail Ale is a full-bodied amber al...  5.0        3.58   \n",
       "3                                             Notes:  8.5        4.15   \n",
       "4  Notes:Just cause it's dark and German doesn't ...  5.3        3.67   \n",
       "\n",
       "   Min IBU  Max IBU  ...  Body  Alcohol  Bitter  Sweet  Sour  Salty  Fruits  \\\n",
       "0       25       50  ...    32        9      47     74    33      0      33   \n",
       "1       25       50  ...    57       18      33     55    16      0      24   \n",
       "2       25       50  ...    37        6      42     43    11      0      10   \n",
       "3       25       50  ...    55       31      47    101    18      1      49   \n",
       "4       25       50  ...    69       10      63    120    14      0      19   \n",
       "\n",
       "   Hoppy  Spices  Malty  \n",
       "0     57       8    111  \n",
       "1     35      12     84  \n",
       "2     54       4     62  \n",
       "3     40      16    119  \n",
       "4     36      15    218  \n",
       "\n",
       "[5 rows x 21 columns]"
      ]
     },
     "execution_count": 133,
     "metadata": {},
     "output_type": "execute_result"
    }
   ],
   "source": [
    "df_tasting.head()"
   ]
  },
  {
   "cell_type": "markdown",
   "id": "862b2008",
   "metadata": {},
   "source": [
    "> From a first look at the table it appears that not all the beers actually have a description. Some entries are just 'Notes:' and therefore will come up as null values even though they don't contain any useable information. Planning on stripping this and all punctuation from all descriptions."
   ]
  },
  {
   "cell_type": "code",
   "execution_count": 134,
   "id": "5488eb21",
   "metadata": {},
   "outputs": [
    {
     "data": {
      "text/plain": [
       "(5558, 21)"
      ]
     },
     "execution_count": 134,
     "metadata": {},
     "output_type": "execute_result"
    }
   ],
   "source": [
    "# check shape\n",
    "df_tasting.shape"
   ]
  },
  {
   "cell_type": "code",
   "execution_count": 135,
   "id": "7604c408",
   "metadata": {},
   "outputs": [
    {
     "name": "stdout",
     "output_type": "stream",
     "text": [
      "<class 'pandas.core.frame.DataFrame'>\n",
      "RangeIndex: 5558 entries, 0 to 5557\n",
      "Data columns (total 21 columns):\n",
      " #   Column       Non-Null Count  Dtype  \n",
      "---  ------       --------------  -----  \n",
      " 0   Name         5556 non-null   object \n",
      " 1   key          5558 non-null   int64  \n",
      " 2   Style        5558 non-null   object \n",
      " 3   Style Key    5558 non-null   int64  \n",
      " 4   Brewery      5558 non-null   object \n",
      " 5   Description  5558 non-null   object \n",
      " 6   ABV          5558 non-null   float64\n",
      " 7   Ave Rating   5558 non-null   float64\n",
      " 8   Min IBU      5558 non-null   int64  \n",
      " 9   Max IBU      5558 non-null   int64  \n",
      " 10  Astringency  5558 non-null   int64  \n",
      " 11  Body         5558 non-null   int64  \n",
      " 12  Alcohol      5558 non-null   int64  \n",
      " 13  Bitter       5558 non-null   int64  \n",
      " 14  Sweet        5558 non-null   int64  \n",
      " 15  Sour         5558 non-null   int64  \n",
      " 16  Salty        5558 non-null   int64  \n",
      " 17  Fruits       5558 non-null   int64  \n",
      " 18  Hoppy        5558 non-null   int64  \n",
      " 19  Spices       5558 non-null   int64  \n",
      " 20  Malty        5558 non-null   int64  \n",
      "dtypes: float64(2), int64(15), object(4)\n",
      "memory usage: 912.0+ KB\n"
     ]
    }
   ],
   "source": [
    "# checking types\n",
    "df_tasting.info()\n",
    "# all types look as expected"
   ]
  },
  {
   "cell_type": "code",
   "execution_count": 136,
   "id": "a1de9b26",
   "metadata": {},
   "outputs": [
    {
     "data": {
      "text/plain": [
       "Name           2\n",
       "key            0\n",
       "Style          0\n",
       "Style Key      0\n",
       "Brewery        0\n",
       "Description    0\n",
       "ABV            0\n",
       "Ave Rating     0\n",
       "Min IBU        0\n",
       "Max IBU        0\n",
       "Astringency    0\n",
       "Body           0\n",
       "Alcohol        0\n",
       "Bitter         0\n",
       "Sweet          0\n",
       "Sour           0\n",
       "Salty          0\n",
       "Fruits         0\n",
       "Hoppy          0\n",
       "Spices         0\n",
       "Malty          0\n",
       "dtype: int64"
      ]
     },
     "execution_count": 136,
     "metadata": {},
     "output_type": "execute_result"
    }
   ],
   "source": [
    "df_tasting.isna().sum()"
   ]
  },
  {
   "cell_type": "code",
   "execution_count": 137,
   "id": "73d433a6",
   "metadata": {},
   "outputs": [
    {
     "data": {
      "text/plain": [
       "0"
      ]
     },
     "execution_count": 137,
     "metadata": {},
     "output_type": "execute_result"
    }
   ],
   "source": [
    "df_tasting.duplicated().sum()"
   ]
  },
  {
   "cell_type": "markdown",
   "id": "cc34854a",
   "metadata": {},
   "source": [
    "> There are no duplicates and only 2 missing values. These missing values will be dropped as I need the identity of the beer in order to recommend it. "
   ]
  },
  {
   "cell_type": "code",
   "execution_count": 138,
   "id": "4473d9ce",
   "metadata": {},
   "outputs": [],
   "source": [
    "df_tasting.dropna(inplace=True)"
   ]
  },
  {
   "cell_type": "code",
   "execution_count": 139,
   "id": "1d47127c",
   "metadata": {},
   "outputs": [
    {
     "data": {
      "text/plain": [
       "(5556, 21)"
      ]
     },
     "execution_count": 139,
     "metadata": {},
     "output_type": "execute_result"
    }
   ],
   "source": [
    "df_tasting.shape"
   ]
  },
  {
   "cell_type": "markdown",
   "id": "e5ca15f0",
   "metadata": {},
   "source": [
    "## Data Cleaning"
   ]
  },
  {
   "cell_type": "markdown",
   "id": "dfd8aabb",
   "metadata": {},
   "source": [
    "### Cleaning 'Decription' Feature"
   ]
  },
  {
   "cell_type": "code",
   "execution_count": 140,
   "id": "86124bb5",
   "metadata": {},
   "outputs": [
    {
     "data": {
      "text/plain": [
       "0       Notes:Richly malty and long on the palate, wit...\n",
       "1       Notes:This malty, full-bodied double alt is al...\n",
       "2       Notes:Long Trail Ale is a full-bodied amber al...\n",
       "3                                                  Notes:\n",
       "4       Notes:Just cause it's dark and German doesn't ...\n",
       "                              ...                        \n",
       "5553                                               Notes:\n",
       "5554    Notes:This is the forty-fifth annual Our Speci...\n",
       "5555                                               Notes:\n",
       "5556    Notes:Chanukah Beer pours a rich crystal clear...\n",
       "5557    Notes:The essence of Christmas is captured in ...\n",
       "Name: Description, Length: 5556, dtype: object"
      ]
     },
     "execution_count": 140,
     "metadata": {},
     "output_type": "execute_result"
    }
   ],
   "source": [
    "df_tasting.Description"
   ]
  },
  {
   "cell_type": "code",
   "execution_count": 141,
   "id": "bdd4918a",
   "metadata": {},
   "outputs": [],
   "source": [
    "df_tasting.Description = df_tasting.Description.str.strip('Notes:')"
   ]
  },
  {
   "cell_type": "code",
   "execution_count": 142,
   "id": "446aa044",
   "metadata": {},
   "outputs": [],
   "source": [
    "#stripping description of punctuation \n",
    "df_tasting['Description'] = df_tasting['Description'].replace(r'[^\\w\\s]', \"\", regex=True)"
   ]
  },
  {
   "cell_type": "code",
   "execution_count": 143,
   "id": "d627e4ff",
   "metadata": {
    "scrolled": true
   },
   "outputs": [
    {
     "data": {
      "text/html": [
       "<div>\n",
       "<style scoped>\n",
       "    .dataframe tbody tr th:only-of-type {\n",
       "        vertical-align: middle;\n",
       "    }\n",
       "\n",
       "    .dataframe tbody tr th {\n",
       "        vertical-align: top;\n",
       "    }\n",
       "\n",
       "    .dataframe thead th {\n",
       "        text-align: right;\n",
       "    }\n",
       "</style>\n",
       "<table border=\"1\" class=\"dataframe\">\n",
       "  <thead>\n",
       "    <tr style=\"text-align: right;\">\n",
       "      <th></th>\n",
       "      <th>Name</th>\n",
       "      <th>key</th>\n",
       "      <th>Style</th>\n",
       "      <th>Style Key</th>\n",
       "      <th>Brewery</th>\n",
       "      <th>Description</th>\n",
       "      <th>ABV</th>\n",
       "      <th>Ave Rating</th>\n",
       "      <th>Min IBU</th>\n",
       "      <th>Max IBU</th>\n",
       "      <th>...</th>\n",
       "      <th>Body</th>\n",
       "      <th>Alcohol</th>\n",
       "      <th>Bitter</th>\n",
       "      <th>Sweet</th>\n",
       "      <th>Sour</th>\n",
       "      <th>Salty</th>\n",
       "      <th>Fruits</th>\n",
       "      <th>Hoppy</th>\n",
       "      <th>Spices</th>\n",
       "      <th>Malty</th>\n",
       "    </tr>\n",
       "  </thead>\n",
       "  <tbody>\n",
       "    <tr>\n",
       "      <th>0</th>\n",
       "      <td>Amber</td>\n",
       "      <td>251</td>\n",
       "      <td>Altbier</td>\n",
       "      <td>8</td>\n",
       "      <td>Alaskan Brewing Co.</td>\n",
       "      <td>Richly malty and long on the palate with just ...</td>\n",
       "      <td>5.3</td>\n",
       "      <td>3.65</td>\n",
       "      <td>25</td>\n",
       "      <td>50</td>\n",
       "      <td>...</td>\n",
       "      <td>32</td>\n",
       "      <td>9</td>\n",
       "      <td>47</td>\n",
       "      <td>74</td>\n",
       "      <td>33</td>\n",
       "      <td>0</td>\n",
       "      <td>33</td>\n",
       "      <td>57</td>\n",
       "      <td>8</td>\n",
       "      <td>111</td>\n",
       "    </tr>\n",
       "    <tr>\n",
       "      <th>1</th>\n",
       "      <td>Double Bag</td>\n",
       "      <td>252</td>\n",
       "      <td>Altbier</td>\n",
       "      <td>8</td>\n",
       "      <td>Long Trail Brewing Co.</td>\n",
       "      <td>This malty fullbodied double alt is also known...</td>\n",
       "      <td>7.2</td>\n",
       "      <td>3.90</td>\n",
       "      <td>25</td>\n",
       "      <td>50</td>\n",
       "      <td>...</td>\n",
       "      <td>57</td>\n",
       "      <td>18</td>\n",
       "      <td>33</td>\n",
       "      <td>55</td>\n",
       "      <td>16</td>\n",
       "      <td>0</td>\n",
       "      <td>24</td>\n",
       "      <td>35</td>\n",
       "      <td>12</td>\n",
       "      <td>84</td>\n",
       "    </tr>\n",
       "    <tr>\n",
       "      <th>2</th>\n",
       "      <td>Long Trail Ale</td>\n",
       "      <td>253</td>\n",
       "      <td>Altbier</td>\n",
       "      <td>8</td>\n",
       "      <td>Long Trail Brewing Co.</td>\n",
       "      <td>Long Trail Ale is a fullbodied amber ale model...</td>\n",
       "      <td>5.0</td>\n",
       "      <td>3.58</td>\n",
       "      <td>25</td>\n",
       "      <td>50</td>\n",
       "      <td>...</td>\n",
       "      <td>37</td>\n",
       "      <td>6</td>\n",
       "      <td>42</td>\n",
       "      <td>43</td>\n",
       "      <td>11</td>\n",
       "      <td>0</td>\n",
       "      <td>10</td>\n",
       "      <td>54</td>\n",
       "      <td>4</td>\n",
       "      <td>62</td>\n",
       "    </tr>\n",
       "    <tr>\n",
       "      <th>3</th>\n",
       "      <td>Doppelsticke</td>\n",
       "      <td>254</td>\n",
       "      <td>Altbier</td>\n",
       "      <td>8</td>\n",
       "      <td>Uerige Obergärige Hausbrauerei</td>\n",
       "      <td></td>\n",
       "      <td>8.5</td>\n",
       "      <td>4.15</td>\n",
       "      <td>25</td>\n",
       "      <td>50</td>\n",
       "      <td>...</td>\n",
       "      <td>55</td>\n",
       "      <td>31</td>\n",
       "      <td>47</td>\n",
       "      <td>101</td>\n",
       "      <td>18</td>\n",
       "      <td>1</td>\n",
       "      <td>49</td>\n",
       "      <td>40</td>\n",
       "      <td>16</td>\n",
       "      <td>119</td>\n",
       "    </tr>\n",
       "    <tr>\n",
       "      <th>4</th>\n",
       "      <td>Scurry</td>\n",
       "      <td>255</td>\n",
       "      <td>Altbier</td>\n",
       "      <td>8</td>\n",
       "      <td>Off Color Brewing</td>\n",
       "      <td>Just cause its dark and German doesnt mean its...</td>\n",
       "      <td>5.3</td>\n",
       "      <td>3.67</td>\n",
       "      <td>25</td>\n",
       "      <td>50</td>\n",
       "      <td>...</td>\n",
       "      <td>69</td>\n",
       "      <td>10</td>\n",
       "      <td>63</td>\n",
       "      <td>120</td>\n",
       "      <td>14</td>\n",
       "      <td>0</td>\n",
       "      <td>19</td>\n",
       "      <td>36</td>\n",
       "      <td>15</td>\n",
       "      <td>218</td>\n",
       "    </tr>\n",
       "  </tbody>\n",
       "</table>\n",
       "<p>5 rows × 21 columns</p>\n",
       "</div>"
      ],
      "text/plain": [
       "             Name  key    Style  Style Key                         Brewery  \\\n",
       "0           Amber  251  Altbier          8             Alaskan Brewing Co.   \n",
       "1      Double Bag  252  Altbier          8          Long Trail Brewing Co.   \n",
       "2  Long Trail Ale  253  Altbier          8          Long Trail Brewing Co.   \n",
       "3    Doppelsticke  254  Altbier          8  Uerige Obergärige Hausbrauerei   \n",
       "4          Scurry  255  Altbier          8               Off Color Brewing   \n",
       "\n",
       "                                         Description  ABV  Ave Rating  \\\n",
       "0  Richly malty and long on the palate with just ...  5.3        3.65   \n",
       "1  This malty fullbodied double alt is also known...  7.2        3.90   \n",
       "2  Long Trail Ale is a fullbodied amber ale model...  5.0        3.58   \n",
       "3                                                     8.5        4.15   \n",
       "4  Just cause its dark and German doesnt mean its...  5.3        3.67   \n",
       "\n",
       "   Min IBU  Max IBU  ...  Body  Alcohol  Bitter  Sweet  Sour  Salty  Fruits  \\\n",
       "0       25       50  ...    32        9      47     74    33      0      33   \n",
       "1       25       50  ...    57       18      33     55    16      0      24   \n",
       "2       25       50  ...    37        6      42     43    11      0      10   \n",
       "3       25       50  ...    55       31      47    101    18      1      49   \n",
       "4       25       50  ...    69       10      63    120    14      0      19   \n",
       "\n",
       "   Hoppy  Spices  Malty  \n",
       "0     57       8    111  \n",
       "1     35      12     84  \n",
       "2     54       4     62  \n",
       "3     40      16    119  \n",
       "4     36      15    218  \n",
       "\n",
       "[5 rows x 21 columns]"
      ]
     },
     "execution_count": 143,
     "metadata": {},
     "output_type": "execute_result"
    }
   ],
   "source": [
    "df_tasting.head()"
   ]
  },
  {
   "attachments": {
    "brownale.png": {
     "image/png": "[encoded data removed]"
    }
   },
   "cell_type": "markdown",
   "id": "b4426d79",
   "metadata": {},
   "source": [
    "### Cleaning 'Style' Feature\n",
    "#### Binning Styles\n",
    "There were initially 112 different styles. In order to streamline recommendations and decrease feature complexity I will be combining similar styles together based on the [BeerAdvocate’s Style Guide](https://www.beeradvocate.com/beer/styles/). For example a category on the site is “Brown Ales” with the different variations listed below.![brownale.png](attachment:brownale.png)\n",
    "The idea is that if a person likes one type of brown ale (say an Altbier)  they are likely to enjoy another within this category. I created a style dictionary that I will map each 112 subcategories to their 17 main categories. Binning by name of **Style** will simplify this feature, but each unique subcategory will be preserved in the **Style Key** feature. "
   ]
  },
  {
   "cell_type": "code",
   "execution_count": 144,
   "id": "af5932b5",
   "metadata": {},
   "outputs": [
    {
     "data": {
      "text/plain": [
       "112"
      ]
     },
     "execution_count": 144,
     "metadata": {},
     "output_type": "execute_result"
    }
   ],
   "source": [
    "df_tasting['Style Key'].nunique()"
   ]
  },
  {
   "cell_type": "code",
   "execution_count": 145,
   "id": "e0f31c33",
   "metadata": {},
   "outputs": [
    {
     "data": {
      "text/plain": [
       "Altbier                           50\n",
       "Lager - Märzen / Oktoberfest      50\n",
       "Red Ale - Imperial                50\n",
       "Red Ale - American Amber / Red    50\n",
       "Quadrupel (Quad)                  50\n",
       "                                  ..\n",
       "Sour - Flanders Oud Bruin         49\n",
       "Sour - Flanders Red Ale           49\n",
       "Lager - European Pale             49\n",
       "Sour - Gose                       49\n",
       "Lambic - Faro                     16\n",
       "Name: Style, Length: 112, dtype: int64"
      ]
     },
     "execution_count": 145,
     "metadata": {},
     "output_type": "execute_result"
    }
   ],
   "source": [
    "df_tasting['Style'].value_counts()"
   ]
  },
  {
   "cell_type": "code",
   "execution_count": 146,
   "id": "10310961",
   "metadata": {},
   "outputs": [],
   "source": [
    "def unique_list(list1):\n",
    "    '''\n",
    "    This function takes a list and creates a new list of unique values. \n",
    "    '''\n",
    "    unique_list = []\n",
    "    for x in list1: \n",
    "        if x not in unique_list: \n",
    "            unique_list.append(x)\n",
    "    for x in unique_list: \n",
    "        print(x)"
   ]
  },
  {
   "cell_type": "code",
   "execution_count": 147,
   "id": "7f3280c4",
   "metadata": {},
   "outputs": [],
   "source": [
    "# creating a list all styles\n",
    "style_list = df_tasting['Style'].tolist()"
   ]
  },
  {
   "cell_type": "markdown",
   "id": "f2b9a943",
   "metadata": {},
   "source": [
    "Creating a list of styles to be used in unique_list function. Produced list will be used to create style_map. The cell below remains commented out to prevent the 112 item list from printing. The styles can be seen in the following style_map cell."
   ]
  },
  {
   "cell_type": "code",
   "execution_count": 371,
   "id": "aff6bc8e",
   "metadata": {},
   "outputs": [],
   "source": [
    "# extracting list of styles to use as base for style map\n",
    "#unique_list(style_list)"
   ]
  },
  {
   "cell_type": "code",
   "execution_count": 149,
   "id": "cd8e99b3",
   "metadata": {},
   "outputs": [],
   "source": [
    "style_map = {\n",
    "    'Altbier': 'Brown Ale',\n",
    "    'Barleywine - American': 'Strong Ale',\n",
    "    'Barleywine - English': 'Strong Ale',\n",
    "    'Bitter - English Extra Special / Strong Bitter (ESB)': 'Pale Ale',\n",
    "    'Bitter - English': 'Pale Ale',\n",
    "    'Bière de Champagne / Bière Brut': 'Hybrid Beer',\n",
    "    'Blonde Ale - American': 'Pale Ale',\n",
    "    'Blonde Ale - Belgian': 'Pale Ale',\n",
    "    'Bock - Doppelbock': 'Bock',\n",
    "    'Bock - Eisbock': 'Bock',\n",
    "    'Bock - Maibock': 'Bock',\n",
    "    'Bock - Traditional': 'Bock',\n",
    "    'Bock - Weizenbock': 'Bock',\n",
    "    'Braggot': 'Hybrid Beer',\n",
    "    'Brett Beer': 'Wild/Sour Beer',\n",
    "    'Brown Ale - American': 'Brown Ale',\n",
    "    'Brown Ale - Belgian Dark': 'Brown Ale',\n",
    "    'Brown Ale - English': 'Brown Ale',\n",
    "    'California Common / Steam Beer': 'Hybrid Beer',\n",
    "    'Chile Beer': 'Specialty Beer',\n",
    "    'Cream Ale': 'Hybrid Beer',\n",
    "    'Dubbel': 'Dark Ales',\n",
    "    'Farmhouse Ale - Bière de Garde': 'Pale',\n",
    "    'Farmhouse Ale - Sahti': 'Specialty Beer',\n",
    "    'Farmhouse Ale - Saison': 'Pale Ale',\n",
    "    'Fruit and Field Beer': 'Specialty Beer',\n",
    "    'Gruit / Ancient Herbed Ale': 'Specialty Beer',\n",
    "    'Happoshu': 'Specialty Beer',\n",
    "    'Herb and Spice Beer': 'Specialty Beer',\n",
    "    'IPA - American': 'India Pale Ale',\n",
    "    'IPA - Belgian': 'India Pale Ale',\n",
    "    'IPA - Black / Cascadian Dark Ale': 'India Pale Ale',\n",
    "    'IPA - Brut': 'India Pale Ale',\n",
    "    'IPA - English': 'India Pale Ale',\n",
    "    'IPA - Imperial': 'India Pale Ale',\n",
    "    'IPA - New England': 'India Pale Ale',\n",
    "    'Kvass': 'Specialty Beer',\n",
    "    'Kölsch': 'Pale Ale',\n",
    "    'Lager - Adjunct': 'Pale Lager',\n",
    "    'Lager - American Amber / Red': 'Dark Lager',\n",
    "    'Lager - American': 'Pale Lager',\n",
    "    'Lager - European / Dortmunder Export': 'Pale Lager',\n",
    "    'Lager - European Dark': 'Dark Lager',\n",
    "    'Lager - European Pale': 'Pale Lager',\n",
    "    'Lager - European Strong': 'Pale Lager',\n",
    "    'Lager - Helles': 'Pale Lager',\n",
    "    'Lager - India Pale Lager (IPL)': 'Pale Lager',\n",
    "    'Lager - Japanese Rice': 'Specialty Beer',\n",
    "    'Lager - Kellerbier / Zwickelbier': 'Pale Lager',\n",
    "    'Lager - Light': 'Pale Lager',\n",
    "    'Lager - Malt Liquor': 'Pale Lager',\n",
    "    'Lager - Munich Dunkel': 'Dark Lager',\n",
    "    'Lager - Märzen / Oktoberfest': 'Dark Lager',\n",
    "    'Lager - Rauchbier': 'Dark Lager',\n",
    "    'Lager - Schwarzbier': 'Dark Lager',\n",
    "    'Lager - Vienna': 'Dark Lager',\n",
    "    'Lambic - Faro': 'Wild/Sour Beer',\n",
    "    'Lambic - Fruit': 'Wild/Sour Beer',\n",
    "    'Lambic - Gueuze': 'Wild/Sour Beer',\n",
    "    'Lambic - Traditional': 'Wild/Sour Beer',\n",
    "    'Low Alcohol Beer': 'Specialty Beer',\n",
    "    'Mild Ale - English Dark': 'Brown Ale',\n",
    "    'Mild Ale - English Pale': 'Pale Ale',\n",
    "    'Old Ale': 'Strong Ale',\n",
    "    'Pale Ale - American': 'Pale Ale',\n",
    "    'Pale Ale - Belgian': 'Pale Ale',\n",
    "    'Pale Ale - English': 'Pale Ale',\n",
    "    'Pilsner - Bohemian / Czech': 'Pale Lager',\n",
    "    'Pilsner - German': 'Pale Lager',\n",
    "    'Pilsner - Imperial': 'Pale Lager',\n",
    "    'Porter - American': 'Porter',\n",
    "    'Porter - Baltic': 'Porter',\n",
    "    'Porter - English': 'Porter',\n",
    "    'Porter - Imperial': 'Porter',\n",
    "    'Porter - Robust': 'Porter',\n",
    "    'Porter - Smoked': 'Porter',\n",
    "    'Pumpkin Beer': 'Specialty Beer',\n",
    "    'Quadrupel (Quad)': 'Strong Ale',\n",
    "    'Red Ale - American Amber / Red': 'Pale Ale',\n",
    "    'Red Ale - Imperial': 'Strong Ale',\n",
    "    'Red Ale - Irish': 'Pale Ale',\n",
    "    'Rye Beer - Roggenbier': 'Dark Ale',\n",
    "    'Rye Beer': 'Specialty Beer',\n",
    "    'Scotch Ale / Wee Heavy': 'Strong Ale',\n",
    "    'Scottish Ale': 'Dark Ale',\n",
    "    'Smoked Beer': 'Specialty Beer',\n",
    "    'Sour - Berliner Weisse': 'Wild/Sour Beer',\n",
    "    'Sour - Flanders Oud Bruin': 'Wild/Sour Beer',\n",
    "    'Sour - Flanders Red Ale': 'Wild/Sour Beer',\n",
    "    'Sour - Gose': 'Wild/Sour Beer',\n",
    "    'Stout - American Imperial': 'Stout',\n",
    "    'Stout - American': 'Stout',\n",
    "    'Stout - English': 'Stout',\n",
    "    'Stout - Foreign / Export': 'Stout',\n",
    "    'Stout - Irish Dry': 'Stout',\n",
    "    'Stout - Oatmeal': 'Stout',\n",
    "    'Stout - Russian Imperial': 'Stout',\n",
    "    'Stout - Sweet / Milk': 'Stout',\n",
    "    'Strong Ale - American': 'Strong Ale',\n",
    "    'Strong Ale - Belgian Dark': 'Strong Ale',\n",
    "    'Strong Ale - Belgian Pale': 'Strong Ale',\n",
    "    'Strong Ale - English': 'Strong Ale',\n",
    "    'Tripel': 'Strong Ale',\n",
    "    'Wheat Beer - American Dark': 'Wheat Beer',\n",
    "    'Wheat Beer - American Pale': 'Wheat Beer',\n",
    "    'Wheat Beer - Dunkelweizen': 'Wheat Beer',\n",
    "    'Wheat Beer - Hefeweizen': 'Wheat Beer',\n",
    "    'Wheat Beer - Kristallweizen': 'Wheat Beer',\n",
    "    'Wheat Beer - Wheatwine': 'Wheat Beer',\n",
    "    'Wheat Beer - Witbier': 'Wheat Beer',\n",
    "    'Wild Ale': 'Wild/Sour Beers',\n",
    "    'Winter Warmer': 'Dark Ale'\n",
    "}"
   ]
  },
  {
   "cell_type": "code",
   "execution_count": 150,
   "id": "ed71c886",
   "metadata": {},
   "outputs": [],
   "source": [
    "# applying style map\n",
    "df_tasting['Style'] = df_tasting['Style'].map(style_map)"
   ]
  },
  {
   "cell_type": "code",
   "execution_count": 151,
   "id": "9743f36c",
   "metadata": {},
   "outputs": [
    {
     "data": {
      "text/plain": [
       "0"
      ]
     },
     "execution_count": 151,
     "metadata": {},
     "output_type": "execute_result"
    }
   ],
   "source": [
    "# checking to see if any beers were missed in binning process\n",
    "df_tasting['Style'].isna().sum()"
   ]
  },
  {
   "cell_type": "code",
   "execution_count": 152,
   "id": "bd7baaf4",
   "metadata": {},
   "outputs": [
    {
     "data": {
      "text/plain": [
       "Pale Lager         649\n",
       "Pale Ale           600\n",
       "Specialty Beer     599\n",
       "Strong Ale         550\n",
       "Wild/Sour Beer     409\n",
       "Stout              400\n",
       "Wheat Beer         350\n",
       "India Pale Ale     350\n",
       "Dark Lager         350\n",
       "Porter             300\n",
       "Brown Ale          250\n",
       "Bock               250\n",
       "Hybrid Beer        200\n",
       "Dark Ale           150\n",
       "Pale                50\n",
       "Dark Ales           50\n",
       "Wild/Sour Beers     49\n",
       "Name: Style, dtype: int64"
      ]
     },
     "execution_count": 152,
     "metadata": {},
     "output_type": "execute_result"
    }
   ],
   "source": [
    "# checking to see how many beers are in each new category \n",
    "df_tasting['Style'].value_counts()"
   ]
  },
  {
   "cell_type": "code",
   "execution_count": 153,
   "id": "98d6fb4d",
   "metadata": {},
   "outputs": [
    {
     "data": {
      "text/html": [
       "<div>\n",
       "<style scoped>\n",
       "    .dataframe tbody tr th:only-of-type {\n",
       "        vertical-align: middle;\n",
       "    }\n",
       "\n",
       "    .dataframe tbody tr th {\n",
       "        vertical-align: top;\n",
       "    }\n",
       "\n",
       "    .dataframe thead th {\n",
       "        text-align: right;\n",
       "    }\n",
       "</style>\n",
       "<table border=\"1\" class=\"dataframe\">\n",
       "  <thead>\n",
       "    <tr style=\"text-align: right;\">\n",
       "      <th></th>\n",
       "      <th>Name</th>\n",
       "      <th>key</th>\n",
       "      <th>Style</th>\n",
       "      <th>Style Key</th>\n",
       "      <th>Brewery</th>\n",
       "      <th>Description</th>\n",
       "      <th>ABV</th>\n",
       "      <th>Ave Rating</th>\n",
       "      <th>Min IBU</th>\n",
       "      <th>Max IBU</th>\n",
       "      <th>...</th>\n",
       "      <th>Body</th>\n",
       "      <th>Alcohol</th>\n",
       "      <th>Bitter</th>\n",
       "      <th>Sweet</th>\n",
       "      <th>Sour</th>\n",
       "      <th>Salty</th>\n",
       "      <th>Fruits</th>\n",
       "      <th>Hoppy</th>\n",
       "      <th>Spices</th>\n",
       "      <th>Malty</th>\n",
       "    </tr>\n",
       "  </thead>\n",
       "  <tbody>\n",
       "    <tr>\n",
       "      <th>0</th>\n",
       "      <td>Amber</td>\n",
       "      <td>251</td>\n",
       "      <td>Brown Ale</td>\n",
       "      <td>8</td>\n",
       "      <td>Alaskan Brewing Co.</td>\n",
       "      <td>Richly malty and long on the palate with just ...</td>\n",
       "      <td>5.3</td>\n",
       "      <td>3.65</td>\n",
       "      <td>25</td>\n",
       "      <td>50</td>\n",
       "      <td>...</td>\n",
       "      <td>32</td>\n",
       "      <td>9</td>\n",
       "      <td>47</td>\n",
       "      <td>74</td>\n",
       "      <td>33</td>\n",
       "      <td>0</td>\n",
       "      <td>33</td>\n",
       "      <td>57</td>\n",
       "      <td>8</td>\n",
       "      <td>111</td>\n",
       "    </tr>\n",
       "    <tr>\n",
       "      <th>1</th>\n",
       "      <td>Double Bag</td>\n",
       "      <td>252</td>\n",
       "      <td>Brown Ale</td>\n",
       "      <td>8</td>\n",
       "      <td>Long Trail Brewing Co.</td>\n",
       "      <td>This malty fullbodied double alt is also known...</td>\n",
       "      <td>7.2</td>\n",
       "      <td>3.90</td>\n",
       "      <td>25</td>\n",
       "      <td>50</td>\n",
       "      <td>...</td>\n",
       "      <td>57</td>\n",
       "      <td>18</td>\n",
       "      <td>33</td>\n",
       "      <td>55</td>\n",
       "      <td>16</td>\n",
       "      <td>0</td>\n",
       "      <td>24</td>\n",
       "      <td>35</td>\n",
       "      <td>12</td>\n",
       "      <td>84</td>\n",
       "    </tr>\n",
       "    <tr>\n",
       "      <th>2</th>\n",
       "      <td>Long Trail Ale</td>\n",
       "      <td>253</td>\n",
       "      <td>Brown Ale</td>\n",
       "      <td>8</td>\n",
       "      <td>Long Trail Brewing Co.</td>\n",
       "      <td>Long Trail Ale is a fullbodied amber ale model...</td>\n",
       "      <td>5.0</td>\n",
       "      <td>3.58</td>\n",
       "      <td>25</td>\n",
       "      <td>50</td>\n",
       "      <td>...</td>\n",
       "      <td>37</td>\n",
       "      <td>6</td>\n",
       "      <td>42</td>\n",
       "      <td>43</td>\n",
       "      <td>11</td>\n",
       "      <td>0</td>\n",
       "      <td>10</td>\n",
       "      <td>54</td>\n",
       "      <td>4</td>\n",
       "      <td>62</td>\n",
       "    </tr>\n",
       "    <tr>\n",
       "      <th>3</th>\n",
       "      <td>Doppelsticke</td>\n",
       "      <td>254</td>\n",
       "      <td>Brown Ale</td>\n",
       "      <td>8</td>\n",
       "      <td>Uerige Obergärige Hausbrauerei</td>\n",
       "      <td></td>\n",
       "      <td>8.5</td>\n",
       "      <td>4.15</td>\n",
       "      <td>25</td>\n",
       "      <td>50</td>\n",
       "      <td>...</td>\n",
       "      <td>55</td>\n",
       "      <td>31</td>\n",
       "      <td>47</td>\n",
       "      <td>101</td>\n",
       "      <td>18</td>\n",
       "      <td>1</td>\n",
       "      <td>49</td>\n",
       "      <td>40</td>\n",
       "      <td>16</td>\n",
       "      <td>119</td>\n",
       "    </tr>\n",
       "    <tr>\n",
       "      <th>4</th>\n",
       "      <td>Scurry</td>\n",
       "      <td>255</td>\n",
       "      <td>Brown Ale</td>\n",
       "      <td>8</td>\n",
       "      <td>Off Color Brewing</td>\n",
       "      <td>Just cause its dark and German doesnt mean its...</td>\n",
       "      <td>5.3</td>\n",
       "      <td>3.67</td>\n",
       "      <td>25</td>\n",
       "      <td>50</td>\n",
       "      <td>...</td>\n",
       "      <td>69</td>\n",
       "      <td>10</td>\n",
       "      <td>63</td>\n",
       "      <td>120</td>\n",
       "      <td>14</td>\n",
       "      <td>0</td>\n",
       "      <td>19</td>\n",
       "      <td>36</td>\n",
       "      <td>15</td>\n",
       "      <td>218</td>\n",
       "    </tr>\n",
       "  </tbody>\n",
       "</table>\n",
       "<p>5 rows × 21 columns</p>\n",
       "</div>"
      ],
      "text/plain": [
       "             Name  key      Style  Style Key                         Brewery  \\\n",
       "0           Amber  251  Brown Ale          8             Alaskan Brewing Co.   \n",
       "1      Double Bag  252  Brown Ale          8          Long Trail Brewing Co.   \n",
       "2  Long Trail Ale  253  Brown Ale          8          Long Trail Brewing Co.   \n",
       "3    Doppelsticke  254  Brown Ale          8  Uerige Obergärige Hausbrauerei   \n",
       "4          Scurry  255  Brown Ale          8               Off Color Brewing   \n",
       "\n",
       "                                         Description  ABV  Ave Rating  \\\n",
       "0  Richly malty and long on the palate with just ...  5.3        3.65   \n",
       "1  This malty fullbodied double alt is also known...  7.2        3.90   \n",
       "2  Long Trail Ale is a fullbodied amber ale model...  5.0        3.58   \n",
       "3                                                     8.5        4.15   \n",
       "4  Just cause its dark and German doesnt mean its...  5.3        3.67   \n",
       "\n",
       "   Min IBU  Max IBU  ...  Body  Alcohol  Bitter  Sweet  Sour  Salty  Fruits  \\\n",
       "0       25       50  ...    32        9      47     74    33      0      33   \n",
       "1       25       50  ...    57       18      33     55    16      0      24   \n",
       "2       25       50  ...    37        6      42     43    11      0      10   \n",
       "3       25       50  ...    55       31      47    101    18      1      49   \n",
       "4       25       50  ...    69       10      63    120    14      0      19   \n",
       "\n",
       "   Hoppy  Spices  Malty  \n",
       "0     57       8    111  \n",
       "1     35      12     84  \n",
       "2     54       4     62  \n",
       "3     40      16    119  \n",
       "4     36      15    218  \n",
       "\n",
       "[5 rows x 21 columns]"
      ]
     },
     "execution_count": 153,
     "metadata": {},
     "output_type": "execute_result"
    }
   ],
   "source": [
    "# inspecting new style column\n",
    "df_tasting.head()"
   ]
  },
  {
   "cell_type": "code",
   "execution_count": 385,
   "id": "45d2ea43",
   "metadata": {},
   "outputs": [
    {
     "data": {
      "image/png": "[encoded data removed]",
      "text/plain": [
       "<Figure size 800x500 with 1 Axes>"
      ]
     },
     "metadata": {},
     "output_type": "display_data"
    }
   ],
   "source": [
    "plt.figure(figsize=(8,5))\n",
    "ax = sns.histplot(df_tasting['Style'], color = 'tab:blue', edgecolor='black')\n",
    "ax.set_xticklabels(ax.get_xticklabels(),rotation = 30, ha='right');"
   ]
  },
  {
   "cell_type": "markdown",
   "id": "64fdc838",
   "metadata": {},
   "source": [
    "### Continued Column Cleaning"
   ]
  },
  {
   "cell_type": "code",
   "execution_count": 154,
   "id": "4c62a65c",
   "metadata": {},
   "outputs": [
    {
     "data": {
      "text/plain": [
       "Index(['Name', 'key', 'Style', 'Style Key', 'Brewery', 'Description', 'ABV',\n",
       "       'Ave Rating', 'Min IBU', 'Max IBU', 'Astringency', 'Body', 'Alcohol',\n",
       "       'Bitter', 'Sweet', 'Sour', 'Salty', 'Fruits', 'Hoppy', 'Spices',\n",
       "       'Malty'],\n",
       "      dtype='object')"
      ]
     },
     "execution_count": 154,
     "metadata": {},
     "output_type": "execute_result"
    }
   ],
   "source": [
    "df_tasting.columns"
   ]
  },
  {
   "cell_type": "markdown",
   "id": "7b0f7d7f",
   "metadata": {},
   "source": [
    "#### Cleaning 'key' column"
   ]
  },
  {
   "cell_type": "code",
   "execution_count": 155,
   "id": "62c9d18f",
   "metadata": {},
   "outputs": [
    {
     "data": {
      "text/plain": [
       "5556"
      ]
     },
     "execution_count": 155,
     "metadata": {},
     "output_type": "execute_result"
    }
   ],
   "source": [
    "df_tasting.key.nunique()"
   ]
  },
  {
   "cell_type": "code",
   "execution_count": 156,
   "id": "555e31b8",
   "metadata": {
    "scrolled": false
   },
   "outputs": [
    {
     "data": {
      "text/html": [
       "<div>\n",
       "<style scoped>\n",
       "    .dataframe tbody tr th:only-of-type {\n",
       "        vertical-align: middle;\n",
       "    }\n",
       "\n",
       "    .dataframe tbody tr th {\n",
       "        vertical-align: top;\n",
       "    }\n",
       "\n",
       "    .dataframe thead th {\n",
       "        text-align: right;\n",
       "    }\n",
       "</style>\n",
       "<table border=\"1\" class=\"dataframe\">\n",
       "  <thead>\n",
       "    <tr style=\"text-align: right;\">\n",
       "      <th></th>\n",
       "      <th>Name</th>\n",
       "      <th>beerid</th>\n",
       "      <th>Style</th>\n",
       "      <th>Style Key</th>\n",
       "      <th>Brewery</th>\n",
       "      <th>Description</th>\n",
       "      <th>ABV</th>\n",
       "      <th>Ave Rating</th>\n",
       "      <th>Min IBU</th>\n",
       "      <th>Max IBU</th>\n",
       "      <th>...</th>\n",
       "      <th>Body</th>\n",
       "      <th>Alcohol</th>\n",
       "      <th>Bitter</th>\n",
       "      <th>Sweet</th>\n",
       "      <th>Sour</th>\n",
       "      <th>Salty</th>\n",
       "      <th>Fruits</th>\n",
       "      <th>Hoppy</th>\n",
       "      <th>Spices</th>\n",
       "      <th>Malty</th>\n",
       "    </tr>\n",
       "  </thead>\n",
       "  <tbody>\n",
       "    <tr>\n",
       "      <th>0</th>\n",
       "      <td>Amber</td>\n",
       "      <td>251</td>\n",
       "      <td>Brown Ale</td>\n",
       "      <td>8</td>\n",
       "      <td>Alaskan Brewing Co.</td>\n",
       "      <td>Richly malty and long on the palate with just ...</td>\n",
       "      <td>5.3</td>\n",
       "      <td>3.65</td>\n",
       "      <td>25</td>\n",
       "      <td>50</td>\n",
       "      <td>...</td>\n",
       "      <td>32</td>\n",
       "      <td>9</td>\n",
       "      <td>47</td>\n",
       "      <td>74</td>\n",
       "      <td>33</td>\n",
       "      <td>0</td>\n",
       "      <td>33</td>\n",
       "      <td>57</td>\n",
       "      <td>8</td>\n",
       "      <td>111</td>\n",
       "    </tr>\n",
       "    <tr>\n",
       "      <th>1</th>\n",
       "      <td>Double Bag</td>\n",
       "      <td>252</td>\n",
       "      <td>Brown Ale</td>\n",
       "      <td>8</td>\n",
       "      <td>Long Trail Brewing Co.</td>\n",
       "      <td>This malty fullbodied double alt is also known...</td>\n",
       "      <td>7.2</td>\n",
       "      <td>3.90</td>\n",
       "      <td>25</td>\n",
       "      <td>50</td>\n",
       "      <td>...</td>\n",
       "      <td>57</td>\n",
       "      <td>18</td>\n",
       "      <td>33</td>\n",
       "      <td>55</td>\n",
       "      <td>16</td>\n",
       "      <td>0</td>\n",
       "      <td>24</td>\n",
       "      <td>35</td>\n",
       "      <td>12</td>\n",
       "      <td>84</td>\n",
       "    </tr>\n",
       "    <tr>\n",
       "      <th>2</th>\n",
       "      <td>Long Trail Ale</td>\n",
       "      <td>253</td>\n",
       "      <td>Brown Ale</td>\n",
       "      <td>8</td>\n",
       "      <td>Long Trail Brewing Co.</td>\n",
       "      <td>Long Trail Ale is a fullbodied amber ale model...</td>\n",
       "      <td>5.0</td>\n",
       "      <td>3.58</td>\n",
       "      <td>25</td>\n",
       "      <td>50</td>\n",
       "      <td>...</td>\n",
       "      <td>37</td>\n",
       "      <td>6</td>\n",
       "      <td>42</td>\n",
       "      <td>43</td>\n",
       "      <td>11</td>\n",
       "      <td>0</td>\n",
       "      <td>10</td>\n",
       "      <td>54</td>\n",
       "      <td>4</td>\n",
       "      <td>62</td>\n",
       "    </tr>\n",
       "    <tr>\n",
       "      <th>3</th>\n",
       "      <td>Doppelsticke</td>\n",
       "      <td>254</td>\n",
       "      <td>Brown Ale</td>\n",
       "      <td>8</td>\n",
       "      <td>Uerige Obergärige Hausbrauerei</td>\n",
       "      <td></td>\n",
       "      <td>8.5</td>\n",
       "      <td>4.15</td>\n",
       "      <td>25</td>\n",
       "      <td>50</td>\n",
       "      <td>...</td>\n",
       "      <td>55</td>\n",
       "      <td>31</td>\n",
       "      <td>47</td>\n",
       "      <td>101</td>\n",
       "      <td>18</td>\n",
       "      <td>1</td>\n",
       "      <td>49</td>\n",
       "      <td>40</td>\n",
       "      <td>16</td>\n",
       "      <td>119</td>\n",
       "    </tr>\n",
       "    <tr>\n",
       "      <th>4</th>\n",
       "      <td>Scurry</td>\n",
       "      <td>255</td>\n",
       "      <td>Brown Ale</td>\n",
       "      <td>8</td>\n",
       "      <td>Off Color Brewing</td>\n",
       "      <td>Just cause its dark and German doesnt mean its...</td>\n",
       "      <td>5.3</td>\n",
       "      <td>3.67</td>\n",
       "      <td>25</td>\n",
       "      <td>50</td>\n",
       "      <td>...</td>\n",
       "      <td>69</td>\n",
       "      <td>10</td>\n",
       "      <td>63</td>\n",
       "      <td>120</td>\n",
       "      <td>14</td>\n",
       "      <td>0</td>\n",
       "      <td>19</td>\n",
       "      <td>36</td>\n",
       "      <td>15</td>\n",
       "      <td>218</td>\n",
       "    </tr>\n",
       "    <tr>\n",
       "      <th>...</th>\n",
       "      <td>...</td>\n",
       "      <td>...</td>\n",
       "      <td>...</td>\n",
       "      <td>...</td>\n",
       "      <td>...</td>\n",
       "      <td>...</td>\n",
       "      <td>...</td>\n",
       "      <td>...</td>\n",
       "      <td>...</td>\n",
       "      <td>...</td>\n",
       "      <td>...</td>\n",
       "      <td>...</td>\n",
       "      <td>...</td>\n",
       "      <td>...</td>\n",
       "      <td>...</td>\n",
       "      <td>...</td>\n",
       "      <td>...</td>\n",
       "      <td>...</td>\n",
       "      <td>...</td>\n",
       "      <td>...</td>\n",
       "      <td>...</td>\n",
       "    </tr>\n",
       "    <tr>\n",
       "      <th>5553</th>\n",
       "      <td>Red Nose Winter Ale</td>\n",
       "      <td>696</td>\n",
       "      <td>Dark Ale</td>\n",
       "      <td>17</td>\n",
       "      <td>Natty Greene's Pub &amp; Brewing Co.</td>\n",
       "      <td></td>\n",
       "      <td>6.8</td>\n",
       "      <td>3.59</td>\n",
       "      <td>35</td>\n",
       "      <td>50</td>\n",
       "      <td>...</td>\n",
       "      <td>44</td>\n",
       "      <td>24</td>\n",
       "      <td>19</td>\n",
       "      <td>52</td>\n",
       "      <td>21</td>\n",
       "      <td>0</td>\n",
       "      <td>26</td>\n",
       "      <td>21</td>\n",
       "      <td>96</td>\n",
       "      <td>77</td>\n",
       "    </tr>\n",
       "    <tr>\n",
       "      <th>5554</th>\n",
       "      <td>Our Special Ale 2019 (Anchor Christmas Ale)</td>\n",
       "      <td>697</td>\n",
       "      <td>Dark Ale</td>\n",
       "      <td>17</td>\n",
       "      <td>Anchor Brewing Company</td>\n",
       "      <td>This is the fortyfifth annual Our Special Ale ...</td>\n",
       "      <td>6.9</td>\n",
       "      <td>3.79</td>\n",
       "      <td>35</td>\n",
       "      <td>50</td>\n",
       "      <td>...</td>\n",
       "      <td>73</td>\n",
       "      <td>9</td>\n",
       "      <td>58</td>\n",
       "      <td>87</td>\n",
       "      <td>23</td>\n",
       "      <td>0</td>\n",
       "      <td>48</td>\n",
       "      <td>91</td>\n",
       "      <td>44</td>\n",
       "      <td>104</td>\n",
       "    </tr>\n",
       "    <tr>\n",
       "      <th>5555</th>\n",
       "      <td>Fish Tale Winterfish</td>\n",
       "      <td>698</td>\n",
       "      <td>Dark Ale</td>\n",
       "      <td>17</td>\n",
       "      <td>Fish Brewing Company / Fishbowl Brewpub</td>\n",
       "      <td></td>\n",
       "      <td>7.5</td>\n",
       "      <td>3.76</td>\n",
       "      <td>35</td>\n",
       "      <td>50</td>\n",
       "      <td>...</td>\n",
       "      <td>36</td>\n",
       "      <td>50</td>\n",
       "      <td>70</td>\n",
       "      <td>72</td>\n",
       "      <td>59</td>\n",
       "      <td>0</td>\n",
       "      <td>81</td>\n",
       "      <td>110</td>\n",
       "      <td>18</td>\n",
       "      <td>73</td>\n",
       "    </tr>\n",
       "    <tr>\n",
       "      <th>5556</th>\n",
       "      <td>He'Brew Hanukkah, Chanukah: Pass The Beer</td>\n",
       "      <td>699</td>\n",
       "      <td>Dark Ale</td>\n",
       "      <td>17</td>\n",
       "      <td>Shmaltz Brewing Company</td>\n",
       "      <td>Chanukah Beer pours a rich crystal clear chest...</td>\n",
       "      <td>8.0</td>\n",
       "      <td>3.61</td>\n",
       "      <td>35</td>\n",
       "      <td>50</td>\n",
       "      <td>...</td>\n",
       "      <td>64</td>\n",
       "      <td>30</td>\n",
       "      <td>57</td>\n",
       "      <td>78</td>\n",
       "      <td>15</td>\n",
       "      <td>1</td>\n",
       "      <td>28</td>\n",
       "      <td>57</td>\n",
       "      <td>23</td>\n",
       "      <td>129</td>\n",
       "    </tr>\n",
       "    <tr>\n",
       "      <th>5557</th>\n",
       "      <td>Frosted Frog Christmas Ale - Barrel-Aged</td>\n",
       "      <td>700</td>\n",
       "      <td>Dark Ale</td>\n",
       "      <td>17</td>\n",
       "      <td>Hoppin' Frog Brewery</td>\n",
       "      <td>The essence of Christmas is captured in this v...</td>\n",
       "      <td>8.6</td>\n",
       "      <td>3.89</td>\n",
       "      <td>35</td>\n",
       "      <td>50</td>\n",
       "      <td>...</td>\n",
       "      <td>50</td>\n",
       "      <td>49</td>\n",
       "      <td>13</td>\n",
       "      <td>71</td>\n",
       "      <td>17</td>\n",
       "      <td>0</td>\n",
       "      <td>33</td>\n",
       "      <td>16</td>\n",
       "      <td>148</td>\n",
       "      <td>69</td>\n",
       "    </tr>\n",
       "  </tbody>\n",
       "</table>\n",
       "<p>5556 rows × 21 columns</p>\n",
       "</div>"
      ],
      "text/plain": [
       "                                             Name  beerid      Style  \\\n",
       "0                                           Amber     251  Brown Ale   \n",
       "1                                      Double Bag     252  Brown Ale   \n",
       "2                                  Long Trail Ale     253  Brown Ale   \n",
       "3                                    Doppelsticke     254  Brown Ale   \n",
       "4                                          Scurry     255  Brown Ale   \n",
       "...                                           ...     ...        ...   \n",
       "5553                          Red Nose Winter Ale     696   Dark Ale   \n",
       "5554  Our Special Ale 2019 (Anchor Christmas Ale)     697   Dark Ale   \n",
       "5555                         Fish Tale Winterfish     698   Dark Ale   \n",
       "5556    He'Brew Hanukkah, Chanukah: Pass The Beer     699   Dark Ale   \n",
       "5557     Frosted Frog Christmas Ale - Barrel-Aged     700   Dark Ale   \n",
       "\n",
       "      Style Key                                  Brewery  \\\n",
       "0             8                      Alaskan Brewing Co.   \n",
       "1             8                   Long Trail Brewing Co.   \n",
       "2             8                   Long Trail Brewing Co.   \n",
       "3             8           Uerige Obergärige Hausbrauerei   \n",
       "4             8                        Off Color Brewing   \n",
       "...         ...                                      ...   \n",
       "5553         17         Natty Greene's Pub & Brewing Co.   \n",
       "5554         17                   Anchor Brewing Company   \n",
       "5555         17  Fish Brewing Company / Fishbowl Brewpub   \n",
       "5556         17                  Shmaltz Brewing Company   \n",
       "5557         17                     Hoppin' Frog Brewery   \n",
       "\n",
       "                                            Description  ABV  Ave Rating  \\\n",
       "0     Richly malty and long on the palate with just ...  5.3        3.65   \n",
       "1     This malty fullbodied double alt is also known...  7.2        3.90   \n",
       "2     Long Trail Ale is a fullbodied amber ale model...  5.0        3.58   \n",
       "3                                                        8.5        4.15   \n",
       "4     Just cause its dark and German doesnt mean its...  5.3        3.67   \n",
       "...                                                 ...  ...         ...   \n",
       "5553                                                     6.8        3.59   \n",
       "5554  This is the fortyfifth annual Our Special Ale ...  6.9        3.79   \n",
       "5555                                                     7.5        3.76   \n",
       "5556  Chanukah Beer pours a rich crystal clear chest...  8.0        3.61   \n",
       "5557  The essence of Christmas is captured in this v...  8.6        3.89   \n",
       "\n",
       "      Min IBU  Max IBU  ...  Body  Alcohol  Bitter  Sweet  Sour  Salty  \\\n",
       "0          25       50  ...    32        9      47     74    33      0   \n",
       "1          25       50  ...    57       18      33     55    16      0   \n",
       "2          25       50  ...    37        6      42     43    11      0   \n",
       "3          25       50  ...    55       31      47    101    18      1   \n",
       "4          25       50  ...    69       10      63    120    14      0   \n",
       "...       ...      ...  ...   ...      ...     ...    ...   ...    ...   \n",
       "5553       35       50  ...    44       24      19     52    21      0   \n",
       "5554       35       50  ...    73        9      58     87    23      0   \n",
       "5555       35       50  ...    36       50      70     72    59      0   \n",
       "5556       35       50  ...    64       30      57     78    15      1   \n",
       "5557       35       50  ...    50       49      13     71    17      0   \n",
       "\n",
       "      Fruits  Hoppy  Spices  Malty  \n",
       "0         33     57       8    111  \n",
       "1         24     35      12     84  \n",
       "2         10     54       4     62  \n",
       "3         49     40      16    119  \n",
       "4         19     36      15    218  \n",
       "...      ...    ...     ...    ...  \n",
       "5553      26     21      96     77  \n",
       "5554      48     91      44    104  \n",
       "5555      81    110      18     73  \n",
       "5556      28     57      23    129  \n",
       "5557      33     16     148     69  \n",
       "\n",
       "[5556 rows x 21 columns]"
      ]
     },
     "execution_count": 156,
     "metadata": {},
     "output_type": "execute_result"
    }
   ],
   "source": [
    "#Each beer has a 'key' that is acting as an identification number, \n",
    "#therefore I am going to rename the column 'beerid'\n",
    "df_tasting.rename(columns={\"key\": \"beerid\"})"
   ]
  },
  {
   "cell_type": "markdown",
   "id": "a4ce3fc7",
   "metadata": {},
   "source": [
    "#### Cleaning 'ABV' Column"
   ]
  },
  {
   "cell_type": "code",
   "execution_count": 157,
   "id": "9ae3f3fb",
   "metadata": {},
   "outputs": [
    {
     "data": {
      "text/plain": [
       "(229, 0.0, 57.5, 6.634947804175665)"
      ]
     },
     "execution_count": 157,
     "metadata": {},
     "output_type": "execute_result"
    }
   ],
   "source": [
    "# checking ABV column values\n",
    "df_tasting['ABV'].nunique(), df_tasting['ABV'].min(), df_tasting['ABV'].max(), df_tasting['ABV'].mean()"
   ]
  },
  {
   "cell_type": "code",
   "execution_count": 158,
   "id": "a2e75e8e",
   "metadata": {},
   "outputs": [
    {
     "data": {
      "text/plain": [
       "<AxesSubplot: xlabel='ABV', ylabel='Count'>"
      ]
     },
     "execution_count": 158,
     "metadata": {},
     "output_type": "execute_result"
    },
    {
     "data": {
      "image/png": "[encoded data removed]",
      "text/plain": [
       "<Figure size 640x480 with 1 Axes>"
      ]
     },
     "metadata": {},
     "output_type": "display_data"
    }
   ],
   "source": [
    "sns.histplot(df_tasting['ABV'])"
   ]
  },
  {
   "cell_type": "markdown",
   "id": "d00229c1",
   "metadata": {},
   "source": [
    "> On first look it seems that there are some extreme outliers for AVB especially on the higher end. Based on the histogram there seems to be a dropoff after 15% ABV. These beers will be filtered out."
   ]
  },
  {
   "cell_type": "code",
   "execution_count": 159,
   "id": "8078dee5",
   "metadata": {},
   "outputs": [],
   "source": [
    "df_tasting = df_tasting.loc[df_tasting['ABV'] <= 15]"
   ]
  },
  {
   "cell_type": "code",
   "execution_count": 160,
   "id": "0e0447f3",
   "metadata": {},
   "outputs": [
    {
     "data": {
      "text/plain": [
       "(5531, 21)"
      ]
     },
     "execution_count": 160,
     "metadata": {},
     "output_type": "execute_result"
    }
   ],
   "source": [
    "# checking to see if high abv beers are dropped\n",
    "df_tasting.shape\n",
    "#only lost 25 beers in filtering process"
   ]
  },
  {
   "cell_type": "markdown",
   "id": "7afd83e9",
   "metadata": {},
   "source": [
    "#### Checking Rating Column"
   ]
  },
  {
   "cell_type": "code",
   "execution_count": 161,
   "id": "0f6d2090",
   "metadata": {},
   "outputs": [
    {
     "data": {
      "text/plain": [
       "count    5531.000000\n",
       "mean        3.759011\n",
       "std         0.442303\n",
       "min         1.270000\n",
       "25%         3.585000\n",
       "50%         3.820000\n",
       "75%         4.030000\n",
       "max         4.830000\n",
       "Name: Ave Rating, dtype: float64"
      ]
     },
     "execution_count": 161,
     "metadata": {},
     "output_type": "execute_result"
    }
   ],
   "source": [
    "# looks like all reviews are greater than 1 and less than 5\n",
    "df_tasting['Ave Rating'].describe()"
   ]
  },
  {
   "cell_type": "code",
   "execution_count": 162,
   "id": "a1b4af98",
   "metadata": {},
   "outputs": [
    {
     "data": {
      "text/html": [
       "<div>\n",
       "<style scoped>\n",
       "    .dataframe tbody tr th:only-of-type {\n",
       "        vertical-align: middle;\n",
       "    }\n",
       "\n",
       "    .dataframe tbody tr th {\n",
       "        vertical-align: top;\n",
       "    }\n",
       "\n",
       "    .dataframe thead th {\n",
       "        text-align: right;\n",
       "    }\n",
       "</style>\n",
       "<table border=\"1\" class=\"dataframe\">\n",
       "  <thead>\n",
       "    <tr style=\"text-align: right;\">\n",
       "      <th></th>\n",
       "      <th>Name</th>\n",
       "      <th>key</th>\n",
       "      <th>Style</th>\n",
       "      <th>Style Key</th>\n",
       "      <th>Brewery</th>\n",
       "      <th>Description</th>\n",
       "      <th>ABV</th>\n",
       "      <th>Avg Rating</th>\n",
       "      <th>Min IBU</th>\n",
       "      <th>Max IBU</th>\n",
       "      <th>...</th>\n",
       "      <th>Body</th>\n",
       "      <th>Alcohol</th>\n",
       "      <th>Bitter</th>\n",
       "      <th>Sweet</th>\n",
       "      <th>Sour</th>\n",
       "      <th>Salty</th>\n",
       "      <th>Fruits</th>\n",
       "      <th>Hoppy</th>\n",
       "      <th>Spices</th>\n",
       "      <th>Malty</th>\n",
       "    </tr>\n",
       "  </thead>\n",
       "  <tbody>\n",
       "    <tr>\n",
       "      <th>0</th>\n",
       "      <td>Amber</td>\n",
       "      <td>251</td>\n",
       "      <td>Brown Ale</td>\n",
       "      <td>8</td>\n",
       "      <td>Alaskan Brewing Co.</td>\n",
       "      <td>Richly malty and long on the palate with just ...</td>\n",
       "      <td>5.3</td>\n",
       "      <td>3.65</td>\n",
       "      <td>25</td>\n",
       "      <td>50</td>\n",
       "      <td>...</td>\n",
       "      <td>32</td>\n",
       "      <td>9</td>\n",
       "      <td>47</td>\n",
       "      <td>74</td>\n",
       "      <td>33</td>\n",
       "      <td>0</td>\n",
       "      <td>33</td>\n",
       "      <td>57</td>\n",
       "      <td>8</td>\n",
       "      <td>111</td>\n",
       "    </tr>\n",
       "    <tr>\n",
       "      <th>1</th>\n",
       "      <td>Double Bag</td>\n",
       "      <td>252</td>\n",
       "      <td>Brown Ale</td>\n",
       "      <td>8</td>\n",
       "      <td>Long Trail Brewing Co.</td>\n",
       "      <td>This malty fullbodied double alt is also known...</td>\n",
       "      <td>7.2</td>\n",
       "      <td>3.90</td>\n",
       "      <td>25</td>\n",
       "      <td>50</td>\n",
       "      <td>...</td>\n",
       "      <td>57</td>\n",
       "      <td>18</td>\n",
       "      <td>33</td>\n",
       "      <td>55</td>\n",
       "      <td>16</td>\n",
       "      <td>0</td>\n",
       "      <td>24</td>\n",
       "      <td>35</td>\n",
       "      <td>12</td>\n",
       "      <td>84</td>\n",
       "    </tr>\n",
       "    <tr>\n",
       "      <th>2</th>\n",
       "      <td>Long Trail Ale</td>\n",
       "      <td>253</td>\n",
       "      <td>Brown Ale</td>\n",
       "      <td>8</td>\n",
       "      <td>Long Trail Brewing Co.</td>\n",
       "      <td>Long Trail Ale is a fullbodied amber ale model...</td>\n",
       "      <td>5.0</td>\n",
       "      <td>3.58</td>\n",
       "      <td>25</td>\n",
       "      <td>50</td>\n",
       "      <td>...</td>\n",
       "      <td>37</td>\n",
       "      <td>6</td>\n",
       "      <td>42</td>\n",
       "      <td>43</td>\n",
       "      <td>11</td>\n",
       "      <td>0</td>\n",
       "      <td>10</td>\n",
       "      <td>54</td>\n",
       "      <td>4</td>\n",
       "      <td>62</td>\n",
       "    </tr>\n",
       "    <tr>\n",
       "      <th>3</th>\n",
       "      <td>Doppelsticke</td>\n",
       "      <td>254</td>\n",
       "      <td>Brown Ale</td>\n",
       "      <td>8</td>\n",
       "      <td>Uerige Obergärige Hausbrauerei</td>\n",
       "      <td></td>\n",
       "      <td>8.5</td>\n",
       "      <td>4.15</td>\n",
       "      <td>25</td>\n",
       "      <td>50</td>\n",
       "      <td>...</td>\n",
       "      <td>55</td>\n",
       "      <td>31</td>\n",
       "      <td>47</td>\n",
       "      <td>101</td>\n",
       "      <td>18</td>\n",
       "      <td>1</td>\n",
       "      <td>49</td>\n",
       "      <td>40</td>\n",
       "      <td>16</td>\n",
       "      <td>119</td>\n",
       "    </tr>\n",
       "    <tr>\n",
       "      <th>4</th>\n",
       "      <td>Scurry</td>\n",
       "      <td>255</td>\n",
       "      <td>Brown Ale</td>\n",
       "      <td>8</td>\n",
       "      <td>Off Color Brewing</td>\n",
       "      <td>Just cause its dark and German doesnt mean its...</td>\n",
       "      <td>5.3</td>\n",
       "      <td>3.67</td>\n",
       "      <td>25</td>\n",
       "      <td>50</td>\n",
       "      <td>...</td>\n",
       "      <td>69</td>\n",
       "      <td>10</td>\n",
       "      <td>63</td>\n",
       "      <td>120</td>\n",
       "      <td>14</td>\n",
       "      <td>0</td>\n",
       "      <td>19</td>\n",
       "      <td>36</td>\n",
       "      <td>15</td>\n",
       "      <td>218</td>\n",
       "    </tr>\n",
       "    <tr>\n",
       "      <th>...</th>\n",
       "      <td>...</td>\n",
       "      <td>...</td>\n",
       "      <td>...</td>\n",
       "      <td>...</td>\n",
       "      <td>...</td>\n",
       "      <td>...</td>\n",
       "      <td>...</td>\n",
       "      <td>...</td>\n",
       "      <td>...</td>\n",
       "      <td>...</td>\n",
       "      <td>...</td>\n",
       "      <td>...</td>\n",
       "      <td>...</td>\n",
       "      <td>...</td>\n",
       "      <td>...</td>\n",
       "      <td>...</td>\n",
       "      <td>...</td>\n",
       "      <td>...</td>\n",
       "      <td>...</td>\n",
       "      <td>...</td>\n",
       "      <td>...</td>\n",
       "    </tr>\n",
       "    <tr>\n",
       "      <th>5553</th>\n",
       "      <td>Red Nose Winter Ale</td>\n",
       "      <td>696</td>\n",
       "      <td>Dark Ale</td>\n",
       "      <td>17</td>\n",
       "      <td>Natty Greene's Pub &amp; Brewing Co.</td>\n",
       "      <td></td>\n",
       "      <td>6.8</td>\n",
       "      <td>3.59</td>\n",
       "      <td>35</td>\n",
       "      <td>50</td>\n",
       "      <td>...</td>\n",
       "      <td>44</td>\n",
       "      <td>24</td>\n",
       "      <td>19</td>\n",
       "      <td>52</td>\n",
       "      <td>21</td>\n",
       "      <td>0</td>\n",
       "      <td>26</td>\n",
       "      <td>21</td>\n",
       "      <td>96</td>\n",
       "      <td>77</td>\n",
       "    </tr>\n",
       "    <tr>\n",
       "      <th>5554</th>\n",
       "      <td>Our Special Ale 2019 (Anchor Christmas Ale)</td>\n",
       "      <td>697</td>\n",
       "      <td>Dark Ale</td>\n",
       "      <td>17</td>\n",
       "      <td>Anchor Brewing Company</td>\n",
       "      <td>This is the fortyfifth annual Our Special Ale ...</td>\n",
       "      <td>6.9</td>\n",
       "      <td>3.79</td>\n",
       "      <td>35</td>\n",
       "      <td>50</td>\n",
       "      <td>...</td>\n",
       "      <td>73</td>\n",
       "      <td>9</td>\n",
       "      <td>58</td>\n",
       "      <td>87</td>\n",
       "      <td>23</td>\n",
       "      <td>0</td>\n",
       "      <td>48</td>\n",
       "      <td>91</td>\n",
       "      <td>44</td>\n",
       "      <td>104</td>\n",
       "    </tr>\n",
       "    <tr>\n",
       "      <th>5555</th>\n",
       "      <td>Fish Tale Winterfish</td>\n",
       "      <td>698</td>\n",
       "      <td>Dark Ale</td>\n",
       "      <td>17</td>\n",
       "      <td>Fish Brewing Company / Fishbowl Brewpub</td>\n",
       "      <td></td>\n",
       "      <td>7.5</td>\n",
       "      <td>3.76</td>\n",
       "      <td>35</td>\n",
       "      <td>50</td>\n",
       "      <td>...</td>\n",
       "      <td>36</td>\n",
       "      <td>50</td>\n",
       "      <td>70</td>\n",
       "      <td>72</td>\n",
       "      <td>59</td>\n",
       "      <td>0</td>\n",
       "      <td>81</td>\n",
       "      <td>110</td>\n",
       "      <td>18</td>\n",
       "      <td>73</td>\n",
       "    </tr>\n",
       "    <tr>\n",
       "      <th>5556</th>\n",
       "      <td>He'Brew Hanukkah, Chanukah: Pass The Beer</td>\n",
       "      <td>699</td>\n",
       "      <td>Dark Ale</td>\n",
       "      <td>17</td>\n",
       "      <td>Shmaltz Brewing Company</td>\n",
       "      <td>Chanukah Beer pours a rich crystal clear chest...</td>\n",
       "      <td>8.0</td>\n",
       "      <td>3.61</td>\n",
       "      <td>35</td>\n",
       "      <td>50</td>\n",
       "      <td>...</td>\n",
       "      <td>64</td>\n",
       "      <td>30</td>\n",
       "      <td>57</td>\n",
       "      <td>78</td>\n",
       "      <td>15</td>\n",
       "      <td>1</td>\n",
       "      <td>28</td>\n",
       "      <td>57</td>\n",
       "      <td>23</td>\n",
       "      <td>129</td>\n",
       "    </tr>\n",
       "    <tr>\n",
       "      <th>5557</th>\n",
       "      <td>Frosted Frog Christmas Ale - Barrel-Aged</td>\n",
       "      <td>700</td>\n",
       "      <td>Dark Ale</td>\n",
       "      <td>17</td>\n",
       "      <td>Hoppin' Frog Brewery</td>\n",
       "      <td>The essence of Christmas is captured in this v...</td>\n",
       "      <td>8.6</td>\n",
       "      <td>3.89</td>\n",
       "      <td>35</td>\n",
       "      <td>50</td>\n",
       "      <td>...</td>\n",
       "      <td>50</td>\n",
       "      <td>49</td>\n",
       "      <td>13</td>\n",
       "      <td>71</td>\n",
       "      <td>17</td>\n",
       "      <td>0</td>\n",
       "      <td>33</td>\n",
       "      <td>16</td>\n",
       "      <td>148</td>\n",
       "      <td>69</td>\n",
       "    </tr>\n",
       "  </tbody>\n",
       "</table>\n",
       "<p>5531 rows × 21 columns</p>\n",
       "</div>"
      ],
      "text/plain": [
       "                                             Name  key      Style  Style Key  \\\n",
       "0                                           Amber  251  Brown Ale          8   \n",
       "1                                      Double Bag  252  Brown Ale          8   \n",
       "2                                  Long Trail Ale  253  Brown Ale          8   \n",
       "3                                    Doppelsticke  254  Brown Ale          8   \n",
       "4                                          Scurry  255  Brown Ale          8   \n",
       "...                                           ...  ...        ...        ...   \n",
       "5553                          Red Nose Winter Ale  696   Dark Ale         17   \n",
       "5554  Our Special Ale 2019 (Anchor Christmas Ale)  697   Dark Ale         17   \n",
       "5555                         Fish Tale Winterfish  698   Dark Ale         17   \n",
       "5556    He'Brew Hanukkah, Chanukah: Pass The Beer  699   Dark Ale         17   \n",
       "5557     Frosted Frog Christmas Ale - Barrel-Aged  700   Dark Ale         17   \n",
       "\n",
       "                                      Brewery  \\\n",
       "0                         Alaskan Brewing Co.   \n",
       "1                      Long Trail Brewing Co.   \n",
       "2                      Long Trail Brewing Co.   \n",
       "3              Uerige Obergärige Hausbrauerei   \n",
       "4                           Off Color Brewing   \n",
       "...                                       ...   \n",
       "5553         Natty Greene's Pub & Brewing Co.   \n",
       "5554                   Anchor Brewing Company   \n",
       "5555  Fish Brewing Company / Fishbowl Brewpub   \n",
       "5556                  Shmaltz Brewing Company   \n",
       "5557                     Hoppin' Frog Brewery   \n",
       "\n",
       "                                            Description  ABV  Avg Rating  \\\n",
       "0     Richly malty and long on the palate with just ...  5.3        3.65   \n",
       "1     This malty fullbodied double alt is also known...  7.2        3.90   \n",
       "2     Long Trail Ale is a fullbodied amber ale model...  5.0        3.58   \n",
       "3                                                        8.5        4.15   \n",
       "4     Just cause its dark and German doesnt mean its...  5.3        3.67   \n",
       "...                                                 ...  ...         ...   \n",
       "5553                                                     6.8        3.59   \n",
       "5554  This is the fortyfifth annual Our Special Ale ...  6.9        3.79   \n",
       "5555                                                     7.5        3.76   \n",
       "5556  Chanukah Beer pours a rich crystal clear chest...  8.0        3.61   \n",
       "5557  The essence of Christmas is captured in this v...  8.6        3.89   \n",
       "\n",
       "      Min IBU  Max IBU  ...  Body  Alcohol  Bitter  Sweet  Sour  Salty  \\\n",
       "0          25       50  ...    32        9      47     74    33      0   \n",
       "1          25       50  ...    57       18      33     55    16      0   \n",
       "2          25       50  ...    37        6      42     43    11      0   \n",
       "3          25       50  ...    55       31      47    101    18      1   \n",
       "4          25       50  ...    69       10      63    120    14      0   \n",
       "...       ...      ...  ...   ...      ...     ...    ...   ...    ...   \n",
       "5553       35       50  ...    44       24      19     52    21      0   \n",
       "5554       35       50  ...    73        9      58     87    23      0   \n",
       "5555       35       50  ...    36       50      70     72    59      0   \n",
       "5556       35       50  ...    64       30      57     78    15      1   \n",
       "5557       35       50  ...    50       49      13     71    17      0   \n",
       "\n",
       "      Fruits  Hoppy  Spices  Malty  \n",
       "0         33     57       8    111  \n",
       "1         24     35      12     84  \n",
       "2         10     54       4     62  \n",
       "3         49     40      16    119  \n",
       "4         19     36      15    218  \n",
       "...      ...    ...     ...    ...  \n",
       "5553      26     21      96     77  \n",
       "5554      48     91      44    104  \n",
       "5555      81    110      18     73  \n",
       "5556      28     57      23    129  \n",
       "5557      33     16     148     69  \n",
       "\n",
       "[5531 rows x 21 columns]"
      ]
     },
     "execution_count": 162,
     "metadata": {},
     "output_type": "execute_result"
    }
   ],
   "source": [
    "# changing column name to 'Avg Rating' as avg is standard abbreviation for average \n",
    "df_tasting.rename(columns={\"Ave Rating\": \"Avg Rating\"})"
   ]
  },
  {
   "cell_type": "markdown",
   "id": "1f119c5b",
   "metadata": {},
   "source": [
    "### Creating Average IBU Feature\n",
    "Most general beer styles fall within a range for IBUs (International Bitterness Units). This measures the level of a beer’s bitterness (which comes from hops) on a scale from 0 to 100. The dataset has a min and max for each beer, but an average will be a better indicator of where it would fall within a specific group. After the Average IBU column was created I dropped the min and max columns.\n",
    "\n",
    "[Source](https://www.firestonebeer.com/what-really-is-ibu/)"
   ]
  },
  {
   "cell_type": "code",
   "execution_count": 164,
   "id": "0d89e6b9",
   "metadata": {},
   "outputs": [],
   "source": [
    "# creating average column\n",
    "df_tasting['AvgIBU'] = ((df_tasting['Max IBU'] + df_tasting['Min IBU']) / 2)"
   ]
  },
  {
   "cell_type": "code",
   "execution_count": 165,
   "id": "b061ea41",
   "metadata": {
    "scrolled": true
   },
   "outputs": [
    {
     "data": {
      "text/html": [
       "<div>\n",
       "<style scoped>\n",
       "    .dataframe tbody tr th:only-of-type {\n",
       "        vertical-align: middle;\n",
       "    }\n",
       "\n",
       "    .dataframe tbody tr th {\n",
       "        vertical-align: top;\n",
       "    }\n",
       "\n",
       "    .dataframe thead th {\n",
       "        text-align: right;\n",
       "    }\n",
       "</style>\n",
       "<table border=\"1\" class=\"dataframe\">\n",
       "  <thead>\n",
       "    <tr style=\"text-align: right;\">\n",
       "      <th></th>\n",
       "      <th>Name</th>\n",
       "      <th>key</th>\n",
       "      <th>Style</th>\n",
       "      <th>Style Key</th>\n",
       "      <th>Brewery</th>\n",
       "      <th>Description</th>\n",
       "      <th>ABV</th>\n",
       "      <th>Ave Rating</th>\n",
       "      <th>Min IBU</th>\n",
       "      <th>Max IBU</th>\n",
       "      <th>...</th>\n",
       "      <th>Alcohol</th>\n",
       "      <th>Bitter</th>\n",
       "      <th>Sweet</th>\n",
       "      <th>Sour</th>\n",
       "      <th>Salty</th>\n",
       "      <th>Fruits</th>\n",
       "      <th>Hoppy</th>\n",
       "      <th>Spices</th>\n",
       "      <th>Malty</th>\n",
       "      <th>AvgIBU</th>\n",
       "    </tr>\n",
       "  </thead>\n",
       "  <tbody>\n",
       "    <tr>\n",
       "      <th>0</th>\n",
       "      <td>Amber</td>\n",
       "      <td>251</td>\n",
       "      <td>Brown Ale</td>\n",
       "      <td>8</td>\n",
       "      <td>Alaskan Brewing Co.</td>\n",
       "      <td>Richly malty and long on the palate with just ...</td>\n",
       "      <td>5.3</td>\n",
       "      <td>3.65</td>\n",
       "      <td>25</td>\n",
       "      <td>50</td>\n",
       "      <td>...</td>\n",
       "      <td>9</td>\n",
       "      <td>47</td>\n",
       "      <td>74</td>\n",
       "      <td>33</td>\n",
       "      <td>0</td>\n",
       "      <td>33</td>\n",
       "      <td>57</td>\n",
       "      <td>8</td>\n",
       "      <td>111</td>\n",
       "      <td>37.5</td>\n",
       "    </tr>\n",
       "    <tr>\n",
       "      <th>1</th>\n",
       "      <td>Double Bag</td>\n",
       "      <td>252</td>\n",
       "      <td>Brown Ale</td>\n",
       "      <td>8</td>\n",
       "      <td>Long Trail Brewing Co.</td>\n",
       "      <td>This malty fullbodied double alt is also known...</td>\n",
       "      <td>7.2</td>\n",
       "      <td>3.90</td>\n",
       "      <td>25</td>\n",
       "      <td>50</td>\n",
       "      <td>...</td>\n",
       "      <td>18</td>\n",
       "      <td>33</td>\n",
       "      <td>55</td>\n",
       "      <td>16</td>\n",
       "      <td>0</td>\n",
       "      <td>24</td>\n",
       "      <td>35</td>\n",
       "      <td>12</td>\n",
       "      <td>84</td>\n",
       "      <td>37.5</td>\n",
       "    </tr>\n",
       "    <tr>\n",
       "      <th>2</th>\n",
       "      <td>Long Trail Ale</td>\n",
       "      <td>253</td>\n",
       "      <td>Brown Ale</td>\n",
       "      <td>8</td>\n",
       "      <td>Long Trail Brewing Co.</td>\n",
       "      <td>Long Trail Ale is a fullbodied amber ale model...</td>\n",
       "      <td>5.0</td>\n",
       "      <td>3.58</td>\n",
       "      <td>25</td>\n",
       "      <td>50</td>\n",
       "      <td>...</td>\n",
       "      <td>6</td>\n",
       "      <td>42</td>\n",
       "      <td>43</td>\n",
       "      <td>11</td>\n",
       "      <td>0</td>\n",
       "      <td>10</td>\n",
       "      <td>54</td>\n",
       "      <td>4</td>\n",
       "      <td>62</td>\n",
       "      <td>37.5</td>\n",
       "    </tr>\n",
       "    <tr>\n",
       "      <th>3</th>\n",
       "      <td>Doppelsticke</td>\n",
       "      <td>254</td>\n",
       "      <td>Brown Ale</td>\n",
       "      <td>8</td>\n",
       "      <td>Uerige Obergärige Hausbrauerei</td>\n",
       "      <td></td>\n",
       "      <td>8.5</td>\n",
       "      <td>4.15</td>\n",
       "      <td>25</td>\n",
       "      <td>50</td>\n",
       "      <td>...</td>\n",
       "      <td>31</td>\n",
       "      <td>47</td>\n",
       "      <td>101</td>\n",
       "      <td>18</td>\n",
       "      <td>1</td>\n",
       "      <td>49</td>\n",
       "      <td>40</td>\n",
       "      <td>16</td>\n",
       "      <td>119</td>\n",
       "      <td>37.5</td>\n",
       "    </tr>\n",
       "    <tr>\n",
       "      <th>4</th>\n",
       "      <td>Scurry</td>\n",
       "      <td>255</td>\n",
       "      <td>Brown Ale</td>\n",
       "      <td>8</td>\n",
       "      <td>Off Color Brewing</td>\n",
       "      <td>Just cause its dark and German doesnt mean its...</td>\n",
       "      <td>5.3</td>\n",
       "      <td>3.67</td>\n",
       "      <td>25</td>\n",
       "      <td>50</td>\n",
       "      <td>...</td>\n",
       "      <td>10</td>\n",
       "      <td>63</td>\n",
       "      <td>120</td>\n",
       "      <td>14</td>\n",
       "      <td>0</td>\n",
       "      <td>19</td>\n",
       "      <td>36</td>\n",
       "      <td>15</td>\n",
       "      <td>218</td>\n",
       "      <td>37.5</td>\n",
       "    </tr>\n",
       "  </tbody>\n",
       "</table>\n",
       "<p>5 rows × 22 columns</p>\n",
       "</div>"
      ],
      "text/plain": [
       "             Name  key      Style  Style Key                         Brewery  \\\n",
       "0           Amber  251  Brown Ale          8             Alaskan Brewing Co.   \n",
       "1      Double Bag  252  Brown Ale          8          Long Trail Brewing Co.   \n",
       "2  Long Trail Ale  253  Brown Ale          8          Long Trail Brewing Co.   \n",
       "3    Doppelsticke  254  Brown Ale          8  Uerige Obergärige Hausbrauerei   \n",
       "4          Scurry  255  Brown Ale          8               Off Color Brewing   \n",
       "\n",
       "                                         Description  ABV  Ave Rating  \\\n",
       "0  Richly malty and long on the palate with just ...  5.3        3.65   \n",
       "1  This malty fullbodied double alt is also known...  7.2        3.90   \n",
       "2  Long Trail Ale is a fullbodied amber ale model...  5.0        3.58   \n",
       "3                                                     8.5        4.15   \n",
       "4  Just cause its dark and German doesnt mean its...  5.3        3.67   \n",
       "\n",
       "   Min IBU  Max IBU  ...  Alcohol  Bitter  Sweet  Sour  Salty  Fruits  Hoppy  \\\n",
       "0       25       50  ...        9      47     74    33      0      33     57   \n",
       "1       25       50  ...       18      33     55    16      0      24     35   \n",
       "2       25       50  ...        6      42     43    11      0      10     54   \n",
       "3       25       50  ...       31      47    101    18      1      49     40   \n",
       "4       25       50  ...       10      63    120    14      0      19     36   \n",
       "\n",
       "   Spices  Malty  AvgIBU  \n",
       "0       8    111    37.5  \n",
       "1      12     84    37.5  \n",
       "2       4     62    37.5  \n",
       "3      16    119    37.5  \n",
       "4      15    218    37.5  \n",
       "\n",
       "[5 rows x 22 columns]"
      ]
     },
     "execution_count": 165,
     "metadata": {},
     "output_type": "execute_result"
    }
   ],
   "source": [
    "# checking for new column\n",
    "df_tasting.head()"
   ]
  },
  {
   "cell_type": "code",
   "execution_count": 166,
   "id": "be251d5e",
   "metadata": {},
   "outputs": [],
   "source": [
    "# dropping min/max columns\n",
    "df_tasting.drop(columns=['Min IBU', 'Max IBU'], inplace=True)"
   ]
  },
  {
   "cell_type": "code",
   "execution_count": 381,
   "id": "92a01533",
   "metadata": {},
   "outputs": [
    {
     "data": {
      "text/html": [
       "<div>\n",
       "<style scoped>\n",
       "    .dataframe tbody tr th:only-of-type {\n",
       "        vertical-align: middle;\n",
       "    }\n",
       "\n",
       "    .dataframe tbody tr th {\n",
       "        vertical-align: top;\n",
       "    }\n",
       "\n",
       "    .dataframe thead th {\n",
       "        text-align: right;\n",
       "    }\n",
       "</style>\n",
       "<table border=\"1\" class=\"dataframe\">\n",
       "  <thead>\n",
       "    <tr style=\"text-align: right;\">\n",
       "      <th></th>\n",
       "      <th>Name</th>\n",
       "      <th>key</th>\n",
       "      <th>Style</th>\n",
       "      <th>Style Key</th>\n",
       "      <th>Brewery</th>\n",
       "      <th>Description</th>\n",
       "      <th>ABV</th>\n",
       "      <th>Ave Rating</th>\n",
       "      <th>Astringency</th>\n",
       "      <th>Body</th>\n",
       "      <th>Alcohol</th>\n",
       "      <th>Bitter</th>\n",
       "      <th>Sweet</th>\n",
       "      <th>Sour</th>\n",
       "      <th>Salty</th>\n",
       "      <th>Fruits</th>\n",
       "      <th>Hoppy</th>\n",
       "      <th>Spices</th>\n",
       "      <th>Malty</th>\n",
       "      <th>AvgIBU</th>\n",
       "    </tr>\n",
       "  </thead>\n",
       "  <tbody>\n",
       "    <tr>\n",
       "      <th>0</th>\n",
       "      <td>Amber</td>\n",
       "      <td>251</td>\n",
       "      <td>Brown Ale</td>\n",
       "      <td>8</td>\n",
       "      <td>Alaskan Brewing Co.</td>\n",
       "      <td>Richly malty and long on the palate with just ...</td>\n",
       "      <td>5.3</td>\n",
       "      <td>3.65</td>\n",
       "      <td>13</td>\n",
       "      <td>32</td>\n",
       "      <td>9</td>\n",
       "      <td>47</td>\n",
       "      <td>74</td>\n",
       "      <td>33</td>\n",
       "      <td>0</td>\n",
       "      <td>33</td>\n",
       "      <td>57</td>\n",
       "      <td>8</td>\n",
       "      <td>111</td>\n",
       "      <td>37.5</td>\n",
       "    </tr>\n",
       "  </tbody>\n",
       "</table>\n",
       "</div>"
      ],
      "text/plain": [
       "    Name  key      Style  Style Key              Brewery  \\\n",
       "0  Amber  251  Brown Ale          8  Alaskan Brewing Co.   \n",
       "\n",
       "                                         Description  ABV  Ave Rating  \\\n",
       "0  Richly malty and long on the palate with just ...  5.3        3.65   \n",
       "\n",
       "   Astringency  Body  Alcohol  Bitter  Sweet  Sour  Salty  Fruits  Hoppy  \\\n",
       "0           13    32        9      47     74    33      0      33     57   \n",
       "\n",
       "   Spices  Malty  AvgIBU  \n",
       "0       8    111    37.5  "
      ]
     },
     "execution_count": 381,
     "metadata": {},
     "output_type": "execute_result"
    }
   ],
   "source": [
    "#checking columns\n",
    "df_tasting.head(1)"
   ]
  },
  {
   "cell_type": "markdown",
   "id": "e1ede886",
   "metadata": {},
   "source": [
    "***"
   ]
  },
  {
   "cell_type": "markdown",
   "id": "a42dfad3",
   "metadata": {},
   "source": [
    "## Load Data"
   ]
  },
  {
   "cell_type": "markdown",
   "id": "7499c6ed",
   "metadata": {},
   "source": [
    "## Beer Reviews -- collaborative recs"
   ]
  },
  {
   "cell_type": "code",
   "execution_count": 343,
   "id": "d9f1b112",
   "metadata": {},
   "outputs": [],
   "source": [
    "df_reviews = pd.read_csv('../BeerData/beer_reviews.csv')"
   ]
  },
  {
   "cell_type": "code",
   "execution_count": 344,
   "id": "dc61a2de",
   "metadata": {},
   "outputs": [
    {
     "data": {
      "text/html": [
       "<div>\n",
       "<style scoped>\n",
       "    .dataframe tbody tr th:only-of-type {\n",
       "        vertical-align: middle;\n",
       "    }\n",
       "\n",
       "    .dataframe tbody tr th {\n",
       "        vertical-align: top;\n",
       "    }\n",
       "\n",
       "    .dataframe thead th {\n",
       "        text-align: right;\n",
       "    }\n",
       "</style>\n",
       "<table border=\"1\" class=\"dataframe\">\n",
       "  <thead>\n",
       "    <tr style=\"text-align: right;\">\n",
       "      <th></th>\n",
       "      <th>brewery_id</th>\n",
       "      <th>brewery_name</th>\n",
       "      <th>review_time</th>\n",
       "      <th>review_overall</th>\n",
       "      <th>review_aroma</th>\n",
       "      <th>review_appearance</th>\n",
       "      <th>review_profilename</th>\n",
       "      <th>beer_style</th>\n",
       "      <th>review_palate</th>\n",
       "      <th>review_taste</th>\n",
       "      <th>beer_name</th>\n",
       "      <th>beer_abv</th>\n",
       "      <th>beer_beerid</th>\n",
       "    </tr>\n",
       "  </thead>\n",
       "  <tbody>\n",
       "    <tr>\n",
       "      <th>0</th>\n",
       "      <td>10325</td>\n",
       "      <td>Vecchio Birraio</td>\n",
       "      <td>1234817823</td>\n",
       "      <td>1.5</td>\n",
       "      <td>2.0</td>\n",
       "      <td>2.5</td>\n",
       "      <td>stcules</td>\n",
       "      <td>Hefeweizen</td>\n",
       "      <td>1.5</td>\n",
       "      <td>1.5</td>\n",
       "      <td>Sausa Weizen</td>\n",
       "      <td>5.0</td>\n",
       "      <td>47986</td>\n",
       "    </tr>\n",
       "    <tr>\n",
       "      <th>1</th>\n",
       "      <td>10325</td>\n",
       "      <td>Vecchio Birraio</td>\n",
       "      <td>1235915097</td>\n",
       "      <td>3.0</td>\n",
       "      <td>2.5</td>\n",
       "      <td>3.0</td>\n",
       "      <td>stcules</td>\n",
       "      <td>English Strong Ale</td>\n",
       "      <td>3.0</td>\n",
       "      <td>3.0</td>\n",
       "      <td>Red Moon</td>\n",
       "      <td>6.2</td>\n",
       "      <td>48213</td>\n",
       "    </tr>\n",
       "    <tr>\n",
       "      <th>2</th>\n",
       "      <td>10325</td>\n",
       "      <td>Vecchio Birraio</td>\n",
       "      <td>1235916604</td>\n",
       "      <td>3.0</td>\n",
       "      <td>2.5</td>\n",
       "      <td>3.0</td>\n",
       "      <td>stcules</td>\n",
       "      <td>Foreign / Export Stout</td>\n",
       "      <td>3.0</td>\n",
       "      <td>3.0</td>\n",
       "      <td>Black Horse Black Beer</td>\n",
       "      <td>6.5</td>\n",
       "      <td>48215</td>\n",
       "    </tr>\n",
       "    <tr>\n",
       "      <th>3</th>\n",
       "      <td>10325</td>\n",
       "      <td>Vecchio Birraio</td>\n",
       "      <td>1234725145</td>\n",
       "      <td>3.0</td>\n",
       "      <td>3.0</td>\n",
       "      <td>3.5</td>\n",
       "      <td>stcules</td>\n",
       "      <td>German Pilsener</td>\n",
       "      <td>2.5</td>\n",
       "      <td>3.0</td>\n",
       "      <td>Sausa Pils</td>\n",
       "      <td>5.0</td>\n",
       "      <td>47969</td>\n",
       "    </tr>\n",
       "    <tr>\n",
       "      <th>4</th>\n",
       "      <td>1075</td>\n",
       "      <td>Caldera Brewing Company</td>\n",
       "      <td>1293735206</td>\n",
       "      <td>4.0</td>\n",
       "      <td>4.5</td>\n",
       "      <td>4.0</td>\n",
       "      <td>johnmichaelsen</td>\n",
       "      <td>American Double / Imperial IPA</td>\n",
       "      <td>4.0</td>\n",
       "      <td>4.5</td>\n",
       "      <td>Cauldron DIPA</td>\n",
       "      <td>7.7</td>\n",
       "      <td>64883</td>\n",
       "    </tr>\n",
       "  </tbody>\n",
       "</table>\n",
       "</div>"
      ],
      "text/plain": [
       "   brewery_id             brewery_name  review_time  review_overall  \\\n",
       "0       10325          Vecchio Birraio   1234817823             1.5   \n",
       "1       10325          Vecchio Birraio   1235915097             3.0   \n",
       "2       10325          Vecchio Birraio   1235916604             3.0   \n",
       "3       10325          Vecchio Birraio   1234725145             3.0   \n",
       "4        1075  Caldera Brewing Company   1293735206             4.0   \n",
       "\n",
       "   review_aroma  review_appearance review_profilename  \\\n",
       "0           2.0                2.5            stcules   \n",
       "1           2.5                3.0            stcules   \n",
       "2           2.5                3.0            stcules   \n",
       "3           3.0                3.5            stcules   \n",
       "4           4.5                4.0     johnmichaelsen   \n",
       "\n",
       "                       beer_style  review_palate  review_taste  \\\n",
       "0                      Hefeweizen            1.5           1.5   \n",
       "1              English Strong Ale            3.0           3.0   \n",
       "2          Foreign / Export Stout            3.0           3.0   \n",
       "3                 German Pilsener            2.5           3.0   \n",
       "4  American Double / Imperial IPA            4.0           4.5   \n",
       "\n",
       "                beer_name  beer_abv  beer_beerid  \n",
       "0            Sausa Weizen       5.0        47986  \n",
       "1                Red Moon       6.2        48213  \n",
       "2  Black Horse Black Beer       6.5        48215  \n",
       "3              Sausa Pils       5.0        47969  \n",
       "4           Cauldron DIPA       7.7        64883  "
      ]
     },
     "execution_count": 344,
     "metadata": {},
     "output_type": "execute_result"
    }
   ],
   "source": [
    "df_reviews.head()"
   ]
  },
  {
   "cell_type": "code",
   "execution_count": 345,
   "id": "88414b30",
   "metadata": {},
   "outputs": [
    {
     "data": {
      "text/plain": [
       "(1586614, 13)"
      ]
     },
     "execution_count": 345,
     "metadata": {},
     "output_type": "execute_result"
    }
   ],
   "source": [
    "# checking shape\n",
    "df_reviews.shape"
   ]
  },
  {
   "cell_type": "code",
   "execution_count": 346,
   "id": "a32a2459",
   "metadata": {},
   "outputs": [
    {
     "name": "stdout",
     "output_type": "stream",
     "text": [
      "<class 'pandas.core.frame.DataFrame'>\n",
      "RangeIndex: 1586614 entries, 0 to 1586613\n",
      "Data columns (total 13 columns):\n",
      " #   Column              Non-Null Count    Dtype  \n",
      "---  ------              --------------    -----  \n",
      " 0   brewery_id          1586614 non-null  int64  \n",
      " 1   brewery_name        1586599 non-null  object \n",
      " 2   review_time         1586614 non-null  int64  \n",
      " 3   review_overall      1586614 non-null  float64\n",
      " 4   review_aroma        1586614 non-null  float64\n",
      " 5   review_appearance   1586614 non-null  float64\n",
      " 6   review_profilename  1586266 non-null  object \n",
      " 7   beer_style          1586614 non-null  object \n",
      " 8   review_palate       1586614 non-null  float64\n",
      " 9   review_taste        1586614 non-null  float64\n",
      " 10  beer_name           1586614 non-null  object \n",
      " 11  beer_abv            1518829 non-null  float64\n",
      " 12  beer_beerid         1586614 non-null  int64  \n",
      "dtypes: float64(6), int64(3), object(4)\n",
      "memory usage: 157.4+ MB\n"
     ]
    }
   ],
   "source": [
    "# checking data types\n",
    "df_reviews.info()"
   ]
  },
  {
   "cell_type": "code",
   "execution_count": 347,
   "id": "86592484",
   "metadata": {},
   "outputs": [
    {
     "data": {
      "text/plain": [
       "brewery_id                0\n",
       "brewery_name             15\n",
       "review_time               0\n",
       "review_overall            0\n",
       "review_aroma              0\n",
       "review_appearance         0\n",
       "review_profilename      348\n",
       "beer_style                0\n",
       "review_palate             0\n",
       "review_taste              0\n",
       "beer_name                 0\n",
       "beer_abv              67785\n",
       "beer_beerid               0\n",
       "dtype: int64"
      ]
     },
     "execution_count": 347,
     "metadata": {},
     "output_type": "execute_result"
    }
   ],
   "source": [
    "# checking null values\n",
    "df_reviews.isna().sum()"
   ]
  },
  {
   "cell_type": "code",
   "execution_count": 348,
   "id": "d9256388",
   "metadata": {},
   "outputs": [],
   "source": [
    "# beer_abv has missing values, but only make up 4% of total data, these will be dropped\n",
    "df_reviews.dropna(inplace=True)"
   ]
  },
  {
   "cell_type": "code",
   "execution_count": 349,
   "id": "69aa4c67",
   "metadata": {},
   "outputs": [
    {
     "data": {
      "text/plain": [
       "brewery_id            0\n",
       "brewery_name          0\n",
       "review_time           0\n",
       "review_overall        0\n",
       "review_aroma          0\n",
       "review_appearance     0\n",
       "review_profilename    0\n",
       "beer_style            0\n",
       "review_palate         0\n",
       "review_taste          0\n",
       "beer_name             0\n",
       "beer_abv              0\n",
       "beer_beerid           0\n",
       "dtype: int64"
      ]
     },
     "execution_count": 349,
     "metadata": {},
     "output_type": "execute_result"
    }
   ],
   "source": [
    "# sanity check\n",
    "df_reviews.isna().sum()"
   ]
  },
  {
   "cell_type": "code",
   "execution_count": 350,
   "id": "ae5b9d1d",
   "metadata": {},
   "outputs": [
    {
     "data": {
      "text/plain": [
       "0"
      ]
     },
     "execution_count": 350,
     "metadata": {},
     "output_type": "execute_result"
    }
   ],
   "source": [
    "# checking for duplicates\n",
    "df_reviews.duplicated().sum()"
   ]
  },
  {
   "cell_type": "code",
   "execution_count": 351,
   "id": "be4ae5ce",
   "metadata": {},
   "outputs": [
    {
     "data": {
      "text/plain": [
       "Index(['brewery_id', 'brewery_name', 'review_time', 'review_overall',\n",
       "       'review_aroma', 'review_appearance', 'review_profilename', 'beer_style',\n",
       "       'review_palate', 'review_taste', 'beer_name', 'beer_abv',\n",
       "       'beer_beerid'],\n",
       "      dtype='object')"
      ]
     },
     "execution_count": 351,
     "metadata": {},
     "output_type": "execute_result"
    }
   ],
   "source": [
    "df_reviews.columns"
   ]
  },
  {
   "cell_type": "code",
   "execution_count": 352,
   "id": "b87a3895",
   "metadata": {},
   "outputs": [],
   "source": [
    "# dropping unnecessary column -- review time\n",
    "df_reviews.drop(columns='review_time', inplace=True)"
   ]
  },
  {
   "cell_type": "code",
   "execution_count": 353,
   "id": "23813260",
   "metadata": {},
   "outputs": [
    {
     "data": {
      "text/html": [
       "<div>\n",
       "<style scoped>\n",
       "    .dataframe tbody tr th:only-of-type {\n",
       "        vertical-align: middle;\n",
       "    }\n",
       "\n",
       "    .dataframe tbody tr th {\n",
       "        vertical-align: top;\n",
       "    }\n",
       "\n",
       "    .dataframe thead th {\n",
       "        text-align: right;\n",
       "    }\n",
       "</style>\n",
       "<table border=\"1\" class=\"dataframe\">\n",
       "  <thead>\n",
       "    <tr style=\"text-align: right;\">\n",
       "      <th></th>\n",
       "      <th>brewery_id</th>\n",
       "      <th>brewery_name</th>\n",
       "      <th>review_overall</th>\n",
       "      <th>review_aroma</th>\n",
       "      <th>review_appearance</th>\n",
       "      <th>review_profilename</th>\n",
       "      <th>beer_style</th>\n",
       "      <th>review_palate</th>\n",
       "      <th>review_taste</th>\n",
       "      <th>beer_name</th>\n",
       "      <th>beer_abv</th>\n",
       "      <th>beer_beerid</th>\n",
       "    </tr>\n",
       "  </thead>\n",
       "  <tbody>\n",
       "    <tr>\n",
       "      <th>0</th>\n",
       "      <td>10325</td>\n",
       "      <td>Vecchio Birraio</td>\n",
       "      <td>1.5</td>\n",
       "      <td>2.0</td>\n",
       "      <td>2.5</td>\n",
       "      <td>stcules</td>\n",
       "      <td>Hefeweizen</td>\n",
       "      <td>1.5</td>\n",
       "      <td>1.5</td>\n",
       "      <td>Sausa Weizen</td>\n",
       "      <td>5.0</td>\n",
       "      <td>47986</td>\n",
       "    </tr>\n",
       "  </tbody>\n",
       "</table>\n",
       "</div>"
      ],
      "text/plain": [
       "   brewery_id     brewery_name  review_overall  review_aroma  \\\n",
       "0       10325  Vecchio Birraio             1.5           2.0   \n",
       "\n",
       "   review_appearance review_profilename  beer_style  review_palate  \\\n",
       "0                2.5            stcules  Hefeweizen            1.5   \n",
       "\n",
       "   review_taste     beer_name  beer_abv  beer_beerid  \n",
       "0           1.5  Sausa Weizen       5.0        47986  "
      ]
     },
     "execution_count": 353,
     "metadata": {},
     "output_type": "execute_result"
    }
   ],
   "source": [
    "df_reviews.head(1)"
   ]
  },
  {
   "cell_type": "markdown",
   "id": "3256f96f",
   "metadata": {},
   "source": [
    "## Data Cleaning "
   ]
  },
  {
   "cell_type": "markdown",
   "id": "9f484c73",
   "metadata": {},
   "source": [
    "### Cleaning 'beer_abv' column\n",
    "Will drop all extremely high ABV beers just like in previous dataset. "
   ]
  },
  {
   "cell_type": "code",
   "execution_count": 354,
   "id": "02fa906f",
   "metadata": {},
   "outputs": [
    {
     "data": {
      "text/plain": [
       "(0.01, 57.7, 7.042488188831184)"
      ]
     },
     "execution_count": 354,
     "metadata": {},
     "output_type": "execute_result"
    }
   ],
   "source": [
    "# checking min, max and mean ABV\n",
    "df_reviews.beer_abv.min(), df_reviews.beer_abv.max(), df_reviews.beer_abv.mean()"
   ]
  },
  {
   "cell_type": "code",
   "execution_count": 355,
   "id": "f6472fe0",
   "metadata": {},
   "outputs": [],
   "source": [
    "# dropping all beers over 15% ABV\n",
    "df_reviews = df_reviews.loc[df_reviews['beer_abv'] <= 15]"
   ]
  },
  {
   "cell_type": "code",
   "execution_count": 356,
   "id": "169388e1",
   "metadata": {},
   "outputs": [
    {
     "data": {
      "text/plain": [
       "(0.01, 15.0, 6.965625129723512)"
      ]
     },
     "execution_count": 356,
     "metadata": {},
     "output_type": "execute_result"
    }
   ],
   "source": [
    "# sanity check\n",
    "df_reviews.beer_abv.min(), df_reviews.beer_abv.max(), df_reviews.beer_abv.mean()"
   ]
  },
  {
   "cell_type": "markdown",
   "id": "061b071a",
   "metadata": {},
   "source": [
    "### Cleaning 'beer_style' column\n",
    "Will do the same binning method used with the first dataset as this dataset was also sourced from BeerAdvovate.com. The same beer styles will be applied to simplify the feature. "
   ]
  },
  {
   "cell_type": "code",
   "execution_count": 357,
   "id": "e07f725d",
   "metadata": {
    "scrolled": true
   },
   "outputs": [
    {
     "data": {
      "text/plain": [
       "American IPA                        113144\n",
       "American Double / Imperial IPA       83265\n",
       "American Pale Ale (APA)              58072\n",
       "Russian Imperial Stout               53019\n",
       "American Double / Imperial Stout     46747\n",
       "                                     ...  \n",
       "English Pale Mild Ale                  648\n",
       "Faro                                   608\n",
       "Roggenbier                             395\n",
       "Happoshu                               237\n",
       "Kvass                                  229\n",
       "Name: beer_style, Length: 104, dtype: int64"
      ]
     },
     "execution_count": 357,
     "metadata": {},
     "output_type": "execute_result"
    }
   ],
   "source": [
    "df_reviews.beer_style.value_counts()"
   ]
  },
  {
   "cell_type": "code",
   "execution_count": 358,
   "id": "75f0b891",
   "metadata": {},
   "outputs": [
    {
     "data": {
      "text/plain": [
       "104"
      ]
     },
     "execution_count": 358,
     "metadata": {},
     "output_type": "execute_result"
    }
   ],
   "source": [
    "#this dataset has 104 unique styles\n",
    "df_reviews.beer_style.nunique()"
   ]
  },
  {
   "cell_type": "code",
   "execution_count": 359,
   "id": "788a69f9",
   "metadata": {},
   "outputs": [],
   "source": [
    "style_list2 = df_reviews['beer_style'].tolist()"
   ]
  },
  {
   "cell_type": "markdown",
   "id": "4747ffac",
   "metadata": {},
   "source": [
    "Creating a list of styles to be used in unique_list function. Produced list will be used to create style_map2. The cell below remains commented out to prevent the 104 item list from printing. The styles can be seen in the following style_map2 cell."
   ]
  },
  {
   "cell_type": "code",
   "execution_count": 370,
   "id": "c186bf7a",
   "metadata": {},
   "outputs": [],
   "source": [
    "#unique_list(style_list2)"
   ]
  },
  {
   "cell_type": "code",
   "execution_count": 361,
   "id": "6d1e89d5",
   "metadata": {},
   "outputs": [],
   "source": [
    "style_map2 = {\n",
    "    'Hefeweizen': 'Wheat Beer',\n",
    "    'English Strong Ale': 'Strong Ale',\n",
    "    'Foreign / Export Stout': 'Stout',\n",
    "    'German Pilsener': 'Pale Lager',\n",
    "    'American Double / Imperial IPA': 'India Pale Ale',\n",
    "    'Herbed / Spiced Beer': 'Specialty Beer',\n",
    "    'Light Lager': 'Pale Lager',\n",
    "    'Oatmeal Stout': 'Stout',\n",
    "    'American Pale Lager': 'Pale Lager',\n",
    "    'Rauchbier': 'Dark Lager',\n",
    "    'American Pale Ale (APA)': 'Pale Ale',\n",
    "    'American Porter': 'Porter',\n",
    "    'Belgian Strong Dark Ale': 'Strong Ale',\n",
    "    'American IPA': 'India Pale Ale',\n",
    "    'Russian Imperial Stout': 'Stout',\n",
    "    'American Amber / Red Ale': 'Dark Lager',\n",
    "    'American Strong Ale': 'Strong Ale',\n",
    "    'Märzen / Oktoberfest': 'Dark Lager',\n",
    "    'American Adjunct Lager': 'Pale Lager',\n",
    "    'American Blonde Ale': 'Pale Ale',\n",
    "    'Euro Pale Lager': 'Pale Lager',\n",
    "    'English Brown Ale': 'Brown Ale',\n",
    "    'Fruit / Vegetable Beer': 'Specialty Beer',\n",
    "    'Belgian Pale Ale': 'Pale Ale',\n",
    "    'English Bitter': 'Pale Ale',\n",
    "    'English Porter': 'Porter',\n",
    "    'Irish Dry Stout': 'Stout',\n",
    "    'American Barleywine': 'Strong Ale',\n",
    "    'American Double / Imperial Stout': 'Stout',\n",
    "    'Doppelbock': 'Bock',\n",
    "    'American Stout': 'Stout',\n",
    "    'Maibock / Helles Bock': 'Bock',\n",
    "    'Dortmunder / Export Lager': 'Pale Lager',\n",
    "    'Euro Strong Lager': 'Pale Lager',\n",
    "    'Low Alcohol Beer': 'Specialty Beer',\n",
    "    'Extra Special / Strong Bitter (ESB)': 'Pale Ale',\n",
    "    'Bock': 'Bock',\n",
    "    'English India Pale Ale (IPA)': 'India Pale Ale',\n",
    "    'Altbier': 'Brown Ale',\n",
    "    'Kölsch': 'Pale Ale',\n",
    "    'Pumpkin Ale': 'Specialty Beer',\n",
    "    'Rye Beer': 'Specialty Beer',\n",
    "    'American Pale Wheat Ale': 'Wheat Beer',\n",
    "    'Milk / Sweet Stout': 'Stout',\n",
    "    'Schwarzbier': 'Dark Lager',\n",
    "    'Munich Dunkel Lager': 'Dark Lager' ,\n",
    "    'Vienna Lager': 'Dark Lager',\n",
    "    'American Amber / Red Lager': 'Dark Lager',\n",
    "    'Scottish Ale': 'Dark Ale',\n",
    "    'Witbier': 'Wheat Beer',\n",
    "    'American Black Ale': 'Specialty Beer',\n",
    "    'Saison / Farmhouse Ale': 'Pale Ales',\n",
    "    'English Barleywine': 'Specialty Beer',\n",
    "    'California Common / Steam Beer': 'Hybrid Beer',\n",
    "    'Euro Dark Lager': 'Dark Lager',\n",
    "    'Scotch Ale / Wee Heavy': 'Strong Ale',\n",
    "    'English Pale Ale': 'Pale Ale',\n",
    "    'Belgian Strong Pale Ale': 'Strong Ale',\n",
    "    'Tripel': 'Strong Ale',\n",
    "    'Flanders Oud Bruin': 'Wild/Sour Beer',\n",
    "    'American Brown Ale': 'Brown Ale',\n",
    "    'Smoked Beer': 'Specialty Beer',\n",
    "    'Dubbel': 'Dark Ales',\n",
    "    'Dunkelweizen': 'Wheat Beer',\n",
    "    'Keller Bier / Zwickel Bier': 'Pale Lager',\n",
    "    'Winter Warmer': 'Dark Ale',\n",
    "    'Bière de Garde': 'Pale Ale',\n",
    "    'Belgian Dark Ale': 'Brown Ale',\n",
    "    'Irish Red Ale': 'Pale Ale',\n",
    "    'Chile Beer': 'Specialty Beer',\n",
    "    'English Stout': 'Stout',\n",
    "    'Czech Pilsener': 'Pale Lager',\n",
    "    'Belgian IPA': 'India Pale Ale',\n",
    "    'Cream Ale': 'Hybrid Beer',\n",
    "    'Black & Tan': 'Hybrid Beer',\n",
    "    'English Dark Mild Ale': 'Pale Ale',\n",
    "    'American Wild Ale': 'Wild/Sour Beer',\n",
    "    'Weizenbock': 'Bock',\n",
    "    'American Double / Imperial Pilsner': 'Pale Lager',\n",
    "    'Scottish Gruit / Ancient Herbed Ale': 'Specialty Beer',\n",
    "    'Wheatwine': 'Strong Ale',\n",
    "    'American Dark Wheat Ale': 'Wheat Beer',\n",
    "    'American Malt Liquor': 'Pale Lager',\n",
    "    'Munich Helles Lager': 'Pale Lager',\n",
    "    'Kristalweizen': 'Wheat Beer',\n",
    "    'English Pale Mild Ale': 'Pale Ale',\n",
    "    'Baltic Porter': 'Porter',\n",
    "    'Old Ale': 'Strong Ale',\n",
    "    'Quadrupel (Quad)': 'Strong Ale',\n",
    "    'Braggot': 'Hybrid Beer',\n",
    "    'Lambic - Fruit': 'Wild/Sour Beer',\n",
    "    'Lambic - Unblended': 'Wild/Sour Beer',\n",
    "    'Eisbock': 'Bock',\n",
    "    'Flanders Red Ale': 'Wild/Sour Beer',\n",
    "    'Berliner Weissbier': 'Wild/Sour Beer',\n",
    "    'Kvass': 'Specialty Beer',\n",
    "    'Roggenbier': 'Dark Ale',\n",
    "    'Faro': 'Wild/Sour Beer',\n",
    "    'Gueuze': 'Wild/Sour Beer',\n",
    "    'Gose': 'Wild/Sour Beer',\n",
    "    'Japanese Rice Lager': 'Specialty Beer',\n",
    "    'Happoshu': 'Specialty Beer',\n",
    "    'Sahti': 'Specialty Beer',\n",
    "    'Bière de Champagne / Bière Brut': 'Hybrid Beer'\n",
    "}"
   ]
  },
  {
   "cell_type": "markdown",
   "id": "5523934e",
   "metadata": {},
   "source": [
    "> Initial thoughts is that there are are a lot more wild/sour beers in this data set than the first which can really change what will be recommended to a user. "
   ]
  },
  {
   "cell_type": "code",
   "execution_count": 362,
   "id": "0dcae977",
   "metadata": {},
   "outputs": [],
   "source": [
    "# applying style map\n",
    "df_reviews['beer_style'] = df_reviews['beer_style'].map(style_map2)"
   ]
  },
  {
   "cell_type": "code",
   "execution_count": 363,
   "id": "a6f07611",
   "metadata": {},
   "outputs": [
    {
     "data": {
      "text/plain": [
       "0"
      ]
     },
     "execution_count": 363,
     "metadata": {},
     "output_type": "execute_result"
    }
   ],
   "source": [
    "#checking to see if any beers were missed\n",
    "df_reviews['beer_style'].isna().sum()"
   ]
  },
  {
   "cell_type": "code",
   "execution_count": 364,
   "id": "ce8c3142",
   "metadata": {},
   "outputs": [
    {
     "data": {
      "text/plain": [
       "India Pale Ale    223985\n",
       "Strong Ale        210297\n",
       "Stout             172509\n",
       "Pale Ale          159611\n",
       "Pale Lager        127130\n",
       "Dark Lager        105155\n",
       "Specialty Beer    101583\n",
       "Wheat Beer         87513\n",
       "Porter             69027\n",
       "Brown Ale          55622\n",
       "Bock               53898\n",
       "Wild/Sour Beer     49963\n",
       "Pale Ales          30621\n",
       "Dark Ale           28913\n",
       "Dark Ales          19410\n",
       "Hybrid Beer        12778\n",
       "Name: beer_style, dtype: int64"
      ]
     },
     "execution_count": 364,
     "metadata": {},
     "output_type": "execute_result"
    }
   ],
   "source": [
    "df_reviews['beer_style'].value_counts()"
   ]
  },
  {
   "cell_type": "code",
   "execution_count": 365,
   "id": "4dcf865c",
   "metadata": {},
   "outputs": [
    {
     "data": {
      "text/plain": [
       "747"
      ]
     },
     "execution_count": 365,
     "metadata": {},
     "output_type": "execute_result"
    }
   ],
   "source": [
    "#checking for duplicates\n",
    "df_reviews.duplicated().sum()"
   ]
  },
  {
   "cell_type": "code",
   "execution_count": 366,
   "id": "a3546d73",
   "metadata": {},
   "outputs": [],
   "source": [
    "#dropping duplicates\n",
    "df_reviews.drop_duplicates(inplace=True)"
   ]
  },
  {
   "cell_type": "code",
   "execution_count": 367,
   "id": "040d6fcd",
   "metadata": {},
   "outputs": [
    {
     "data": {
      "text/plain": [
       "0"
      ]
     },
     "execution_count": 367,
     "metadata": {},
     "output_type": "execute_result"
    }
   ],
   "source": [
    "#checking for duplicates\n",
    "df_reviews.duplicated().sum()"
   ]
  },
  {
   "cell_type": "code",
   "execution_count": 384,
   "id": "a0d86fc6",
   "metadata": {},
   "outputs": [
    {
     "data": {
      "image/png": "[encoded data removed]",
      "text/plain": [
       "<Figure size 800x500 with 1 Axes>"
      ]
     },
     "metadata": {},
     "output_type": "display_data"
    }
   ],
   "source": [
    "plt.figure(figsize=(8,5))\n",
    "ax = sns.histplot(df_reviews['beer_style'], color = 'tab:blue', edgecolor='black')\n",
    "ax.set_xticklabels(ax.get_xticklabels(),rotation = 30, ha='right');"
   ]
  },
  {
   "cell_type": "markdown",
   "id": "3b2564e6",
   "metadata": {},
   "source": [
    "### Inspecting Review Counts Per Beer"
   ]
  },
  {
   "cell_type": "code",
   "execution_count": 323,
   "id": "4b99fd1a",
   "metadata": {},
   "outputs": [],
   "source": [
    "# simplifying name of column by removing extra 'beer'\n",
    "df_reviews.rename(columns={\"beer_beerid\": \"beer_id\"}, inplace=True)"
   ]
  },
  {
   "cell_type": "code",
   "execution_count": 324,
   "id": "f9a83fe6",
   "metadata": {},
   "outputs": [
    {
     "data": {
      "text/plain": [
       "2093     3281\n",
       "412      3110\n",
       "1904     2992\n",
       "1093     2722\n",
       "4083     2700\n",
       "         ... \n",
       "39352       1\n",
       "25735       1\n",
       "22659       1\n",
       "61437       1\n",
       "47986       1\n",
       "Name: beer_id, Length: 48877, dtype: int64"
      ]
     },
     "execution_count": 324,
     "metadata": {},
     "output_type": "execute_result"
    }
   ],
   "source": [
    "#dataset has over 48,000 unique beers\n",
    "df_reviews.beer_id.value_counts()"
   ]
  },
  {
   "cell_type": "code",
   "execution_count": 325,
   "id": "5460c393",
   "metadata": {},
   "outputs": [],
   "source": [
    "beer_lessthan5 = df_reviews.groupby('beer_id')['review_overall'].count() < 5"
   ]
  },
  {
   "cell_type": "code",
   "execution_count": 326,
   "id": "222c8f07",
   "metadata": {},
   "outputs": [
    {
     "data": {
      "text/plain": [
       "29744"
      ]
     },
     "execution_count": 326,
     "metadata": {},
     "output_type": "execute_result"
    }
   ],
   "source": [
    "beer_lessthan5.sum()"
   ]
  },
  {
   "cell_type": "code",
   "execution_count": 327,
   "id": "444e1ac6",
   "metadata": {},
   "outputs": [],
   "source": [
    "beer_1review = df_reviews.groupby('beer_id')['review_overall'].count() == 1"
   ]
  },
  {
   "cell_type": "code",
   "execution_count": 328,
   "id": "d17fac02",
   "metadata": {},
   "outputs": [
    {
     "data": {
      "text/plain": [
       "15602"
      ]
     },
     "execution_count": 328,
     "metadata": {},
     "output_type": "execute_result"
    }
   ],
   "source": [
    "beer_1review.sum()"
   ]
  },
  {
   "cell_type": "markdown",
   "id": "c8f426f2",
   "metadata": {},
   "source": [
    "> 60% of the beers have less than 5 reviews and 32% of the beers have only 1 review. Upon seeing this I decided to leave all beers to preserve the data. As this dataset is being utilized for collaborative filtering, limiting based on number of reviews by reviewer might be better approach. The point of the recommender is to also suggest new and different beers to people so I will be keeping them in set for now."
   ]
  },
  {
   "cell_type": "markdown",
   "id": "d61e6302",
   "metadata": {},
   "source": [
    "### Cleaning Reviewer Column\n",
    "Next, I dropped any reviewers that have left only 1 review and then assigned an ID number as a 'user_id' for any remaining reviewers. "
   ]
  },
  {
   "cell_type": "code",
   "execution_count": 273,
   "id": "6ce589e1",
   "metadata": {},
   "outputs": [
    {
     "data": {
      "text/plain": [
       "32767"
      ]
     },
     "execution_count": 273,
     "metadata": {},
     "output_type": "execute_result"
    }
   ],
   "source": [
    "# checking to see how many reviewers remain\n",
    "df_reviews['review_profilename'].nunique()"
   ]
  },
  {
   "cell_type": "code",
   "execution_count": 283,
   "id": "6f3bbc84",
   "metadata": {},
   "outputs": [
    {
     "data": {
      "text/plain": [
       "northyorksammy    5312\n",
       "mikesgroove       4257\n",
       "BuckeyeNation     4240\n",
       "Thorpe429         3244\n",
       "brentk56          3165\n",
       "                  ... \n",
       "tbailey32            1\n",
       "OSURoss              1\n",
       "JTM65                1\n",
       "Jagermeisterr        1\n",
       "Deek88               1\n",
       "Name: review_profilename, Length: 32767, dtype: int64"
      ]
     },
     "execution_count": 283,
     "metadata": {},
     "output_type": "execute_result"
    }
   ],
   "source": [
    "# some reviewers have thousands of reviews while others have 1\n",
    "df_reviews['review_profilename'].value_counts()"
   ]
  },
  {
   "cell_type": "code",
   "execution_count": 296,
   "id": "236882a6",
   "metadata": {},
   "outputs": [],
   "source": [
    "greater_than4 = df_reviews.groupby('review_profilename').count() > 4"
   ]
  },
  {
   "cell_type": "code",
   "execution_count": 297,
   "id": "66327eae",
   "metadata": {},
   "outputs": [
    {
     "data": {
      "text/plain": [
       "14550"
      ]
     },
     "execution_count": 297,
     "metadata": {},
     "output_type": "execute_result"
    }
   ],
   "source": [
    "len(greater_than4)"
   ]
  },
  {
   "cell_type": "code",
   "execution_count": 332,
   "id": "1c7098af",
   "metadata": {},
   "outputs": [],
   "source": [
    "# filtering to keep only those with at least 5 reviews\n",
    "df_reviews = df_reviews[df_reviews['review_profilename'].map(df_reviews['review_profilename'].value_counts()) > 4]"
   ]
  },
  {
   "cell_type": "code",
   "execution_count": 333,
   "id": "3863f0c3",
   "metadata": {},
   "outputs": [
    {
     "data": {
      "text/plain": [
       "northyorksammy     5312\n",
       "mikesgroove        4257\n",
       "BuckeyeNation      4240\n",
       "Thorpe429          3244\n",
       "brentk56           3165\n",
       "                   ... \n",
       "TheCommonwealth       5\n",
       "eclipsehts            5\n",
       "NotBlonde             5\n",
       "pmcgill10             5\n",
       "jman42                5\n",
       "Name: review_profilename, Length: 14550, dtype: int64"
      ]
     },
     "execution_count": 333,
     "metadata": {},
     "output_type": "execute_result"
    }
   ],
   "source": [
    "# checking \n",
    "df_reviews['review_profilename'].value_counts()"
   ]
  },
  {
   "cell_type": "code",
   "execution_count": 334,
   "id": "96e26468",
   "metadata": {},
   "outputs": [
    {
     "data": {
      "text/plain": [
       "(1475492, 13)"
      ]
     },
     "execution_count": 334,
     "metadata": {},
     "output_type": "execute_result"
    }
   ],
   "source": [
    "df_reviews.shape"
   ]
  },
  {
   "cell_type": "code",
   "execution_count": 335,
   "id": "abe92614",
   "metadata": {},
   "outputs": [
    {
     "data": {
      "text/html": [
       "<div>\n",
       "<style scoped>\n",
       "    .dataframe tbody tr th:only-of-type {\n",
       "        vertical-align: middle;\n",
       "    }\n",
       "\n",
       "    .dataframe tbody tr th {\n",
       "        vertical-align: top;\n",
       "    }\n",
       "\n",
       "    .dataframe thead th {\n",
       "        text-align: right;\n",
       "    }\n",
       "</style>\n",
       "<table border=\"1\" class=\"dataframe\">\n",
       "  <thead>\n",
       "    <tr style=\"text-align: right;\">\n",
       "      <th></th>\n",
       "      <th>brewery_id</th>\n",
       "      <th>brewery_name</th>\n",
       "      <th>review_overall</th>\n",
       "      <th>review_aroma</th>\n",
       "      <th>review_appearance</th>\n",
       "      <th>review_profilename</th>\n",
       "      <th>beer_style</th>\n",
       "      <th>review_palate</th>\n",
       "      <th>review_taste</th>\n",
       "      <th>beer_name</th>\n",
       "      <th>beer_abv</th>\n",
       "      <th>beer_id</th>\n",
       "      <th>user_id</th>\n",
       "    </tr>\n",
       "  </thead>\n",
       "  <tbody>\n",
       "    <tr>\n",
       "      <th>0</th>\n",
       "      <td>10325</td>\n",
       "      <td>Vecchio Birraio</td>\n",
       "      <td>1.5</td>\n",
       "      <td>2.0</td>\n",
       "      <td>2.5</td>\n",
       "      <td>stcules</td>\n",
       "      <td>Wheat Beer</td>\n",
       "      <td>1.5</td>\n",
       "      <td>1.5</td>\n",
       "      <td>Sausa Weizen</td>\n",
       "      <td>5.0</td>\n",
       "      <td>47986</td>\n",
       "      <td>29990</td>\n",
       "    </tr>\n",
       "  </tbody>\n",
       "</table>\n",
       "</div>"
      ],
      "text/plain": [
       "   brewery_id     brewery_name  review_overall  review_aroma  \\\n",
       "0       10325  Vecchio Birraio             1.5           2.0   \n",
       "\n",
       "   review_appearance review_profilename  beer_style  review_palate  \\\n",
       "0                2.5            stcules  Wheat Beer            1.5   \n",
       "\n",
       "   review_taste     beer_name  beer_abv  beer_id  user_id  \n",
       "0           1.5  Sausa Weizen       5.0    47986    29990  "
      ]
     },
     "execution_count": 335,
     "metadata": {},
     "output_type": "execute_result"
    }
   ],
   "source": [
    "df_reviews.head(1)"
   ]
  },
  {
   "cell_type": "code",
   "execution_count": 336,
   "id": "6e24dba1",
   "metadata": {},
   "outputs": [],
   "source": [
    "# assigning each reviewer their own ID number as alias\n",
    "df_reviews = df_reviews.assign(user_id=df_reviews.groupby(['review_profilename']).ngroup())"
   ]
  },
  {
   "cell_type": "markdown",
   "id": "85e27790",
   "metadata": {},
   "source": [
    "> [Source](#https://stackoverflow.com/questions/45685254/how-to-efficiently-assign-unique-id-to-individuals-with-multiple-entries-based-o) for code above"
   ]
  },
  {
   "cell_type": "code",
   "execution_count": 337,
   "id": "d215cd24",
   "metadata": {},
   "outputs": [
    {
     "data": {
      "text/html": [
       "<div>\n",
       "<style scoped>\n",
       "    .dataframe tbody tr th:only-of-type {\n",
       "        vertical-align: middle;\n",
       "    }\n",
       "\n",
       "    .dataframe tbody tr th {\n",
       "        vertical-align: top;\n",
       "    }\n",
       "\n",
       "    .dataframe thead th {\n",
       "        text-align: right;\n",
       "    }\n",
       "</style>\n",
       "<table border=\"1\" class=\"dataframe\">\n",
       "  <thead>\n",
       "    <tr style=\"text-align: right;\">\n",
       "      <th></th>\n",
       "      <th>brewery_id</th>\n",
       "      <th>brewery_name</th>\n",
       "      <th>review_overall</th>\n",
       "      <th>review_aroma</th>\n",
       "      <th>review_appearance</th>\n",
       "      <th>review_profilename</th>\n",
       "      <th>beer_style</th>\n",
       "      <th>review_palate</th>\n",
       "      <th>review_taste</th>\n",
       "      <th>beer_name</th>\n",
       "      <th>beer_abv</th>\n",
       "      <th>beer_id</th>\n",
       "      <th>user_id</th>\n",
       "    </tr>\n",
       "  </thead>\n",
       "  <tbody>\n",
       "    <tr>\n",
       "      <th>0</th>\n",
       "      <td>10325</td>\n",
       "      <td>Vecchio Birraio</td>\n",
       "      <td>1.5</td>\n",
       "      <td>2.0</td>\n",
       "      <td>2.5</td>\n",
       "      <td>stcules</td>\n",
       "      <td>Wheat Beer</td>\n",
       "      <td>1.5</td>\n",
       "      <td>1.5</td>\n",
       "      <td>Sausa Weizen</td>\n",
       "      <td>5.0</td>\n",
       "      <td>47986</td>\n",
       "      <td>13329</td>\n",
       "    </tr>\n",
       "    <tr>\n",
       "      <th>1</th>\n",
       "      <td>10325</td>\n",
       "      <td>Vecchio Birraio</td>\n",
       "      <td>3.0</td>\n",
       "      <td>2.5</td>\n",
       "      <td>3.0</td>\n",
       "      <td>stcules</td>\n",
       "      <td>Strong Ale</td>\n",
       "      <td>3.0</td>\n",
       "      <td>3.0</td>\n",
       "      <td>Red Moon</td>\n",
       "      <td>6.2</td>\n",
       "      <td>48213</td>\n",
       "      <td>13329</td>\n",
       "    </tr>\n",
       "    <tr>\n",
       "      <th>2</th>\n",
       "      <td>10325</td>\n",
       "      <td>Vecchio Birraio</td>\n",
       "      <td>3.0</td>\n",
       "      <td>2.5</td>\n",
       "      <td>3.0</td>\n",
       "      <td>stcules</td>\n",
       "      <td>Stout</td>\n",
       "      <td>3.0</td>\n",
       "      <td>3.0</td>\n",
       "      <td>Black Horse Black Beer</td>\n",
       "      <td>6.5</td>\n",
       "      <td>48215</td>\n",
       "      <td>13329</td>\n",
       "    </tr>\n",
       "    <tr>\n",
       "      <th>3</th>\n",
       "      <td>10325</td>\n",
       "      <td>Vecchio Birraio</td>\n",
       "      <td>3.0</td>\n",
       "      <td>3.0</td>\n",
       "      <td>3.5</td>\n",
       "      <td>stcules</td>\n",
       "      <td>Pale Lager</td>\n",
       "      <td>2.5</td>\n",
       "      <td>3.0</td>\n",
       "      <td>Sausa Pils</td>\n",
       "      <td>5.0</td>\n",
       "      <td>47969</td>\n",
       "      <td>13329</td>\n",
       "    </tr>\n",
       "    <tr>\n",
       "      <th>4</th>\n",
       "      <td>1075</td>\n",
       "      <td>Caldera Brewing Company</td>\n",
       "      <td>4.0</td>\n",
       "      <td>4.5</td>\n",
       "      <td>4.0</td>\n",
       "      <td>johnmichaelsen</td>\n",
       "      <td>India Pale Ale</td>\n",
       "      <td>4.0</td>\n",
       "      <td>4.5</td>\n",
       "      <td>Cauldron DIPA</td>\n",
       "      <td>7.7</td>\n",
       "      <td>64883</td>\n",
       "      <td>10108</td>\n",
       "    </tr>\n",
       "  </tbody>\n",
       "</table>\n",
       "</div>"
      ],
      "text/plain": [
       "   brewery_id             brewery_name  review_overall  review_aroma  \\\n",
       "0       10325          Vecchio Birraio             1.5           2.0   \n",
       "1       10325          Vecchio Birraio             3.0           2.5   \n",
       "2       10325          Vecchio Birraio             3.0           2.5   \n",
       "3       10325          Vecchio Birraio             3.0           3.0   \n",
       "4        1075  Caldera Brewing Company             4.0           4.5   \n",
       "\n",
       "   review_appearance review_profilename      beer_style  review_palate  \\\n",
       "0                2.5            stcules      Wheat Beer            1.5   \n",
       "1                3.0            stcules      Strong Ale            3.0   \n",
       "2                3.0            stcules           Stout            3.0   \n",
       "3                3.5            stcules      Pale Lager            2.5   \n",
       "4                4.0     johnmichaelsen  India Pale Ale            4.0   \n",
       "\n",
       "   review_taste               beer_name  beer_abv  beer_id  user_id  \n",
       "0           1.5            Sausa Weizen       5.0    47986    13329  \n",
       "1           3.0                Red Moon       6.2    48213    13329  \n",
       "2           3.0  Black Horse Black Beer       6.5    48215    13329  \n",
       "3           3.0              Sausa Pils       5.0    47969    13329  \n",
       "4           4.5           Cauldron DIPA       7.7    64883    10108  "
      ]
     },
     "execution_count": 337,
     "metadata": {},
     "output_type": "execute_result"
    }
   ],
   "source": [
    "df_reviews.head()"
   ]
  },
  {
   "cell_type": "code",
   "execution_count": 338,
   "id": "2cc7fff7",
   "metadata": {
    "scrolled": true
   },
   "outputs": [
    {
     "data": {
      "text/plain": [
       "11797    5312\n",
       "11251    4257\n",
       "1102     4240\n",
       "5594     3244\n",
       "7186     3165\n",
       "         ... \n",
       "5471        5\n",
       "8591        5\n",
       "4096        5\n",
       "12213       5\n",
       "10013       5\n",
       "Name: user_id, Length: 14550, dtype: int64"
      ]
     },
     "execution_count": 338,
     "metadata": {},
     "output_type": "execute_result"
    }
   ],
   "source": [
    "#some reviewers have thousands of review while several have 1\n",
    "df_reviews['user_id'].value_counts()"
   ]
  },
  {
   "cell_type": "code",
   "execution_count": 339,
   "id": "fd527bfd",
   "metadata": {},
   "outputs": [],
   "source": [
    "# now that each user has an ID we can drop profile name\n",
    "df_reviews.drop(columns='review_profilename', inplace=True)"
   ]
  },
  {
   "cell_type": "code",
   "execution_count": 340,
   "id": "e6920da7",
   "metadata": {},
   "outputs": [
    {
     "data": {
      "text/html": [
       "<div>\n",
       "<style scoped>\n",
       "    .dataframe tbody tr th:only-of-type {\n",
       "        vertical-align: middle;\n",
       "    }\n",
       "\n",
       "    .dataframe tbody tr th {\n",
       "        vertical-align: top;\n",
       "    }\n",
       "\n",
       "    .dataframe thead th {\n",
       "        text-align: right;\n",
       "    }\n",
       "</style>\n",
       "<table border=\"1\" class=\"dataframe\">\n",
       "  <thead>\n",
       "    <tr style=\"text-align: right;\">\n",
       "      <th></th>\n",
       "      <th>brewery_id</th>\n",
       "      <th>brewery_name</th>\n",
       "      <th>review_overall</th>\n",
       "      <th>review_aroma</th>\n",
       "      <th>review_appearance</th>\n",
       "      <th>beer_style</th>\n",
       "      <th>review_palate</th>\n",
       "      <th>review_taste</th>\n",
       "      <th>beer_name</th>\n",
       "      <th>beer_abv</th>\n",
       "      <th>beer_id</th>\n",
       "      <th>user_id</th>\n",
       "    </tr>\n",
       "  </thead>\n",
       "  <tbody>\n",
       "    <tr>\n",
       "      <th>0</th>\n",
       "      <td>10325</td>\n",
       "      <td>Vecchio Birraio</td>\n",
       "      <td>1.5</td>\n",
       "      <td>2.0</td>\n",
       "      <td>2.5</td>\n",
       "      <td>Wheat Beer</td>\n",
       "      <td>1.5</td>\n",
       "      <td>1.5</td>\n",
       "      <td>Sausa Weizen</td>\n",
       "      <td>5.0</td>\n",
       "      <td>47986</td>\n",
       "      <td>13329</td>\n",
       "    </tr>\n",
       "  </tbody>\n",
       "</table>\n",
       "</div>"
      ],
      "text/plain": [
       "   brewery_id     brewery_name  review_overall  review_aroma  \\\n",
       "0       10325  Vecchio Birraio             1.5           2.0   \n",
       "\n",
       "   review_appearance  beer_style  review_palate  review_taste     beer_name  \\\n",
       "0                2.5  Wheat Beer            1.5           1.5  Sausa Weizen   \n",
       "\n",
       "   beer_abv  beer_id  user_id  \n",
       "0       5.0    47986    13329  "
      ]
     },
     "execution_count": 340,
     "metadata": {},
     "output_type": "execute_result"
    }
   ],
   "source": [
    "# checking data frame\n",
    "df_reviews.head(1)"
   ]
  },
  {
   "cell_type": "markdown",
   "id": "ed7dc67e",
   "metadata": {},
   "source": [
    "***"
   ]
  },
  {
   "cell_type": "markdown",
   "id": "7cd9fbfe",
   "metadata": {},
   "source": [
    "## Sending Cleaned Data to CSV"
   ]
  },
  {
   "cell_type": "markdown",
   "id": "7e070c9e",
   "metadata": {},
   "source": [
    "For use in other notebooks the cleaned dataframes are saved to separate CSV files. Due to file size these files are saved and accessed locally and were not pushed to github."
   ]
  },
  {
   "cell_type": "markdown",
   "id": "5f52cdeb",
   "metadata": {},
   "source": [
    "#### Cleaned Reviews (collab)"
   ]
  },
  {
   "cell_type": "code",
   "execution_count": 386,
   "id": "a8f41f6f",
   "metadata": {},
   "outputs": [],
   "source": [
    "df_reviews.to_csv('../BeerData/reviews_cleaned.csv')"
   ]
  },
  {
   "cell_type": "markdown",
   "id": "9c195134",
   "metadata": {},
   "source": [
    "#### Cleaned Tasting (content)"
   ]
  },
  {
   "cell_type": "code",
   "execution_count": 387,
   "id": "6cf2151e",
   "metadata": {},
   "outputs": [],
   "source": [
    "df_tasting.to_csv('../BeerData/tasting_cleaned.csv')"
   ]
  },
  {
   "cell_type": "code",
   "execution_count": null,
   "id": "b991b3e9",
   "metadata": {},
   "outputs": [],
   "source": []
  }
 ],
 "metadata": {
  "kernelspec": {
   "display_name": "Python 3 (ipykernel)",
   "language": "python",
   "name": "python3"
  },
  "language_info": {
   "codemirror_mode": {
    "name": "ipython",
    "version": 3
   },
   "file_extension": ".py",
   "mimetype": "text/x-python",
   "name": "python",
   "nbconvert_exporter": "python",
   "pygments_lexer": "ipython3",
   "version": "3.10.6"
  }
 },
 "nbformat": 4,
 "nbformat_minor": 5
}
