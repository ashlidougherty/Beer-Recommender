{
 "cells": [
  {
   "cell_type": "markdown",
   "id": "c0fd42d6",
   "metadata": {},
   "source": [
    "# Beer-Recommendation System: Data Prep\n",
    "Author: Ashli Dougherty "
   ]
  },
  {
   "cell_type": "markdown",
   "id": "37432c32",
   "metadata": {},
   "source": [
    "# Overview"
   ]
  },
  {
   "cell_type": "markdown",
   "id": "e2d9bf4f",
   "metadata": {},
   "source": [
    "***"
   ]
  },
  {
   "cell_type": "markdown",
   "id": "370e8f21",
   "metadata": {},
   "source": [
    "# Business Understanding "
   ]
  },
  {
   "cell_type": "markdown",
   "id": "00ed6bbc",
   "metadata": {},
   "source": [
    "***"
   ]
  },
  {
   "cell_type": "markdown",
   "id": "9d2195c4",
   "metadata": {},
   "source": [
    "# Data Understanding "
   ]
  },
  {
   "cell_type": "markdown",
   "id": "9c889acb",
   "metadata": {},
   "source": [
    ">There are two datasets being utilized for this project. \n",
    "\n",
    "### Tasting Profiles\n",
    "The [first dataset](https://www.kaggle.com/datasets/stephenpolozoff/top-beer-information?select=beer_data_set.csv) contains data scraped from the website [BeerAdvocate.com](https://www.beeradvocate.com/). It is a CSV file that contains 5,558 beers in total across 112 styles. Other data represented in the table includes: the brewery the beer was produced, a description of the beer, and the overall rating of the beer. As there is no unique user review data, this dataset would be best for a content based recommendation system. \n",
    "\n",
    "### Beer Reviews \n",
    "The [second dataset](https://www.kaggle.com/datasets/rdoume/beerreviews) is also sourced from [BeerAdvocate.com](https://www.beeradvocate.com/). It is also a CSV file that contains approximately 1.6 million reviews of the reviews on the website. There are a total of 33,388 unique reviewers and 56,857 unique beers that have been reviewed. There are no descriptions of the beers, just names, brewery, style, and ratings on a scale of 1 - 5. Because this data set has both unique users and beer IDs it lends itself to be a collaborative filtering system.   \n",
    "\n",
    "Due to the large size of these datasets I downloaded them locally and saved to an external repository outside of github."
   ]
  },
  {
   "cell_type": "markdown",
   "id": "0af72f39",
   "metadata": {},
   "source": [
    "***"
   ]
  },
  {
   "cell_type": "markdown",
   "id": "aed6d38a",
   "metadata": {},
   "source": [
    "# Data Preparation "
   ]
  },
  {
   "cell_type": "markdown",
   "id": "7a350dbd",
   "metadata": {},
   "source": [
    "## Imports\n",
    "\n",
    "Initial cleaning consited of using pandas methods and functions. Visualizations for EDA were made with matplotlib library. "
   ]
  },
  {
   "cell_type": "code",
   "execution_count": 99,
   "id": "c8a6dfc8",
   "metadata": {},
   "outputs": [],
   "source": [
    "import pandas as pd\n",
    "import numpy as np\n",
    "import matplotlib.pyplot as plt\n",
    "%matplotlib inline\n",
    "import string"
   ]
  },
  {
   "cell_type": "markdown",
   "id": "77fe6933",
   "metadata": {},
   "source": [
    "## Load Data"
   ]
  },
  {
   "cell_type": "markdown",
   "id": "bf54b846",
   "metadata": {},
   "source": [
    "### Tasting Profiles -- content based recs"
   ]
  },
  {
   "cell_type": "code",
   "execution_count": 100,
   "id": "5dab9d91",
   "metadata": {},
   "outputs": [
    {
     "name": "stdout",
     "output_type": "stream",
     "text": [
      "[Errno 2] No such file or directory: 'BeerData'\n",
      "/Users/ashlidougherty/Documents/Flatiron/BeerData\n"
     ]
    }
   ],
   "source": [
    "cd BeerData"
   ]
  },
  {
   "cell_type": "code",
   "execution_count": 101,
   "id": "fcc24203",
   "metadata": {},
   "outputs": [
    {
     "name": "stdout",
     "output_type": "stream",
     "text": [
      "Beer Descriptors Simplified.xlsx  tasting_profiles.csv\r\n",
      "beer_reviews.csv\r\n"
     ]
    }
   ],
   "source": [
    "ls"
   ]
  },
  {
   "cell_type": "code",
   "execution_count": 102,
   "id": "cbf590d7",
   "metadata": {},
   "outputs": [],
   "source": [
    "df_tasting = pd.read_csv('tasting_profiles.csv')"
   ]
  },
  {
   "cell_type": "code",
   "execution_count": 103,
   "id": "9f2e7c6d",
   "metadata": {},
   "outputs": [
    {
     "data": {
      "text/html": [
       "<div>\n",
       "<style scoped>\n",
       "    .dataframe tbody tr th:only-of-type {\n",
       "        vertical-align: middle;\n",
       "    }\n",
       "\n",
       "    .dataframe tbody tr th {\n",
       "        vertical-align: top;\n",
       "    }\n",
       "\n",
       "    .dataframe thead th {\n",
       "        text-align: right;\n",
       "    }\n",
       "</style>\n",
       "<table border=\"1\" class=\"dataframe\">\n",
       "  <thead>\n",
       "    <tr style=\"text-align: right;\">\n",
       "      <th></th>\n",
       "      <th>Name</th>\n",
       "      <th>key</th>\n",
       "      <th>Style</th>\n",
       "      <th>Style Key</th>\n",
       "      <th>Brewery</th>\n",
       "      <th>Description</th>\n",
       "      <th>ABV</th>\n",
       "      <th>Ave Rating</th>\n",
       "      <th>Min IBU</th>\n",
       "      <th>Max IBU</th>\n",
       "      <th>...</th>\n",
       "      <th>Body</th>\n",
       "      <th>Alcohol</th>\n",
       "      <th>Bitter</th>\n",
       "      <th>Sweet</th>\n",
       "      <th>Sour</th>\n",
       "      <th>Salty</th>\n",
       "      <th>Fruits</th>\n",
       "      <th>Hoppy</th>\n",
       "      <th>Spices</th>\n",
       "      <th>Malty</th>\n",
       "    </tr>\n",
       "  </thead>\n",
       "  <tbody>\n",
       "    <tr>\n",
       "      <th>0</th>\n",
       "      <td>Amber</td>\n",
       "      <td>251</td>\n",
       "      <td>Altbier</td>\n",
       "      <td>8</td>\n",
       "      <td>Alaskan Brewing Co.</td>\n",
       "      <td>Notes:Richly malty and long on the palate, wit...</td>\n",
       "      <td>5.3</td>\n",
       "      <td>3.65</td>\n",
       "      <td>25</td>\n",
       "      <td>50</td>\n",
       "      <td>...</td>\n",
       "      <td>32</td>\n",
       "      <td>9</td>\n",
       "      <td>47</td>\n",
       "      <td>74</td>\n",
       "      <td>33</td>\n",
       "      <td>0</td>\n",
       "      <td>33</td>\n",
       "      <td>57</td>\n",
       "      <td>8</td>\n",
       "      <td>111</td>\n",
       "    </tr>\n",
       "    <tr>\n",
       "      <th>1</th>\n",
       "      <td>Double Bag</td>\n",
       "      <td>252</td>\n",
       "      <td>Altbier</td>\n",
       "      <td>8</td>\n",
       "      <td>Long Trail Brewing Co.</td>\n",
       "      <td>Notes:This malty, full-bodied double alt is al...</td>\n",
       "      <td>7.2</td>\n",
       "      <td>3.90</td>\n",
       "      <td>25</td>\n",
       "      <td>50</td>\n",
       "      <td>...</td>\n",
       "      <td>57</td>\n",
       "      <td>18</td>\n",
       "      <td>33</td>\n",
       "      <td>55</td>\n",
       "      <td>16</td>\n",
       "      <td>0</td>\n",
       "      <td>24</td>\n",
       "      <td>35</td>\n",
       "      <td>12</td>\n",
       "      <td>84</td>\n",
       "    </tr>\n",
       "    <tr>\n",
       "      <th>2</th>\n",
       "      <td>Long Trail Ale</td>\n",
       "      <td>253</td>\n",
       "      <td>Altbier</td>\n",
       "      <td>8</td>\n",
       "      <td>Long Trail Brewing Co.</td>\n",
       "      <td>Notes:Long Trail Ale is a full-bodied amber al...</td>\n",
       "      <td>5.0</td>\n",
       "      <td>3.58</td>\n",
       "      <td>25</td>\n",
       "      <td>50</td>\n",
       "      <td>...</td>\n",
       "      <td>37</td>\n",
       "      <td>6</td>\n",
       "      <td>42</td>\n",
       "      <td>43</td>\n",
       "      <td>11</td>\n",
       "      <td>0</td>\n",
       "      <td>10</td>\n",
       "      <td>54</td>\n",
       "      <td>4</td>\n",
       "      <td>62</td>\n",
       "    </tr>\n",
       "    <tr>\n",
       "      <th>3</th>\n",
       "      <td>Doppelsticke</td>\n",
       "      <td>254</td>\n",
       "      <td>Altbier</td>\n",
       "      <td>8</td>\n",
       "      <td>Uerige Obergärige Hausbrauerei</td>\n",
       "      <td>Notes:</td>\n",
       "      <td>8.5</td>\n",
       "      <td>4.15</td>\n",
       "      <td>25</td>\n",
       "      <td>50</td>\n",
       "      <td>...</td>\n",
       "      <td>55</td>\n",
       "      <td>31</td>\n",
       "      <td>47</td>\n",
       "      <td>101</td>\n",
       "      <td>18</td>\n",
       "      <td>1</td>\n",
       "      <td>49</td>\n",
       "      <td>40</td>\n",
       "      <td>16</td>\n",
       "      <td>119</td>\n",
       "    </tr>\n",
       "    <tr>\n",
       "      <th>4</th>\n",
       "      <td>Scurry</td>\n",
       "      <td>255</td>\n",
       "      <td>Altbier</td>\n",
       "      <td>8</td>\n",
       "      <td>Off Color Brewing</td>\n",
       "      <td>Notes:Just cause it's dark and German doesn't ...</td>\n",
       "      <td>5.3</td>\n",
       "      <td>3.67</td>\n",
       "      <td>25</td>\n",
       "      <td>50</td>\n",
       "      <td>...</td>\n",
       "      <td>69</td>\n",
       "      <td>10</td>\n",
       "      <td>63</td>\n",
       "      <td>120</td>\n",
       "      <td>14</td>\n",
       "      <td>0</td>\n",
       "      <td>19</td>\n",
       "      <td>36</td>\n",
       "      <td>15</td>\n",
       "      <td>218</td>\n",
       "    </tr>\n",
       "  </tbody>\n",
       "</table>\n",
       "<p>5 rows × 21 columns</p>\n",
       "</div>"
      ],
      "text/plain": [
       "             Name  key    Style  Style Key                         Brewery  \\\n",
       "0           Amber  251  Altbier          8             Alaskan Brewing Co.   \n",
       "1      Double Bag  252  Altbier          8          Long Trail Brewing Co.   \n",
       "2  Long Trail Ale  253  Altbier          8          Long Trail Brewing Co.   \n",
       "3    Doppelsticke  254  Altbier          8  Uerige Obergärige Hausbrauerei   \n",
       "4          Scurry  255  Altbier          8               Off Color Brewing   \n",
       "\n",
       "                                         Description  ABV  Ave Rating  \\\n",
       "0  Notes:Richly malty and long on the palate, wit...  5.3        3.65   \n",
       "1  Notes:This malty, full-bodied double alt is al...  7.2        3.90   \n",
       "2  Notes:Long Trail Ale is a full-bodied amber al...  5.0        3.58   \n",
       "3                                             Notes:  8.5        4.15   \n",
       "4  Notes:Just cause it's dark and German doesn't ...  5.3        3.67   \n",
       "\n",
       "   Min IBU  Max IBU  ...  Body  Alcohol  Bitter  Sweet  Sour  Salty  Fruits  \\\n",
       "0       25       50  ...    32        9      47     74    33      0      33   \n",
       "1       25       50  ...    57       18      33     55    16      0      24   \n",
       "2       25       50  ...    37        6      42     43    11      0      10   \n",
       "3       25       50  ...    55       31      47    101    18      1      49   \n",
       "4       25       50  ...    69       10      63    120    14      0      19   \n",
       "\n",
       "   Hoppy  Spices  Malty  \n",
       "0     57       8    111  \n",
       "1     35      12     84  \n",
       "2     54       4     62  \n",
       "3     40      16    119  \n",
       "4     36      15    218  \n",
       "\n",
       "[5 rows x 21 columns]"
      ]
     },
     "execution_count": 103,
     "metadata": {},
     "output_type": "execute_result"
    }
   ],
   "source": [
    "df_tasting.head()"
   ]
  },
  {
   "cell_type": "markdown",
   "id": "4a65652c",
   "metadata": {},
   "source": [
    "> From a first look at the table it appears that not all the beers actually have a description. Some entries are just 'Notes:' and therefore will come up as null values even though they don't contain any useable information. Planning on stripping this and all punctuation from all descriptions."
   ]
  },
  {
   "cell_type": "code",
   "execution_count": 104,
   "id": "b0473512",
   "metadata": {},
   "outputs": [
    {
     "data": {
      "text/plain": [
       "(5558, 21)"
      ]
     },
     "execution_count": 104,
     "metadata": {},
     "output_type": "execute_result"
    }
   ],
   "source": [
    "# check shape\n",
    "df_tasting.shape"
   ]
  },
  {
   "cell_type": "code",
   "execution_count": 105,
   "id": "3868231e",
   "metadata": {},
   "outputs": [
    {
     "name": "stdout",
     "output_type": "stream",
     "text": [
      "<class 'pandas.core.frame.DataFrame'>\n",
      "RangeIndex: 5558 entries, 0 to 5557\n",
      "Data columns (total 21 columns):\n",
      " #   Column       Non-Null Count  Dtype  \n",
      "---  ------       --------------  -----  \n",
      " 0   Name         5556 non-null   object \n",
      " 1   key          5558 non-null   int64  \n",
      " 2   Style        5558 non-null   object \n",
      " 3   Style Key    5558 non-null   int64  \n",
      " 4   Brewery      5558 non-null   object \n",
      " 5   Description  5558 non-null   object \n",
      " 6   ABV          5558 non-null   float64\n",
      " 7   Ave Rating   5558 non-null   float64\n",
      " 8   Min IBU      5558 non-null   int64  \n",
      " 9   Max IBU      5558 non-null   int64  \n",
      " 10  Astringency  5558 non-null   int64  \n",
      " 11  Body         5558 non-null   int64  \n",
      " 12  Alcohol      5558 non-null   int64  \n",
      " 13  Bitter       5558 non-null   int64  \n",
      " 14  Sweet        5558 non-null   int64  \n",
      " 15  Sour         5558 non-null   int64  \n",
      " 16  Salty        5558 non-null   int64  \n",
      " 17  Fruits       5558 non-null   int64  \n",
      " 18  Hoppy        5558 non-null   int64  \n",
      " 19  Spices       5558 non-null   int64  \n",
      " 20  Malty        5558 non-null   int64  \n",
      "dtypes: float64(2), int64(15), object(4)\n",
      "memory usage: 912.0+ KB\n"
     ]
    }
   ],
   "source": [
    "# checking types\n",
    "df_tasting.info()\n",
    "# all types look as expected"
   ]
  },
  {
   "cell_type": "code",
   "execution_count": 106,
   "id": "44d24dd0",
   "metadata": {},
   "outputs": [
    {
     "data": {
      "text/plain": [
       "Name           2\n",
       "key            0\n",
       "Style          0\n",
       "Style Key      0\n",
       "Brewery        0\n",
       "Description    0\n",
       "ABV            0\n",
       "Ave Rating     0\n",
       "Min IBU        0\n",
       "Max IBU        0\n",
       "Astringency    0\n",
       "Body           0\n",
       "Alcohol        0\n",
       "Bitter         0\n",
       "Sweet          0\n",
       "Sour           0\n",
       "Salty          0\n",
       "Fruits         0\n",
       "Hoppy          0\n",
       "Spices         0\n",
       "Malty          0\n",
       "dtype: int64"
      ]
     },
     "execution_count": 106,
     "metadata": {},
     "output_type": "execute_result"
    }
   ],
   "source": [
    "df_tasting.isna().sum()"
   ]
  },
  {
   "cell_type": "code",
   "execution_count": 107,
   "id": "d69579f2",
   "metadata": {},
   "outputs": [
    {
     "data": {
      "text/plain": [
       "0"
      ]
     },
     "execution_count": 107,
     "metadata": {},
     "output_type": "execute_result"
    }
   ],
   "source": [
    "df_tasting.duplicated().sum()"
   ]
  },
  {
   "cell_type": "code",
   "execution_count": 108,
   "id": "68070ab1",
   "metadata": {},
   "outputs": [],
   "source": [
    "# There are no duplicates and only 2 missing values. \n",
    "# These missing values will be dropped as I need the identity of the beer in order to recommend it. "
   ]
  },
  {
   "cell_type": "code",
   "execution_count": 109,
   "id": "263e4955",
   "metadata": {},
   "outputs": [],
   "source": [
    "df_tasting.dropna(inplace=True)"
   ]
  },
  {
   "cell_type": "code",
   "execution_count": 110,
   "id": "c3eb32ae",
   "metadata": {},
   "outputs": [
    {
     "data": {
      "text/plain": [
       "(5556, 21)"
      ]
     },
     "execution_count": 110,
     "metadata": {},
     "output_type": "execute_result"
    }
   ],
   "source": [
    "df_tasting.shape"
   ]
  },
  {
   "cell_type": "markdown",
   "id": "fa570c4b",
   "metadata": {},
   "source": [
    "#### Cleaning text for description "
   ]
  },
  {
   "cell_type": "code",
   "execution_count": 111,
   "id": "0e4ef9a4",
   "metadata": {},
   "outputs": [
    {
     "data": {
      "text/plain": [
       "0       Notes:Richly malty and long on the palate, wit...\n",
       "1       Notes:This malty, full-bodied double alt is al...\n",
       "2       Notes:Long Trail Ale is a full-bodied amber al...\n",
       "3                                                  Notes:\n",
       "4       Notes:Just cause it's dark and German doesn't ...\n",
       "                              ...                        \n",
       "5553                                               Notes:\n",
       "5554    Notes:This is the forty-fifth annual Our Speci...\n",
       "5555                                               Notes:\n",
       "5556    Notes:Chanukah Beer pours a rich crystal clear...\n",
       "5557    Notes:The essence of Christmas is captured in ...\n",
       "Name: Description, Length: 5556, dtype: object"
      ]
     },
     "execution_count": 111,
     "metadata": {},
     "output_type": "execute_result"
    }
   ],
   "source": [
    "df_tasting.Description"
   ]
  },
  {
   "cell_type": "code",
   "execution_count": 112,
   "id": "4d26a018",
   "metadata": {},
   "outputs": [],
   "source": [
    "df_tasting.Description = df_tasting.Description.str.strip('Notes:')"
   ]
  },
  {
   "cell_type": "code",
   "execution_count": 119,
   "id": "03ebdb52",
   "metadata": {},
   "outputs": [],
   "source": [
    "import re\n",
    "#stripping description of punctuation "
   ]
  },
  {
   "cell_type": "code",
   "execution_count": 121,
   "id": "2b6bdc1d",
   "metadata": {},
   "outputs": [],
   "source": [
    "df_tasting['Description'] = df_tasting['Description'].replace(r'[^\\w\\s]', \"\", regex=True)"
   ]
  },
  {
   "cell_type": "markdown",
   "id": "b325e93b",
   "metadata": {},
   "source": []
  },
  {
   "cell_type": "markdown",
   "id": "a19740e8",
   "metadata": {},
   "source": [
    "#### Binning Styles"
   ]
  },
  {
   "cell_type": "code",
   "execution_count": 124,
   "id": "1ca591bb",
   "metadata": {},
   "outputs": [
    {
     "data": {
      "text/plain": [
       "112"
      ]
     },
     "execution_count": 124,
     "metadata": {},
     "output_type": "execute_result"
    }
   ],
   "source": [
    "df_tasting['Style Key'].nunique()"
   ]
  },
  {
   "cell_type": "code",
   "execution_count": 116,
   "id": "68cbf8a2",
   "metadata": {},
   "outputs": [],
   "source": [
    "def unique_list(list1):\n",
    "    '''\n",
    "    This function takes a list and creates a new list of unique values. \n",
    "    '''\n",
    "    unique_list = []\n",
    "    for x in list1: \n",
    "        if x not in unique_list: \n",
    "            unique_list.append(x)\n",
    "    for x in unique_list: \n",
    "        print(x)"
   ]
  },
  {
   "cell_type": "code",
   "execution_count": 117,
   "id": "6615c2a9",
   "metadata": {},
   "outputs": [],
   "source": [
    "style_list = df_tasting['Style'].tolist()"
   ]
  },
  {
   "cell_type": "code",
   "execution_count": 118,
   "id": "687d8d9e",
   "metadata": {
    "collapsed": true
   },
   "outputs": [
    {
     "name": "stdout",
     "output_type": "stream",
     "text": [
      "Altbier\n",
      "Barleywine - American\n",
      "Barleywine - English\n",
      "Bitter - English Extra Special / Strong Bitter (ESB)\n",
      "Bitter - English\n",
      "Bière de Champagne / Bière Brut\n",
      "Blonde Ale - American\n",
      "Blonde Ale - Belgian\n",
      "Bock - Doppelbock\n",
      "Bock - Eisbock\n",
      "Bock - Maibock\n",
      "Bock - Traditional\n",
      "Bock - Weizenbock\n",
      "Braggot\n",
      "Brett Beer\n",
      "Brown Ale - American\n",
      "Brown Ale - Belgian Dark\n",
      "Brown Ale - English\n",
      "California Common / Steam Beer\n",
      "Chile Beer\n",
      "Cream Ale\n",
      "Dubbel\n",
      "Farmhouse Ale - Bière de Garde\n",
      "Farmhouse Ale - Sahti\n",
      "Farmhouse Ale - Saison\n",
      "Fruit and Field Beer\n",
      "Gruit / Ancient Herbed Ale\n",
      "Happoshu\n",
      "Herb and Spice Beer\n",
      "IPA - American\n",
      "IPA - Belgian\n",
      "IPA - Black / Cascadian Dark Ale\n",
      "IPA - Brut\n",
      "IPA - English\n",
      "IPA - Imperial\n",
      "IPA - New England\n",
      "Kvass\n",
      "Kölsch\n",
      "Lager - Adjunct\n",
      "Lager - American Amber / Red\n",
      "Lager - American\n",
      "Lager - European / Dortmunder Export\n",
      "Lager - European Dark\n",
      "Lager - European Pale\n",
      "Lager - European Strong\n",
      "Lager - Helles\n",
      "Lager - India Pale Lager (IPL)\n",
      "Lager - Japanese Rice\n",
      "Lager - Kellerbier / Zwickelbier\n",
      "Lager - Light\n",
      "Lager - Malt Liquor\n",
      "Lager - Munich Dunkel\n",
      "Lager - Märzen / Oktoberfest\n",
      "Lager - Rauchbier\n",
      "Lager - Schwarzbier\n",
      "Lager - Vienna\n",
      "Lambic - Faro\n",
      "Lambic - Fruit\n",
      "Lambic - Gueuze\n",
      "Lambic - Traditional\n",
      "Low Alcohol Beer\n",
      "Mild Ale - English Dark\n",
      "Mild Ale - English Pale\n",
      "Old Ale\n",
      "Pale Ale - American\n",
      "Pale Ale - Belgian\n",
      "Pale Ale - English\n",
      "Pilsner - Bohemian / Czech\n",
      "Pilsner - German\n",
      "Pilsner - Imperial\n",
      "Porter - American\n",
      "Porter - Baltic\n",
      "Porter - English\n",
      "Porter - Imperial\n",
      "Porter - Robust\n",
      "Porter - Smoked\n",
      "Pumpkin Beer\n",
      "Quadrupel (Quad)\n",
      "Red Ale - American Amber / Red\n",
      "Red Ale - Imperial\n",
      "Red Ale - Irish\n",
      "Rye Beer - Roggenbier\n",
      "Rye Beer\n",
      "Scotch Ale / Wee Heavy\n",
      "Scottish Ale\n",
      "Smoked Beer\n",
      "Sour - Berliner Weisse\n",
      "Sour - Flanders Oud Bruin\n",
      "Sour - Flanders Red Ale\n",
      "Sour - Gose\n",
      "Stout - American Imperial\n",
      "Stout - American\n",
      "Stout - English\n",
      "Stout - Foreign / Export\n",
      "Stout - Irish Dry\n",
      "Stout - Oatmeal\n",
      "Stout - Russian Imperial\n",
      "Stout - Sweet / Milk\n",
      "Strong Ale - American\n",
      "Strong Ale - Belgian Dark\n",
      "Strong Ale - Belgian Pale\n",
      "Strong Ale - English\n",
      "Tripel\n",
      "Wheat Beer - American Dark\n",
      "Wheat Beer - American Pale\n",
      "Wheat Beer - Dunkelweizen\n",
      "Wheat Beer - Hefeweizen\n",
      "Wheat Beer - Kristallweizen\n",
      "Wheat Beer - Wheatwine\n",
      "Wheat Beer - Witbier\n",
      "Wild Ale\n",
      "Winter Warmer\n"
     ]
    }
   ],
   "source": [
    "unique_list(style_list)"
   ]
  },
  {
   "cell_type": "code",
   "execution_count": 147,
   "id": "b5a5c9c0",
   "metadata": {},
   "outputs": [],
   "source": [
    "style_map = {\n",
    "    'Altbier': 'Brown Ale',\n",
    "    'Barleywine - American': 'Strong Ale',\n",
    "    'Barleywine - English': 'Strong Ale',\n",
    "    'Bitter - English Extra Special / Strong Bitter (ESB)': 'Pale Ale',\n",
    "    'Bitter - English': 'Pale Ale',\n",
    "    'Bière de Champagne / Bière Brut': 'Hybrid Beer',\n",
    "    'Blonde Ale - American': 'Pale Ale',\n",
    "    'Blonde Ale - Belgian': 'Pale Ale',\n",
    "    'Bock - Doppelbock': 'Bock',\n",
    "    'Bock - Eisbock': 'Bock',\n",
    "    'Bock - Maibock': 'Bock',\n",
    "    'Bock - Traditional': 'Bock',\n",
    "    'Bock - Weizenbock': 'Bock',\n",
    "    'Braggot': 'Hybrid Beer',\n",
    "    'Brett Beer': 'Wild/Sour Beer',\n",
    "    'Brown Ale - American': 'Brown Ale',\n",
    "    'Brown Ale - Belgian Dark': 'Brown Ale',\n",
    "    'Brown Ale - English': 'Brown Ale',\n",
    "    'California Common / Steam Beer': 'Hybrid Beer',\n",
    "    'Chile Beer': 'Specialty Beer',\n",
    "    'Cream Ale': 'Hybrid Beer',\n",
    "    'Dubbel': 'Dark Ales',\n",
    "    'Farmhouse Ale - Bière de Garde': 'Pale',\n",
    "    'Farmhouse Ale - Sahti': 'Specialty Beer',\n",
    "    'Farmhouse Ale - Saison': 'Pale Ale',\n",
    "    'Fruit and Field Beer': 'Specialty Beer',\n",
    "    'Gruit / Ancient Herbed Ale': 'Specialty Beer',\n",
    "    'Happoshu': 'Specialty Beer',\n",
    "    'Herb and Spice Beer': 'Specialty Beer',\n",
    "    'IPA - American': 'India Pale Ale',\n",
    "    'IPA - Belgian': 'India Pale Ale',\n",
    "    'IPA - Black / Cascadian Dark Ale': 'India Pale Ale',\n",
    "    'IPA - Brut': 'India Pale Ale',\n",
    "    'IPA - English': 'India Pale Ale',\n",
    "    'IPA - Imperial': 'India Pale Ale',\n",
    "    'IPA - New England': 'India Pale Ale',\n",
    "    'Kvass': 'Specialty Beer',\n",
    "    'Kölsch': 'Pale Ale',\n",
    "    'Lager - Adjunct': 'Pale Lager',\n",
    "    'Lager - American Amber / Red': 'Dark Lager',\n",
    "    'Lager - American': 'Pale Lager',\n",
    "    'Lager - European / Dortmunder Export': 'Pale Lager',\n",
    "    'Lager - European Dark': 'Dark Lager',\n",
    "    'Lager - European Pale': 'Pale Lager',\n",
    "    'Lager - European Strong': 'Pale Lager',\n",
    "    'Lager - Helles': 'Pale Lager',\n",
    "    'Lager - India Pale Lager (IPL)': 'Pale Lager',\n",
    "    'Lager - Japanese Rice': 'Specialty Beer',\n",
    "    'Lager - Kellerbier / Zwickelbier': 'Pale Lager',\n",
    "    'Lager - Light': 'Pale Lager',\n",
    "    'Lager - Malt Liquor': 'Pale Lager',\n",
    "    'Lager - Munich Dunkel': 'Dark Lager',\n",
    "    'Lager - Märzen / Oktoberfest': 'Dark Lager',\n",
    "    'Lager - Rauchbier': 'Dark Lager',\n",
    "    'Lager - Schwarzbier': 'Dark Lager',\n",
    "    'Lager - Vienna': 'Dark Lager',\n",
    "    'Lambic - Faro': 'Wild/Sour Beer',\n",
    "    'Lambic - Fruit': 'Wild/Sour Beer',\n",
    "    'Lambic - Gueuze': 'Wild/Sour Beer',\n",
    "    'Lambic - Traditional': 'Wild/Sour Beer',\n",
    "    'Low Alcohol Beer': 'Specialty Beer',\n",
    "    'Mild Ale - English Dark': 'Brown Ale',\n",
    "    'Mild Ale - English Pale': 'Pale Ale',\n",
    "    'Old Ale': 'Strong Ale',\n",
    "    'Pale Ale - American': 'Pale Ale',\n",
    "    'Pale Ale - Belgian': 'Pale Ale',\n",
    "    'Pale Ale - English': 'Pale Ale',\n",
    "    'Pilsner - Bohemian / Czech': 'Pale Lager',\n",
    "    'Pilsner - German': 'Pale Lager',\n",
    "    'Pilsner - Imperial': 'Pale Lager',\n",
    "    'Porter - American': 'Porter',\n",
    "    'Porter - Baltic': 'Porter',\n",
    "    'Porter - English': 'Porter',\n",
    "    'Porter - Imperial': 'Porter',\n",
    "    'Porter - Robust': 'Porter',\n",
    "    'Porter - Smoked': 'Porter',\n",
    "    'Pumpkin Beer': 'Specialty Beer',\n",
    "    'Quadrupel (Quad)': 'Strong Ale',\n",
    "    'Red Ale - American Amber / Red': 'Pale Ale',\n",
    "    'Red Ale - Imperial': 'Strong Ale',\n",
    "    'Red Ale - Irish': 'Pale Ale',\n",
    "    'Rye Beer - Roggenbier': 'Dark Ale',\n",
    "    'Rye Beer': 'Specialty Beer',\n",
    "    'Scotch Ale / Wee Heavy': 'Strong Ale',\n",
    "    'Scottish Ale': 'Dark Ale',\n",
    "    'Smoked Beer': 'Specialty Beer',\n",
    "    'Sour - Berliner Weisse': 'Wild/Sour Beer',\n",
    "    'Sour - Flanders Oud Bruin': 'Wild/Sour Beer',\n",
    "    'Sour - Flanders Red Ale': 'Wild/Sour Beer',\n",
    "    'Sour - Gose': 'Wild/Sour Beer',\n",
    "    'Stout - American Imperial': 'Stout',\n",
    "    'Stout - American': 'Stout',\n",
    "    'Stout - English': 'Stout',\n",
    "    'Stout - Foreign / Export': 'Stout',\n",
    "    'Stout - Irish Dry': 'Stout',\n",
    "    'Stout - Oatmeal': 'Stout',\n",
    "    'Stout - Russian Imperial': 'Stout',\n",
    "    'Stout - Sweet / Milk': 'Stout',\n",
    "    'Strong Ale - American': 'Strong Ale',\n",
    "    'Strong Ale - Belgian Dark': 'Strong Ale',\n",
    "    'Strong Ale - Belgian Pale': 'Strong Ale',\n",
    "    'Strong Ale - English': 'Strong Ale',\n",
    "    'Tripel': 'Strong Ale',\n",
    "    'Wheat Beer - American Dark': 'Wheet Beer',\n",
    "    'Wheat Beer - American Pale': 'Wheet Beer',\n",
    "    'Wheat Beer - Dunkelweizen': 'Wheet Beer',\n",
    "    'Wheat Beer - Hefeweizen': 'Wheet Beer',\n",
    "    'Wheat Beer - Kristallweizen': 'Wheet Beer',\n",
    "    'Wheat Beer - Wheatwine': 'Wheet Beer',\n",
    "    'Wheat Beer - Witbier': 'Wheet Beer',\n",
    "    'Wild Ale': 'Wild/Sour Beers',\n",
    "    'Winter Warmer': 'Dark Ale'\n",
    "}"
   ]
  },
  {
   "cell_type": "code",
   "execution_count": 148,
   "id": "02cc8480",
   "metadata": {},
   "outputs": [],
   "source": [
    "df_tasting['Style'] = df_tasting['Style'].map(style_map)"
   ]
  },
  {
   "cell_type": "markdown",
   "id": "e5be5f22",
   "metadata": {},
   "source": [
    "### Beer Reviews -- collaborative recs"
   ]
  },
  {
   "cell_type": "code",
   "execution_count": 12,
   "id": "c3b17e02",
   "metadata": {},
   "outputs": [],
   "source": [
    "df_reviews = pd.read_csv('beer_reviews.csv')"
   ]
  },
  {
   "cell_type": "code",
   "execution_count": 13,
   "id": "e76a6011",
   "metadata": {},
   "outputs": [
    {
     "data": {
      "text/html": [
       "<div>\n",
       "<style scoped>\n",
       "    .dataframe tbody tr th:only-of-type {\n",
       "        vertical-align: middle;\n",
       "    }\n",
       "\n",
       "    .dataframe tbody tr th {\n",
       "        vertical-align: top;\n",
       "    }\n",
       "\n",
       "    .dataframe thead th {\n",
       "        text-align: right;\n",
       "    }\n",
       "</style>\n",
       "<table border=\"1\" class=\"dataframe\">\n",
       "  <thead>\n",
       "    <tr style=\"text-align: right;\">\n",
       "      <th></th>\n",
       "      <th>brewery_id</th>\n",
       "      <th>brewery_name</th>\n",
       "      <th>review_time</th>\n",
       "      <th>review_overall</th>\n",
       "      <th>review_aroma</th>\n",
       "      <th>review_appearance</th>\n",
       "      <th>review_profilename</th>\n",
       "      <th>beer_style</th>\n",
       "      <th>review_palate</th>\n",
       "      <th>review_taste</th>\n",
       "      <th>beer_name</th>\n",
       "      <th>beer_abv</th>\n",
       "      <th>beer_beerid</th>\n",
       "    </tr>\n",
       "  </thead>\n",
       "  <tbody>\n",
       "    <tr>\n",
       "      <th>0</th>\n",
       "      <td>10325</td>\n",
       "      <td>Vecchio Birraio</td>\n",
       "      <td>1234817823</td>\n",
       "      <td>1.5</td>\n",
       "      <td>2.0</td>\n",
       "      <td>2.5</td>\n",
       "      <td>stcules</td>\n",
       "      <td>Hefeweizen</td>\n",
       "      <td>1.5</td>\n",
       "      <td>1.5</td>\n",
       "      <td>Sausa Weizen</td>\n",
       "      <td>5.0</td>\n",
       "      <td>47986</td>\n",
       "    </tr>\n",
       "    <tr>\n",
       "      <th>1</th>\n",
       "      <td>10325</td>\n",
       "      <td>Vecchio Birraio</td>\n",
       "      <td>1235915097</td>\n",
       "      <td>3.0</td>\n",
       "      <td>2.5</td>\n",
       "      <td>3.0</td>\n",
       "      <td>stcules</td>\n",
       "      <td>English Strong Ale</td>\n",
       "      <td>3.0</td>\n",
       "      <td>3.0</td>\n",
       "      <td>Red Moon</td>\n",
       "      <td>6.2</td>\n",
       "      <td>48213</td>\n",
       "    </tr>\n",
       "    <tr>\n",
       "      <th>2</th>\n",
       "      <td>10325</td>\n",
       "      <td>Vecchio Birraio</td>\n",
       "      <td>1235916604</td>\n",
       "      <td>3.0</td>\n",
       "      <td>2.5</td>\n",
       "      <td>3.0</td>\n",
       "      <td>stcules</td>\n",
       "      <td>Foreign / Export Stout</td>\n",
       "      <td>3.0</td>\n",
       "      <td>3.0</td>\n",
       "      <td>Black Horse Black Beer</td>\n",
       "      <td>6.5</td>\n",
       "      <td>48215</td>\n",
       "    </tr>\n",
       "    <tr>\n",
       "      <th>3</th>\n",
       "      <td>10325</td>\n",
       "      <td>Vecchio Birraio</td>\n",
       "      <td>1234725145</td>\n",
       "      <td>3.0</td>\n",
       "      <td>3.0</td>\n",
       "      <td>3.5</td>\n",
       "      <td>stcules</td>\n",
       "      <td>German Pilsener</td>\n",
       "      <td>2.5</td>\n",
       "      <td>3.0</td>\n",
       "      <td>Sausa Pils</td>\n",
       "      <td>5.0</td>\n",
       "      <td>47969</td>\n",
       "    </tr>\n",
       "    <tr>\n",
       "      <th>4</th>\n",
       "      <td>1075</td>\n",
       "      <td>Caldera Brewing Company</td>\n",
       "      <td>1293735206</td>\n",
       "      <td>4.0</td>\n",
       "      <td>4.5</td>\n",
       "      <td>4.0</td>\n",
       "      <td>johnmichaelsen</td>\n",
       "      <td>American Double / Imperial IPA</td>\n",
       "      <td>4.0</td>\n",
       "      <td>4.5</td>\n",
       "      <td>Cauldron DIPA</td>\n",
       "      <td>7.7</td>\n",
       "      <td>64883</td>\n",
       "    </tr>\n",
       "  </tbody>\n",
       "</table>\n",
       "</div>"
      ],
      "text/plain": [
       "   brewery_id             brewery_name  review_time  review_overall  \\\n",
       "0       10325          Vecchio Birraio   1234817823             1.5   \n",
       "1       10325          Vecchio Birraio   1235915097             3.0   \n",
       "2       10325          Vecchio Birraio   1235916604             3.0   \n",
       "3       10325          Vecchio Birraio   1234725145             3.0   \n",
       "4        1075  Caldera Brewing Company   1293735206             4.0   \n",
       "\n",
       "   review_aroma  review_appearance review_profilename  \\\n",
       "0           2.0                2.5            stcules   \n",
       "1           2.5                3.0            stcules   \n",
       "2           2.5                3.0            stcules   \n",
       "3           3.0                3.5            stcules   \n",
       "4           4.5                4.0     johnmichaelsen   \n",
       "\n",
       "                       beer_style  review_palate  review_taste  \\\n",
       "0                      Hefeweizen            1.5           1.5   \n",
       "1              English Strong Ale            3.0           3.0   \n",
       "2          Foreign / Export Stout            3.0           3.0   \n",
       "3                 German Pilsener            2.5           3.0   \n",
       "4  American Double / Imperial IPA            4.0           4.5   \n",
       "\n",
       "                beer_name  beer_abv  beer_beerid  \n",
       "0            Sausa Weizen       5.0        47986  \n",
       "1                Red Moon       6.2        48213  \n",
       "2  Black Horse Black Beer       6.5        48215  \n",
       "3              Sausa Pils       5.0        47969  \n",
       "4           Cauldron DIPA       7.7        64883  "
      ]
     },
     "execution_count": 13,
     "metadata": {},
     "output_type": "execute_result"
    }
   ],
   "source": [
    "df_reviews.head()"
   ]
  },
  {
   "cell_type": "code",
   "execution_count": null,
   "id": "c5327d28",
   "metadata": {},
   "outputs": [],
   "source": []
  },
  {
   "cell_type": "code",
   "execution_count": null,
   "id": "9f55a2db",
   "metadata": {},
   "outputs": [],
   "source": []
  },
  {
   "cell_type": "code",
   "execution_count": null,
   "id": "8f973ec3",
   "metadata": {},
   "outputs": [],
   "source": []
  },
  {
   "cell_type": "code",
   "execution_count": null,
   "id": "cb92ecd9",
   "metadata": {},
   "outputs": [],
   "source": []
  },
  {
   "cell_type": "code",
   "execution_count": null,
   "id": "eb6ba077",
   "metadata": {},
   "outputs": [],
   "source": []
  },
  {
   "cell_type": "code",
   "execution_count": null,
   "id": "5d903640",
   "metadata": {},
   "outputs": [],
   "source": []
  }
 ],
 "metadata": {
  "kernelspec": {
   "display_name": "Python 3 (ipykernel)",
   "language": "python",
   "name": "python3"
  },
  "language_info": {
   "codemirror_mode": {
    "name": "ipython",
    "version": 3
   },
   "file_extension": ".py",
   "mimetype": "text/x-python",
   "name": "python",
   "nbconvert_exporter": "python",
   "pygments_lexer": "ipython3",
   "version": "3.10.6"
  }
 },
 "nbformat": 4,
 "nbformat_minor": 5
}
